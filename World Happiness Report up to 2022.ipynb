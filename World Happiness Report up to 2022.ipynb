{
 "cells": [
  {
   "attachments": {},
   "cell_type": "markdown",
   "metadata": {},
   "source": [
    "https://www.kaggle.com/datasets/mathurinache/world-happiness-report?datasetId=748584&sortBy=voteCount"
   ]
  },
  {
   "attachments": {},
   "cell_type": "markdown",
   "metadata": {},
   "source": [
    "### 0. Libraries import"
   ]
  },
  {
   "cell_type": "code",
   "execution_count": null,
   "metadata": {},
   "outputs": [],
   "source": [
    "import pandas as pd\n",
    "import numpy as np\n",
    "\n",
    "!pip install bubbly\n",
    "import matplotlib.pyplot as plt\n",
    "import seaborn as sns\n",
    "import plotly.express as px\n",
    "from bubbly.bubbly import bubbleplot"
   ]
  },
  {
   "attachments": {},
   "cell_type": "markdown",
   "metadata": {},
   "source": [
    "### 1. Datasets import"
   ]
  },
  {
   "cell_type": "code",
   "execution_count": null,
   "metadata": {},
   "outputs": [],
   "source": [
    "df22 = pd.read_csv('2022.csv')\n",
    "df22['Year'] = 2022\n",
    "df22.loc[(df22.Country == 'Belarus*'), 'Country'] = 'Belarus'"
   ]
  },
  {
   "cell_type": "code",
   "execution_count": null,
   "metadata": {},
   "outputs": [],
   "source": [
    "df21 = pd.read_csv('2021.csv') #import Dataset\n",
    "df21['Year'] = 2021\n",
    "df21['Happiness Rank'] =  range(1, len(df21.index)+1)\n",
    "df21.info() "
   ]
  },
  {
   "cell_type": "code",
   "execution_count": null,
   "metadata": {},
   "outputs": [],
   "source": [
    "df20 = pd.read_csv('2020.csv')\n",
    "df20['Year'] = 2020\n",
    "df20['Happiness Rank'] =  range(1, len(df20.index)+1)\n",
    "df20.info()"
   ]
  },
  {
   "cell_type": "code",
   "execution_count": null,
   "metadata": {},
   "outputs": [],
   "source": [
    "df19 = pd.read_csv('2019.csv')\n",
    "df19['Year'] = 2019\n",
    "df19.info()"
   ]
  },
  {
   "cell_type": "code",
   "execution_count": null,
   "metadata": {},
   "outputs": [],
   "source": [
    "df18 = pd.read_csv('2018.csv') \n",
    "df18['Year'] = 2018\n",
    "df18.info()"
   ]
  },
  {
   "cell_type": "code",
   "execution_count": null,
   "metadata": {},
   "outputs": [],
   "source": [
    "df17 = pd.read_csv('2017.csv')\n",
    "df17['Year'] = 2017\n",
    "df17.info()"
   ]
  },
  {
   "cell_type": "code",
   "execution_count": null,
   "metadata": {},
   "outputs": [],
   "source": [
    "df16 = pd.read_csv('2016.csv')\n",
    "df16['Year'] = 2016\n",
    "df16.info()"
   ]
  },
  {
   "cell_type": "code",
   "execution_count": null,
   "metadata": {},
   "outputs": [],
   "source": [
    "df15 = pd.read_csv('2015.csv')\n",
    "df15['Year'] = 2015\n",
    "df15.info()"
   ]
  },
  {
   "attachments": {},
   "cell_type": "markdown",
   "metadata": {},
   "source": [
    "### 2. Merging datasets"
   ]
  },
  {
   "attachments": {},
   "cell_type": "markdown",
   "metadata": {},
   "source": [
    "To merge data in one data frame we have added column defining year.  \n",
    "As we can see datasets include different amount of columns and column names are different.  \n",
    "To merge data in one data frame we have added column defining year.  \n",
    "To succeed concat  data in one data frame we need to rename columns name to unify them."
   ]
  },
  {
   "cell_type": "code",
   "execution_count": null,
   "metadata": {},
   "outputs": [],
   "source": [
    "df15 = df15.rename(columns = {\n",
    "    'Family' : 'Social support'})"
   ]
  },
  {
   "cell_type": "code",
   "execution_count": null,
   "metadata": {},
   "outputs": [],
   "source": [
    "df16 = df16.rename(columns = {\n",
    "    'Family' : 'Social support'})"
   ]
  },
  {
   "cell_type": "code",
   "execution_count": null,
   "metadata": {},
   "outputs": [],
   "source": [
    "df17 = df17.rename(columns = {\n",
    "    'Happiness.Rank':'Happiness Rank', \n",
    "    'Happiness.Score' : 'Happiness Score', \n",
    "    'Economy..GDP.per.Capita.' : 'Economy (GDP per Capita)', \n",
    "    'Health..Life.Expectancy.' : 'Health (Life Expectancy)',\n",
    "    'Trust..Government.Corruption.' : 'Trust (Government Corruption)', \n",
    "    'Family' : 'Social support',\n",
    "    'Dystopia.Residual' : 'Dystopia Residual'})\n",
    "\n",
    "# ['Health (Life Expectancy)', 'Trust (Government Corruption)'] not in index\""
   ]
  },
  {
   "cell_type": "code",
   "execution_count": null,
   "metadata": {},
   "outputs": [],
   "source": [
    "df18 = df18.rename(columns = {\n",
    "    'Country or region' : 'Country',\n",
    "    'Overall rank':'Happiness Rank', \n",
    "    'Score' : 'Happiness Score', \n",
    "    'GDP per capita' : 'Economy (GDP per Capita)', \n",
    "    'Healthy life expectancy' : 'Health (Life Expectancy)',\n",
    "    'Freedom to make life choices' : 'Freedom',\n",
    "    'Perceptions of corruption' : 'Trust (Government Corruption)'})"
   ]
  },
  {
   "cell_type": "code",
   "execution_count": null,
   "metadata": {},
   "outputs": [],
   "source": [
    "df19 = df19.rename(columns = {\n",
    "    'Country or region' : 'Country',\n",
    "    'Overall rank':'Happiness Rank', \n",
    "    'Score' : 'Happiness Score', \n",
    "    'GDP per capita' : 'Economy (GDP per Capita)', \n",
    "    'Healthy life expectancy' : 'Health (Life Expectancy)',\n",
    "    'Freedom to make life choices' : 'Freedom',\n",
    "    'Perceptions of corruption' : 'Trust (Government Corruption)'})"
   ]
  },
  {
   "cell_type": "code",
   "execution_count": null,
   "metadata": {},
   "outputs": [],
   "source": [
    "df20 = df20.rename(columns = {\n",
    "    'Country name' : 'Country',\n",
    "    'Ladder score' : 'Happiness Score', \n",
    "    'Logged GDP per capita' : 'Economy (GDP per Capita)', \n",
    "    'Healthy life expectancy' : 'Health (Life Expectancy)',\n",
    "    'Freedom to make life choices' : 'Freedom',\n",
    "    'Perceptions of corruption' : 'Trust (Government Corruption)'})\n",
    "\n"
   ]
  },
  {
   "cell_type": "code",
   "execution_count": null,
   "metadata": {},
   "outputs": [],
   "source": [
    "df21 = df21.rename(columns = {\n",
    "    'Country name' : 'Country',\n",
    "    'Ladder score' : 'Happiness Score', \n",
    "    'Logged GDP per capita' : 'Economy (GDP per Capita)', \n",
    "    'Healthy life expectancy' : 'Health (Life Expectancy)',\n",
    "    'Freedom to make life choices' : 'Freedom',\n",
    "    'Perceptions of corruption' : 'Trust (Government Corruption)'})\n"
   ]
  },
  {
   "cell_type": "code",
   "execution_count": null,
   "metadata": {},
   "outputs": [],
   "source": [
    "df22 = df22.rename(columns = {\n",
    "    'RANK':'Happiness Rank', \n",
    "    'Happiness score' : 'Happiness Score', \n",
    "    'Explained by: GDP per capita' : 'Economy (GDP per Capita)', \n",
    "    'Explained by: Social support' : 'Social support',\n",
    "    'Explained by: Healthy life expectancy' : 'Health (Life Expectancy)',\n",
    "    'Explained by: Freedom to make life choices' : 'Freedom',\n",
    "    'Explained by: Generosity' : 'Generosity',\n",
    "    'Explained by: Perceptions of corruption' : 'Trust (Government Corruption)'})"
   ]
  },
  {
   "cell_type": "code",
   "execution_count": null,
   "metadata": {},
   "outputs": [],
   "source": [
    "df = pd.concat([df15, df16, df17, df18, df19, df20, df21, df22])[[\n",
    "    'Country', \n",
    "    'Happiness Rank',\n",
    "    'Happiness Score', \n",
    "    'Economy (GDP per Capita)',\n",
    "    'Social support', \n",
    "    'Health (Life Expectancy)',\n",
    "    'Freedom',\n",
    "    'Trust (Government Corruption)',\n",
    "    'Generosity', \n",
    "    'Year']]"
   ]
  },
  {
   "cell_type": "code",
   "execution_count": null,
   "metadata": {},
   "outputs": [],
   "source": [
    "#old-school meathod of concatination (will deploying soon)\n",
    "# df = pd.DataFrame(columns = [\n",
    "#     'Country', \n",
    "#     'Happiness Rank', \n",
    "#     'Happiness Score', \n",
    "#     'Economy (GDP per Capita)',\n",
    "#     'Social support', \n",
    "#     'Health (Life Expectancy)',\n",
    "#     'Freedom',\n",
    "#     'Trust (Government Corruption)',\n",
    "#     'Generosity', \n",
    "#     'Year'])\n",
    "# n = [df15, df16, df17, df18, df19, df20, df21, df22] #\n",
    "# for i in n:\n",
    "#     df = df.append(i[['Country', \n",
    "#     'Happiness Rank', \n",
    "#     'Happiness Score', \n",
    "#     'Economy (GDP per Capita)',\n",
    "#     'Social support', \n",
    "#     'Health (Life Expectancy)',\n",
    "#     'Freedom',\n",
    "#     'Trust (Government Corruption)',\n",
    "#     'Generosity', \n",
    "#     'Year']], ignore_index = 'True');\n"
   ]
  },
  {
   "cell_type": "code",
   "execution_count": null,
   "metadata": {},
   "outputs": [],
   "source": [
    "df.info()"
   ]
  },
  {
   "attachments": {},
   "cell_type": "markdown",
   "metadata": {},
   "source": [
    "###  3. Dtype specifying"
   ]
  },
  {
   "attachments": {},
   "cell_type": "markdown",
   "metadata": {},
   "source": [
    "To make calculations wee need to change some Dtypes.  \n",
    "Some numeric valuese has ',' separators. PD accept only '.'"
   ]
  },
  {
   "cell_type": "code",
   "execution_count": null,
   "metadata": {},
   "outputs": [],
   "source": [
    "df['Happiness Score'] =  df['Happiness Score'].apply(lambda x: str(x).replace(',', '.'))\n",
    "df['Economy (GDP per Capita)'] =  df['Economy (GDP per Capita)'].apply(lambda x: str(x).replace(',', '.'))\n",
    "df['Social support'] =  df['Social support'].apply(lambda x: str(x).replace(',', '.'))\n",
    "df['Health (Life Expectancy)'] =  df['Health (Life Expectancy)'].apply(lambda x: str(x).replace(',', '.'))\n",
    "df['Freedom'] =  df['Freedom'].apply(lambda x: str(x).replace(',', '.'))\n",
    "df['Trust (Government Corruption)'] =  df['Trust (Government Corruption)'].apply(lambda x: str(x).replace(',', '.'))\n",
    "df['Generosity'] =  df['Generosity'].apply(lambda x: str(x).replace(',', '.'))\n"
   ]
  },
  {
   "cell_type": "code",
   "execution_count": null,
   "metadata": {},
   "outputs": [],
   "source": [
    "df = df.astype({\n",
    "    'Happiness Score' : 'float32',\n",
    "    'Economy (GDP per Capita)' : 'float32',\n",
    "    'Social support' : 'float32',\n",
    "    'Health (Life Expectancy)' : 'float32',\n",
    "    'Freedom' : 'float32',\n",
    "    'Trust (Government Corruption)' : 'float32',\n",
    "    'Generosity' : 'float32'\n",
    "    })\n",
    "df.info()"
   ]
  },
  {
   "cell_type": "code",
   "execution_count": null,
   "metadata": {},
   "outputs": [],
   "source": [
    "df.isna().mean().sort_values(ascending=False)"
   ]
  },
  {
   "cell_type": "code",
   "execution_count": null,
   "metadata": {},
   "outputs": [],
   "source": [
    "# df.to_csv (r'C:\\Users\\Nadezhda\\Desktop\\Python\\диплом\\World Happiness Report up to 2022\\my_data.csv', index= False, sep='%' )"
   ]
  },
  {
   "attachments": {},
   "cell_type": "markdown",
   "metadata": {},
   "source": [
    "There are 2 rows with null  \n",
    "I've checked them into row data.  \n",
    "They are unimportant for use, so we can drop them ."
   ]
  },
  {
   "attachments": {},
   "cell_type": "markdown",
   "metadata": {},
   "source": [
    "### 4. Happiness Rank pivot"
   ]
  },
  {
   "attachments": {},
   "cell_type": "markdown",
   "metadata": {},
   "source": [
    "Color Columns, Rows & Cells of Pandas Dataframe  by fumctions\n",
    "https://kanoki.org/2019/01/02/pandas-trick-for-the-day-color-code-columns-rows-cells-of-dataframe/"
   ]
  },
  {
   "cell_type": "code",
   "execution_count": null,
   "metadata": {},
   "outputs": [],
   "source": [
    "def color_rank(value):\n",
    "    if value == 1:\n",
    "        color = 'yellow'\n",
    "    elif value == 2:\n",
    "        color = 'silver'\n",
    "    elif value == 3:\n",
    "        color = 'moccasin'\n",
    "    else:\n",
    "        color = 'default'\n",
    "    return 'background-color: %s' % color\n",
    "\n",
    "\n",
    "def highlight_max(data, color='yellow'):\n",
    "    '''\n",
    "    highlight the maximum in a Series or DataFrame\n",
    "    '''\n",
    "    attr = 'background-color: {}'.format(color)\n",
    "    data = data.astype(float)\n",
    "    if data.ndim == 1: \n",
    "        is_max = data == data.max()\n",
    "        return [attr if v else '' for v in is_max]\n",
    "    else:  \n",
    "        is_max = data == data.max().max()\n",
    "        return pd.DataFrame(np.where(is_max, attr, ''),\n",
    "                            index=data.index, columns=data.columns)"
   ]
  },
  {
   "cell_type": "code",
   "execution_count": null,
   "metadata": {},
   "outputs": [],
   "source": [
    "datapivothappiness_rank = df.pivot(index='Country', columns='Year', values=['Happiness Rank'])\n",
    "datapivothappiness_rank = datapivothappiness_rank.dropna(axis = 0)\n",
    "datapivothappiness_rank = datapivothappiness_rank.astype('Int32')\n",
    "# datapivothappiness_rank.info()\n",
    "\n",
    "\n",
    "\n"
   ]
  },
  {
   "attachments": {},
   "cell_type": "markdown",
   "metadata": {},
   "source": [
    "### 4.1. The happiest countries"
   ]
  },
  {
   "cell_type": "code",
   "execution_count": null,
   "metadata": {},
   "outputs": [],
   "source": [
    "datapivothappiness_rank['AVG'] = datapivothappiness_rank.mean(axis = 1)\n",
    "datapivothappiness_rank = datapivothappiness_rank.sort_values(by = ['AVG'])\n",
    "datapivothappiness_rank['Rank'] = range(1, len(datapivothappiness_rank)+1)\n",
    "datapivothappiness_rank.style\\\n",
    "    .applymap(color_rank, subset = ['Happiness Rank', 'Rank'])\\\n",
    "    .format(precision=2, thousands=\".\", decimal=\",\")\\\n",
    "    .apply(lambda x: ['background: blue' if x.name in ['Russia'] \n",
    "                              else '' for i in x], \n",
    "                   axis=1)\n"
   ]
  },
  {
   "attachments": {},
   "cell_type": "markdown",
   "metadata": {},
   "source": [
    "<ins>  Conclusion ** </ins>  \n",
    "The first 3 places in terms of happiness have been occupied by the following countries since 2015:  \n",
    "Denmark, Finland, Iceland,Switzerland, Norway.  \n",
    "Finland on the first place last 5 years.  \n",
    "Denmark on the 2nd place last 4 years.  \n",
    "Russia is somewhere between 49 and 80 place and we loose our positions since 2017 every year."
   ]
  },
  {
   "attachments": {},
   "cell_type": "markdown",
   "metadata": {},
   "source": [
    "### 4.2. The most unhappy countries"
   ]
  },
  {
   "cell_type": "code",
   "execution_count": null,
   "metadata": {},
   "outputs": [],
   "source": [
    "datapivothappiness_rank['AVG'] = datapivothappiness_rank.mean(axis = 1)\n",
    "datapivothappiness_rank = datapivothappiness_rank.sort_values(by = ['AVG'], ascending = False)\n",
    "datapivothappiness_rank['Rank'] = range(1, len(datapivothappiness_rank)+1)\n",
    "datapivothappiness_rank.style\\\n",
    "    .format(precision=2, thousands=\".\", decimal=\",\")\\\n",
    "    .apply(lambda x: ['background: blue' if x.name in ['Russia'] \n",
    "                              else '' for i in x], \n",
    "                   axis=1)\\\n",
    "   .apply(highlight_max)\n"
   ]
  },
  {
   "attachments": {},
   "cell_type": "markdown",
   "metadata": {},
   "source": [
    "<ins>  Conclusion ** </ins>  \n",
    "Afginistan has bee the most unhappy country for 4 previous years (2019-2022).  \n",
    "The most unhappy coyntry in 2017 and 2018 Tanzania was Tanzania.  \n",
    "The first place of unhappiness was placed by Togo in 2015-2016.\n"
   ]
  },
  {
   "attachments": {},
   "cell_type": "markdown",
   "metadata": {},
   "source": [
    "### 5. Happiness Score pivot"
   ]
  },
  {
   "cell_type": "code",
   "execution_count": null,
   "metadata": {},
   "outputs": [],
   "source": [
    "datapivothappiness_score = df.pivot(index='Country', columns='Year', values='Happiness Score')\n",
    "datapivothappiness_score = datapivothappiness_score.dropna(axis = 0)\n",
    "datapivothappiness_score['AVG'] = datapivothappiness_score.mean(axis = 1)\n",
    "datapivothappiness_score = datapivothappiness_score.sort_values(by ='AVG', ascending=False)\n",
    "datapivothappiness_score.style\\\n",
    "    .apply(highlight_max)\\\n",
    "    .apply(lambda x: ['background: blue' if x.name in ['Russia'] \n",
    "                              else '' for i in x], \n",
    "                   axis=1)\\\n",
    "    \\\n",
    "    .format(precision=2, thousands=\".\", decimal=\",\")\\\n",
    "\n"
   ]
  },
  {
   "cell_type": "code",
   "execution_count": null,
   "metadata": {},
   "outputs": [],
   "source": [
    "### 5.1. The happiest countries"
   ]
  },
  {
   "attachments": {},
   "cell_type": "markdown",
   "metadata": {},
   "source": [
    "### 6. Where is Russia?"
   ]
  },
  {
   "cell_type": "code",
   "execution_count": null,
   "metadata": {},
   "outputs": [],
   "source": [
    "short_list = ['Russia', 'Belarus', 'Ukraine', 'Kazakhstan', 'Uzbekistan', 'Finland']\n",
    "# short_list = ['Russia']"
   ]
  },
  {
   "cell_type": "code",
   "execution_count": null,
   "metadata": {},
   "outputs": [],
   "source": [
    "datapivothappiness_score[datapivothappiness_score.index.isin (short_list)].style\\\n",
    "    .background_gradient(cmap='Greens')\\\n",
    "    .format(precision=1, thousands=\".\", decimal=\",\")\n"
   ]
  },
  {
   "cell_type": "code",
   "execution_count": null,
   "metadata": {},
   "outputs": [],
   "source": [
    "short = df[df['Country'].isin (short_list)]"
   ]
  },
  {
   "cell_type": "code",
   "execution_count": null,
   "metadata": {},
   "outputs": [],
   "source": [
    "pivot_short = short.pivot_table(index='Year', columns='Country', values='Happiness Score')"
   ]
  },
  {
   "cell_type": "code",
   "execution_count": null,
   "metadata": {},
   "outputs": [],
   "source": [
    "sns.lineplot(data=pivot_short)\n",
    "plt.show()\n",
    "# sns.lineplot(data = short, x = 'Year', y = 'Happiness Score', hue = 'Country')"
   ]
  },
  {
   "attachments": {},
   "cell_type": "markdown",
   "metadata": {},
   "source": [
    "### 7. Happiness Score map 2022"
   ]
  },
  {
   "cell_type": "code",
   "execution_count": null,
   "metadata": {},
   "outputs": [],
   "source": [
    "df22 = df[df['Year']==2022]\n",
    "df22.info()"
   ]
  },
  {
   "cell_type": "code",
   "execution_count": null,
   "metadata": {},
   "outputs": [],
   "source": [
    "fig = px.choropleth(data_frame = df22,\n",
    "                    locations= 'Country',\n",
    "                    locationmode='country names',\n",
    "                    color= 'Happiness Score',\n",
    "                    hover_name= \"Country\",\n",
    "                    color_continuous_scale= 'RdYlGn',\n",
    "                    width=1200,\n",
    "                    height=600,)\n",
    "# fig.show(\"svg\")\n",
    "fig.show()"
   ]
  },
  {
   "attachments": {},
   "cell_type": "markdown",
   "metadata": {},
   "source": [
    "### 8. Bubble chart"
   ]
  },
  {
   "cell_type": "code",

   "execution_count": 168,
=======
   "execution_count": null,
>>>>>>> new
   "metadata": {},
   "outputs": [],
   "source": [
    "fig = px.scatter(short.query(\"Year==2019\"), x=\"Health (Life Expectancy)\", y=\"Happiness Score\",\n",
    "\t    size=\"Economy (GDP per Capita)\",\n",
    "               color=\"Country\",\n",
    "                 hover_name=\"Country\", log_x=True, size_max=60)\n",
    "fig.show(\"png\")\n",
    "# fig.show()\n",
    "\n"
   ]
  },
  {
   "cell_type": "code",
<<<<<<< HEAD
<<<<<<< HEAD
   "execution_count": null,
=======
   "execution_count": 180,
>>>>>>> new
=======
   "execution_count": null,
>>>>>>> new
   "metadata": {},
   "outputs": [],
   "source": [
    "\n",
    "colors  = ['purple','turquoise','blue','green', 'red', 'yellow']\n",
    "colors_dict  = {'Russia' : 'red', 'Belarus':'green', 'Ukraine':'yellow', 'Kazakhstan':'blue', 'Uzbekistan': 'turquoise', 'Finland':'purple'}\n",
    "\n",
    "px.scatter(short.query(\"Year==2022\"), x = 'Health (Life Expectancy)', y = 'Happiness Score', size = 'Economy (GDP per Capita)' , hover_name = 'Country', \n",
    "       color= 'Country',\n",
    "       # color_discrete_sequence=colors,\n",
    "       color_discrete_map = colors_dict,\n",
    "       size_max = 80, title = 'Happiness Score VS Health'\n",
    "       # range_x = [0.5, 1],\n",
    "       # range_y = [4, 9]\n",
    "       )"
   ]
  },
  {
   "cell_type": "code",
   "execution_count": null,
   "metadata": {},
   "outputs": [],
   "source": [
    "colors  = ['purple','turquoise','blue','green', 'red', 'yellow']\n",
    "colors_dict  = {'Russia' : 'red', 'Belarus':'green', 'Ukraine':'yellow', 'Kazakhstan':'blue', 'Uzbekistan': 'turquoise', 'Finland':'purple'}\n",
    "\n",
    "px.scatter(short, x = 'Health (Life Expectancy)', y = 'Happiness Score', size = 'Economy (GDP per Capita)' , hover_name = 'Country', \n",
    "       color= 'Country',\n",
    "       # color_discrete_sequence=colors,\n",
    "       color_discrete_map = colors_dict,\n",
    "       animation_frame = 'Year', size_max = 80, title = 'Happiness Score VS Health',\n",
    "       range_x = [0.5, 1],\n",
    "       range_y = [4, 9]\n",
    "       )"
   ]
  },
  {
   "attachments": {},
   "cell_type": "markdown",
   "metadata": {},
   "source": [
    "как расчитывается общая оценка счастья во Всемирном докладе о счастье?  \n",
    "Общая оценка счастья в ежегодном Всемирном докладе о счастье (World Happiness Report) рассчитывается на основе ответов на опрос, который проводится в разных странах. В опросе используется шкала от 0 до 10, где 0 означает наихудшее возможное состояние, а 10 - наилучшее возможное состояние.\n",
    "\n",
    "Респондентам задается вопрос: \"Подумайте обо всех аспектах своей жизни - социальной, эмоциональной, физической. Если бы вы могли дать свою оценку своей жизни на шкале от 0 до 10, где 0 - самая плохая возможная жизнь, а 10 - самая лучшая возможная жизнь, какую бы оценку вы дали своей жизни?\"\n",
    "\n",
    "Общая оценка счастья в стране рассчитывается как среднее арифметическое всех ответов на этот вопрос. Далее, на основе общей оценки счастья страны составляется рейтинг счастливых стран."
   ]
  }
 ],
 "metadata": {
  "kernelspec": {
   "display_name": "base",
   "language": "python",
   "name": "python3"
  },
  "language_info": {
   "codemirror_mode": {
    "name": "ipython",
    "version": 3
   },
   "file_extension": ".py",
   "mimetype": "text/x-python",
   "name": "python",
   "nbconvert_exporter": "python",
   "pygments_lexer": "ipython3",
   "version": "3.9.13"
  },
  "orig_nbformat": 4
 },
 "nbformat": 4,
 "nbformat_minor": 2
}
