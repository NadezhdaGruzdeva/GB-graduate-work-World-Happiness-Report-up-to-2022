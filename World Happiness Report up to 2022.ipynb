{
 "cells": [
  {
   "attachments": {},
   "cell_type": "markdown",
   "metadata": {},
   "source": [
    "https://www.kaggle.com/datasets/mathurinache/world-happiness-report?datasetId=748584&sortBy=voteCount"
   ]
  },
  {
   "attachments": {},
   "cell_type": "markdown",
   "metadata": {},
   "source": [
    "### 0. Libraries import"
   ]
  },
  {
   "cell_type": "code",
   "execution_count": 34,
   "metadata": {},
   "outputs": [
    {
     "name": "stdout",
     "output_type": "stream",
     "text": [
      "Requirement already satisfied: bubbly in c:\\users\\nadezhda\\anaconda3\\lib\\site-packages (1.0.2)\n",
      "Requirement already satisfied: pandas in c:\\users\\nadezhda\\anaconda3\\lib\\site-packages (from bubbly) (1.4.4)\n",
      "Requirement already satisfied: plotly in c:\\users\\nadezhda\\anaconda3\\lib\\site-packages (from bubbly) (5.9.0)\n",
      "Requirement already satisfied: python-dateutil>=2.8.1 in c:\\users\\nadezhda\\anaconda3\\lib\\site-packages (from pandas->bubbly) (2.8.2)\n",
      "Requirement already satisfied: pytz>=2020.1 in c:\\users\\nadezhda\\anaconda3\\lib\\site-packages (from pandas->bubbly) (2022.1)\n",
      "Requirement already satisfied: numpy>=1.18.5 in c:\\users\\nadezhda\\anaconda3\\lib\\site-packages (from pandas->bubbly) (1.21.5)\n",
      "Requirement already satisfied: tenacity>=6.2.0 in c:\\users\\nadezhda\\anaconda3\\lib\\site-packages (from plotly->bubbly) (8.0.1)\n",
      "Requirement already satisfied: six>=1.5 in c:\\users\\nadezhda\\anaconda3\\lib\\site-packages (from python-dateutil>=2.8.1->pandas->bubbly) (1.16.0)\n"
     ]
    }
   ],
   "source": [
    "import pandas as pd\n",
    "import numpy as np\n",
    "\n",
    "!pip install bubbly\n",
    "import matplotlib.pyplot as plt\n",
    "import seaborn as sns\n",
    "import plotly.express as px\n",
    "from bubbly.bubbly import bubbleplot"
   ]
  },
  {
   "attachments": {},
   "cell_type": "markdown",
   "metadata": {},
   "source": [
    "### 1. Datasets import"
   ]
  },
  {
   "cell_type": "code",
   "execution_count": 35,
   "metadata": {},
   "outputs": [],
   "source": [
    "df22 = pd.read_csv('2022.csv')\n",
    "df22['Year'] = 2022\n",
    "df22.loc[(df22.Country == 'Belarus*'), 'Country'] = 'Belarus'"
   ]
  },
  {
   "cell_type": "code",
   "execution_count": 36,
   "metadata": {},
   "outputs": [
    {
     "name": "stdout",
     "output_type": "stream",
     "text": [
      "<class 'pandas.core.frame.DataFrame'>\n",
      "RangeIndex: 149 entries, 0 to 148\n",
      "Data columns (total 22 columns):\n",
      " #   Column                                      Non-Null Count  Dtype  \n",
      "---  ------                                      --------------  -----  \n",
      " 0   Country name                                149 non-null    object \n",
      " 1   Regional indicator                          149 non-null    object \n",
      " 2   Ladder score                                149 non-null    float64\n",
      " 3   Standard error of ladder score              149 non-null    float64\n",
      " 4   upperwhisker                                149 non-null    float64\n",
      " 5   lowerwhisker                                149 non-null    float64\n",
      " 6   Logged GDP per capita                       149 non-null    float64\n",
      " 7   Social support                              149 non-null    float64\n",
      " 8   Healthy life expectancy                     149 non-null    float64\n",
      " 9   Freedom to make life choices                149 non-null    float64\n",
      " 10  Generosity                                  149 non-null    float64\n",
      " 11  Perceptions of corruption                   149 non-null    float64\n",
      " 12  Ladder score in Dystopia                    149 non-null    float64\n",
      " 13  Explained by: Log GDP per capita            149 non-null    float64\n",
      " 14  Explained by: Social support                149 non-null    float64\n",
      " 15  Explained by: Healthy life expectancy       149 non-null    float64\n",
      " 16  Explained by: Freedom to make life choices  149 non-null    float64\n",
      " 17  Explained by: Generosity                    149 non-null    float64\n",
      " 18  Explained by: Perceptions of corruption     149 non-null    float64\n",
      " 19  Dystopia + residual                         149 non-null    float64\n",
      " 20  Year                                        149 non-null    int64  \n",
      " 21  Happiness Rank                              149 non-null    int64  \n",
      "dtypes: float64(18), int64(2), object(2)\n",
      "memory usage: 25.7+ KB\n"
     ]
    }
   ],
   "source": [
    "df21 = pd.read_csv('2021.csv') #import Dataset\n",
    "df21['Year'] = 2021\n",
    "df21['Happiness Rank'] =  range(1, len(df21.index)+1)\n",
    "df21.info()"
   ]
  },
  {
   "cell_type": "code",
   "execution_count": 37,
   "metadata": {},
   "outputs": [
    {
     "name": "stdout",
     "output_type": "stream",
     "text": [
      "<class 'pandas.core.frame.DataFrame'>\n",
      "RangeIndex: 153 entries, 0 to 152\n",
      "Data columns (total 22 columns):\n",
      " #   Column                                      Non-Null Count  Dtype  \n",
      "---  ------                                      --------------  -----  \n",
      " 0   Country name                                153 non-null    object \n",
      " 1   Regional indicator                          153 non-null    object \n",
      " 2   Ladder score                                153 non-null    float64\n",
      " 3   Standard error of ladder score              153 non-null    float64\n",
      " 4   upperwhisker                                153 non-null    float64\n",
      " 5   lowerwhisker                                153 non-null    float64\n",
      " 6   Logged GDP per capita                       153 non-null    float64\n",
      " 7   Social support                              153 non-null    float64\n",
      " 8   Healthy life expectancy                     153 non-null    float64\n",
      " 9   Freedom to make life choices                153 non-null    float64\n",
      " 10  Generosity                                  153 non-null    float64\n",
      " 11  Perceptions of corruption                   153 non-null    float64\n",
      " 12  Ladder score in Dystopia                    153 non-null    float64\n",
      " 13  Explained by: Log GDP per capita            153 non-null    float64\n",
      " 14  Explained by: Social support                153 non-null    float64\n",
      " 15  Explained by: Healthy life expectancy       153 non-null    float64\n",
      " 16  Explained by: Freedom to make life choices  153 non-null    float64\n",
      " 17  Explained by: Generosity                    153 non-null    float64\n",
      " 18  Explained by: Perceptions of corruption     153 non-null    float64\n",
      " 19  Dystopia + residual                         153 non-null    float64\n",
      " 20  Year                                        153 non-null    int64  \n",
      " 21  Happiness Rank                              153 non-null    int64  \n",
      "dtypes: float64(18), int64(2), object(2)\n",
      "memory usage: 26.4+ KB\n"
     ]
    }
   ],
   "source": [
    "df20 = pd.read_csv('2020.csv')\n",
    "df20['Year'] = 2020\n",
    "df20['Happiness Rank'] =  range(1, len(df20.index)+1)\n",
    "df20.info()"
   ]
  },
  {
   "cell_type": "code",
   "execution_count": 38,
   "metadata": {},
   "outputs": [
    {
     "name": "stdout",
     "output_type": "stream",
     "text": [
      "<class 'pandas.core.frame.DataFrame'>\n",
      "RangeIndex: 156 entries, 0 to 155\n",
      "Data columns (total 10 columns):\n",
      " #   Column                        Non-Null Count  Dtype  \n",
      "---  ------                        --------------  -----  \n",
      " 0   Overall rank                  156 non-null    int64  \n",
      " 1   Country or region             156 non-null    object \n",
      " 2   Score                         156 non-null    float64\n",
      " 3   GDP per capita                156 non-null    float64\n",
      " 4   Social support                156 non-null    float64\n",
      " 5   Healthy life expectancy       156 non-null    float64\n",
      " 6   Freedom to make life choices  156 non-null    float64\n",
      " 7   Generosity                    156 non-null    float64\n",
      " 8   Perceptions of corruption     156 non-null    float64\n",
      " 9   Year                          156 non-null    int64  \n",
      "dtypes: float64(7), int64(2), object(1)\n",
      "memory usage: 12.3+ KB\n"
     ]
    }
   ],
   "source": [
    "df19 = pd.read_csv('2019.csv')\n",
    "df19['Year'] = 2019\n",
    "df19.info()"
   ]
  },
  {
   "cell_type": "code",
   "execution_count": 39,
   "metadata": {},
   "outputs": [
    {
     "name": "stdout",
     "output_type": "stream",
     "text": [
      "<class 'pandas.core.frame.DataFrame'>\n",
      "RangeIndex: 156 entries, 0 to 155\n",
      "Data columns (total 10 columns):\n",
      " #   Column                        Non-Null Count  Dtype  \n",
      "---  ------                        --------------  -----  \n",
      " 0   Overall rank                  156 non-null    int64  \n",
      " 1   Country or region             156 non-null    object \n",
      " 2   Score                         156 non-null    float64\n",
      " 3   GDP per capita                156 non-null    float64\n",
      " 4   Social support                156 non-null    float64\n",
      " 5   Healthy life expectancy       156 non-null    float64\n",
      " 6   Freedom to make life choices  156 non-null    float64\n",
      " 7   Generosity                    156 non-null    float64\n",
      " 8   Perceptions of corruption     155 non-null    float64\n",
      " 9   Year                          156 non-null    int64  \n",
      "dtypes: float64(7), int64(2), object(1)\n",
      "memory usage: 12.3+ KB\n"
     ]
    }
   ],
   "source": [
    "df18 = pd.read_csv('2018.csv') \n",
    "df18['Year'] = 2018\n",
    "df18.info()"
   ]
  },
  {
   "cell_type": "code",
   "execution_count": 40,
   "metadata": {},
   "outputs": [
    {
     "name": "stdout",
     "output_type": "stream",
     "text": [
      "<class 'pandas.core.frame.DataFrame'>\n",
      "RangeIndex: 155 entries, 0 to 154\n",
      "Data columns (total 13 columns):\n",
      " #   Column                         Non-Null Count  Dtype  \n",
      "---  ------                         --------------  -----  \n",
      " 0   Country                        155 non-null    object \n",
      " 1   Happiness.Rank                 155 non-null    int64  \n",
      " 2   Happiness.Score                155 non-null    float64\n",
      " 3   Whisker.high                   155 non-null    float64\n",
      " 4   Whisker.low                    155 non-null    float64\n",
      " 5   Economy..GDP.per.Capita.       155 non-null    float64\n",
      " 6   Family                         155 non-null    float64\n",
      " 7   Health..Life.Expectancy.       155 non-null    float64\n",
      " 8   Freedom                        155 non-null    float64\n",
      " 9   Generosity                     155 non-null    float64\n",
      " 10  Trust..Government.Corruption.  155 non-null    float64\n",
      " 11  Dystopia.Residual              155 non-null    float64\n",
      " 12  Year                           155 non-null    int64  \n",
      "dtypes: float64(10), int64(2), object(1)\n",
      "memory usage: 15.9+ KB\n"
     ]
    }
   ],
   "source": [
    "df17 = pd.read_csv('2017.csv')\n",
    "df17['Year'] = 2017\n",
    "df17.info()"
   ]
  },
  {
   "cell_type": "code",
   "execution_count": 41,
   "metadata": {},
   "outputs": [
    {
     "name": "stdout",
     "output_type": "stream",
     "text": [
      "<class 'pandas.core.frame.DataFrame'>\n",
      "RangeIndex: 157 entries, 0 to 156\n",
      "Data columns (total 14 columns):\n",
      " #   Column                         Non-Null Count  Dtype  \n",
      "---  ------                         --------------  -----  \n",
      " 0   Country                        157 non-null    object \n",
      " 1   Region                         157 non-null    object \n",
      " 2   Happiness Rank                 157 non-null    int64  \n",
      " 3   Happiness Score                157 non-null    float64\n",
      " 4   Lower Confidence Interval      157 non-null    float64\n",
      " 5   Upper Confidence Interval      157 non-null    float64\n",
      " 6   Economy (GDP per Capita)       157 non-null    float64\n",
      " 7   Family                         157 non-null    float64\n",
      " 8   Health (Life Expectancy)       157 non-null    float64\n",
      " 9   Freedom                        157 non-null    float64\n",
      " 10  Trust (Government Corruption)  157 non-null    float64\n",
      " 11  Generosity                     157 non-null    float64\n",
      " 12  Dystopia Residual              157 non-null    float64\n",
      " 13  Year                           157 non-null    int64  \n",
      "dtypes: float64(10), int64(2), object(2)\n",
      "memory usage: 17.3+ KB\n"
     ]
    }
   ],
   "source": [
    "df16 = pd.read_csv('2016.csv')\n",
    "df16['Year'] = 2016\n",
    "df16.info()"
   ]
  },
  {
   "cell_type": "code",
   "execution_count": 42,
   "metadata": {},
   "outputs": [
    {
     "name": "stdout",
     "output_type": "stream",
     "text": [
      "<class 'pandas.core.frame.DataFrame'>\n",
      "RangeIndex: 158 entries, 0 to 157\n",
      "Data columns (total 13 columns):\n",
      " #   Column                         Non-Null Count  Dtype  \n",
      "---  ------                         --------------  -----  \n",
      " 0   Country                        158 non-null    object \n",
      " 1   Region                         158 non-null    object \n",
      " 2   Happiness Rank                 158 non-null    int64  \n",
      " 3   Happiness Score                158 non-null    float64\n",
      " 4   Standard Error                 158 non-null    float64\n",
      " 5   Economy (GDP per Capita)       158 non-null    float64\n",
      " 6   Family                         158 non-null    float64\n",
      " 7   Health (Life Expectancy)       158 non-null    float64\n",
      " 8   Freedom                        158 non-null    float64\n",
      " 9   Trust (Government Corruption)  158 non-null    float64\n",
      " 10  Generosity                     158 non-null    float64\n",
      " 11  Dystopia Residual              158 non-null    float64\n",
      " 12  Year                           158 non-null    int64  \n",
      "dtypes: float64(9), int64(2), object(2)\n",
      "memory usage: 16.2+ KB\n"
     ]
    }
   ],
   "source": [
    "df15 = pd.read_csv('2015.csv')\n",
    "df15['Year'] = 2015\n",
    "df15.info()"
   ]
  },
  {
   "attachments": {},
   "cell_type": "markdown",
   "metadata": {},
   "source": [
    "### 2. Merging datasets"
   ]
  },
  {
   "attachments": {},
   "cell_type": "markdown",
   "metadata": {},
   "source": [
    "To merge data in one data frame we have added column defining year.  \n",
    "As we can see datasets include different amount of columns and column names are different.  \n",
    "To merge data in one data frame we have added column defining year.  \n",
    "To succeed concat  data in one data frame we need to rename columns name to unify them."
   ]
  },
  {
   "cell_type": "code",
   "execution_count": 43,
   "metadata": {},
   "outputs": [],
   "source": [
    "df15 = df15.rename(columns = {\n",
    "    'Family' : 'Social support'})"
   ]
  },
  {
   "cell_type": "code",
   "execution_count": 44,
   "metadata": {},
   "outputs": [],
   "source": [
    "df16 = df16.rename(columns = {\n",
    "    'Family' : 'Social support'})"
   ]
  },
  {
   "cell_type": "code",
   "execution_count": 45,
   "metadata": {},
   "outputs": [],
   "source": [
    "df17 = df17.rename(columns = {\n",
    "    'Happiness.Rank':'Happiness Rank', \n",
    "    'Happiness.Score' : 'Happiness Score', \n",
    "    'Economy..GDP.per.Capita.' : 'Economy (GDP per Capita)', \n",
    "    'Health..Life.Expectancy.' : 'Health (Life Expectancy)',\n",
    "    'Trust..Government.Corruption.' : 'Trust (Government Corruption)', \n",
    "    'Family' : 'Social support',\n",
    "    'Dystopia.Residual' : 'Dystopia Residual'})\n",
    "\n",
    "# ['Health (Life Expectancy)', 'Trust (Government Corruption)'] not in index\""
   ]
  },
  {
   "cell_type": "code",
   "execution_count": 46,
   "metadata": {},
   "outputs": [],
   "source": [
    "df18 = df18.rename(columns = {\n",
    "    'Country or region' : 'Country',\n",
    "    'Overall rank':'Happiness Rank', \n",
    "    'Score' : 'Happiness Score', \n",
    "    'GDP per capita' : 'Economy (GDP per Capita)', \n",
    "    'Healthy life expectancy' : 'Health (Life Expectancy)',\n",
    "    'Freedom to make life choices' : 'Freedom',\n",
    "    'Perceptions of corruption' : 'Trust (Government Corruption)'})"
   ]
  },
  {
   "cell_type": "code",
   "execution_count": 47,
   "metadata": {},
   "outputs": [],
   "source": [
    "df19 = df19.rename(columns = {\n",
    "    'Country or region' : 'Country',\n",
    "    'Overall rank':'Happiness Rank', \n",
    "    'Score' : 'Happiness Score', \n",
    "    'GDP per capita' : 'Economy (GDP per Capita)', \n",
    "    'Healthy life expectancy' : 'Health (Life Expectancy)',\n",
    "    'Freedom to make life choices' : 'Freedom',\n",
    "    'Perceptions of corruption' : 'Trust (Government Corruption)'})"
   ]
  },
  {
   "cell_type": "code",
   "execution_count": 48,
   "metadata": {},
   "outputs": [],
   "source": [
    "df20 = df20.rename(columns = {\n",
    "    'Country name' : 'Country',\n",
    "    'Ladder score' : 'Happiness Score', \n",
    "    'Logged GDP per capita' : 'Economy (GDP per Capita)', \n",
    "    'Healthy life expectancy' : 'Health (Life Expectancy)',\n",
    "    'Freedom to make life choices' : 'Freedom',\n",
    "    'Perceptions of corruption' : 'Trust (Government Corruption)'})\n",
    "\n"
   ]
  },
  {
   "cell_type": "code",
   "execution_count": 49,
   "metadata": {},
   "outputs": [],
   "source": [
    "df21 = df21.rename(columns = {\n",
    "    'Country name' : 'Country',\n",
    "    'Ladder score' : 'Happiness Score', \n",
    "    'Logged GDP per capita' : 'Economy (GDP per Capita)', \n",
    "    'Healthy life expectancy' : 'Health (Life Expectancy)',\n",
    "    'Freedom to make life choices' : 'Freedom',\n",
    "    'Perceptions of corruption' : 'Trust (Government Corruption)'})\n"
   ]
  },
  {
   "cell_type": "code",
   "execution_count": 50,
   "metadata": {},
   "outputs": [],
   "source": [
    "df22 = df22.rename(columns = {\n",
    "    'RANK':'Happiness Rank', \n",
    "    'Happiness score' : 'Happiness Score', \n",
    "    'Explained by: GDP per capita' : 'Economy (GDP per Capita)', \n",
    "    'Explained by: Social support' : 'Social support',\n",
    "    'Explained by: Healthy life expectancy' : 'Health (Life Expectancy)',\n",
    "    'Explained by: Freedom to make life choices' : 'Freedom',\n",
    "    'Explained by: Generosity' : 'Generosity',\n",
    "    'Explained by: Perceptions of corruption' : 'Trust (Government Corruption)'})"
   ]
  },
  {
   "cell_type": "code",
   "execution_count": 51,
   "metadata": {},
   "outputs": [],
   "source": [
    "df = pd.concat([df15, df16, df17, df18, df19, df20, df21, df22])[[\n",
    "    'Country', \n",
    "    'Happiness Rank',\n",
    "    'Happiness Score', \n",
    "    'Economy (GDP per Capita)',\n",
    "    'Social support', \n",
    "    'Health (Life Expectancy)',\n",
    "    'Freedom',\n",
    "    'Trust (Government Corruption)',\n",
    "    'Generosity', \n",
    "    'Year']]"
   ]
  },
  {
   "cell_type": "code",
   "execution_count": 52,
   "metadata": {},
   "outputs": [],
   "source": [
    "#old-school meathod of concatination (will deploying soon)\n",
    "# df = pd.DataFrame(columns = [\n",
    "#     'Country', \n",
    "#     'Happiness Rank', \n",
    "#     'Happiness Score', \n",
    "#     'Economy (GDP per Capita)',\n",
    "#     'Social support', \n",
    "#     'Health (Life Expectancy)',\n",
    "#     'Freedom',\n",
    "#     'Trust (Government Corruption)',\n",
    "#     'Generosity', \n",
    "#     'Year'])\n",
    "# n = [df15, df16, df17, df18, df19, df20, df21, df22] #\n",
    "# for i in n:\n",
    "#     df = df.append(i[['Country', \n",
    "#     'Happiness Rank', \n",
    "#     'Happiness Score', \n",
    "#     'Economy (GDP per Capita)',\n",
    "#     'Social support', \n",
    "#     'Health (Life Expectancy)',\n",
    "#     'Freedom',\n",
    "#     'Trust (Government Corruption)',\n",
    "#     'Generosity', \n",
    "#     'Year']], ignore_index = 'True');\n"
   ]
  },
  {
   "cell_type": "code",
   "execution_count": 53,
   "metadata": {},
   "outputs": [
    {
     "name": "stdout",
     "output_type": "stream",
     "text": [
      "<class 'pandas.core.frame.DataFrame'>\n",
      "Int64Index: 1231 entries, 0 to 146\n",
      "Data columns (total 10 columns):\n",
      " #   Column                         Non-Null Count  Dtype \n",
      "---  ------                         --------------  ----- \n",
      " 0   Country                        1231 non-null   object\n",
      " 1   Happiness Rank                 1231 non-null   int64 \n",
      " 2   Happiness Score                1230 non-null   object\n",
      " 3   Economy (GDP per Capita)       1230 non-null   object\n",
      " 4   Social support                 1230 non-null   object\n",
      " 5   Health (Life Expectancy)       1230 non-null   object\n",
      " 6   Freedom                        1230 non-null   object\n",
      " 7   Trust (Government Corruption)  1229 non-null   object\n",
      " 8   Generosity                     1230 non-null   object\n",
      " 9   Year                           1231 non-null   int64 \n",
      "dtypes: int64(2), object(8)\n",
      "memory usage: 105.8+ KB\n"
     ]
    }
   ],
   "source": [
    "df.info()"
   ]
  },
  {
   "attachments": {},
   "cell_type": "markdown",
   "metadata": {},
   "source": [
    "###  3. Dtype specifying"
   ]
  },
  {
   "attachments": {},
   "cell_type": "markdown",
   "metadata": {},
   "source": [
    "To make calculations wee need to change some Dtypes.  \n",
    "Some numeric valuese has ',' separators. PD accept only '.'"
   ]
  },
  {
   "cell_type": "code",
   "execution_count": 54,
   "metadata": {},
   "outputs": [],
   "source": [
    "df['Happiness Score'] =  df['Happiness Score'].apply(lambda x: str(x).replace(',', '.'))\n",
    "df['Economy (GDP per Capita)'] =  df['Economy (GDP per Capita)'].apply(lambda x: str(x).replace(',', '.'))\n",
    "df['Social support'] =  df['Social support'].apply(lambda x: str(x).replace(',', '.'))\n",
    "df['Health (Life Expectancy)'] =  df['Health (Life Expectancy)'].apply(lambda x: str(x).replace(',', '.'))\n",
    "df['Freedom'] =  df['Freedom'].apply(lambda x: str(x).replace(',', '.'))\n",
    "df['Trust (Government Corruption)'] =  df['Trust (Government Corruption)'].apply(lambda x: str(x).replace(',', '.'))\n",
    "df['Generosity'] =  df['Generosity'].apply(lambda x: str(x).replace(',', '.'))\n"
   ]
  },
  {
   "cell_type": "code",
   "execution_count": 55,
   "metadata": {},
   "outputs": [
    {
     "name": "stdout",
     "output_type": "stream",
     "text": [
      "<class 'pandas.core.frame.DataFrame'>\n",
      "Int64Index: 1231 entries, 0 to 146\n",
      "Data columns (total 10 columns):\n",
      " #   Column                         Non-Null Count  Dtype  \n",
      "---  ------                         --------------  -----  \n",
      " 0   Country                        1231 non-null   object \n",
      " 1   Happiness Rank                 1231 non-null   int64  \n",
      " 2   Happiness Score                1230 non-null   float32\n",
      " 3   Economy (GDP per Capita)       1230 non-null   float32\n",
      " 4   Social support                 1230 non-null   float32\n",
      " 5   Health (Life Expectancy)       1230 non-null   float32\n",
      " 6   Freedom                        1230 non-null   float32\n",
      " 7   Trust (Government Corruption)  1229 non-null   float32\n",
      " 8   Generosity                     1230 non-null   float32\n",
      " 9   Year                           1231 non-null   int64  \n",
      "dtypes: float32(7), int64(2), object(1)\n",
      "memory usage: 72.1+ KB\n"
     ]
    }
   ],
   "source": [
    "df = df.astype({\n",
    "    'Happiness Score' : 'float32',\n",
    "    'Economy (GDP per Capita)' : 'float32',\n",
    "    'Social support' : 'float32',\n",
    "    'Health (Life Expectancy)' : 'float32',\n",
    "    'Freedom' : 'float32',\n",
    "    'Trust (Government Corruption)' : 'float32',\n",
    "    'Generosity' : 'float32'\n",
    "    })\n",
    "df.info()"
   ]
  },
  {
   "cell_type": "code",
   "execution_count": 56,
   "metadata": {},
   "outputs": [
    {
     "data": {
      "text/plain": [
       "Trust (Government Corruption)    0.001625\n",
       "Happiness Score                  0.000812\n",
       "Economy (GDP per Capita)         0.000812\n",
       "Social support                   0.000812\n",
       "Health (Life Expectancy)         0.000812\n",
       "Freedom                          0.000812\n",
       "Generosity                       0.000812\n",
       "Country                          0.000000\n",
       "Happiness Rank                   0.000000\n",
       "Year                             0.000000\n",
       "dtype: float64"
      ]
     },
     "execution_count": 56,
     "metadata": {},
     "output_type": "execute_result"
    }
   ],
   "source": [
    "df.isna().mean().sort_values(ascending=False)"
   ]
  },
  {
   "cell_type": "code",
   "execution_count": 57,
   "metadata": {},
   "outputs": [],
   "source": [
    "# df.to_csv (r'C:\\Users\\Nadezhda\\Desktop\\Python\\диплом\\World Happiness Report up to 2022\\my_data.csv', index= False, sep='%' )"
   ]
  },
  {
   "attachments": {},
   "cell_type": "markdown",
   "metadata": {},
   "source": [
    "There are 2 rows with null  \n",
    "I've checked them into row data.  \n",
    "They are unimportant for use, so we can drop them ."
   ]
  },
  {
   "attachments": {},
   "cell_type": "markdown",
   "metadata": {},
   "source": [
    "### 4. Happiness Rank pivot"
   ]
  },
  {
   "attachments": {},
   "cell_type": "markdown",
   "metadata": {},
   "source": [
    "Color Columns, Rows & Cells of Pandas Dataframe  by fumctions\n",
    "https://kanoki.org/2019/01/02/pandas-trick-for-the-day-color-code-columns-rows-cells-of-dataframe/"
   ]
  },
  {
   "cell_type": "code",
   "execution_count": 58,
   "metadata": {},
   "outputs": [],
   "source": [
    "def color_rank(value):\n",
    "    if value == 1:\n",
    "        color = 'yellow'\n",
    "    elif value == 2:\n",
    "        color = 'silver'\n",
    "    elif value == 3:\n",
    "        color = 'moccasin'\n",
    "    else:\n",
    "        color = 'default'\n",
    "    return 'background-color: %s' % color\n",
    "\n",
    "\n",
    "def highlight_max(data, color='yellow'):\n",
    "    '''\n",
    "    highlight the maximum in a Series or DataFrame\n",
    "    '''\n",
    "    attr = 'background-color: {}'.format(color)\n",
    "    data = data.astype(float)\n",
    "    if data.ndim == 1: \n",
    "        is_max = data == data.max()\n",
    "        return [attr if v else '' for v in is_max]\n",
    "    else:  \n",
    "        is_max = data == data.max().max()\n",
    "        return pd.DataFrame(np.where(is_max, attr, ''),\n",
    "                            index=data.index, columns=data.columns)"
   ]
  },
  {
   "cell_type": "code",
   "execution_count": 59,
   "metadata": {},
   "outputs": [],
   "source": [
    "datapivothappiness_rank = df.pivot(index='Country', columns='Year', values=['Happiness Rank'])\n",
    "datapivothappiness_rank = datapivothappiness_rank.dropna(axis = 0)\n",
    "datapivothappiness_rank = datapivothappiness_rank.astype('Int32')\n",
    "# datapivothappiness_rank.info()\n",
    "\n",
    "\n",
    "\n"
   ]
  },
  {
   "cell_type": "code",
   "execution_count": 60,
   "metadata": {},
   "outputs": [
    {
     "data": {
      "text/html": [
       "<style type=\"text/css\">\n",
       "#T_19a70_row0_col0, #T_19a70_row0_col3, #T_19a70_row2_col1, #T_19a70_row2_col2, #T_19a70_row2_col7, #T_19a70_row2_col9, #T_19a70_row3_col5, #T_19a70_row3_col6, #T_19a70_row4_col4 {\n",
       "  background-color: moccasin;\n",
       "}\n",
       "#T_19a70_row0_col1, #T_19a70_row0_col9, #T_19a70_row1_col3, #T_19a70_row1_col4, #T_19a70_row1_col5, #T_19a70_row1_col6, #T_19a70_row1_col7, #T_19a70_row3_col0, #T_19a70_row4_col2 {\n",
       "  background-color: yellow;\n",
       "}\n",
       "#T_19a70_row0_col2, #T_19a70_row0_col4, #T_19a70_row0_col5, #T_19a70_row0_col6, #T_19a70_row0_col7, #T_19a70_row1_col9, #T_19a70_row2_col0, #T_19a70_row3_col1, #T_19a70_row4_col3 {\n",
       "  background-color: silver;\n",
       "}\n",
       "#T_19a70_row1_col0, #T_19a70_row1_col1, #T_19a70_row1_col2, #T_19a70_row2_col3, #T_19a70_row2_col4, #T_19a70_row2_col5, #T_19a70_row2_col6, #T_19a70_row3_col2, #T_19a70_row3_col3, #T_19a70_row3_col4, #T_19a70_row3_col7, #T_19a70_row3_col9, #T_19a70_row4_col0, #T_19a70_row4_col1, #T_19a70_row4_col5, #T_19a70_row4_col6, #T_19a70_row4_col7, #T_19a70_row4_col9, #T_19a70_row5_col0, #T_19a70_row5_col1, #T_19a70_row5_col2, #T_19a70_row5_col3, #T_19a70_row5_col4, #T_19a70_row5_col5, #T_19a70_row5_col6, #T_19a70_row5_col7, #T_19a70_row5_col9, #T_19a70_row6_col0, #T_19a70_row6_col1, #T_19a70_row6_col2, #T_19a70_row6_col3, #T_19a70_row6_col4, #T_19a70_row6_col5, #T_19a70_row6_col6, #T_19a70_row6_col7, #T_19a70_row6_col9, #T_19a70_row7_col0, #T_19a70_row7_col1, #T_19a70_row7_col2, #T_19a70_row7_col3, #T_19a70_row7_col4, #T_19a70_row7_col5, #T_19a70_row7_col6, #T_19a70_row7_col7, #T_19a70_row7_col9, #T_19a70_row8_col0, #T_19a70_row8_col1, #T_19a70_row8_col2, #T_19a70_row8_col3, #T_19a70_row8_col4, #T_19a70_row8_col5, #T_19a70_row8_col6, #T_19a70_row8_col7, #T_19a70_row8_col9, #T_19a70_row9_col0, #T_19a70_row9_col1, #T_19a70_row9_col2, #T_19a70_row9_col3, #T_19a70_row9_col4, #T_19a70_row9_col5, #T_19a70_row9_col6, #T_19a70_row9_col7, #T_19a70_row9_col9, #T_19a70_row10_col0, #T_19a70_row10_col1, #T_19a70_row10_col2, #T_19a70_row10_col3, #T_19a70_row10_col4, #T_19a70_row10_col5, #T_19a70_row10_col6, #T_19a70_row10_col7, #T_19a70_row10_col9, #T_19a70_row11_col0, #T_19a70_row11_col1, #T_19a70_row11_col2, #T_19a70_row11_col3, #T_19a70_row11_col4, #T_19a70_row11_col5, #T_19a70_row11_col6, #T_19a70_row11_col7, #T_19a70_row11_col9, #T_19a70_row12_col0, #T_19a70_row12_col1, #T_19a70_row12_col2, #T_19a70_row12_col3, #T_19a70_row12_col4, #T_19a70_row12_col5, #T_19a70_row12_col6, #T_19a70_row12_col7, #T_19a70_row12_col9, #T_19a70_row13_col0, #T_19a70_row13_col1, #T_19a70_row13_col2, #T_19a70_row13_col3, #T_19a70_row13_col4, #T_19a70_row13_col5, #T_19a70_row13_col6, #T_19a70_row13_col7, #T_19a70_row13_col9, #T_19a70_row14_col0, #T_19a70_row14_col1, #T_19a70_row14_col2, #T_19a70_row14_col3, #T_19a70_row14_col4, #T_19a70_row14_col5, #T_19a70_row14_col6, #T_19a70_row14_col7, #T_19a70_row14_col9, #T_19a70_row15_col0, #T_19a70_row15_col1, #T_19a70_row15_col2, #T_19a70_row15_col3, #T_19a70_row15_col4, #T_19a70_row15_col5, #T_19a70_row15_col6, #T_19a70_row15_col7, #T_19a70_row15_col9, #T_19a70_row16_col0, #T_19a70_row16_col1, #T_19a70_row16_col2, #T_19a70_row16_col3, #T_19a70_row16_col4, #T_19a70_row16_col5, #T_19a70_row16_col6, #T_19a70_row16_col7, #T_19a70_row16_col9, #T_19a70_row17_col0, #T_19a70_row17_col1, #T_19a70_row17_col2, #T_19a70_row17_col3, #T_19a70_row17_col4, #T_19a70_row17_col5, #T_19a70_row17_col6, #T_19a70_row17_col7, #T_19a70_row17_col9, #T_19a70_row18_col0, #T_19a70_row18_col1, #T_19a70_row18_col2, #T_19a70_row18_col3, #T_19a70_row18_col4, #T_19a70_row18_col5, #T_19a70_row18_col6, #T_19a70_row18_col7, #T_19a70_row18_col9, #T_19a70_row19_col0, #T_19a70_row19_col1, #T_19a70_row19_col2, #T_19a70_row19_col3, #T_19a70_row19_col4, #T_19a70_row19_col5, #T_19a70_row19_col6, #T_19a70_row19_col7, #T_19a70_row19_col9, #T_19a70_row20_col0, #T_19a70_row20_col1, #T_19a70_row20_col2, #T_19a70_row20_col3, #T_19a70_row20_col4, #T_19a70_row20_col5, #T_19a70_row20_col6, #T_19a70_row20_col7, #T_19a70_row20_col9, #T_19a70_row21_col0, #T_19a70_row21_col1, #T_19a70_row21_col2, #T_19a70_row21_col3, #T_19a70_row21_col4, #T_19a70_row21_col5, #T_19a70_row21_col6, #T_19a70_row21_col7, #T_19a70_row21_col9, #T_19a70_row22_col0, #T_19a70_row22_col1, #T_19a70_row22_col2, #T_19a70_row22_col3, #T_19a70_row22_col4, #T_19a70_row22_col5, #T_19a70_row22_col6, #T_19a70_row22_col7, #T_19a70_row22_col9, #T_19a70_row23_col0, #T_19a70_row23_col1, #T_19a70_row23_col2, #T_19a70_row23_col3, #T_19a70_row23_col4, #T_19a70_row23_col5, #T_19a70_row23_col6, #T_19a70_row23_col7, #T_19a70_row23_col9, #T_19a70_row24_col0, #T_19a70_row24_col1, #T_19a70_row24_col2, #T_19a70_row24_col3, #T_19a70_row24_col4, #T_19a70_row24_col5, #T_19a70_row24_col6, #T_19a70_row24_col7, #T_19a70_row24_col9, #T_19a70_row25_col0, #T_19a70_row25_col1, #T_19a70_row25_col2, #T_19a70_row25_col3, #T_19a70_row25_col4, #T_19a70_row25_col5, #T_19a70_row25_col6, #T_19a70_row25_col7, #T_19a70_row25_col9, #T_19a70_row26_col0, #T_19a70_row26_col1, #T_19a70_row26_col2, #T_19a70_row26_col3, #T_19a70_row26_col4, #T_19a70_row26_col5, #T_19a70_row26_col6, #T_19a70_row26_col7, #T_19a70_row26_col9, #T_19a70_row27_col0, #T_19a70_row27_col1, #T_19a70_row27_col2, #T_19a70_row27_col3, #T_19a70_row27_col4, #T_19a70_row27_col5, #T_19a70_row27_col6, #T_19a70_row27_col7, #T_19a70_row27_col9, #T_19a70_row28_col0, #T_19a70_row28_col1, #T_19a70_row28_col2, #T_19a70_row28_col3, #T_19a70_row28_col4, #T_19a70_row28_col5, #T_19a70_row28_col6, #T_19a70_row28_col7, #T_19a70_row28_col9, #T_19a70_row29_col0, #T_19a70_row29_col1, #T_19a70_row29_col2, #T_19a70_row29_col3, #T_19a70_row29_col4, #T_19a70_row29_col5, #T_19a70_row29_col6, #T_19a70_row29_col7, #T_19a70_row29_col9, #T_19a70_row30_col0, #T_19a70_row30_col1, #T_19a70_row30_col2, #T_19a70_row30_col3, #T_19a70_row30_col4, #T_19a70_row30_col5, #T_19a70_row30_col6, #T_19a70_row30_col7, #T_19a70_row30_col9, #T_19a70_row31_col0, #T_19a70_row31_col1, #T_19a70_row31_col2, #T_19a70_row31_col3, #T_19a70_row31_col4, #T_19a70_row31_col5, #T_19a70_row31_col6, #T_19a70_row31_col7, #T_19a70_row31_col9, #T_19a70_row32_col0, #T_19a70_row32_col1, #T_19a70_row32_col2, #T_19a70_row32_col3, #T_19a70_row32_col4, #T_19a70_row32_col5, #T_19a70_row32_col6, #T_19a70_row32_col7, #T_19a70_row32_col9, #T_19a70_row33_col0, #T_19a70_row33_col1, #T_19a70_row33_col2, #T_19a70_row33_col3, #T_19a70_row33_col4, #T_19a70_row33_col5, #T_19a70_row33_col6, #T_19a70_row33_col7, #T_19a70_row33_col9, #T_19a70_row34_col0, #T_19a70_row34_col1, #T_19a70_row34_col2, #T_19a70_row34_col3, #T_19a70_row34_col4, #T_19a70_row34_col5, #T_19a70_row34_col6, #T_19a70_row34_col7, #T_19a70_row34_col9, #T_19a70_row35_col0, #T_19a70_row35_col1, #T_19a70_row35_col2, #T_19a70_row35_col3, #T_19a70_row35_col4, #T_19a70_row35_col5, #T_19a70_row35_col6, #T_19a70_row35_col7, #T_19a70_row35_col9, #T_19a70_row36_col0, #T_19a70_row36_col1, #T_19a70_row36_col2, #T_19a70_row36_col3, #T_19a70_row36_col4, #T_19a70_row36_col5, #T_19a70_row36_col6, #T_19a70_row36_col7, #T_19a70_row36_col9, #T_19a70_row37_col0, #T_19a70_row37_col1, #T_19a70_row37_col2, #T_19a70_row37_col3, #T_19a70_row37_col4, #T_19a70_row37_col5, #T_19a70_row37_col6, #T_19a70_row37_col7, #T_19a70_row37_col9, #T_19a70_row38_col0, #T_19a70_row38_col1, #T_19a70_row38_col2, #T_19a70_row38_col3, #T_19a70_row38_col4, #T_19a70_row38_col5, #T_19a70_row38_col6, #T_19a70_row38_col7, #T_19a70_row38_col9, #T_19a70_row39_col0, #T_19a70_row39_col1, #T_19a70_row39_col2, #T_19a70_row39_col3, #T_19a70_row39_col4, #T_19a70_row39_col5, #T_19a70_row39_col6, #T_19a70_row39_col7, #T_19a70_row39_col9, #T_19a70_row40_col0, #T_19a70_row40_col1, #T_19a70_row40_col2, #T_19a70_row40_col3, #T_19a70_row40_col4, #T_19a70_row40_col5, #T_19a70_row40_col6, #T_19a70_row40_col7, #T_19a70_row40_col9, #T_19a70_row41_col0, #T_19a70_row41_col1, #T_19a70_row41_col2, #T_19a70_row41_col3, #T_19a70_row41_col4, #T_19a70_row41_col5, #T_19a70_row41_col6, #T_19a70_row41_col7, #T_19a70_row41_col9, #T_19a70_row42_col0, #T_19a70_row42_col1, #T_19a70_row42_col2, #T_19a70_row42_col3, #T_19a70_row42_col4, #T_19a70_row42_col5, #T_19a70_row42_col6, #T_19a70_row42_col7, #T_19a70_row42_col9, #T_19a70_row43_col0, #T_19a70_row43_col1, #T_19a70_row43_col2, #T_19a70_row43_col3, #T_19a70_row43_col4, #T_19a70_row43_col5, #T_19a70_row43_col6, #T_19a70_row43_col7, #T_19a70_row43_col9, #T_19a70_row44_col0, #T_19a70_row44_col1, #T_19a70_row44_col2, #T_19a70_row44_col3, #T_19a70_row44_col4, #T_19a70_row44_col5, #T_19a70_row44_col6, #T_19a70_row44_col7, #T_19a70_row44_col9, #T_19a70_row45_col0, #T_19a70_row45_col1, #T_19a70_row45_col2, #T_19a70_row45_col3, #T_19a70_row45_col4, #T_19a70_row45_col5, #T_19a70_row45_col6, #T_19a70_row45_col7, #T_19a70_row45_col9, #T_19a70_row46_col0, #T_19a70_row46_col1, #T_19a70_row46_col2, #T_19a70_row46_col3, #T_19a70_row46_col4, #T_19a70_row46_col5, #T_19a70_row46_col6, #T_19a70_row46_col7, #T_19a70_row46_col9, #T_19a70_row47_col0, #T_19a70_row47_col1, #T_19a70_row47_col2, #T_19a70_row47_col3, #T_19a70_row47_col4, #T_19a70_row47_col5, #T_19a70_row47_col6, #T_19a70_row47_col7, #T_19a70_row47_col9, #T_19a70_row48_col0, #T_19a70_row48_col1, #T_19a70_row48_col2, #T_19a70_row48_col3, #T_19a70_row48_col4, #T_19a70_row48_col5, #T_19a70_row48_col6, #T_19a70_row48_col7, #T_19a70_row48_col9, #T_19a70_row49_col0, #T_19a70_row49_col1, #T_19a70_row49_col2, #T_19a70_row49_col3, #T_19a70_row49_col4, #T_19a70_row49_col5, #T_19a70_row49_col6, #T_19a70_row49_col7, #T_19a70_row49_col9, #T_19a70_row50_col0, #T_19a70_row50_col1, #T_19a70_row50_col2, #T_19a70_row50_col3, #T_19a70_row50_col4, #T_19a70_row50_col5, #T_19a70_row50_col6, #T_19a70_row50_col7, #T_19a70_row50_col9, #T_19a70_row51_col0, #T_19a70_row51_col1, #T_19a70_row51_col2, #T_19a70_row51_col3, #T_19a70_row51_col4, #T_19a70_row51_col5, #T_19a70_row51_col6, #T_19a70_row51_col7, #T_19a70_row51_col9, #T_19a70_row52_col0, #T_19a70_row52_col1, #T_19a70_row52_col2, #T_19a70_row52_col3, #T_19a70_row52_col4, #T_19a70_row52_col5, #T_19a70_row52_col6, #T_19a70_row52_col7, #T_19a70_row52_col9, #T_19a70_row53_col0, #T_19a70_row53_col1, #T_19a70_row53_col2, #T_19a70_row53_col3, #T_19a70_row53_col4, #T_19a70_row53_col5, #T_19a70_row53_col6, #T_19a70_row53_col7, #T_19a70_row53_col9, #T_19a70_row54_col0, #T_19a70_row54_col1, #T_19a70_row54_col2, #T_19a70_row54_col3, #T_19a70_row54_col4, #T_19a70_row54_col5, #T_19a70_row54_col6, #T_19a70_row54_col7, #T_19a70_row54_col9, #T_19a70_row55_col0, #T_19a70_row55_col1, #T_19a70_row55_col2, #T_19a70_row55_col3, #T_19a70_row55_col4, #T_19a70_row55_col5, #T_19a70_row55_col6, #T_19a70_row55_col7, #T_19a70_row55_col9, #T_19a70_row57_col0, #T_19a70_row57_col1, #T_19a70_row57_col2, #T_19a70_row57_col3, #T_19a70_row57_col4, #T_19a70_row57_col5, #T_19a70_row57_col6, #T_19a70_row57_col7, #T_19a70_row57_col9, #T_19a70_row58_col0, #T_19a70_row58_col1, #T_19a70_row58_col2, #T_19a70_row58_col3, #T_19a70_row58_col4, #T_19a70_row58_col5, #T_19a70_row58_col6, #T_19a70_row58_col7, #T_19a70_row58_col9, #T_19a70_row59_col0, #T_19a70_row59_col1, #T_19a70_row59_col2, #T_19a70_row59_col3, #T_19a70_row59_col4, #T_19a70_row59_col5, #T_19a70_row59_col6, #T_19a70_row59_col7, #T_19a70_row59_col9, #T_19a70_row60_col0, #T_19a70_row60_col1, #T_19a70_row60_col2, #T_19a70_row60_col3, #T_19a70_row60_col4, #T_19a70_row60_col5, #T_19a70_row60_col6, #T_19a70_row60_col7, #T_19a70_row60_col9, #T_19a70_row61_col0, #T_19a70_row61_col1, #T_19a70_row61_col2, #T_19a70_row61_col3, #T_19a70_row61_col4, #T_19a70_row61_col5, #T_19a70_row61_col6, #T_19a70_row61_col7, #T_19a70_row61_col9, #T_19a70_row62_col0, #T_19a70_row62_col1, #T_19a70_row62_col2, #T_19a70_row62_col3, #T_19a70_row62_col4, #T_19a70_row62_col5, #T_19a70_row62_col6, #T_19a70_row62_col7, #T_19a70_row62_col9, #T_19a70_row63_col0, #T_19a70_row63_col1, #T_19a70_row63_col2, #T_19a70_row63_col3, #T_19a70_row63_col4, #T_19a70_row63_col5, #T_19a70_row63_col6, #T_19a70_row63_col7, #T_19a70_row63_col9, #T_19a70_row64_col0, #T_19a70_row64_col1, #T_19a70_row64_col2, #T_19a70_row64_col3, #T_19a70_row64_col4, #T_19a70_row64_col5, #T_19a70_row64_col6, #T_19a70_row64_col7, #T_19a70_row64_col9, #T_19a70_row65_col0, #T_19a70_row65_col1, #T_19a70_row65_col2, #T_19a70_row65_col3, #T_19a70_row65_col4, #T_19a70_row65_col5, #T_19a70_row65_col6, #T_19a70_row65_col7, #T_19a70_row65_col9, #T_19a70_row66_col0, #T_19a70_row66_col1, #T_19a70_row66_col2, #T_19a70_row66_col3, #T_19a70_row66_col4, #T_19a70_row66_col5, #T_19a70_row66_col6, #T_19a70_row66_col7, #T_19a70_row66_col9, #T_19a70_row67_col0, #T_19a70_row67_col1, #T_19a70_row67_col2, #T_19a70_row67_col3, #T_19a70_row67_col4, #T_19a70_row67_col5, #T_19a70_row67_col6, #T_19a70_row67_col7, #T_19a70_row67_col9, #T_19a70_row68_col0, #T_19a70_row68_col1, #T_19a70_row68_col2, #T_19a70_row68_col3, #T_19a70_row68_col4, #T_19a70_row68_col5, #T_19a70_row68_col6, #T_19a70_row68_col7, #T_19a70_row68_col9, #T_19a70_row69_col0, #T_19a70_row69_col1, #T_19a70_row69_col2, #T_19a70_row69_col3, #T_19a70_row69_col4, #T_19a70_row69_col5, #T_19a70_row69_col6, #T_19a70_row69_col7, #T_19a70_row69_col9, #T_19a70_row70_col0, #T_19a70_row70_col1, #T_19a70_row70_col2, #T_19a70_row70_col3, #T_19a70_row70_col4, #T_19a70_row70_col5, #T_19a70_row70_col6, #T_19a70_row70_col7, #T_19a70_row70_col9, #T_19a70_row71_col0, #T_19a70_row71_col1, #T_19a70_row71_col2, #T_19a70_row71_col3, #T_19a70_row71_col4, #T_19a70_row71_col5, #T_19a70_row71_col6, #T_19a70_row71_col7, #T_19a70_row71_col9, #T_19a70_row72_col0, #T_19a70_row72_col1, #T_19a70_row72_col2, #T_19a70_row72_col3, #T_19a70_row72_col4, #T_19a70_row72_col5, #T_19a70_row72_col6, #T_19a70_row72_col7, #T_19a70_row72_col9, #T_19a70_row73_col0, #T_19a70_row73_col1, #T_19a70_row73_col2, #T_19a70_row73_col3, #T_19a70_row73_col4, #T_19a70_row73_col5, #T_19a70_row73_col6, #T_19a70_row73_col7, #T_19a70_row73_col9, #T_19a70_row74_col0, #T_19a70_row74_col1, #T_19a70_row74_col2, #T_19a70_row74_col3, #T_19a70_row74_col4, #T_19a70_row74_col5, #T_19a70_row74_col6, #T_19a70_row74_col7, #T_19a70_row74_col9, #T_19a70_row75_col0, #T_19a70_row75_col1, #T_19a70_row75_col2, #T_19a70_row75_col3, #T_19a70_row75_col4, #T_19a70_row75_col5, #T_19a70_row75_col6, #T_19a70_row75_col7, #T_19a70_row75_col9, #T_19a70_row76_col0, #T_19a70_row76_col1, #T_19a70_row76_col2, #T_19a70_row76_col3, #T_19a70_row76_col4, #T_19a70_row76_col5, #T_19a70_row76_col6, #T_19a70_row76_col7, #T_19a70_row76_col9, #T_19a70_row77_col0, #T_19a70_row77_col1, #T_19a70_row77_col2, #T_19a70_row77_col3, #T_19a70_row77_col4, #T_19a70_row77_col5, #T_19a70_row77_col6, #T_19a70_row77_col7, #T_19a70_row77_col9, #T_19a70_row78_col0, #T_19a70_row78_col1, #T_19a70_row78_col2, #T_19a70_row78_col3, #T_19a70_row78_col4, #T_19a70_row78_col5, #T_19a70_row78_col6, #T_19a70_row78_col7, #T_19a70_row78_col9, #T_19a70_row79_col0, #T_19a70_row79_col1, #T_19a70_row79_col2, #T_19a70_row79_col3, #T_19a70_row79_col4, #T_19a70_row79_col5, #T_19a70_row79_col6, #T_19a70_row79_col7, #T_19a70_row79_col9, #T_19a70_row80_col0, #T_19a70_row80_col1, #T_19a70_row80_col2, #T_19a70_row80_col3, #T_19a70_row80_col4, #T_19a70_row80_col5, #T_19a70_row80_col6, #T_19a70_row80_col7, #T_19a70_row80_col9, #T_19a70_row81_col0, #T_19a70_row81_col1, #T_19a70_row81_col2, #T_19a70_row81_col3, #T_19a70_row81_col4, #T_19a70_row81_col5, #T_19a70_row81_col6, #T_19a70_row81_col7, #T_19a70_row81_col9, #T_19a70_row82_col0, #T_19a70_row82_col1, #T_19a70_row82_col2, #T_19a70_row82_col3, #T_19a70_row82_col4, #T_19a70_row82_col5, #T_19a70_row82_col6, #T_19a70_row82_col7, #T_19a70_row82_col9, #T_19a70_row83_col0, #T_19a70_row83_col1, #T_19a70_row83_col2, #T_19a70_row83_col3, #T_19a70_row83_col4, #T_19a70_row83_col5, #T_19a70_row83_col6, #T_19a70_row83_col7, #T_19a70_row83_col9, #T_19a70_row84_col0, #T_19a70_row84_col1, #T_19a70_row84_col2, #T_19a70_row84_col3, #T_19a70_row84_col4, #T_19a70_row84_col5, #T_19a70_row84_col6, #T_19a70_row84_col7, #T_19a70_row84_col9, #T_19a70_row85_col0, #T_19a70_row85_col1, #T_19a70_row85_col2, #T_19a70_row85_col3, #T_19a70_row85_col4, #T_19a70_row85_col5, #T_19a70_row85_col6, #T_19a70_row85_col7, #T_19a70_row85_col9, #T_19a70_row86_col0, #T_19a70_row86_col1, #T_19a70_row86_col2, #T_19a70_row86_col3, #T_19a70_row86_col4, #T_19a70_row86_col5, #T_19a70_row86_col6, #T_19a70_row86_col7, #T_19a70_row86_col9, #T_19a70_row87_col0, #T_19a70_row87_col1, #T_19a70_row87_col2, #T_19a70_row87_col3, #T_19a70_row87_col4, #T_19a70_row87_col5, #T_19a70_row87_col6, #T_19a70_row87_col7, #T_19a70_row87_col9, #T_19a70_row88_col0, #T_19a70_row88_col1, #T_19a70_row88_col2, #T_19a70_row88_col3, #T_19a70_row88_col4, #T_19a70_row88_col5, #T_19a70_row88_col6, #T_19a70_row88_col7, #T_19a70_row88_col9, #T_19a70_row89_col0, #T_19a70_row89_col1, #T_19a70_row89_col2, #T_19a70_row89_col3, #T_19a70_row89_col4, #T_19a70_row89_col5, #T_19a70_row89_col6, #T_19a70_row89_col7, #T_19a70_row89_col9, #T_19a70_row90_col0, #T_19a70_row90_col1, #T_19a70_row90_col2, #T_19a70_row90_col3, #T_19a70_row90_col4, #T_19a70_row90_col5, #T_19a70_row90_col6, #T_19a70_row90_col7, #T_19a70_row90_col9, #T_19a70_row91_col0, #T_19a70_row91_col1, #T_19a70_row91_col2, #T_19a70_row91_col3, #T_19a70_row91_col4, #T_19a70_row91_col5, #T_19a70_row91_col6, #T_19a70_row91_col7, #T_19a70_row91_col9, #T_19a70_row92_col0, #T_19a70_row92_col1, #T_19a70_row92_col2, #T_19a70_row92_col3, #T_19a70_row92_col4, #T_19a70_row92_col5, #T_19a70_row92_col6, #T_19a70_row92_col7, #T_19a70_row92_col9, #T_19a70_row93_col0, #T_19a70_row93_col1, #T_19a70_row93_col2, #T_19a70_row93_col3, #T_19a70_row93_col4, #T_19a70_row93_col5, #T_19a70_row93_col6, #T_19a70_row93_col7, #T_19a70_row93_col9, #T_19a70_row94_col0, #T_19a70_row94_col1, #T_19a70_row94_col2, #T_19a70_row94_col3, #T_19a70_row94_col4, #T_19a70_row94_col5, #T_19a70_row94_col6, #T_19a70_row94_col7, #T_19a70_row94_col9, #T_19a70_row95_col0, #T_19a70_row95_col1, #T_19a70_row95_col2, #T_19a70_row95_col3, #T_19a70_row95_col4, #T_19a70_row95_col5, #T_19a70_row95_col6, #T_19a70_row95_col7, #T_19a70_row95_col9, #T_19a70_row96_col0, #T_19a70_row96_col1, #T_19a70_row96_col2, #T_19a70_row96_col3, #T_19a70_row96_col4, #T_19a70_row96_col5, #T_19a70_row96_col6, #T_19a70_row96_col7, #T_19a70_row96_col9, #T_19a70_row97_col0, #T_19a70_row97_col1, #T_19a70_row97_col2, #T_19a70_row97_col3, #T_19a70_row97_col4, #T_19a70_row97_col5, #T_19a70_row97_col6, #T_19a70_row97_col7, #T_19a70_row97_col9, #T_19a70_row98_col0, #T_19a70_row98_col1, #T_19a70_row98_col2, #T_19a70_row98_col3, #T_19a70_row98_col4, #T_19a70_row98_col5, #T_19a70_row98_col6, #T_19a70_row98_col7, #T_19a70_row98_col9, #T_19a70_row99_col0, #T_19a70_row99_col1, #T_19a70_row99_col2, #T_19a70_row99_col3, #T_19a70_row99_col4, #T_19a70_row99_col5, #T_19a70_row99_col6, #T_19a70_row99_col7, #T_19a70_row99_col9, #T_19a70_row100_col0, #T_19a70_row100_col1, #T_19a70_row100_col2, #T_19a70_row100_col3, #T_19a70_row100_col4, #T_19a70_row100_col5, #T_19a70_row100_col6, #T_19a70_row100_col7, #T_19a70_row100_col9, #T_19a70_row101_col0, #T_19a70_row101_col1, #T_19a70_row101_col2, #T_19a70_row101_col3, #T_19a70_row101_col4, #T_19a70_row101_col5, #T_19a70_row101_col6, #T_19a70_row101_col7, #T_19a70_row101_col9, #T_19a70_row102_col0, #T_19a70_row102_col1, #T_19a70_row102_col2, #T_19a70_row102_col3, #T_19a70_row102_col4, #T_19a70_row102_col5, #T_19a70_row102_col6, #T_19a70_row102_col7, #T_19a70_row102_col9, #T_19a70_row103_col0, #T_19a70_row103_col1, #T_19a70_row103_col2, #T_19a70_row103_col3, #T_19a70_row103_col4, #T_19a70_row103_col5, #T_19a70_row103_col6, #T_19a70_row103_col7, #T_19a70_row103_col9, #T_19a70_row104_col0, #T_19a70_row104_col1, #T_19a70_row104_col2, #T_19a70_row104_col3, #T_19a70_row104_col4, #T_19a70_row104_col5, #T_19a70_row104_col6, #T_19a70_row104_col7, #T_19a70_row104_col9, #T_19a70_row105_col0, #T_19a70_row105_col1, #T_19a70_row105_col2, #T_19a70_row105_col3, #T_19a70_row105_col4, #T_19a70_row105_col5, #T_19a70_row105_col6, #T_19a70_row105_col7, #T_19a70_row105_col9, #T_19a70_row106_col0, #T_19a70_row106_col1, #T_19a70_row106_col2, #T_19a70_row106_col3, #T_19a70_row106_col4, #T_19a70_row106_col5, #T_19a70_row106_col6, #T_19a70_row106_col7, #T_19a70_row106_col9, #T_19a70_row107_col0, #T_19a70_row107_col1, #T_19a70_row107_col2, #T_19a70_row107_col3, #T_19a70_row107_col4, #T_19a70_row107_col5, #T_19a70_row107_col6, #T_19a70_row107_col7, #T_19a70_row107_col9, #T_19a70_row108_col0, #T_19a70_row108_col1, #T_19a70_row108_col2, #T_19a70_row108_col3, #T_19a70_row108_col4, #T_19a70_row108_col5, #T_19a70_row108_col6, #T_19a70_row108_col7, #T_19a70_row108_col9, #T_19a70_row109_col0, #T_19a70_row109_col1, #T_19a70_row109_col2, #T_19a70_row109_col3, #T_19a70_row109_col4, #T_19a70_row109_col5, #T_19a70_row109_col6, #T_19a70_row109_col7, #T_19a70_row109_col9, #T_19a70_row110_col0, #T_19a70_row110_col1, #T_19a70_row110_col2, #T_19a70_row110_col3, #T_19a70_row110_col4, #T_19a70_row110_col5, #T_19a70_row110_col6, #T_19a70_row110_col7, #T_19a70_row110_col9, #T_19a70_row111_col0, #T_19a70_row111_col1, #T_19a70_row111_col2, #T_19a70_row111_col3, #T_19a70_row111_col4, #T_19a70_row111_col5, #T_19a70_row111_col6, #T_19a70_row111_col7, #T_19a70_row111_col9, #T_19a70_row112_col0, #T_19a70_row112_col1, #T_19a70_row112_col2, #T_19a70_row112_col3, #T_19a70_row112_col4, #T_19a70_row112_col5, #T_19a70_row112_col6, #T_19a70_row112_col7, #T_19a70_row112_col9, #T_19a70_row113_col0, #T_19a70_row113_col1, #T_19a70_row113_col2, #T_19a70_row113_col3, #T_19a70_row113_col4, #T_19a70_row113_col5, #T_19a70_row113_col6, #T_19a70_row113_col7, #T_19a70_row113_col9, #T_19a70_row114_col0, #T_19a70_row114_col1, #T_19a70_row114_col2, #T_19a70_row114_col3, #T_19a70_row114_col4, #T_19a70_row114_col5, #T_19a70_row114_col6, #T_19a70_row114_col7, #T_19a70_row114_col9, #T_19a70_row115_col0, #T_19a70_row115_col1, #T_19a70_row115_col2, #T_19a70_row115_col3, #T_19a70_row115_col4, #T_19a70_row115_col5, #T_19a70_row115_col6, #T_19a70_row115_col7, #T_19a70_row115_col9, #T_19a70_row116_col0, #T_19a70_row116_col1, #T_19a70_row116_col2, #T_19a70_row116_col3, #T_19a70_row116_col4, #T_19a70_row116_col5, #T_19a70_row116_col6, #T_19a70_row116_col7, #T_19a70_row116_col9, #T_19a70_row117_col0, #T_19a70_row117_col1, #T_19a70_row117_col2, #T_19a70_row117_col3, #T_19a70_row117_col4, #T_19a70_row117_col5, #T_19a70_row117_col6, #T_19a70_row117_col7, #T_19a70_row117_col9 {\n",
       "  background-color: default;\n",
       "}\n",
       "#T_19a70_row56_col0, #T_19a70_row56_col1, #T_19a70_row56_col2, #T_19a70_row56_col3, #T_19a70_row56_col4, #T_19a70_row56_col5, #T_19a70_row56_col6, #T_19a70_row56_col7, #T_19a70_row56_col9 {\n",
       "  background-color: default;\n",
       "  background: blue;\n",
       "}\n",
       "#T_19a70_row56_col8 {\n",
       "  background: blue;\n",
       "}\n",
       "</style>\n",
       "<table id=\"T_19a70\">\n",
       "  <thead>\n",
       "    <tr>\n",
       "      <th class=\"blank level0\" >&nbsp;</th>\n",
       "      <th id=\"T_19a70_level0_col0\" class=\"col_heading level0 col0\" colspan=\"8\">Happiness Rank</th>\n",
       "      <th id=\"T_19a70_level0_col8\" class=\"col_heading level0 col8\" >AVG</th>\n",
       "      <th id=\"T_19a70_level0_col9\" class=\"col_heading level0 col9\" >Rank</th>\n",
       "    </tr>\n",
       "    <tr>\n",
       "      <th class=\"index_name level1\" >Year</th>\n",
       "      <th id=\"T_19a70_level1_col0\" class=\"col_heading level1 col0\" >2015</th>\n",
       "      <th id=\"T_19a70_level1_col1\" class=\"col_heading level1 col1\" >2016</th>\n",
       "      <th id=\"T_19a70_level1_col2\" class=\"col_heading level1 col2\" >2017</th>\n",
       "      <th id=\"T_19a70_level1_col3\" class=\"col_heading level1 col3\" >2018</th>\n",
       "      <th id=\"T_19a70_level1_col4\" class=\"col_heading level1 col4\" >2019</th>\n",
       "      <th id=\"T_19a70_level1_col5\" class=\"col_heading level1 col5\" >2020</th>\n",
       "      <th id=\"T_19a70_level1_col6\" class=\"col_heading level1 col6\" >2021</th>\n",
       "      <th id=\"T_19a70_level1_col7\" class=\"col_heading level1 col7\" >2022</th>\n",
       "      <th id=\"T_19a70_level1_col8\" class=\"col_heading level1 col8\" ></th>\n",
       "      <th id=\"T_19a70_level1_col9\" class=\"col_heading level1 col9\" ></th>\n",
       "    </tr>\n",
       "    <tr>\n",
       "      <th class=\"index_name level0\" >Country</th>\n",
       "      <th class=\"blank col0\" >&nbsp;</th>\n",
       "      <th class=\"blank col1\" >&nbsp;</th>\n",
       "      <th class=\"blank col2\" >&nbsp;</th>\n",
       "      <th class=\"blank col3\" >&nbsp;</th>\n",
       "      <th class=\"blank col4\" >&nbsp;</th>\n",
       "      <th class=\"blank col5\" >&nbsp;</th>\n",
       "      <th class=\"blank col6\" >&nbsp;</th>\n",
       "      <th class=\"blank col7\" >&nbsp;</th>\n",
       "      <th class=\"blank col8\" >&nbsp;</th>\n",
       "      <th class=\"blank col9\" >&nbsp;</th>\n",
       "    </tr>\n",
       "  </thead>\n",
       "  <tbody>\n",
       "    <tr>\n",
       "      <th id=\"T_19a70_level0_row0\" class=\"row_heading level0 row0\" >Denmark</th>\n",
       "      <td id=\"T_19a70_row0_col0\" class=\"data row0 col0\" >3</td>\n",
       "      <td id=\"T_19a70_row0_col1\" class=\"data row0 col1\" >1</td>\n",
       "      <td id=\"T_19a70_row0_col2\" class=\"data row0 col2\" >2</td>\n",
       "      <td id=\"T_19a70_row0_col3\" class=\"data row0 col3\" >3</td>\n",
       "      <td id=\"T_19a70_row0_col4\" class=\"data row0 col4\" >2</td>\n",
       "      <td id=\"T_19a70_row0_col5\" class=\"data row0 col5\" >2</td>\n",
       "      <td id=\"T_19a70_row0_col6\" class=\"data row0 col6\" >2</td>\n",
       "      <td id=\"T_19a70_row0_col7\" class=\"data row0 col7\" >2</td>\n",
       "      <td id=\"T_19a70_row0_col8\" class=\"data row0 col8\" >2,12</td>\n",
       "      <td id=\"T_19a70_row0_col9\" class=\"data row0 col9\" >1</td>\n",
       "    </tr>\n",
       "    <tr>\n",
       "      <th id=\"T_19a70_level0_row1\" class=\"row_heading level0 row1\" >Finland</th>\n",
       "      <td id=\"T_19a70_row1_col0\" class=\"data row1 col0\" >6</td>\n",
       "      <td id=\"T_19a70_row1_col1\" class=\"data row1 col1\" >5</td>\n",
       "      <td id=\"T_19a70_row1_col2\" class=\"data row1 col2\" >5</td>\n",
       "      <td id=\"T_19a70_row1_col3\" class=\"data row1 col3\" >1</td>\n",
       "      <td id=\"T_19a70_row1_col4\" class=\"data row1 col4\" >1</td>\n",
       "      <td id=\"T_19a70_row1_col5\" class=\"data row1 col5\" >1</td>\n",
       "      <td id=\"T_19a70_row1_col6\" class=\"data row1 col6\" >1</td>\n",
       "      <td id=\"T_19a70_row1_col7\" class=\"data row1 col7\" >1</td>\n",
       "      <td id=\"T_19a70_row1_col8\" class=\"data row1 col8\" >2,62</td>\n",
       "      <td id=\"T_19a70_row1_col9\" class=\"data row1 col9\" >2</td>\n",
       "    </tr>\n",
       "    <tr>\n",
       "      <th id=\"T_19a70_level0_row2\" class=\"row_heading level0 row2\" >Iceland</th>\n",
       "      <td id=\"T_19a70_row2_col0\" class=\"data row2 col0\" >2</td>\n",
       "      <td id=\"T_19a70_row2_col1\" class=\"data row2 col1\" >3</td>\n",
       "      <td id=\"T_19a70_row2_col2\" class=\"data row2 col2\" >3</td>\n",
       "      <td id=\"T_19a70_row2_col3\" class=\"data row2 col3\" >4</td>\n",
       "      <td id=\"T_19a70_row2_col4\" class=\"data row2 col4\" >4</td>\n",
       "      <td id=\"T_19a70_row2_col5\" class=\"data row2 col5\" >4</td>\n",
       "      <td id=\"T_19a70_row2_col6\" class=\"data row2 col6\" >4</td>\n",
       "      <td id=\"T_19a70_row2_col7\" class=\"data row2 col7\" >3</td>\n",
       "      <td id=\"T_19a70_row2_col8\" class=\"data row2 col8\" >3,38</td>\n",
       "      <td id=\"T_19a70_row2_col9\" class=\"data row2 col9\" >3</td>\n",
       "    </tr>\n",
       "    <tr>\n",
       "      <th id=\"T_19a70_level0_row3\" class=\"row_heading level0 row3\" >Switzerland</th>\n",
       "      <td id=\"T_19a70_row3_col0\" class=\"data row3 col0\" >1</td>\n",
       "      <td id=\"T_19a70_row3_col1\" class=\"data row3 col1\" >2</td>\n",
       "      <td id=\"T_19a70_row3_col2\" class=\"data row3 col2\" >4</td>\n",
       "      <td id=\"T_19a70_row3_col3\" class=\"data row3 col3\" >5</td>\n",
       "      <td id=\"T_19a70_row3_col4\" class=\"data row3 col4\" >6</td>\n",
       "      <td id=\"T_19a70_row3_col5\" class=\"data row3 col5\" >3</td>\n",
       "      <td id=\"T_19a70_row3_col6\" class=\"data row3 col6\" >3</td>\n",
       "      <td id=\"T_19a70_row3_col7\" class=\"data row3 col7\" >4</td>\n",
       "      <td id=\"T_19a70_row3_col8\" class=\"data row3 col8\" >3,50</td>\n",
       "      <td id=\"T_19a70_row3_col9\" class=\"data row3 col9\" >4</td>\n",
       "    </tr>\n",
       "    <tr>\n",
       "      <th id=\"T_19a70_level0_row4\" class=\"row_heading level0 row4\" >Norway</th>\n",
       "      <td id=\"T_19a70_row4_col0\" class=\"data row4 col0\" >4</td>\n",
       "      <td id=\"T_19a70_row4_col1\" class=\"data row4 col1\" >4</td>\n",
       "      <td id=\"T_19a70_row4_col2\" class=\"data row4 col2\" >1</td>\n",
       "      <td id=\"T_19a70_row4_col3\" class=\"data row4 col3\" >2</td>\n",
       "      <td id=\"T_19a70_row4_col4\" class=\"data row4 col4\" >3</td>\n",
       "      <td id=\"T_19a70_row4_col5\" class=\"data row4 col5\" >5</td>\n",
       "      <td id=\"T_19a70_row4_col6\" class=\"data row4 col6\" >6</td>\n",
       "      <td id=\"T_19a70_row4_col7\" class=\"data row4 col7\" >8</td>\n",
       "      <td id=\"T_19a70_row4_col8\" class=\"data row4 col8\" >4,12</td>\n",
       "      <td id=\"T_19a70_row4_col9\" class=\"data row4 col9\" >5</td>\n",
       "    </tr>\n",
       "    <tr>\n",
       "      <th id=\"T_19a70_level0_row5\" class=\"row_heading level0 row5\" >Netherlands</th>\n",
       "      <td id=\"T_19a70_row5_col0\" class=\"data row5 col0\" >7</td>\n",
       "      <td id=\"T_19a70_row5_col1\" class=\"data row5 col1\" >7</td>\n",
       "      <td id=\"T_19a70_row5_col2\" class=\"data row5 col2\" >6</td>\n",
       "      <td id=\"T_19a70_row5_col3\" class=\"data row5 col3\" >6</td>\n",
       "      <td id=\"T_19a70_row5_col4\" class=\"data row5 col4\" >5</td>\n",
       "      <td id=\"T_19a70_row5_col5\" class=\"data row5 col5\" >6</td>\n",
       "      <td id=\"T_19a70_row5_col6\" class=\"data row5 col6\" >5</td>\n",
       "      <td id=\"T_19a70_row5_col7\" class=\"data row5 col7\" >5</td>\n",
       "      <td id=\"T_19a70_row5_col8\" class=\"data row5 col8\" >5,88</td>\n",
       "      <td id=\"T_19a70_row5_col9\" class=\"data row5 col9\" >6</td>\n",
       "    </tr>\n",
       "    <tr>\n",
       "      <th id=\"T_19a70_level0_row6\" class=\"row_heading level0 row6\" >Sweden</th>\n",
       "      <td id=\"T_19a70_row6_col0\" class=\"data row6 col0\" >8</td>\n",
       "      <td id=\"T_19a70_row6_col1\" class=\"data row6 col1\" >10</td>\n",
       "      <td id=\"T_19a70_row6_col2\" class=\"data row6 col2\" >9</td>\n",
       "      <td id=\"T_19a70_row6_col3\" class=\"data row6 col3\" >9</td>\n",
       "      <td id=\"T_19a70_row6_col4\" class=\"data row6 col4\" >7</td>\n",
       "      <td id=\"T_19a70_row6_col5\" class=\"data row6 col5\" >7</td>\n",
       "      <td id=\"T_19a70_row6_col6\" class=\"data row6 col6\" >7</td>\n",
       "      <td id=\"T_19a70_row6_col7\" class=\"data row6 col7\" >7</td>\n",
       "      <td id=\"T_19a70_row6_col8\" class=\"data row6 col8\" >8,00</td>\n",
       "      <td id=\"T_19a70_row6_col9\" class=\"data row6 col9\" >7</td>\n",
       "    </tr>\n",
       "    <tr>\n",
       "      <th id=\"T_19a70_level0_row7\" class=\"row_heading level0 row7\" >New Zealand</th>\n",
       "      <td id=\"T_19a70_row7_col0\" class=\"data row7 col0\" >9</td>\n",
       "      <td id=\"T_19a70_row7_col1\" class=\"data row7 col1\" >8</td>\n",
       "      <td id=\"T_19a70_row7_col2\" class=\"data row7 col2\" >8</td>\n",
       "      <td id=\"T_19a70_row7_col3\" class=\"data row7 col3\" >8</td>\n",
       "      <td id=\"T_19a70_row7_col4\" class=\"data row7 col4\" >8</td>\n",
       "      <td id=\"T_19a70_row7_col5\" class=\"data row7 col5\" >8</td>\n",
       "      <td id=\"T_19a70_row7_col6\" class=\"data row7 col6\" >9</td>\n",
       "      <td id=\"T_19a70_row7_col7\" class=\"data row7 col7\" >10</td>\n",
       "      <td id=\"T_19a70_row7_col8\" class=\"data row7 col8\" >8,50</td>\n",
       "      <td id=\"T_19a70_row7_col9\" class=\"data row7 col9\" >8</td>\n",
       "    </tr>\n",
       "    <tr>\n",
       "      <th id=\"T_19a70_level0_row8\" class=\"row_heading level0 row8\" >Canada</th>\n",
       "      <td id=\"T_19a70_row8_col0\" class=\"data row8 col0\" >5</td>\n",
       "      <td id=\"T_19a70_row8_col1\" class=\"data row8 col1\" >6</td>\n",
       "      <td id=\"T_19a70_row8_col2\" class=\"data row8 col2\" >7</td>\n",
       "      <td id=\"T_19a70_row8_col3\" class=\"data row8 col3\" >7</td>\n",
       "      <td id=\"T_19a70_row8_col4\" class=\"data row8 col4\" >9</td>\n",
       "      <td id=\"T_19a70_row8_col5\" class=\"data row8 col5\" >11</td>\n",
       "      <td id=\"T_19a70_row8_col6\" class=\"data row8 col6\" >14</td>\n",
       "      <td id=\"T_19a70_row8_col7\" class=\"data row8 col7\" >15</td>\n",
       "      <td id=\"T_19a70_row8_col8\" class=\"data row8 col8\" >9,25</td>\n",
       "      <td id=\"T_19a70_row8_col9\" class=\"data row8 col9\" >9</td>\n",
       "    </tr>\n",
       "    <tr>\n",
       "      <th id=\"T_19a70_level0_row9\" class=\"row_heading level0 row9\" >Australia</th>\n",
       "      <td id=\"T_19a70_row9_col0\" class=\"data row9 col0\" >10</td>\n",
       "      <td id=\"T_19a70_row9_col1\" class=\"data row9 col1\" >9</td>\n",
       "      <td id=\"T_19a70_row9_col2\" class=\"data row9 col2\" >10</td>\n",
       "      <td id=\"T_19a70_row9_col3\" class=\"data row9 col3\" >10</td>\n",
       "      <td id=\"T_19a70_row9_col4\" class=\"data row9 col4\" >11</td>\n",
       "      <td id=\"T_19a70_row9_col5\" class=\"data row9 col5\" >12</td>\n",
       "      <td id=\"T_19a70_row9_col6\" class=\"data row9 col6\" >11</td>\n",
       "      <td id=\"T_19a70_row9_col7\" class=\"data row9 col7\" >12</td>\n",
       "      <td id=\"T_19a70_row9_col8\" class=\"data row9 col8\" >10,62</td>\n",
       "      <td id=\"T_19a70_row9_col9\" class=\"data row9 col9\" >10</td>\n",
       "    </tr>\n",
       "    <tr>\n",
       "      <th id=\"T_19a70_level0_row10\" class=\"row_heading level0 row10\" >Austria</th>\n",
       "      <td id=\"T_19a70_row10_col0\" class=\"data row10 col0\" >13</td>\n",
       "      <td id=\"T_19a70_row10_col1\" class=\"data row10 col1\" >12</td>\n",
       "      <td id=\"T_19a70_row10_col2\" class=\"data row10 col2\" >13</td>\n",
       "      <td id=\"T_19a70_row10_col3\" class=\"data row10 col3\" >12</td>\n",
       "      <td id=\"T_19a70_row10_col4\" class=\"data row10 col4\" >10</td>\n",
       "      <td id=\"T_19a70_row10_col5\" class=\"data row10 col5\" >9</td>\n",
       "      <td id=\"T_19a70_row10_col6\" class=\"data row10 col6\" >10</td>\n",
       "      <td id=\"T_19a70_row10_col7\" class=\"data row10 col7\" >11</td>\n",
       "      <td id=\"T_19a70_row10_col8\" class=\"data row10 col8\" >11,25</td>\n",
       "      <td id=\"T_19a70_row10_col9\" class=\"data row10 col9\" >11</td>\n",
       "    </tr>\n",
       "    <tr>\n",
       "      <th id=\"T_19a70_level0_row11\" class=\"row_heading level0 row11\" >Israel</th>\n",
       "      <td id=\"T_19a70_row11_col0\" class=\"data row11 col0\" >11</td>\n",
       "      <td id=\"T_19a70_row11_col1\" class=\"data row11 col1\" >11</td>\n",
       "      <td id=\"T_19a70_row11_col2\" class=\"data row11 col2\" >11</td>\n",
       "      <td id=\"T_19a70_row11_col3\" class=\"data row11 col3\" >19</td>\n",
       "      <td id=\"T_19a70_row11_col4\" class=\"data row11 col4\" >13</td>\n",
       "      <td id=\"T_19a70_row11_col5\" class=\"data row11 col5\" >14</td>\n",
       "      <td id=\"T_19a70_row11_col6\" class=\"data row11 col6\" >12</td>\n",
       "      <td id=\"T_19a70_row11_col7\" class=\"data row11 col7\" >9</td>\n",
       "      <td id=\"T_19a70_row11_col8\" class=\"data row11 col8\" >12,50</td>\n",
       "      <td id=\"T_19a70_row11_col9\" class=\"data row11 col9\" >12</td>\n",
       "    </tr>\n",
       "    <tr>\n",
       "      <th id=\"T_19a70_level0_row12\" class=\"row_heading level0 row12\" >Costa Rica</th>\n",
       "      <td id=\"T_19a70_row12_col0\" class=\"data row12 col0\" >12</td>\n",
       "      <td id=\"T_19a70_row12_col1\" class=\"data row12 col1\" >14</td>\n",
       "      <td id=\"T_19a70_row12_col2\" class=\"data row12 col2\" >12</td>\n",
       "      <td id=\"T_19a70_row12_col3\" class=\"data row12 col3\" >13</td>\n",
       "      <td id=\"T_19a70_row12_col4\" class=\"data row12 col4\" >12</td>\n",
       "      <td id=\"T_19a70_row12_col5\" class=\"data row12 col5\" >15</td>\n",
       "      <td id=\"T_19a70_row12_col6\" class=\"data row12 col6\" >16</td>\n",
       "      <td id=\"T_19a70_row12_col7\" class=\"data row12 col7\" >23</td>\n",
       "      <td id=\"T_19a70_row12_col8\" class=\"data row12 col8\" >14,62</td>\n",
       "      <td id=\"T_19a70_row12_col9\" class=\"data row12 col9\" >13</td>\n",
       "    </tr>\n",
       "    <tr>\n",
       "      <th id=\"T_19a70_level0_row13\" class=\"row_heading level0 row13\" >Ireland</th>\n",
       "      <td id=\"T_19a70_row13_col0\" class=\"data row13 col0\" >18</td>\n",
       "      <td id=\"T_19a70_row13_col1\" class=\"data row13 col1\" >19</td>\n",
       "      <td id=\"T_19a70_row13_col2\" class=\"data row13 col2\" >15</td>\n",
       "      <td id=\"T_19a70_row13_col3\" class=\"data row13 col3\" >14</td>\n",
       "      <td id=\"T_19a70_row13_col4\" class=\"data row13 col4\" >16</td>\n",
       "      <td id=\"T_19a70_row13_col5\" class=\"data row13 col5\" >16</td>\n",
       "      <td id=\"T_19a70_row13_col6\" class=\"data row13 col6\" >15</td>\n",
       "      <td id=\"T_19a70_row13_col7\" class=\"data row13 col7\" >13</td>\n",
       "      <td id=\"T_19a70_row13_col8\" class=\"data row13 col8\" >15,75</td>\n",
       "      <td id=\"T_19a70_row13_col9\" class=\"data row13 col9\" >14</td>\n",
       "    </tr>\n",
       "    <tr>\n",
       "      <th id=\"T_19a70_level0_row14\" class=\"row_heading level0 row14\" >United States</th>\n",
       "      <td id=\"T_19a70_row14_col0\" class=\"data row14 col0\" >15</td>\n",
       "      <td id=\"T_19a70_row14_col1\" class=\"data row14 col1\" >13</td>\n",
       "      <td id=\"T_19a70_row14_col2\" class=\"data row14 col2\" >14</td>\n",
       "      <td id=\"T_19a70_row14_col3\" class=\"data row14 col3\" >18</td>\n",
       "      <td id=\"T_19a70_row14_col4\" class=\"data row14 col4\" >19</td>\n",
       "      <td id=\"T_19a70_row14_col5\" class=\"data row14 col5\" >18</td>\n",
       "      <td id=\"T_19a70_row14_col6\" class=\"data row14 col6\" >19</td>\n",
       "      <td id=\"T_19a70_row14_col7\" class=\"data row14 col7\" >16</td>\n",
       "      <td id=\"T_19a70_row14_col8\" class=\"data row14 col8\" >16,50</td>\n",
       "      <td id=\"T_19a70_row14_col9\" class=\"data row14 col9\" >15</td>\n",
       "    </tr>\n",
       "    <tr>\n",
       "      <th id=\"T_19a70_level0_row15\" class=\"row_heading level0 row15\" >Germany</th>\n",
       "      <td id=\"T_19a70_row15_col0\" class=\"data row15 col0\" >26</td>\n",
       "      <td id=\"T_19a70_row15_col1\" class=\"data row15 col1\" >16</td>\n",
       "      <td id=\"T_19a70_row15_col2\" class=\"data row15 col2\" >16</td>\n",
       "      <td id=\"T_19a70_row15_col3\" class=\"data row15 col3\" >15</td>\n",
       "      <td id=\"T_19a70_row15_col4\" class=\"data row15 col4\" >17</td>\n",
       "      <td id=\"T_19a70_row15_col5\" class=\"data row15 col5\" >17</td>\n",
       "      <td id=\"T_19a70_row15_col6\" class=\"data row15 col6\" >13</td>\n",
       "      <td id=\"T_19a70_row15_col7\" class=\"data row15 col7\" >14</td>\n",
       "      <td id=\"T_19a70_row15_col8\" class=\"data row15 col8\" >16,75</td>\n",
       "      <td id=\"T_19a70_row15_col9\" class=\"data row15 col9\" >16</td>\n",
       "    </tr>\n",
       "    <tr>\n",
       "      <th id=\"T_19a70_level0_row16\" class=\"row_heading level0 row16\" >United Kingdom</th>\n",
       "      <td id=\"T_19a70_row16_col0\" class=\"data row16 col0\" >21</td>\n",
       "      <td id=\"T_19a70_row16_col1\" class=\"data row16 col1\" >23</td>\n",
       "      <td id=\"T_19a70_row16_col2\" class=\"data row16 col2\" >19</td>\n",
       "      <td id=\"T_19a70_row16_col3\" class=\"data row16 col3\" >11</td>\n",
       "      <td id=\"T_19a70_row16_col4\" class=\"data row16 col4\" >15</td>\n",
       "      <td id=\"T_19a70_row16_col5\" class=\"data row16 col5\" >13</td>\n",
       "      <td id=\"T_19a70_row16_col6\" class=\"data row16 col6\" >17</td>\n",
       "      <td id=\"T_19a70_row16_col7\" class=\"data row16 col7\" >17</td>\n",
       "      <td id=\"T_19a70_row16_col8\" class=\"data row16 col8\" >17,00</td>\n",
       "      <td id=\"T_19a70_row16_col9\" class=\"data row16 col9\" >17</td>\n",
       "    </tr>\n",
       "    <tr>\n",
       "      <th id=\"T_19a70_level0_row17\" class=\"row_heading level0 row17\" >Belgium</th>\n",
       "      <td id=\"T_19a70_row17_col0\" class=\"data row17 col0\" >19</td>\n",
       "      <td id=\"T_19a70_row17_col1\" class=\"data row17 col1\" >18</td>\n",
       "      <td id=\"T_19a70_row17_col2\" class=\"data row17 col2\" >17</td>\n",
       "      <td id=\"T_19a70_row17_col3\" class=\"data row17 col3\" >16</td>\n",
       "      <td id=\"T_19a70_row17_col4\" class=\"data row17 col4\" >18</td>\n",
       "      <td id=\"T_19a70_row17_col5\" class=\"data row17 col5\" >20</td>\n",
       "      <td id=\"T_19a70_row17_col6\" class=\"data row17 col6\" >20</td>\n",
       "      <td id=\"T_19a70_row17_col7\" class=\"data row17 col7\" >19</td>\n",
       "      <td id=\"T_19a70_row17_col8\" class=\"data row17 col8\" >18,38</td>\n",
       "      <td id=\"T_19a70_row17_col9\" class=\"data row17 col9\" >18</td>\n",
       "    </tr>\n",
       "    <tr>\n",
       "      <th id=\"T_19a70_level0_row18\" class=\"row_heading level0 row18\" >United Arab Emirates</th>\n",
       "      <td id=\"T_19a70_row18_col0\" class=\"data row18 col0\" >20</td>\n",
       "      <td id=\"T_19a70_row18_col1\" class=\"data row18 col1\" >28</td>\n",
       "      <td id=\"T_19a70_row18_col2\" class=\"data row18 col2\" >21</td>\n",
       "      <td id=\"T_19a70_row18_col3\" class=\"data row18 col3\" >20</td>\n",
       "      <td id=\"T_19a70_row18_col4\" class=\"data row18 col4\" >21</td>\n",
       "      <td id=\"T_19a70_row18_col5\" class=\"data row18 col5\" >21</td>\n",
       "      <td id=\"T_19a70_row18_col6\" class=\"data row18 col6\" >25</td>\n",
       "      <td id=\"T_19a70_row18_col7\" class=\"data row18 col7\" >24</td>\n",
       "      <td id=\"T_19a70_row18_col8\" class=\"data row18 col8\" >22,50</td>\n",
       "      <td id=\"T_19a70_row18_col9\" class=\"data row18 col9\" >19</td>\n",
       "    </tr>\n",
       "    <tr>\n",
       "      <th id=\"T_19a70_level0_row19\" class=\"row_heading level0 row19\" >France</th>\n",
       "      <td id=\"T_19a70_row19_col0\" class=\"data row19 col0\" >29</td>\n",
       "      <td id=\"T_19a70_row19_col1\" class=\"data row19 col1\" >32</td>\n",
       "      <td id=\"T_19a70_row19_col2\" class=\"data row19 col2\" >31</td>\n",
       "      <td id=\"T_19a70_row19_col3\" class=\"data row19 col3\" >23</td>\n",
       "      <td id=\"T_19a70_row19_col4\" class=\"data row19 col4\" >24</td>\n",
       "      <td id=\"T_19a70_row19_col5\" class=\"data row19 col5\" >23</td>\n",
       "      <td id=\"T_19a70_row19_col6\" class=\"data row19 col6\" >21</td>\n",
       "      <td id=\"T_19a70_row19_col7\" class=\"data row19 col7\" >20</td>\n",
       "      <td id=\"T_19a70_row19_col8\" class=\"data row19 col8\" >25,38</td>\n",
       "      <td id=\"T_19a70_row19_col9\" class=\"data row19 col9\" >20</td>\n",
       "    </tr>\n",
       "    <tr>\n",
       "      <th id=\"T_19a70_level0_row20\" class=\"row_heading level0 row20\" >Mexico</th>\n",
       "      <td id=\"T_19a70_row20_col0\" class=\"data row20 col0\" >14</td>\n",
       "      <td id=\"T_19a70_row20_col1\" class=\"data row20 col1\" >21</td>\n",
       "      <td id=\"T_19a70_row20_col2\" class=\"data row20 col2\" >25</td>\n",
       "      <td id=\"T_19a70_row20_col3\" class=\"data row20 col3\" >24</td>\n",
       "      <td id=\"T_19a70_row20_col4\" class=\"data row20 col4\" >23</td>\n",
       "      <td id=\"T_19a70_row20_col5\" class=\"data row20 col5\" >24</td>\n",
       "      <td id=\"T_19a70_row20_col6\" class=\"data row20 col6\" >36</td>\n",
       "      <td id=\"T_19a70_row20_col7\" class=\"data row20 col7\" >46</td>\n",
       "      <td id=\"T_19a70_row20_col8\" class=\"data row20 col8\" >26,62</td>\n",
       "      <td id=\"T_19a70_row20_col9\" class=\"data row20 col9\" >21</td>\n",
       "    </tr>\n",
       "    <tr>\n",
       "      <th id=\"T_19a70_level0_row21\" class=\"row_heading level0 row21\" >Malta</th>\n",
       "      <td id=\"T_19a70_row21_col0\" class=\"data row21 col0\" >37</td>\n",
       "      <td id=\"T_19a70_row21_col1\" class=\"data row21 col1\" >30</td>\n",
       "      <td id=\"T_19a70_row21_col2\" class=\"data row21 col2\" >27</td>\n",
       "      <td id=\"T_19a70_row21_col3\" class=\"data row21 col3\" >22</td>\n",
       "      <td id=\"T_19a70_row21_col4\" class=\"data row21 col4\" >22</td>\n",
       "      <td id=\"T_19a70_row21_col5\" class=\"data row21 col5\" >22</td>\n",
       "      <td id=\"T_19a70_row21_col6\" class=\"data row21 col6\" >23</td>\n",
       "      <td id=\"T_19a70_row21_col7\" class=\"data row21 col7\" >33</td>\n",
       "      <td id=\"T_19a70_row21_col8\" class=\"data row21 col8\" >27,00</td>\n",
       "      <td id=\"T_19a70_row21_col9\" class=\"data row21 col9\" >22</td>\n",
       "    </tr>\n",
       "    <tr>\n",
       "      <th id=\"T_19a70_level0_row22\" class=\"row_heading level0 row22\" >Brazil</th>\n",
       "      <td id=\"T_19a70_row22_col0\" class=\"data row22 col0\" >16</td>\n",
       "      <td id=\"T_19a70_row22_col1\" class=\"data row22 col1\" >17</td>\n",
       "      <td id=\"T_19a70_row22_col2\" class=\"data row22 col2\" >22</td>\n",
       "      <td id=\"T_19a70_row22_col3\" class=\"data row22 col3\" >28</td>\n",
       "      <td id=\"T_19a70_row22_col4\" class=\"data row22 col4\" >32</td>\n",
       "      <td id=\"T_19a70_row22_col5\" class=\"data row22 col5\" >32</td>\n",
       "      <td id=\"T_19a70_row22_col6\" class=\"data row22 col6\" >35</td>\n",
       "      <td id=\"T_19a70_row22_col7\" class=\"data row22 col7\" >38</td>\n",
       "      <td id=\"T_19a70_row22_col8\" class=\"data row22 col8\" >27,50</td>\n",
       "      <td id=\"T_19a70_row22_col9\" class=\"data row22 col9\" >23</td>\n",
       "    </tr>\n",
       "    <tr>\n",
       "      <th id=\"T_19a70_level0_row23\" class=\"row_heading level0 row23\" >Singapore</th>\n",
       "      <td id=\"T_19a70_row23_col0\" class=\"data row23 col0\" >24</td>\n",
       "      <td id=\"T_19a70_row23_col1\" class=\"data row23 col1\" >22</td>\n",
       "      <td id=\"T_19a70_row23_col2\" class=\"data row23 col2\" >26</td>\n",
       "      <td id=\"T_19a70_row23_col3\" class=\"data row23 col3\" >34</td>\n",
       "      <td id=\"T_19a70_row23_col4\" class=\"data row23 col4\" >34</td>\n",
       "      <td id=\"T_19a70_row23_col5\" class=\"data row23 col5\" >31</td>\n",
       "      <td id=\"T_19a70_row23_col6\" class=\"data row23 col6\" >32</td>\n",
       "      <td id=\"T_19a70_row23_col7\" class=\"data row23 col7\" >27</td>\n",
       "      <td id=\"T_19a70_row23_col8\" class=\"data row23 col8\" >28,75</td>\n",
       "      <td id=\"T_19a70_row23_col9\" class=\"data row23 col9\" >24</td>\n",
       "    </tr>\n",
       "    <tr>\n",
       "      <th id=\"T_19a70_level0_row24\" class=\"row_heading level0 row24\" >Uruguay</th>\n",
       "      <td id=\"T_19a70_row24_col0\" class=\"data row24 col0\" >32</td>\n",
       "      <td id=\"T_19a70_row24_col1\" class=\"data row24 col1\" >29</td>\n",
       "      <td id=\"T_19a70_row24_col2\" class=\"data row24 col2\" >28</td>\n",
       "      <td id=\"T_19a70_row24_col3\" class=\"data row24 col3\" >31</td>\n",
       "      <td id=\"T_19a70_row24_col4\" class=\"data row24 col4\" >33</td>\n",
       "      <td id=\"T_19a70_row24_col5\" class=\"data row24 col5\" >26</td>\n",
       "      <td id=\"T_19a70_row24_col6\" class=\"data row24 col6\" >31</td>\n",
       "      <td id=\"T_19a70_row24_col7\" class=\"data row24 col7\" >30</td>\n",
       "      <td id=\"T_19a70_row24_col8\" class=\"data row24 col8\" >30,00</td>\n",
       "      <td id=\"T_19a70_row24_col9\" class=\"data row24 col9\" >25</td>\n",
       "    </tr>\n",
       "    <tr>\n",
       "      <th id=\"T_19a70_level0_row25\" class=\"row_heading level0 row25\" >Saudi Arabia</th>\n",
       "      <td id=\"T_19a70_row25_col0\" class=\"data row25 col0\" >35</td>\n",
       "      <td id=\"T_19a70_row25_col1\" class=\"data row25 col1\" >34</td>\n",
       "      <td id=\"T_19a70_row25_col2\" class=\"data row25 col2\" >37</td>\n",
       "      <td id=\"T_19a70_row25_col3\" class=\"data row25 col3\" >33</td>\n",
       "      <td id=\"T_19a70_row25_col4\" class=\"data row25 col4\" >28</td>\n",
       "      <td id=\"T_19a70_row25_col5\" class=\"data row25 col5\" >27</td>\n",
       "      <td id=\"T_19a70_row25_col6\" class=\"data row25 col6\" >26</td>\n",
       "      <td id=\"T_19a70_row25_col7\" class=\"data row25 col7\" >25</td>\n",
       "      <td id=\"T_19a70_row25_col8\" class=\"data row25 col8\" >30,62</td>\n",
       "      <td id=\"T_19a70_row25_col9\" class=\"data row25 col9\" >26</td>\n",
       "    </tr>\n",
       "    <tr>\n",
       "      <th id=\"T_19a70_level0_row26\" class=\"row_heading level0 row26\" >Chile</th>\n",
       "      <td id=\"T_19a70_row26_col0\" class=\"data row26 col0\" >27</td>\n",
       "      <td id=\"T_19a70_row26_col1\" class=\"data row26 col1\" >24</td>\n",
       "      <td id=\"T_19a70_row26_col2\" class=\"data row26 col2\" >20</td>\n",
       "      <td id=\"T_19a70_row26_col3\" class=\"data row26 col3\" >25</td>\n",
       "      <td id=\"T_19a70_row26_col4\" class=\"data row26 col4\" >26</td>\n",
       "      <td id=\"T_19a70_row26_col5\" class=\"data row26 col5\" >39</td>\n",
       "      <td id=\"T_19a70_row26_col6\" class=\"data row26 col6\" >43</td>\n",
       "      <td id=\"T_19a70_row26_col7\" class=\"data row26 col7\" >44</td>\n",
       "      <td id=\"T_19a70_row26_col8\" class=\"data row26 col8\" >31,00</td>\n",
       "      <td id=\"T_19a70_row26_col9\" class=\"data row26 col9\" >27</td>\n",
       "    </tr>\n",
       "    <tr>\n",
       "      <th id=\"T_19a70_level0_row27\" class=\"row_heading level0 row27\" >Panama</th>\n",
       "      <td id=\"T_19a70_row27_col0\" class=\"data row27 col0\" >25</td>\n",
       "      <td id=\"T_19a70_row27_col1\" class=\"data row27 col1\" >25</td>\n",
       "      <td id=\"T_19a70_row27_col2\" class=\"data row27 col2\" >30</td>\n",
       "      <td id=\"T_19a70_row27_col3\" class=\"data row27 col3\" >27</td>\n",
       "      <td id=\"T_19a70_row27_col4\" class=\"data row27 col4\" >31</td>\n",
       "      <td id=\"T_19a70_row27_col5\" class=\"data row27 col5\" >36</td>\n",
       "      <td id=\"T_19a70_row27_col6\" class=\"data row27 col6\" >41</td>\n",
       "      <td id=\"T_19a70_row27_col7\" class=\"data row27 col7\" >37</td>\n",
       "      <td id=\"T_19a70_row27_col8\" class=\"data row27 col8\" >31,50</td>\n",
       "      <td id=\"T_19a70_row27_col9\" class=\"data row27 col9\" >28</td>\n",
       "    </tr>\n",
       "    <tr>\n",
       "      <th id=\"T_19a70_level0_row28\" class=\"row_heading level0 row28\" >Spain</th>\n",
       "      <td id=\"T_19a70_row28_col0\" class=\"data row28 col0\" >36</td>\n",
       "      <td id=\"T_19a70_row28_col1\" class=\"data row28 col1\" >37</td>\n",
       "      <td id=\"T_19a70_row28_col2\" class=\"data row28 col2\" >34</td>\n",
       "      <td id=\"T_19a70_row28_col3\" class=\"data row28 col3\" >36</td>\n",
       "      <td id=\"T_19a70_row28_col4\" class=\"data row28 col4\" >30</td>\n",
       "      <td id=\"T_19a70_row28_col5\" class=\"data row28 col5\" >28</td>\n",
       "      <td id=\"T_19a70_row28_col6\" class=\"data row28 col6\" >27</td>\n",
       "      <td id=\"T_19a70_row28_col7\" class=\"data row28 col7\" >29</td>\n",
       "      <td id=\"T_19a70_row28_col8\" class=\"data row28 col8\" >32,12</td>\n",
       "      <td id=\"T_19a70_row28_col9\" class=\"data row28 col9\" >29</td>\n",
       "    </tr>\n",
       "    <tr>\n",
       "      <th id=\"T_19a70_level0_row29\" class=\"row_heading level0 row29\" >Bahrain</th>\n",
       "      <td id=\"T_19a70_row29_col0\" class=\"data row29 col0\" >49</td>\n",
       "      <td id=\"T_19a70_row29_col1\" class=\"data row29 col1\" >42</td>\n",
       "      <td id=\"T_19a70_row29_col2\" class=\"data row29 col2\" >41</td>\n",
       "      <td id=\"T_19a70_row29_col3\" class=\"data row29 col3\" >43</td>\n",
       "      <td id=\"T_19a70_row29_col4\" class=\"data row29 col4\" >37</td>\n",
       "      <td id=\"T_19a70_row29_col5\" class=\"data row29 col5\" >40</td>\n",
       "      <td id=\"T_19a70_row29_col6\" class=\"data row29 col6\" >22</td>\n",
       "      <td id=\"T_19a70_row29_col7\" class=\"data row29 col7\" >21</td>\n",
       "      <td id=\"T_19a70_row29_col8\" class=\"data row29 col8\" >36,88</td>\n",
       "      <td id=\"T_19a70_row29_col9\" class=\"data row29 col9\" >30</td>\n",
       "    </tr>\n",
       "    <tr>\n",
       "      <th id=\"T_19a70_level0_row30\" class=\"row_heading level0 row30\" >Slovakia</th>\n",
       "      <td id=\"T_19a70_row30_col0\" class=\"data row30 col0\" >45</td>\n",
       "      <td id=\"T_19a70_row30_col1\" class=\"data row30 col1\" >45</td>\n",
       "      <td id=\"T_19a70_row30_col2\" class=\"data row30 col2\" >40</td>\n",
       "      <td id=\"T_19a70_row30_col3\" class=\"data row30 col3\" >39</td>\n",
       "      <td id=\"T_19a70_row30_col4\" class=\"data row30 col4\" >38</td>\n",
       "      <td id=\"T_19a70_row30_col5\" class=\"data row30 col5\" >37</td>\n",
       "      <td id=\"T_19a70_row30_col6\" class=\"data row30 col6\" >34</td>\n",
       "      <td id=\"T_19a70_row30_col7\" class=\"data row30 col7\" >35</td>\n",
       "      <td id=\"T_19a70_row30_col8\" class=\"data row30 col8\" >39,12</td>\n",
       "      <td id=\"T_19a70_row30_col9\" class=\"data row30 col9\" >31</td>\n",
       "    </tr>\n",
       "    <tr>\n",
       "      <th id=\"T_19a70_level0_row31\" class=\"row_heading level0 row31\" >Italy</th>\n",
       "      <td id=\"T_19a70_row31_col0\" class=\"data row31 col0\" >50</td>\n",
       "      <td id=\"T_19a70_row31_col1\" class=\"data row31 col1\" >50</td>\n",
       "      <td id=\"T_19a70_row31_col2\" class=\"data row31 col2\" >48</td>\n",
       "      <td id=\"T_19a70_row31_col3\" class=\"data row31 col3\" >47</td>\n",
       "      <td id=\"T_19a70_row31_col4\" class=\"data row31 col4\" >36</td>\n",
       "      <td id=\"T_19a70_row31_col5\" class=\"data row31 col5\" >30</td>\n",
       "      <td id=\"T_19a70_row31_col6\" class=\"data row31 col6\" >28</td>\n",
       "      <td id=\"T_19a70_row31_col7\" class=\"data row31 col7\" >31</td>\n",
       "      <td id=\"T_19a70_row31_col8\" class=\"data row31 col8\" >40,00</td>\n",
       "      <td id=\"T_19a70_row31_col9\" class=\"data row31 col9\" >32</td>\n",
       "    </tr>\n",
       "    <tr>\n",
       "      <th id=\"T_19a70_level0_row32\" class=\"row_heading level0 row32\" >Argentina</th>\n",
       "      <td id=\"T_19a70_row32_col0\" class=\"data row32 col0\" >30</td>\n",
       "      <td id=\"T_19a70_row32_col1\" class=\"data row32 col1\" >26</td>\n",
       "      <td id=\"T_19a70_row32_col2\" class=\"data row32 col2\" >24</td>\n",
       "      <td id=\"T_19a70_row32_col3\" class=\"data row32 col3\" >29</td>\n",
       "      <td id=\"T_19a70_row32_col4\" class=\"data row32 col4\" >47</td>\n",
       "      <td id=\"T_19a70_row32_col5\" class=\"data row32 col5\" >55</td>\n",
       "      <td id=\"T_19a70_row32_col6\" class=\"data row32 col6\" >57</td>\n",
       "      <td id=\"T_19a70_row32_col7\" class=\"data row32 col7\" >57</td>\n",
       "      <td id=\"T_19a70_row32_col8\" class=\"data row32 col8\" >40,62</td>\n",
       "      <td id=\"T_19a70_row32_col9\" class=\"data row32 col9\" >33</td>\n",
       "    </tr>\n",
       "    <tr>\n",
       "      <th id=\"T_19a70_level0_row33\" class=\"row_heading level0 row33\" >El Salvador</th>\n",
       "      <td id=\"T_19a70_row33_col0\" class=\"data row33 col0\" >42</td>\n",
       "      <td id=\"T_19a70_row33_col1\" class=\"data row33 col1\" >46</td>\n",
       "      <td id=\"T_19a70_row33_col2\" class=\"data row33 col2\" >45</td>\n",
       "      <td id=\"T_19a70_row33_col3\" class=\"data row33 col3\" >40</td>\n",
       "      <td id=\"T_19a70_row33_col4\" class=\"data row33 col4\" >35</td>\n",
       "      <td id=\"T_19a70_row33_col5\" class=\"data row33 col5\" >34</td>\n",
       "      <td id=\"T_19a70_row33_col6\" class=\"data row33 col6\" >49</td>\n",
       "      <td id=\"T_19a70_row33_col7\" class=\"data row33 col7\" >49</td>\n",
       "      <td id=\"T_19a70_row33_col8\" class=\"data row33 col8\" >42,50</td>\n",
       "      <td id=\"T_19a70_row33_col9\" class=\"data row33 col9\" >34</td>\n",
       "    </tr>\n",
       "    <tr>\n",
       "      <th id=\"T_19a70_level0_row34\" class=\"row_heading level0 row34\" >Colombia</th>\n",
       "      <td id=\"T_19a70_row34_col0\" class=\"data row34 col0\" >33</td>\n",
       "      <td id=\"T_19a70_row34_col1\" class=\"data row34 col1\" >31</td>\n",
       "      <td id=\"T_19a70_row34_col2\" class=\"data row34 col2\" >36</td>\n",
       "      <td id=\"T_19a70_row34_col3\" class=\"data row34 col3\" >37</td>\n",
       "      <td id=\"T_19a70_row34_col4\" class=\"data row34 col4\" >43</td>\n",
       "      <td id=\"T_19a70_row34_col5\" class=\"data row34 col5\" >44</td>\n",
       "      <td id=\"T_19a70_row34_col6\" class=\"data row34 col6\" >52</td>\n",
       "      <td id=\"T_19a70_row34_col7\" class=\"data row34 col7\" >66</td>\n",
       "      <td id=\"T_19a70_row34_col8\" class=\"data row34 col8\" >42,75</td>\n",
       "      <td id=\"T_19a70_row34_col9\" class=\"data row34 col9\" >35</td>\n",
       "    </tr>\n",
       "    <tr>\n",
       "      <th id=\"T_19a70_level0_row35\" class=\"row_heading level0 row35\" >Uzbekistan</th>\n",
       "      <td id=\"T_19a70_row35_col0\" class=\"data row35 col0\" >44</td>\n",
       "      <td id=\"T_19a70_row35_col1\" class=\"data row35 col1\" >49</td>\n",
       "      <td id=\"T_19a70_row35_col2\" class=\"data row35 col2\" >47</td>\n",
       "      <td id=\"T_19a70_row35_col3\" class=\"data row35 col3\" >44</td>\n",
       "      <td id=\"T_19a70_row35_col4\" class=\"data row35 col4\" >41</td>\n",
       "      <td id=\"T_19a70_row35_col5\" class=\"data row35 col5\" >38</td>\n",
       "      <td id=\"T_19a70_row35_col6\" class=\"data row35 col6\" >42</td>\n",
       "      <td id=\"T_19a70_row35_col7\" class=\"data row35 col7\" >53</td>\n",
       "      <td id=\"T_19a70_row35_col8\" class=\"data row35 col8\" >44,75</td>\n",
       "      <td id=\"T_19a70_row35_col9\" class=\"data row35 col9\" >36</td>\n",
       "    </tr>\n",
       "    <tr>\n",
       "      <th id=\"T_19a70_level0_row36\" class=\"row_heading level0 row36\" >Slovenia</th>\n",
       "      <td id=\"T_19a70_row36_col0\" class=\"data row36 col0\" >55</td>\n",
       "      <td id=\"T_19a70_row36_col1\" class=\"data row36 col1\" >63</td>\n",
       "      <td id=\"T_19a70_row36_col2\" class=\"data row36 col2\" >62</td>\n",
       "      <td id=\"T_19a70_row36_col3\" class=\"data row36 col3\" >51</td>\n",
       "      <td id=\"T_19a70_row36_col4\" class=\"data row36 col4\" >44</td>\n",
       "      <td id=\"T_19a70_row36_col5\" class=\"data row36 col5\" >33</td>\n",
       "      <td id=\"T_19a70_row36_col6\" class=\"data row36 col6\" >29</td>\n",
       "      <td id=\"T_19a70_row36_col7\" class=\"data row36 col7\" >22</td>\n",
       "      <td id=\"T_19a70_row36_col8\" class=\"data row36 col8\" >44,88</td>\n",
       "      <td id=\"T_19a70_row36_col9\" class=\"data row36 col9\" >37</td>\n",
       "    </tr>\n",
       "    <tr>\n",
       "      <th id=\"T_19a70_level0_row37\" class=\"row_heading level0 row37\" >Thailand</th>\n",
       "      <td id=\"T_19a70_row37_col0\" class=\"data row37 col0\" >34</td>\n",
       "      <td id=\"T_19a70_row37_col1\" class=\"data row37 col1\" >33</td>\n",
       "      <td id=\"T_19a70_row37_col2\" class=\"data row37 col2\" >32</td>\n",
       "      <td id=\"T_19a70_row37_col3\" class=\"data row37 col3\" >46</td>\n",
       "      <td id=\"T_19a70_row37_col4\" class=\"data row37 col4\" >52</td>\n",
       "      <td id=\"T_19a70_row37_col5\" class=\"data row37 col5\" >54</td>\n",
       "      <td id=\"T_19a70_row37_col6\" class=\"data row37 col6\" >54</td>\n",
       "      <td id=\"T_19a70_row37_col7\" class=\"data row37 col7\" >61</td>\n",
       "      <td id=\"T_19a70_row37_col8\" class=\"data row37 col8\" >45,75</td>\n",
       "      <td id=\"T_19a70_row37_col9\" class=\"data row37 col9\" >38</td>\n",
       "    </tr>\n",
       "    <tr>\n",
       "      <th id=\"T_19a70_level0_row38\" class=\"row_heading level0 row38\" >Lithuania</th>\n",
       "      <td id=\"T_19a70_row38_col0\" class=\"data row38 col0\" >56</td>\n",
       "      <td id=\"T_19a70_row38_col1\" class=\"data row38 col1\" >60</td>\n",
       "      <td id=\"T_19a70_row38_col2\" class=\"data row38 col2\" >52</td>\n",
       "      <td id=\"T_19a70_row38_col3\" class=\"data row38 col3\" >50</td>\n",
       "      <td id=\"T_19a70_row38_col4\" class=\"data row38 col4\" >42</td>\n",
       "      <td id=\"T_19a70_row38_col5\" class=\"data row38 col5\" >41</td>\n",
       "      <td id=\"T_19a70_row38_col6\" class=\"data row38 col6\" >38</td>\n",
       "      <td id=\"T_19a70_row38_col7\" class=\"data row38 col7\" >34</td>\n",
       "      <td id=\"T_19a70_row38_col8\" class=\"data row38 col8\" >46,62</td>\n",
       "      <td id=\"T_19a70_row38_col9\" class=\"data row38 col9\" >39</td>\n",
       "    </tr>\n",
       "    <tr>\n",
       "      <th id=\"T_19a70_level0_row39\" class=\"row_heading level0 row39\" >Nicaragua</th>\n",
       "      <td id=\"T_19a70_row39_col0\" class=\"data row39 col0\" >57</td>\n",
       "      <td id=\"T_19a70_row39_col1\" class=\"data row39 col1\" >48</td>\n",
       "      <td id=\"T_19a70_row39_col2\" class=\"data row39 col2\" >43</td>\n",
       "      <td id=\"T_19a70_row39_col3\" class=\"data row39 col3\" >41</td>\n",
       "      <td id=\"T_19a70_row39_col4\" class=\"data row39 col4\" >45</td>\n",
       "      <td id=\"T_19a70_row39_col5\" class=\"data row39 col5\" >46</td>\n",
       "      <td id=\"T_19a70_row39_col6\" class=\"data row39 col6\" >55</td>\n",
       "      <td id=\"T_19a70_row39_col7\" class=\"data row39 col7\" >45</td>\n",
       "      <td id=\"T_19a70_row39_col8\" class=\"data row39 col8\" >47,50</td>\n",
       "      <td id=\"T_19a70_row39_col9\" class=\"data row39 col9\" >40</td>\n",
       "    </tr>\n",
       "    <tr>\n",
       "      <th id=\"T_19a70_level0_row40\" class=\"row_heading level0 row40\" >Poland</th>\n",
       "      <td id=\"T_19a70_row40_col0\" class=\"data row40 col0\" >60</td>\n",
       "      <td id=\"T_19a70_row40_col1\" class=\"data row40 col1\" >57</td>\n",
       "      <td id=\"T_19a70_row40_col2\" class=\"data row40 col2\" >46</td>\n",
       "      <td id=\"T_19a70_row40_col3\" class=\"data row40 col3\" >42</td>\n",
       "      <td id=\"T_19a70_row40_col4\" class=\"data row40 col4\" >40</td>\n",
       "      <td id=\"T_19a70_row40_col5\" class=\"data row40 col5\" >43</td>\n",
       "      <td id=\"T_19a70_row40_col6\" class=\"data row40 col6\" >44</td>\n",
       "      <td id=\"T_19a70_row40_col7\" class=\"data row40 col7\" >48</td>\n",
       "      <td id=\"T_19a70_row40_col8\" class=\"data row40 col8\" >47,50</td>\n",
       "      <td id=\"T_19a70_row40_col9\" class=\"data row40 col9\" >41</td>\n",
       "    </tr>\n",
       "    <tr>\n",
       "      <th id=\"T_19a70_level0_row41\" class=\"row_heading level0 row41\" >Kazakhstan</th>\n",
       "      <td id=\"T_19a70_row41_col0\" class=\"data row41 col0\" >54</td>\n",
       "      <td id=\"T_19a70_row41_col1\" class=\"data row41 col1\" >54</td>\n",
       "      <td id=\"T_19a70_row41_col2\" class=\"data row41 col2\" >60</td>\n",
       "      <td id=\"T_19a70_row41_col3\" class=\"data row41 col3\" >60</td>\n",
       "      <td id=\"T_19a70_row41_col4\" class=\"data row41 col4\" >60</td>\n",
       "      <td id=\"T_19a70_row41_col5\" class=\"data row41 col5\" >50</td>\n",
       "      <td id=\"T_19a70_row41_col6\" class=\"data row41 col6\" >45</td>\n",
       "      <td id=\"T_19a70_row41_col7\" class=\"data row41 col7\" >40</td>\n",
       "      <td id=\"T_19a70_row41_col8\" class=\"data row41 col8\" >52,88</td>\n",
       "      <td id=\"T_19a70_row41_col9\" class=\"data row41 col9\" >42</td>\n",
       "    </tr>\n",
       "    <tr>\n",
       "      <th id=\"T_19a70_level0_row42\" class=\"row_heading level0 row42\" >Japan</th>\n",
       "      <td id=\"T_19a70_row42_col0\" class=\"data row42 col0\" >46</td>\n",
       "      <td id=\"T_19a70_row42_col1\" class=\"data row42 col1\" >53</td>\n",
       "      <td id=\"T_19a70_row42_col2\" class=\"data row42 col2\" >51</td>\n",
       "      <td id=\"T_19a70_row42_col3\" class=\"data row42 col3\" >54</td>\n",
       "      <td id=\"T_19a70_row42_col4\" class=\"data row42 col4\" >58</td>\n",
       "      <td id=\"T_19a70_row42_col5\" class=\"data row42 col5\" >62</td>\n",
       "      <td id=\"T_19a70_row42_col6\" class=\"data row42 col6\" >56</td>\n",
       "      <td id=\"T_19a70_row42_col7\" class=\"data row42 col7\" >54</td>\n",
       "      <td id=\"T_19a70_row42_col8\" class=\"data row42 col8\" >54,25</td>\n",
       "      <td id=\"T_19a70_row42_col9\" class=\"data row42 col9\" >43</td>\n",
       "    </tr>\n",
       "    <tr>\n",
       "      <th id=\"T_19a70_level0_row43\" class=\"row_heading level0 row43\" >Romania</th>\n",
       "      <td id=\"T_19a70_row43_col0\" class=\"data row43 col0\" >86</td>\n",
       "      <td id=\"T_19a70_row43_col1\" class=\"data row43 col1\" >71</td>\n",
       "      <td id=\"T_19a70_row43_col2\" class=\"data row43 col2\" >57</td>\n",
       "      <td id=\"T_19a70_row43_col3\" class=\"data row43 col3\" >52</td>\n",
       "      <td id=\"T_19a70_row43_col4\" class=\"data row43 col4\" >48</td>\n",
       "      <td id=\"T_19a70_row43_col5\" class=\"data row43 col5\" >47</td>\n",
       "      <td id=\"T_19a70_row43_col6\" class=\"data row43 col6\" >46</td>\n",
       "      <td id=\"T_19a70_row43_col7\" class=\"data row43 col7\" >28</td>\n",
       "      <td id=\"T_19a70_row43_col8\" class=\"data row43 col8\" >54,38</td>\n",
       "      <td id=\"T_19a70_row43_col9\" class=\"data row43 col9\" >44</td>\n",
       "    </tr>\n",
       "    <tr>\n",
       "      <th id=\"T_19a70_level0_row44\" class=\"row_heading level0 row44\" >Kosovo</th>\n",
       "      <td id=\"T_19a70_row44_col0\" class=\"data row44 col0\" >69</td>\n",
       "      <td id=\"T_19a70_row44_col1\" class=\"data row44 col1\" >77</td>\n",
       "      <td id=\"T_19a70_row44_col2\" class=\"data row44 col2\" >78</td>\n",
       "      <td id=\"T_19a70_row44_col3\" class=\"data row44 col3\" >66</td>\n",
       "      <td id=\"T_19a70_row44_col4\" class=\"data row44 col4\" >46</td>\n",
       "      <td id=\"T_19a70_row44_col5\" class=\"data row44 col5\" >35</td>\n",
       "      <td id=\"T_19a70_row44_col6\" class=\"data row44 col6\" >33</td>\n",
       "      <td id=\"T_19a70_row44_col7\" class=\"data row44 col7\" >32</td>\n",
       "      <td id=\"T_19a70_row44_col8\" class=\"data row44 col8\" >54,50</td>\n",
       "      <td id=\"T_19a70_row44_col9\" class=\"data row44 col9\" >45</td>\n",
       "    </tr>\n",
       "    <tr>\n",
       "      <th id=\"T_19a70_level0_row45\" class=\"row_heading level0 row45\" >Cyprus</th>\n",
       "      <td id=\"T_19a70_row45_col0\" class=\"data row45 col0\" >67</td>\n",
       "      <td id=\"T_19a70_row45_col1\" class=\"data row45 col1\" >69</td>\n",
       "      <td id=\"T_19a70_row45_col2\" class=\"data row45 col2\" >65</td>\n",
       "      <td id=\"T_19a70_row45_col3\" class=\"data row45 col3\" >61</td>\n",
       "      <td id=\"T_19a70_row45_col4\" class=\"data row45 col4\" >49</td>\n",
       "      <td id=\"T_19a70_row45_col5\" class=\"data row45 col5\" >45</td>\n",
       "      <td id=\"T_19a70_row45_col6\" class=\"data row45 col6\" >39</td>\n",
       "      <td id=\"T_19a70_row45_col7\" class=\"data row45 col7\" >41</td>\n",
       "      <td id=\"T_19a70_row45_col8\" class=\"data row45 col8\" >54,50</td>\n",
       "      <td id=\"T_19a70_row45_col9\" class=\"data row45 col9\" >46</td>\n",
       "    </tr>\n",
       "    <tr>\n",
       "      <th id=\"T_19a70_level0_row46\" class=\"row_heading level0 row46\" >Ecuador</th>\n",
       "      <td id=\"T_19a70_row46_col0\" class=\"data row46 col0\" >48</td>\n",
       "      <td id=\"T_19a70_row46_col1\" class=\"data row46 col1\" >51</td>\n",
       "      <td id=\"T_19a70_row46_col2\" class=\"data row46 col2\" >44</td>\n",
       "      <td id=\"T_19a70_row46_col3\" class=\"data row46 col3\" >48</td>\n",
       "      <td id=\"T_19a70_row46_col4\" class=\"data row46 col4\" >50</td>\n",
       "      <td id=\"T_19a70_row46_col5\" class=\"data row46 col5\" >58</td>\n",
       "      <td id=\"T_19a70_row46_col6\" class=\"data row46 col6\" >66</td>\n",
       "      <td id=\"T_19a70_row46_col7\" class=\"data row46 col7\" >76</td>\n",
       "      <td id=\"T_19a70_row46_col8\" class=\"data row46 col8\" >55,12</td>\n",
       "      <td id=\"T_19a70_row46_col9\" class=\"data row46 col9\" >47</td>\n",
       "    </tr>\n",
       "    <tr>\n",
       "      <th id=\"T_19a70_level0_row47\" class=\"row_heading level0 row47\" >South Korea</th>\n",
       "      <td id=\"T_19a70_row47_col0\" class=\"data row47 col0\" >47</td>\n",
       "      <td id=\"T_19a70_row47_col1\" class=\"data row47 col1\" >57</td>\n",
       "      <td id=\"T_19a70_row47_col2\" class=\"data row47 col2\" >55</td>\n",
       "      <td id=\"T_19a70_row47_col3\" class=\"data row47 col3\" >57</td>\n",
       "      <td id=\"T_19a70_row47_col4\" class=\"data row47 col4\" >54</td>\n",
       "      <td id=\"T_19a70_row47_col5\" class=\"data row47 col5\" >61</td>\n",
       "      <td id=\"T_19a70_row47_col6\" class=\"data row47 col6\" >62</td>\n",
       "      <td id=\"T_19a70_row47_col7\" class=\"data row47 col7\" >59</td>\n",
       "      <td id=\"T_19a70_row47_col8\" class=\"data row47 col8\" >56,50</td>\n",
       "      <td id=\"T_19a70_row47_col9\" class=\"data row47 col9\" >48</td>\n",
       "    </tr>\n",
       "    <tr>\n",
       "      <th id=\"T_19a70_level0_row48\" class=\"row_heading level0 row48\" >Estonia</th>\n",
       "      <td id=\"T_19a70_row48_col0\" class=\"data row48 col0\" >73</td>\n",
       "      <td id=\"T_19a70_row48_col1\" class=\"data row48 col1\" >72</td>\n",
       "      <td id=\"T_19a70_row48_col2\" class=\"data row48 col2\" >66</td>\n",
       "      <td id=\"T_19a70_row48_col3\" class=\"data row48 col3\" >63</td>\n",
       "      <td id=\"T_19a70_row48_col4\" class=\"data row48 col4\" >55</td>\n",
       "      <td id=\"T_19a70_row48_col5\" class=\"data row48 col5\" >51</td>\n",
       "      <td id=\"T_19a70_row48_col6\" class=\"data row48 col6\" >40</td>\n",
       "      <td id=\"T_19a70_row48_col7\" class=\"data row48 col7\" >36</td>\n",
       "      <td id=\"T_19a70_row48_col8\" class=\"data row48 col8\" >57,00</td>\n",
       "      <td id=\"T_19a70_row48_col9\" class=\"data row48 col9\" >49</td>\n",
       "    </tr>\n",
       "    <tr>\n",
       "      <th id=\"T_19a70_level0_row49\" class=\"row_heading level0 row49\" >Mauritius</th>\n",
       "      <td id=\"T_19a70_row49_col0\" class=\"data row49 col0\" >71</td>\n",
       "      <td id=\"T_19a70_row49_col1\" class=\"data row49 col1\" >66</td>\n",
       "      <td id=\"T_19a70_row49_col2\" class=\"data row49 col2\" >64</td>\n",
       "      <td id=\"T_19a70_row49_col3\" class=\"data row49 col3\" >55</td>\n",
       "      <td id=\"T_19a70_row49_col4\" class=\"data row49 col4\" >57</td>\n",
       "      <td id=\"T_19a70_row49_col5\" class=\"data row49 col5\" >49</td>\n",
       "      <td id=\"T_19a70_row49_col6\" class=\"data row49 col6\" >50</td>\n",
       "      <td id=\"T_19a70_row49_col7\" class=\"data row49 col7\" >52</td>\n",
       "      <td id=\"T_19a70_row49_col8\" class=\"data row49 col8\" >58,00</td>\n",
       "      <td id=\"T_19a70_row49_col9\" class=\"data row49 col9\" >50</td>\n",
       "    </tr>\n",
       "    <tr>\n",
       "      <th id=\"T_19a70_level0_row50\" class=\"row_heading level0 row50\" >Latvia</th>\n",
       "      <td id=\"T_19a70_row50_col0\" class=\"data row50 col0\" >89</td>\n",
       "      <td id=\"T_19a70_row50_col1\" class=\"data row50 col1\" >68</td>\n",
       "      <td id=\"T_19a70_row50_col2\" class=\"data row50 col2\" >54</td>\n",
       "      <td id=\"T_19a70_row50_col3\" class=\"data row50 col3\" >53</td>\n",
       "      <td id=\"T_19a70_row50_col4\" class=\"data row50 col4\" >53</td>\n",
       "      <td id=\"T_19a70_row50_col5\" class=\"data row50 col5\" >57</td>\n",
       "      <td id=\"T_19a70_row50_col6\" class=\"data row50 col6\" >51</td>\n",
       "      <td id=\"T_19a70_row50_col7\" class=\"data row50 col7\" >42</td>\n",
       "      <td id=\"T_19a70_row50_col8\" class=\"data row50 col8\" >58,38</td>\n",
       "      <td id=\"T_19a70_row50_col9\" class=\"data row50 col9\" >51</td>\n",
       "    </tr>\n",
       "    <tr>\n",
       "      <th id=\"T_19a70_level0_row51\" class=\"row_heading level0 row51\" >Jamaica</th>\n",
       "      <td id=\"T_19a70_row51_col0\" class=\"data row51 col0\" >65</td>\n",
       "      <td id=\"T_19a70_row51_col1\" class=\"data row51 col1\" >73</td>\n",
       "      <td id=\"T_19a70_row51_col2\" class=\"data row51 col2\" >76</td>\n",
       "      <td id=\"T_19a70_row51_col3\" class=\"data row51 col3\" >56</td>\n",
       "      <td id=\"T_19a70_row51_col4\" class=\"data row51 col4\" >56</td>\n",
       "      <td id=\"T_19a70_row51_col5\" class=\"data row51 col5\" >60</td>\n",
       "      <td id=\"T_19a70_row51_col6\" class=\"data row51 col6\" >37</td>\n",
       "      <td id=\"T_19a70_row51_col7\" class=\"data row51 col7\" >63</td>\n",
       "      <td id=\"T_19a70_row51_col8\" class=\"data row51 col8\" >60,75</td>\n",
       "      <td id=\"T_19a70_row51_col9\" class=\"data row51 col9\" >52</td>\n",
       "    </tr>\n",
       "    <tr>\n",
       "      <th id=\"T_19a70_level0_row52\" class=\"row_heading level0 row52\" >Bolivia</th>\n",
       "      <td id=\"T_19a70_row52_col0\" class=\"data row52 col0\" >51</td>\n",
       "      <td id=\"T_19a70_row52_col1\" class=\"data row52 col1\" >59</td>\n",
       "      <td id=\"T_19a70_row52_col2\" class=\"data row52 col2\" >58</td>\n",
       "      <td id=\"T_19a70_row52_col3\" class=\"data row52 col3\" >62</td>\n",
       "      <td id=\"T_19a70_row52_col4\" class=\"data row52 col4\" >61</td>\n",
       "      <td id=\"T_19a70_row52_col5\" class=\"data row52 col5\" >65</td>\n",
       "      <td id=\"T_19a70_row52_col6\" class=\"data row52 col6\" >69</td>\n",
       "      <td id=\"T_19a70_row52_col7\" class=\"data row52 col7\" >71</td>\n",
       "      <td id=\"T_19a70_row52_col8\" class=\"data row52 col8\" >62,00</td>\n",
       "      <td id=\"T_19a70_row52_col9\" class=\"data row52 col9\" >53</td>\n",
       "    </tr>\n",
       "    <tr>\n",
       "      <th id=\"T_19a70_level0_row53\" class=\"row_heading level0 row53\" >Malaysia</th>\n",
       "      <td id=\"T_19a70_row53_col0\" class=\"data row53 col0\" >61</td>\n",
       "      <td id=\"T_19a70_row53_col1\" class=\"data row53 col1\" >47</td>\n",
       "      <td id=\"T_19a70_row53_col2\" class=\"data row53 col2\" >42</td>\n",
       "      <td id=\"T_19a70_row53_col3\" class=\"data row53 col3\" >35</td>\n",
       "      <td id=\"T_19a70_row53_col4\" class=\"data row53 col4\" >80</td>\n",
       "      <td id=\"T_19a70_row53_col5\" class=\"data row53 col5\" >82</td>\n",
       "      <td id=\"T_19a70_row53_col6\" class=\"data row53 col6\" >81</td>\n",
       "      <td id=\"T_19a70_row53_col7\" class=\"data row53 col7\" >70</td>\n",
       "      <td id=\"T_19a70_row53_col8\" class=\"data row53 col8\" >62,25</td>\n",
       "      <td id=\"T_19a70_row53_col9\" class=\"data row53 col9\" >54</td>\n",
       "    </tr>\n",
       "    <tr>\n",
       "      <th id=\"T_19a70_level0_row54\" class=\"row_heading level0 row54\" >Moldova</th>\n",
       "      <td id=\"T_19a70_row54_col0\" class=\"data row54 col0\" >52</td>\n",
       "      <td id=\"T_19a70_row54_col1\" class=\"data row54 col1\" >55</td>\n",
       "      <td id=\"T_19a70_row54_col2\" class=\"data row54 col2\" >56</td>\n",
       "      <td id=\"T_19a70_row54_col3\" class=\"data row54 col3\" >67</td>\n",
       "      <td id=\"T_19a70_row54_col4\" class=\"data row54 col4\" >71</td>\n",
       "      <td id=\"T_19a70_row54_col5\" class=\"data row54 col5\" >70</td>\n",
       "      <td id=\"T_19a70_row54_col6\" class=\"data row54 col6\" >65</td>\n",
       "      <td id=\"T_19a70_row54_col7\" class=\"data row54 col7\" >62</td>\n",
       "      <td id=\"T_19a70_row54_col8\" class=\"data row54 col8\" >62,25</td>\n",
       "      <td id=\"T_19a70_row54_col9\" class=\"data row54 col9\" >55</td>\n",
       "    </tr>\n",
       "    <tr>\n",
       "      <th id=\"T_19a70_level0_row55\" class=\"row_heading level0 row55\" >Peru</th>\n",
       "      <td id=\"T_19a70_row55_col0\" class=\"data row55 col0\" >58</td>\n",
       "      <td id=\"T_19a70_row55_col1\" class=\"data row55 col1\" >64</td>\n",
       "      <td id=\"T_19a70_row55_col2\" class=\"data row55 col2\" >63</td>\n",
       "      <td id=\"T_19a70_row55_col3\" class=\"data row55 col3\" >65</td>\n",
       "      <td id=\"T_19a70_row55_col4\" class=\"data row55 col4\" >65</td>\n",
       "      <td id=\"T_19a70_row55_col5\" class=\"data row55 col5\" >63</td>\n",
       "      <td id=\"T_19a70_row55_col6\" class=\"data row55 col6\" >63</td>\n",
       "      <td id=\"T_19a70_row55_col7\" class=\"data row55 col7\" >74</td>\n",
       "      <td id=\"T_19a70_row55_col8\" class=\"data row55 col8\" >64,38</td>\n",
       "      <td id=\"T_19a70_row55_col9\" class=\"data row55 col9\" >56</td>\n",
       "    </tr>\n",
       "    <tr>\n",
       "      <th id=\"T_19a70_level0_row56\" class=\"row_heading level0 row56\" >Russia</th>\n",
       "      <td id=\"T_19a70_row56_col0\" class=\"data row56 col0\" >64</td>\n",
       "      <td id=\"T_19a70_row56_col1\" class=\"data row56 col1\" >56</td>\n",
       "      <td id=\"T_19a70_row56_col2\" class=\"data row56 col2\" >49</td>\n",
       "      <td id=\"T_19a70_row56_col3\" class=\"data row56 col3\" >59</td>\n",
       "      <td id=\"T_19a70_row56_col4\" class=\"data row56 col4\" >68</td>\n",
       "      <td id=\"T_19a70_row56_col5\" class=\"data row56 col5\" >73</td>\n",
       "      <td id=\"T_19a70_row56_col6\" class=\"data row56 col6\" >76</td>\n",
       "      <td id=\"T_19a70_row56_col7\" class=\"data row56 col7\" >80</td>\n",
       "      <td id=\"T_19a70_row56_col8\" class=\"data row56 col8\" >65,62</td>\n",
       "      <td id=\"T_19a70_row56_col9\" class=\"data row56 col9\" >57</td>\n",
       "    </tr>\n",
       "    <tr>\n",
       "      <th id=\"T_19a70_level0_row57\" class=\"row_heading level0 row57\" >Paraguay</th>\n",
       "      <td id=\"T_19a70_row57_col0\" class=\"data row57 col0\" >53</td>\n",
       "      <td id=\"T_19a70_row57_col1\" class=\"data row57 col1\" >70</td>\n",
       "      <td id=\"T_19a70_row57_col2\" class=\"data row57 col2\" >70</td>\n",
       "      <td id=\"T_19a70_row57_col3\" class=\"data row57 col3\" >64</td>\n",
       "      <td id=\"T_19a70_row57_col4\" class=\"data row57 col4\" >63</td>\n",
       "      <td id=\"T_19a70_row57_col5\" class=\"data row57 col5\" >67</td>\n",
       "      <td id=\"T_19a70_row57_col6\" class=\"data row57 col6\" >71</td>\n",
       "      <td id=\"T_19a70_row57_col7\" class=\"data row57 col7\" >73</td>\n",
       "      <td id=\"T_19a70_row57_col8\" class=\"data row57 col8\" >66,38</td>\n",
       "      <td id=\"T_19a70_row57_col9\" class=\"data row57 col9\" >58</td>\n",
       "    </tr>\n",
       "    <tr>\n",
       "      <th id=\"T_19a70_level0_row58\" class=\"row_heading level0 row58\" >Serbia</th>\n",
       "      <td id=\"T_19a70_row58_col0\" class=\"data row58 col0\" >87</td>\n",
       "      <td id=\"T_19a70_row58_col1\" class=\"data row58 col1\" >86</td>\n",
       "      <td id=\"T_19a70_row58_col2\" class=\"data row58 col2\" >73</td>\n",
       "      <td id=\"T_19a70_row58_col3\" class=\"data row58 col3\" >78</td>\n",
       "      <td id=\"T_19a70_row58_col4\" class=\"data row58 col4\" >70</td>\n",
       "      <td id=\"T_19a70_row58_col5\" class=\"data row58 col5\" >64</td>\n",
       "      <td id=\"T_19a70_row58_col6\" class=\"data row58 col6\" >48</td>\n",
       "      <td id=\"T_19a70_row58_col7\" class=\"data row58 col7\" >43</td>\n",
       "      <td id=\"T_19a70_row58_col8\" class=\"data row58 col8\" >68,62</td>\n",
       "      <td id=\"T_19a70_row58_col9\" class=\"data row58 col9\" >59</td>\n",
       "    </tr>\n",
       "    <tr>\n",
       "      <th id=\"T_19a70_level0_row59\" class=\"row_heading level0 row59\" >Belarus</th>\n",
       "      <td id=\"T_19a70_row59_col0\" class=\"data row59 col0\" >59</td>\n",
       "      <td id=\"T_19a70_row59_col1\" class=\"data row59 col1\" >61</td>\n",
       "      <td id=\"T_19a70_row59_col2\" class=\"data row59 col2\" >67</td>\n",
       "      <td id=\"T_19a70_row59_col3\" class=\"data row59 col3\" >73</td>\n",
       "      <td id=\"T_19a70_row59_col4\" class=\"data row59 col4\" >81</td>\n",
       "      <td id=\"T_19a70_row59_col5\" class=\"data row59 col5\" >75</td>\n",
       "      <td id=\"T_19a70_row59_col6\" class=\"data row59 col6\" >75</td>\n",
       "      <td id=\"T_19a70_row59_col7\" class=\"data row59 col7\" >65</td>\n",
       "      <td id=\"T_19a70_row59_col8\" class=\"data row59 col8\" >69,50</td>\n",
       "      <td id=\"T_19a70_row59_col9\" class=\"data row59 col9\" >60</td>\n",
       "    </tr>\n",
       "    <tr>\n",
       "      <th id=\"T_19a70_level0_row60\" class=\"row_heading level0 row60\" >Croatia</th>\n",
       "      <td id=\"T_19a70_row60_col0\" class=\"data row60 col0\" >62</td>\n",
       "      <td id=\"T_19a70_row60_col1\" class=\"data row60 col1\" >74</td>\n",
       "      <td id=\"T_19a70_row60_col2\" class=\"data row60 col2\" >77</td>\n",
       "      <td id=\"T_19a70_row60_col3\" class=\"data row60 col3\" >82</td>\n",
       "      <td id=\"T_19a70_row60_col4\" class=\"data row60 col4\" >75</td>\n",
       "      <td id=\"T_19a70_row60_col5\" class=\"data row60 col5\" >79</td>\n",
       "      <td id=\"T_19a70_row60_col6\" class=\"data row60 col6\" >60</td>\n",
       "      <td id=\"T_19a70_row60_col7\" class=\"data row60 col7\" >47</td>\n",
       "      <td id=\"T_19a70_row60_col8\" class=\"data row60 col8\" >69,50</td>\n",
       "      <td id=\"T_19a70_row60_col9\" class=\"data row60 col9\" >61</td>\n",
       "    </tr>\n",
       "    <tr>\n",
       "      <th id=\"T_19a70_level0_row61\" class=\"row_heading level0 row61\" >Philippines</th>\n",
       "      <td id=\"T_19a70_row61_col0\" class=\"data row61 col0\" >90</td>\n",
       "      <td id=\"T_19a70_row61_col1\" class=\"data row61 col1\" >82</td>\n",
       "      <td id=\"T_19a70_row61_col2\" class=\"data row61 col2\" >72</td>\n",
       "      <td id=\"T_19a70_row61_col3\" class=\"data row61 col3\" >71</td>\n",
       "      <td id=\"T_19a70_row61_col4\" class=\"data row61 col4\" >69</td>\n",
       "      <td id=\"T_19a70_row61_col5\" class=\"data row61 col5\" >52</td>\n",
       "      <td id=\"T_19a70_row61_col6\" class=\"data row61 col6\" >61</td>\n",
       "      <td id=\"T_19a70_row61_col7\" class=\"data row61 col7\" >60</td>\n",
       "      <td id=\"T_19a70_row61_col8\" class=\"data row61 col8\" >69,62</td>\n",
       "      <td id=\"T_19a70_row61_col9\" class=\"data row61 col9\" >62</td>\n",
       "    </tr>\n",
       "    <tr>\n",
       "      <th id=\"T_19a70_level0_row62\" class=\"row_heading level0 row62\" >Hungary</th>\n",
       "      <td id=\"T_19a70_row62_col0\" class=\"data row62 col0\" >104</td>\n",
       "      <td id=\"T_19a70_row62_col1\" class=\"data row62 col1\" >91</td>\n",
       "      <td id=\"T_19a70_row62_col2\" class=\"data row62 col2\" >75</td>\n",
       "      <td id=\"T_19a70_row62_col3\" class=\"data row62 col3\" >69</td>\n",
       "      <td id=\"T_19a70_row62_col4\" class=\"data row62 col4\" >62</td>\n",
       "      <td id=\"T_19a70_row62_col5\" class=\"data row62 col5\" >53</td>\n",
       "      <td id=\"T_19a70_row62_col6\" class=\"data row62 col6\" >53</td>\n",
       "      <td id=\"T_19a70_row62_col7\" class=\"data row62 col7\" >51</td>\n",
       "      <td id=\"T_19a70_row62_col8\" class=\"data row62 col8\" >69,75</td>\n",
       "      <td id=\"T_19a70_row62_col9\" class=\"data row62 col9\" >63</td>\n",
       "    </tr>\n",
       "    <tr>\n",
       "      <th id=\"T_19a70_level0_row63\" class=\"row_heading level0 row63\" >Portugal</th>\n",
       "      <td id=\"T_19a70_row63_col0\" class=\"data row63 col0\" >88</td>\n",
       "      <td id=\"T_19a70_row63_col1\" class=\"data row63 col1\" >94</td>\n",
       "      <td id=\"T_19a70_row63_col2\" class=\"data row63 col2\" >89</td>\n",
       "      <td id=\"T_19a70_row63_col3\" class=\"data row63 col3\" >77</td>\n",
       "      <td id=\"T_19a70_row63_col4\" class=\"data row63 col4\" >66</td>\n",
       "      <td id=\"T_19a70_row63_col5\" class=\"data row63 col5\" >59</td>\n",
       "      <td id=\"T_19a70_row63_col6\" class=\"data row63 col6\" >58</td>\n",
       "      <td id=\"T_19a70_row63_col7\" class=\"data row63 col7\" >56</td>\n",
       "      <td id=\"T_19a70_row63_col8\" class=\"data row63 col8\" >73,38</td>\n",
       "      <td id=\"T_19a70_row63_col9\" class=\"data row63 col9\" >64</td>\n",
       "    </tr>\n",
       "    <tr>\n",
       "      <th id=\"T_19a70_level0_row64\" class=\"row_heading level0 row64\" >Honduras</th>\n",
       "      <td id=\"T_19a70_row64_col0\" class=\"data row64 col0\" >105</td>\n",
       "      <td id=\"T_19a70_row64_col1\" class=\"data row64 col1\" >104</td>\n",
       "      <td id=\"T_19a70_row64_col2\" class=\"data row64 col2\" >91</td>\n",
       "      <td id=\"T_19a70_row64_col3\" class=\"data row64 col3\" >72</td>\n",
       "      <td id=\"T_19a70_row64_col4\" class=\"data row64 col4\" >59</td>\n",
       "      <td id=\"T_19a70_row64_col5\" class=\"data row64 col5\" >56</td>\n",
       "      <td id=\"T_19a70_row64_col6\" class=\"data row64 col6\" >59</td>\n",
       "      <td id=\"T_19a70_row64_col7\" class=\"data row64 col7\" >55</td>\n",
       "      <td id=\"T_19a70_row64_col8\" class=\"data row64 col8\" >75,12</td>\n",
       "      <td id=\"T_19a70_row64_col9\" class=\"data row64 col9\" >65</td>\n",
       "    </tr>\n",
       "    <tr>\n",
       "      <th id=\"T_19a70_level0_row65\" class=\"row_heading level0 row65\" >Montenegro</th>\n",
       "      <td id=\"T_19a70_row65_col0\" class=\"data row65 col0\" >82</td>\n",
       "      <td id=\"T_19a70_row65_col1\" class=\"data row65 col1\" >88</td>\n",
       "      <td id=\"T_19a70_row65_col2\" class=\"data row65 col2\" >83</td>\n",
       "      <td id=\"T_19a70_row65_col3\" class=\"data row65 col3\" >81</td>\n",
       "      <td id=\"T_19a70_row65_col4\" class=\"data row65 col4\" >73</td>\n",
       "      <td id=\"T_19a70_row65_col5\" class=\"data row65 col5\" >72</td>\n",
       "      <td id=\"T_19a70_row65_col6\" class=\"data row65 col6\" >72</td>\n",
       "      <td id=\"T_19a70_row65_col7\" class=\"data row65 col7\" >75</td>\n",
       "      <td id=\"T_19a70_row65_col8\" class=\"data row65 col8\" >78,25</td>\n",
       "      <td id=\"T_19a70_row65_col9\" class=\"data row65 col9\" >66</td>\n",
       "    </tr>\n",
       "    <tr>\n",
       "      <th id=\"T_19a70_level0_row66\" class=\"row_heading level0 row66\" >Algeria</th>\n",
       "      <td id=\"T_19a70_row66_col0\" class=\"data row66 col0\" >68</td>\n",
       "      <td id=\"T_19a70_row66_col1\" class=\"data row66 col1\" >38</td>\n",
       "      <td id=\"T_19a70_row66_col2\" class=\"data row66 col2\" >53</td>\n",
       "      <td id=\"T_19a70_row66_col3\" class=\"data row66 col3\" >84</td>\n",
       "      <td id=\"T_19a70_row66_col4\" class=\"data row66 col4\" >88</td>\n",
       "      <td id=\"T_19a70_row66_col5\" class=\"data row66 col5\" >100</td>\n",
       "      <td id=\"T_19a70_row66_col6\" class=\"data row66 col6\" >109</td>\n",
       "      <td id=\"T_19a70_row66_col7\" class=\"data row66 col7\" >96</td>\n",
       "      <td id=\"T_19a70_row66_col8\" class=\"data row66 col8\" >79,50</td>\n",
       "      <td id=\"T_19a70_row66_col9\" class=\"data row66 col9\" >67</td>\n",
       "    </tr>\n",
       "    <tr>\n",
       "      <th id=\"T_19a70_level0_row67\" class=\"row_heading level0 row67\" >Kyrgyzstan</th>\n",
       "      <td id=\"T_19a70_row67_col0\" class=\"data row67 col0\" >77</td>\n",
       "      <td id=\"T_19a70_row67_col1\" class=\"data row67 col1\" >85</td>\n",
       "      <td id=\"T_19a70_row67_col2\" class=\"data row67 col2\" >98</td>\n",
       "      <td id=\"T_19a70_row67_col3\" class=\"data row67 col3\" >92</td>\n",
       "      <td id=\"T_19a70_row67_col4\" class=\"data row67 col4\" >86</td>\n",
       "      <td id=\"T_19a70_row67_col5\" class=\"data row67 col5\" >74</td>\n",
       "      <td id=\"T_19a70_row67_col6\" class=\"data row67 col6\" >67</td>\n",
       "      <td id=\"T_19a70_row67_col7\" class=\"data row67 col7\" >64</td>\n",
       "      <td id=\"T_19a70_row67_col8\" class=\"data row67 col8\" >80,38</td>\n",
       "      <td id=\"T_19a70_row67_col9\" class=\"data row67 col9\" >68</td>\n",
       "    </tr>\n",
       "    <tr>\n",
       "      <th id=\"T_19a70_level0_row68\" class=\"row_heading level0 row68\" >Dominican Republic</th>\n",
       "      <td id=\"T_19a70_row68_col0\" class=\"data row68 col0\" >98</td>\n",
       "      <td id=\"T_19a70_row68_col1\" class=\"data row68 col1\" >89</td>\n",
       "      <td id=\"T_19a70_row68_col2\" class=\"data row68 col2\" >86</td>\n",
       "      <td id=\"T_19a70_row68_col3\" class=\"data row68 col3\" >83</td>\n",
       "      <td id=\"T_19a70_row68_col4\" class=\"data row68 col4\" >77</td>\n",
       "      <td id=\"T_19a70_row68_col5\" class=\"data row68 col5\" >68</td>\n",
       "      <td id=\"T_19a70_row68_col6\" class=\"data row68 col6\" >73</td>\n",
       "      <td id=\"T_19a70_row68_col7\" class=\"data row68 col7\" >69</td>\n",
       "      <td id=\"T_19a70_row68_col8\" class=\"data row68 col8\" >80,38</td>\n",
       "      <td id=\"T_19a70_row68_col9\" class=\"data row68 col9\" >69</td>\n",
       "    </tr>\n",
       "    <tr>\n",
       "      <th id=\"T_19a70_level0_row69\" class=\"row_heading level0 row69\" >Bosnia and Herzegovina</th>\n",
       "      <td id=\"T_19a70_row69_col0\" class=\"data row69 col0\" >96</td>\n",
       "      <td id=\"T_19a70_row69_col1\" class=\"data row69 col1\" >87</td>\n",
       "      <td id=\"T_19a70_row69_col2\" class=\"data row69 col2\" >90</td>\n",
       "      <td id=\"T_19a70_row69_col3\" class=\"data row69 col3\" >93</td>\n",
       "      <td id=\"T_19a70_row69_col4\" class=\"data row69 col4\" >78</td>\n",
       "      <td id=\"T_19a70_row69_col5\" class=\"data row69 col5\" >69</td>\n",
       "      <td id=\"T_19a70_row69_col6\" class=\"data row69 col6\" >64</td>\n",
       "      <td id=\"T_19a70_row69_col7\" class=\"data row69 col7\" >67</td>\n",
       "      <td id=\"T_19a70_row69_col8\" class=\"data row69 col8\" >80,50</td>\n",
       "      <td id=\"T_19a70_row69_col9\" class=\"data row69 col9\" >70</td>\n",
       "    </tr>\n",
       "    <tr>\n",
       "      <th id=\"T_19a70_level0_row70\" class=\"row_heading level0 row70\" >Greece</th>\n",
       "      <td id=\"T_19a70_row70_col0\" class=\"data row70 col0\" >102</td>\n",
       "      <td id=\"T_19a70_row70_col1\" class=\"data row70 col1\" >99</td>\n",
       "      <td id=\"T_19a70_row70_col2\" class=\"data row70 col2\" >87</td>\n",
       "      <td id=\"T_19a70_row70_col3\" class=\"data row70 col3\" >79</td>\n",
       "      <td id=\"T_19a70_row70_col4\" class=\"data row70 col4\" >82</td>\n",
       "      <td id=\"T_19a70_row70_col5\" class=\"data row70 col5\" >77</td>\n",
       "      <td id=\"T_19a70_row70_col6\" class=\"data row70 col6\" >68</td>\n",
       "      <td id=\"T_19a70_row70_col7\" class=\"data row70 col7\" >58</td>\n",
       "      <td id=\"T_19a70_row70_col8\" class=\"data row70 col8\" >81,50</td>\n",
       "      <td id=\"T_19a70_row70_col9\" class=\"data row70 col9\" >71</td>\n",
       "    </tr>\n",
       "    <tr>\n",
       "      <th id=\"T_19a70_level0_row71\" class=\"row_heading level0 row71\" >Venezuela</th>\n",
       "      <td id=\"T_19a70_row71_col0\" class=\"data row71 col0\" >23</td>\n",
       "      <td id=\"T_19a70_row71_col1\" class=\"data row71 col1\" >44</td>\n",
       "      <td id=\"T_19a70_row71_col2\" class=\"data row71 col2\" >82</td>\n",
       "      <td id=\"T_19a70_row71_col3\" class=\"data row71 col3\" >102</td>\n",
       "      <td id=\"T_19a70_row71_col4\" class=\"data row71 col4\" >108</td>\n",
       "      <td id=\"T_19a70_row71_col5\" class=\"data row71 col5\" >99</td>\n",
       "      <td id=\"T_19a70_row71_col6\" class=\"data row71 col6\" >107</td>\n",
       "      <td id=\"T_19a70_row71_col7\" class=\"data row71 col7\" >108</td>\n",
       "      <td id=\"T_19a70_row71_col8\" class=\"data row71 col8\" >84,12</td>\n",
       "      <td id=\"T_19a70_row71_col9\" class=\"data row71 col9\" >72</td>\n",
       "    </tr>\n",
       "    <tr>\n",
       "      <th id=\"T_19a70_level0_row72\" class=\"row_heading level0 row72\" >China</th>\n",
       "      <td id=\"T_19a70_row72_col0\" class=\"data row72 col0\" >84</td>\n",
       "      <td id=\"T_19a70_row72_col1\" class=\"data row72 col1\" >83</td>\n",
       "      <td id=\"T_19a70_row72_col2\" class=\"data row72 col2\" >79</td>\n",
       "      <td id=\"T_19a70_row72_col3\" class=\"data row72 col3\" >86</td>\n",
       "      <td id=\"T_19a70_row72_col4\" class=\"data row72 col4\" >93</td>\n",
       "      <td id=\"T_19a70_row72_col5\" class=\"data row72 col5\" >94</td>\n",
       "      <td id=\"T_19a70_row72_col6\" class=\"data row72 col6\" >84</td>\n",
       "      <td id=\"T_19a70_row72_col7\" class=\"data row72 col7\" >72</td>\n",
       "      <td id=\"T_19a70_row72_col8\" class=\"data row72 col8\" >84,38</td>\n",
       "      <td id=\"T_19a70_row72_col9\" class=\"data row72 col9\" >73</td>\n",
       "    </tr>\n",
       "    <tr>\n",
       "      <th id=\"T_19a70_level0_row73\" class=\"row_heading level0 row73\" >Indonesia</th>\n",
       "      <td id=\"T_19a70_row73_col0\" class=\"data row73 col0\" >74</td>\n",
       "      <td id=\"T_19a70_row73_col1\" class=\"data row73 col1\" >79</td>\n",
       "      <td id=\"T_19a70_row73_col2\" class=\"data row73 col2\" >81</td>\n",
       "      <td id=\"T_19a70_row73_col3\" class=\"data row73 col3\" >96</td>\n",
       "      <td id=\"T_19a70_row73_col4\" class=\"data row73 col4\" >92</td>\n",
       "      <td id=\"T_19a70_row73_col5\" class=\"data row73 col5\" >84</td>\n",
       "      <td id=\"T_19a70_row73_col6\" class=\"data row73 col6\" >82</td>\n",
       "      <td id=\"T_19a70_row73_col7\" class=\"data row73 col7\" >87</td>\n",
       "      <td id=\"T_19a70_row73_col8\" class=\"data row73 col8\" >84,38</td>\n",
       "      <td id=\"T_19a70_row73_col9\" class=\"data row73 col9\" >74</td>\n",
       "    </tr>\n",
       "    <tr>\n",
       "      <th id=\"T_19a70_level0_row74\" class=\"row_heading level0 row74\" >Turkey</th>\n",
       "      <td id=\"T_19a70_row74_col0\" class=\"data row74 col0\" >76</td>\n",
       "      <td id=\"T_19a70_row74_col1\" class=\"data row74 col1\" >78</td>\n",
       "      <td id=\"T_19a70_row74_col2\" class=\"data row74 col2\" >69</td>\n",
       "      <td id=\"T_19a70_row74_col3\" class=\"data row74 col3\" >74</td>\n",
       "      <td id=\"T_19a70_row74_col4\" class=\"data row74 col4\" >79</td>\n",
       "      <td id=\"T_19a70_row74_col5\" class=\"data row74 col5\" >93</td>\n",
       "      <td id=\"T_19a70_row74_col6\" class=\"data row74 col6\" >104</td>\n",
       "      <td id=\"T_19a70_row74_col7\" class=\"data row74 col7\" >112</td>\n",
       "      <td id=\"T_19a70_row74_col8\" class=\"data row74 col8\" >85,62</td>\n",
       "      <td id=\"T_19a70_row74_col9\" class=\"data row74 col9\" >75</td>\n",
       "    </tr>\n",
       "    <tr>\n",
       "      <th id=\"T_19a70_level0_row75\" class=\"row_heading level0 row75\" >Pakistan</th>\n",
       "      <td id=\"T_19a70_row75_col0\" class=\"data row75 col0\" >81</td>\n",
       "      <td id=\"T_19a70_row75_col1\" class=\"data row75 col1\" >92</td>\n",
       "      <td id=\"T_19a70_row75_col2\" class=\"data row75 col2\" >80</td>\n",
       "      <td id=\"T_19a70_row75_col3\" class=\"data row75 col3\" >75</td>\n",
       "      <td id=\"T_19a70_row75_col4\" class=\"data row75 col4\" >67</td>\n",
       "      <td id=\"T_19a70_row75_col5\" class=\"data row75 col5\" >66</td>\n",
       "      <td id=\"T_19a70_row75_col6\" class=\"data row75 col6\" >105</td>\n",
       "      <td id=\"T_19a70_row75_col7\" class=\"data row75 col7\" >121</td>\n",
       "      <td id=\"T_19a70_row75_col8\" class=\"data row75 col8\" >85,88</td>\n",
       "      <td id=\"T_19a70_row75_col9\" class=\"data row75 col9\" >76</td>\n",
       "    </tr>\n",
       "    <tr>\n",
       "      <th id=\"T_19a70_level0_row76\" class=\"row_heading level0 row76\" >Vietnam</th>\n",
       "      <td id=\"T_19a70_row76_col0\" class=\"data row76 col0\" >75</td>\n",
       "      <td id=\"T_19a70_row76_col1\" class=\"data row76 col1\" >96</td>\n",
       "      <td id=\"T_19a70_row76_col2\" class=\"data row76 col2\" >94</td>\n",
       "      <td id=\"T_19a70_row76_col3\" class=\"data row76 col3\" >95</td>\n",
       "      <td id=\"T_19a70_row76_col4\" class=\"data row76 col4\" >94</td>\n",
       "      <td id=\"T_19a70_row76_col5\" class=\"data row76 col5\" >83</td>\n",
       "      <td id=\"T_19a70_row76_col6\" class=\"data row76 col6\" >79</td>\n",
       "      <td id=\"T_19a70_row76_col7\" class=\"data row76 col7\" >77</td>\n",
       "      <td id=\"T_19a70_row76_col8\" class=\"data row76 col8\" >86,62</td>\n",
       "      <td id=\"T_19a70_row76_col9\" class=\"data row76 col9\" >77</td>\n",
       "    </tr>\n",
       "    <tr>\n",
       "      <th id=\"T_19a70_level0_row77\" class=\"row_heading level0 row77\" >Tajikistan</th>\n",
       "      <td id=\"T_19a70_row77_col0\" class=\"data row77 col0\" >106</td>\n",
       "      <td id=\"T_19a70_row77_col1\" class=\"data row77 col1\" >100</td>\n",
       "      <td id=\"T_19a70_row77_col2\" class=\"data row77 col2\" >96</td>\n",
       "      <td id=\"T_19a70_row77_col3\" class=\"data row77 col3\" >88</td>\n",
       "      <td id=\"T_19a70_row77_col4\" class=\"data row77 col4\" >74</td>\n",
       "      <td id=\"T_19a70_row77_col5\" class=\"data row77 col5\" >71</td>\n",
       "      <td id=\"T_19a70_row77_col6\" class=\"data row77 col6\" >78</td>\n",
       "      <td id=\"T_19a70_row77_col7\" class=\"data row77 col7\" >83</td>\n",
       "      <td id=\"T_19a70_row77_col8\" class=\"data row77 col8\" >87,00</td>\n",
       "      <td id=\"T_19a70_row77_col9\" class=\"data row77 col9\" >78</td>\n",
       "    </tr>\n",
       "    <tr>\n",
       "      <th id=\"T_19a70_level0_row78\" class=\"row_heading level0 row78\" >Mongolia</th>\n",
       "      <td id=\"T_19a70_row78_col0\" class=\"data row78 col0\" >100</td>\n",
       "      <td id=\"T_19a70_row78_col1\" class=\"data row78 col1\" >101</td>\n",
       "      <td id=\"T_19a70_row78_col2\" class=\"data row78 col2\" >100</td>\n",
       "      <td id=\"T_19a70_row78_col3\" class=\"data row78 col3\" >94</td>\n",
       "      <td id=\"T_19a70_row78_col4\" class=\"data row78 col4\" >83</td>\n",
       "      <td id=\"T_19a70_row78_col5\" class=\"data row78 col5\" >81</td>\n",
       "      <td id=\"T_19a70_row78_col6\" class=\"data row78 col6\" >70</td>\n",
       "      <td id=\"T_19a70_row78_col7\" class=\"data row78 col7\" >68</td>\n",
       "      <td id=\"T_19a70_row78_col8\" class=\"data row78 col8\" >87,12</td>\n",
       "      <td id=\"T_19a70_row78_col9\" class=\"data row78 col9\" >79</td>\n",
       "    </tr>\n",
       "    <tr>\n",
       "      <th id=\"T_19a70_level0_row79\" class=\"row_heading level0 row79\" >Morocco</th>\n",
       "      <td id=\"T_19a70_row79_col0\" class=\"data row79 col0\" >92</td>\n",
       "      <td id=\"T_19a70_row79_col1\" class=\"data row79 col1\" >90</td>\n",
       "      <td id=\"T_19a70_row79_col2\" class=\"data row79 col2\" >84</td>\n",
       "      <td id=\"T_19a70_row79_col3\" class=\"data row79 col3\" >85</td>\n",
       "      <td id=\"T_19a70_row79_col4\" class=\"data row79 col4\" >89</td>\n",
       "      <td id=\"T_19a70_row79_col5\" class=\"data row79 col5\" >97</td>\n",
       "      <td id=\"T_19a70_row79_col6\" class=\"data row79 col6\" >106</td>\n",
       "      <td id=\"T_19a70_row79_col7\" class=\"data row79 col7\" >100</td>\n",
       "      <td id=\"T_19a70_row79_col8\" class=\"data row79 col8\" >92,88</td>\n",
       "      <td id=\"T_19a70_row79_col9\" class=\"data row79 col9\" >80</td>\n",
       "    </tr>\n",
       "    <tr>\n",
       "      <th id=\"T_19a70_level0_row80\" class=\"row_heading level0 row80\" >Nepal</th>\n",
       "      <td id=\"T_19a70_row80_col0\" class=\"data row80 col0\" >121</td>\n",
       "      <td id=\"T_19a70_row80_col1\" class=\"data row80 col1\" >107</td>\n",
       "      <td id=\"T_19a70_row80_col2\" class=\"data row80 col2\" >99</td>\n",
       "      <td id=\"T_19a70_row80_col3\" class=\"data row80 col3\" >101</td>\n",
       "      <td id=\"T_19a70_row80_col4\" class=\"data row80 col4\" >100</td>\n",
       "      <td id=\"T_19a70_row80_col5\" class=\"data row80 col5\" >92</td>\n",
       "      <td id=\"T_19a70_row80_col6\" class=\"data row80 col6\" >87</td>\n",
       "      <td id=\"T_19a70_row80_col7\" class=\"data row80 col7\" >84</td>\n",
       "      <td id=\"T_19a70_row80_col8\" class=\"data row80 col8\" >98,88</td>\n",
       "      <td id=\"T_19a70_row80_col9\" class=\"data row80 col9\" >81</td>\n",
       "    </tr>\n",
       "    <tr>\n",
       "      <th id=\"T_19a70_level0_row81\" class=\"row_heading level0 row81\" >Nigeria</th>\n",
       "      <td id=\"T_19a70_row81_col0\" class=\"data row81 col0\" >78</td>\n",
       "      <td id=\"T_19a70_row81_col1\" class=\"data row81 col1\" >103</td>\n",
       "      <td id=\"T_19a70_row81_col2\" class=\"data row81 col2\" >95</td>\n",
       "      <td id=\"T_19a70_row81_col3\" class=\"data row81 col3\" >91</td>\n",
       "      <td id=\"T_19a70_row81_col4\" class=\"data row81 col4\" >85</td>\n",
       "      <td id=\"T_19a70_row81_col5\" class=\"data row81 col5\" >115</td>\n",
       "      <td id=\"T_19a70_row81_col6\" class=\"data row81 col6\" >116</td>\n",
       "      <td id=\"T_19a70_row81_col7\" class=\"data row81 col7\" >118</td>\n",
       "      <td id=\"T_19a70_row81_col8\" class=\"data row81 col8\" >100,12</td>\n",
       "      <td id=\"T_19a70_row81_col9\" class=\"data row81 col9\" >82</td>\n",
       "    </tr>\n",
       "    <tr>\n",
       "      <th id=\"T_19a70_level0_row82\" class=\"row_heading level0 row82\" >Jordan</th>\n",
       "      <td id=\"T_19a70_row82_col0\" class=\"data row82 col0\" >82</td>\n",
       "      <td id=\"T_19a70_row82_col1\" class=\"data row82 col1\" >80</td>\n",
       "      <td id=\"T_19a70_row82_col2\" class=\"data row82 col2\" >74</td>\n",
       "      <td id=\"T_19a70_row82_col3\" class=\"data row82 col3\" >90</td>\n",
       "      <td id=\"T_19a70_row82_col4\" class=\"data row82 col4\" >101</td>\n",
       "      <td id=\"T_19a70_row82_col5\" class=\"data row82 col5\" >119</td>\n",
       "      <td id=\"T_19a70_row82_col6\" class=\"data row82 col6\" >127</td>\n",
       "      <td id=\"T_19a70_row82_col7\" class=\"data row82 col7\" >134</td>\n",
       "      <td id=\"T_19a70_row82_col8\" class=\"data row82 col8\" >100,88</td>\n",
       "      <td id=\"T_19a70_row82_col9\" class=\"data row82 col9\" >83</td>\n",
       "    </tr>\n",
       "    <tr>\n",
       "      <th id=\"T_19a70_level0_row83\" class=\"row_heading level0 row83\" >Albania</th>\n",
       "      <td id=\"T_19a70_row83_col0\" class=\"data row83 col0\" >95</td>\n",
       "      <td id=\"T_19a70_row83_col1\" class=\"data row83 col1\" >109</td>\n",
       "      <td id=\"T_19a70_row83_col2\" class=\"data row83 col2\" >109</td>\n",
       "      <td id=\"T_19a70_row83_col3\" class=\"data row83 col3\" >112</td>\n",
       "      <td id=\"T_19a70_row83_col4\" class=\"data row83 col4\" >107</td>\n",
       "      <td id=\"T_19a70_row83_col5\" class=\"data row83 col5\" >105</td>\n",
       "      <td id=\"T_19a70_row83_col6\" class=\"data row83 col6\" >93</td>\n",
       "      <td id=\"T_19a70_row83_col7\" class=\"data row83 col7\" >90</td>\n",
       "      <td id=\"T_19a70_row83_col8\" class=\"data row83 col8\" >102,50</td>\n",
       "      <td id=\"T_19a70_row83_col9\" class=\"data row83 col9\" >84</td>\n",
       "    </tr>\n",
       "    <tr>\n",
       "      <th id=\"T_19a70_level0_row84\" class=\"row_heading level0 row84\" >Lebanon</th>\n",
       "      <td id=\"T_19a70_row84_col0\" class=\"data row84 col0\" >103</td>\n",
       "      <td id=\"T_19a70_row84_col1\" class=\"data row84 col1\" >93</td>\n",
       "      <td id=\"T_19a70_row84_col2\" class=\"data row84 col2\" >88</td>\n",
       "      <td id=\"T_19a70_row84_col3\" class=\"data row84 col3\" >80</td>\n",
       "      <td id=\"T_19a70_row84_col4\" class=\"data row84 col4\" >91</td>\n",
       "      <td id=\"T_19a70_row84_col5\" class=\"data row84 col5\" >111</td>\n",
       "      <td id=\"T_19a70_row84_col6\" class=\"data row84 col6\" >123</td>\n",
       "      <td id=\"T_19a70_row84_col7\" class=\"data row84 col7\" >145</td>\n",
       "      <td id=\"T_19a70_row84_col8\" class=\"data row84 col8\" >104,25</td>\n",
       "      <td id=\"T_19a70_row84_col9\" class=\"data row84 col9\" >85</td>\n",
       "    </tr>\n",
       "    <tr>\n",
       "      <th id=\"T_19a70_level0_row85\" class=\"row_heading level0 row85\" >Bulgaria</th>\n",
       "      <td id=\"T_19a70_row85_col0\" class=\"data row85 col0\" >134</td>\n",
       "      <td id=\"T_19a70_row85_col1\" class=\"data row85 col1\" >129</td>\n",
       "      <td id=\"T_19a70_row85_col2\" class=\"data row85 col2\" >105</td>\n",
       "      <td id=\"T_19a70_row85_col3\" class=\"data row85 col3\" >100</td>\n",
       "      <td id=\"T_19a70_row85_col4\" class=\"data row85 col4\" >97</td>\n",
       "      <td id=\"T_19a70_row85_col5\" class=\"data row85 col5\" >96</td>\n",
       "      <td id=\"T_19a70_row85_col6\" class=\"data row85 col6\" >88</td>\n",
       "      <td id=\"T_19a70_row85_col7\" class=\"data row85 col7\" >85</td>\n",
       "      <td id=\"T_19a70_row85_col8\" class=\"data row85 col8\" >104,25</td>\n",
       "      <td id=\"T_19a70_row85_col9\" class=\"data row85 col9\" >86</td>\n",
       "    </tr>\n",
       "    <tr>\n",
       "      <th id=\"T_19a70_level0_row86\" class=\"row_heading level0 row86\" >Cameroon</th>\n",
       "      <td id=\"T_19a70_row86_col0\" class=\"data row86 col0\" >133</td>\n",
       "      <td id=\"T_19a70_row86_col1\" class=\"data row86 col1\" >114</td>\n",
       "      <td id=\"T_19a70_row86_col2\" class=\"data row86 col2\" >107</td>\n",
       "      <td id=\"T_19a70_row86_col3\" class=\"data row86 col3\" >99</td>\n",
       "      <td id=\"T_19a70_row86_col4\" class=\"data row86 col4\" >96</td>\n",
       "      <td id=\"T_19a70_row86_col5\" class=\"data row86 col5\" >98</td>\n",
       "      <td id=\"T_19a70_row86_col6\" class=\"data row86 col6\" >91</td>\n",
       "      <td id=\"T_19a70_row86_col7\" class=\"data row86 col7\" >102</td>\n",
       "      <td id=\"T_19a70_row86_col8\" class=\"data row86 col8\" >105,00</td>\n",
       "      <td id=\"T_19a70_row86_col9\" class=\"data row86 col9\" >87</td>\n",
       "    </tr>\n",
       "    <tr>\n",
       "      <th id=\"T_19a70_level0_row87\" class=\"row_heading level0 row87\" >South Africa</th>\n",
       "      <td id=\"T_19a70_row87_col0\" class=\"data row87 col0\" >113</td>\n",
       "      <td id=\"T_19a70_row87_col1\" class=\"data row87 col1\" >116</td>\n",
       "      <td id=\"T_19a70_row87_col2\" class=\"data row87 col2\" >101</td>\n",
       "      <td id=\"T_19a70_row87_col3\" class=\"data row87 col3\" >105</td>\n",
       "      <td id=\"T_19a70_row87_col4\" class=\"data row87 col4\" >106</td>\n",
       "      <td id=\"T_19a70_row87_col5\" class=\"data row87 col5\" >109</td>\n",
       "      <td id=\"T_19a70_row87_col6\" class=\"data row87 col6\" >103</td>\n",
       "      <td id=\"T_19a70_row87_col7\" class=\"data row87 col7\" >91</td>\n",
       "      <td id=\"T_19a70_row87_col8\" class=\"data row87 col8\" >105,50</td>\n",
       "      <td id=\"T_19a70_row87_col9\" class=\"data row87 col9\" >88</td>\n",
       "    </tr>\n",
       "    <tr>\n",
       "      <th id=\"T_19a70_level0_row88\" class=\"row_heading level0 row88\" >Bangladesh</th>\n",
       "      <td id=\"T_19a70_row88_col0\" class=\"data row88 col0\" >109</td>\n",
       "      <td id=\"T_19a70_row88_col1\" class=\"data row88 col1\" >110</td>\n",
       "      <td id=\"T_19a70_row88_col2\" class=\"data row88 col2\" >110</td>\n",
       "      <td id=\"T_19a70_row88_col3\" class=\"data row88 col3\" >115</td>\n",
       "      <td id=\"T_19a70_row88_col4\" class=\"data row88 col4\" >125</td>\n",
       "      <td id=\"T_19a70_row88_col5\" class=\"data row88 col5\" >107</td>\n",
       "      <td id=\"T_19a70_row88_col6\" class=\"data row88 col6\" >101</td>\n",
       "      <td id=\"T_19a70_row88_col7\" class=\"data row88 col7\" >94</td>\n",
       "      <td id=\"T_19a70_row88_col8\" class=\"data row88 col8\" >108,88</td>\n",
       "      <td id=\"T_19a70_row88_col9\" class=\"data row88 col9\" >89</td>\n",
       "    </tr>\n",
       "    <tr>\n",
       "      <th id=\"T_19a70_level0_row89\" class=\"row_heading level0 row89\" >Ghana</th>\n",
       "      <td id=\"T_19a70_row89_col0\" class=\"data row89 col0\" >114</td>\n",
       "      <td id=\"T_19a70_row89_col1\" class=\"data row89 col1\" >124</td>\n",
       "      <td id=\"T_19a70_row89_col2\" class=\"data row89 col2\" >131</td>\n",
       "      <td id=\"T_19a70_row89_col3\" class=\"data row89 col3\" >108</td>\n",
       "      <td id=\"T_19a70_row89_col4\" class=\"data row89 col4\" >98</td>\n",
       "      <td id=\"T_19a70_row89_col5\" class=\"data row89 col5\" >91</td>\n",
       "      <td id=\"T_19a70_row89_col6\" class=\"data row89 col6\" >95</td>\n",
       "      <td id=\"T_19a70_row89_col7\" class=\"data row89 col7\" >111</td>\n",
       "      <td id=\"T_19a70_row89_col8\" class=\"data row89 col8\" >109,00</td>\n",
       "      <td id=\"T_19a70_row89_col9\" class=\"data row89 col9\" >90</td>\n",
       "    </tr>\n",
       "    <tr>\n",
       "      <th id=\"T_19a70_level0_row90\" class=\"row_heading level0 row90\" >Ivory Coast</th>\n",
       "      <td id=\"T_19a70_row90_col0\" class=\"data row90 col0\" >151</td>\n",
       "      <td id=\"T_19a70_row90_col1\" class=\"data row90 col1\" >139</td>\n",
       "      <td id=\"T_19a70_row90_col2\" class=\"data row90 col2\" >128</td>\n",
       "      <td id=\"T_19a70_row90_col3\" class=\"data row90 col3\" >107</td>\n",
       "      <td id=\"T_19a70_row90_col4\" class=\"data row90 col4\" >99</td>\n",
       "      <td id=\"T_19a70_row90_col5\" class=\"data row90 col5\" >85</td>\n",
       "      <td id=\"T_19a70_row90_col6\" class=\"data row90 col6\" >85</td>\n",
       "      <td id=\"T_19a70_row90_col7\" class=\"data row90 col7\" >88</td>\n",
       "      <td id=\"T_19a70_row90_col8\" class=\"data row90 col8\" >110,25</td>\n",
       "      <td id=\"T_19a70_row90_col9\" class=\"data row90 col9\" >91</td>\n",
       "    </tr>\n",
       "    <tr>\n",
       "      <th id=\"T_19a70_level0_row91\" class=\"row_heading level0 row91\" >Iran</th>\n",
       "      <td id=\"T_19a70_row91_col0\" class=\"data row91 col0\" >110</td>\n",
       "      <td id=\"T_19a70_row91_col1\" class=\"data row91 col1\" >105</td>\n",
       "      <td id=\"T_19a70_row91_col2\" class=\"data row91 col2\" >108</td>\n",
       "      <td id=\"T_19a70_row91_col3\" class=\"data row91 col3\" >106</td>\n",
       "      <td id=\"T_19a70_row91_col4\" class=\"data row91 col4\" >117</td>\n",
       "      <td id=\"T_19a70_row91_col5\" class=\"data row91 col5\" >118</td>\n",
       "      <td id=\"T_19a70_row91_col6\" class=\"data row91 col6\" >118</td>\n",
       "      <td id=\"T_19a70_row91_col7\" class=\"data row91 col7\" >110</td>\n",
       "      <td id=\"T_19a70_row91_col8\" class=\"data row91 col8\" >111,50</td>\n",
       "      <td id=\"T_19a70_row91_col9\" class=\"data row91 col9\" >92</td>\n",
       "    </tr>\n",
       "    <tr>\n",
       "      <th id=\"T_19a70_level0_row92\" class=\"row_heading level0 row92\" >Armenia</th>\n",
       "      <td id=\"T_19a70_row92_col0\" class=\"data row92 col0\" >127</td>\n",
       "      <td id=\"T_19a70_row92_col1\" class=\"data row92 col1\" >121</td>\n",
       "      <td id=\"T_19a70_row92_col2\" class=\"data row92 col2\" >121</td>\n",
       "      <td id=\"T_19a70_row92_col3\" class=\"data row92 col3\" >129</td>\n",
       "      <td id=\"T_19a70_row92_col4\" class=\"data row92 col4\" >116</td>\n",
       "      <td id=\"T_19a70_row92_col5\" class=\"data row92 col5\" >116</td>\n",
       "      <td id=\"T_19a70_row92_col6\" class=\"data row92 col6\" >86</td>\n",
       "      <td id=\"T_19a70_row92_col7\" class=\"data row92 col7\" >82</td>\n",
       "      <td id=\"T_19a70_row92_col8\" class=\"data row92 col8\" >112,25</td>\n",
       "      <td id=\"T_19a70_row92_col9\" class=\"data row92 col9\" >93</td>\n",
       "    </tr>\n",
       "    <tr>\n",
       "      <th id=\"T_19a70_level0_row93\" class=\"row_heading level0 row93\" >Senegal</th>\n",
       "      <td id=\"T_19a70_row93_col0\" class=\"data row93 col0\" >142</td>\n",
       "      <td id=\"T_19a70_row93_col1\" class=\"data row93 col1\" >128</td>\n",
       "      <td id=\"T_19a70_row93_col2\" class=\"data row93 col2\" >115</td>\n",
       "      <td id=\"T_19a70_row93_col3\" class=\"data row93 col3\" >109</td>\n",
       "      <td id=\"T_19a70_row93_col4\" class=\"data row93 col4\" >111</td>\n",
       "      <td id=\"T_19a70_row93_col5\" class=\"data row93 col5\" >101</td>\n",
       "      <td id=\"T_19a70_row93_col6\" class=\"data row93 col6\" >92</td>\n",
       "      <td id=\"T_19a70_row93_col7\" class=\"data row93 col7\" >103</td>\n",
       "      <td id=\"T_19a70_row93_col8\" class=\"data row93 col8\" >112,62</td>\n",
       "      <td id=\"T_19a70_row93_col9\" class=\"data row93 col9\" >94</td>\n",
       "    </tr>\n",
       "    <tr>\n",
       "      <th id=\"T_19a70_level0_row94\" class=\"row_heading level0 row94\" >Tunisia</th>\n",
       "      <td id=\"T_19a70_row94_col0\" class=\"data row94 col0\" >107</td>\n",
       "      <td id=\"T_19a70_row94_col1\" class=\"data row94 col1\" >98</td>\n",
       "      <td id=\"T_19a70_row94_col2\" class=\"data row94 col2\" >102</td>\n",
       "      <td id=\"T_19a70_row94_col3\" class=\"data row94 col3\" >111</td>\n",
       "      <td id=\"T_19a70_row94_col4\" class=\"data row94 col4\" >124</td>\n",
       "      <td id=\"T_19a70_row94_col5\" class=\"data row94 col5\" >128</td>\n",
       "      <td id=\"T_19a70_row94_col6\" class=\"data row94 col6\" >122</td>\n",
       "      <td id=\"T_19a70_row94_col7\" class=\"data row94 col7\" >120</td>\n",
       "      <td id=\"T_19a70_row94_col8\" class=\"data row94 col8\" >114,00</td>\n",
       "      <td id=\"T_19a70_row94_col9\" class=\"data row94 col9\" >95</td>\n",
       "    </tr>\n",
       "    <tr>\n",
       "      <th id=\"T_19a70_level0_row95\" class=\"row_heading level0 row95\" >Iraq</th>\n",
       "      <td id=\"T_19a70_row95_col0\" class=\"data row95 col0\" >112</td>\n",
       "      <td id=\"T_19a70_row95_col1\" class=\"data row95 col1\" >112</td>\n",
       "      <td id=\"T_19a70_row95_col2\" class=\"data row95 col2\" >117</td>\n",
       "      <td id=\"T_19a70_row95_col3\" class=\"data row95 col3\" >117</td>\n",
       "      <td id=\"T_19a70_row95_col4\" class=\"data row95 col4\" >126</td>\n",
       "      <td id=\"T_19a70_row95_col5\" class=\"data row95 col5\" >110</td>\n",
       "      <td id=\"T_19a70_row95_col6\" class=\"data row95 col6\" >111</td>\n",
       "      <td id=\"T_19a70_row95_col7\" class=\"data row95 col7\" >107</td>\n",
       "      <td id=\"T_19a70_row95_col8\" class=\"data row95 col8\" >114,00</td>\n",
       "      <td id=\"T_19a70_row95_col9\" class=\"data row95 col9\" >96</td>\n",
       "    </tr>\n",
       "    <tr>\n",
       "      <th id=\"T_19a70_level0_row96\" class=\"row_heading level0 row96\" >Gabon</th>\n",
       "      <td id=\"T_19a70_row96_col0\" class=\"data row96 col0\" >143</td>\n",
       "      <td id=\"T_19a70_row96_col1\" class=\"data row96 col1\" >134</td>\n",
       "      <td id=\"T_19a70_row96_col2\" class=\"data row96 col2\" >118</td>\n",
       "      <td id=\"T_19a70_row96_col3\" class=\"data row96 col3\" >103</td>\n",
       "      <td id=\"T_19a70_row96_col4\" class=\"data row96 col4\" >104</td>\n",
       "      <td id=\"T_19a70_row96_col5\" class=\"data row96 col5\" >108</td>\n",
       "      <td id=\"T_19a70_row96_col6\" class=\"data row96 col6\" >112</td>\n",
       "      <td id=\"T_19a70_row96_col7\" class=\"data row96 col7\" >106</td>\n",
       "      <td id=\"T_19a70_row96_col8\" class=\"data row96 col8\" >116,00</td>\n",
       "      <td id=\"T_19a70_row96_col9\" class=\"data row96 col9\" >97</td>\n",
       "    </tr>\n",
       "    <tr>\n",
       "      <th id=\"T_19a70_level0_row97\" class=\"row_heading level0 row97\" >Georgia</th>\n",
       "      <td id=\"T_19a70_row97_col0\" class=\"data row97 col0\" >130</td>\n",
       "      <td id=\"T_19a70_row97_col1\" class=\"data row97 col1\" >126</td>\n",
       "      <td id=\"T_19a70_row97_col2\" class=\"data row97 col2\" >125</td>\n",
       "      <td id=\"T_19a70_row97_col3\" class=\"data row97 col3\" >128</td>\n",
       "      <td id=\"T_19a70_row97_col4\" class=\"data row97 col4\" >119</td>\n",
       "      <td id=\"T_19a70_row97_col5\" class=\"data row97 col5\" >117</td>\n",
       "      <td id=\"T_19a70_row97_col6\" class=\"data row97 col6\" >108</td>\n",
       "      <td id=\"T_19a70_row97_col7\" class=\"data row97 col7\" >105</td>\n",
       "      <td id=\"T_19a70_row97_col8\" class=\"data row97 col8\" >119,75</td>\n",
       "      <td id=\"T_19a70_row97_col9\" class=\"data row97 col9\" >98</td>\n",
       "    </tr>\n",
       "    <tr>\n",
       "      <th id=\"T_19a70_level0_row98\" class=\"row_heading level0 row98\" >Kenya</th>\n",
       "      <td id=\"T_19a70_row98_col0\" class=\"data row98 col0\" >125</td>\n",
       "      <td id=\"T_19a70_row98_col1\" class=\"data row98 col1\" >122</td>\n",
       "      <td id=\"T_19a70_row98_col2\" class=\"data row98 col2\" >112</td>\n",
       "      <td id=\"T_19a70_row98_col3\" class=\"data row98 col3\" >124</td>\n",
       "      <td id=\"T_19a70_row98_col4\" class=\"data row98 col4\" >121</td>\n",
       "      <td id=\"T_19a70_row98_col5\" class=\"data row98 col5\" >121</td>\n",
       "      <td id=\"T_19a70_row98_col6\" class=\"data row98 col6\" >121</td>\n",
       "      <td id=\"T_19a70_row98_col7\" class=\"data row98 col7\" >119</td>\n",
       "      <td id=\"T_19a70_row98_col8\" class=\"data row98 col8\" >120,62</td>\n",
       "      <td id=\"T_19a70_row98_col9\" class=\"data row98 col9\" >99</td>\n",
       "    </tr>\n",
       "    <tr>\n",
       "      <th id=\"T_19a70_level0_row99\" class=\"row_heading level0 row99\" >Ukraine</th>\n",
       "      <td id=\"T_19a70_row99_col0\" class=\"data row99 col0\" >111</td>\n",
       "      <td id=\"T_19a70_row99_col1\" class=\"data row99 col1\" >123</td>\n",
       "      <td id=\"T_19a70_row99_col2\" class=\"data row99 col2\" >132</td>\n",
       "      <td id=\"T_19a70_row99_col3\" class=\"data row99 col3\" >138</td>\n",
       "      <td id=\"T_19a70_row99_col4\" class=\"data row99 col4\" >133</td>\n",
       "      <td id=\"T_19a70_row99_col5\" class=\"data row99 col5\" >123</td>\n",
       "      <td id=\"T_19a70_row99_col6\" class=\"data row99 col6\" >110</td>\n",
       "      <td id=\"T_19a70_row99_col7\" class=\"data row99 col7\" >98</td>\n",
       "      <td id=\"T_19a70_row99_col8\" class=\"data row99 col8\" >121,00</td>\n",
       "      <td id=\"T_19a70_row99_col9\" class=\"data row99 col9\" >100</td>\n",
       "    </tr>\n",
       "    <tr>\n",
       "      <th id=\"T_19a70_level0_row100\" class=\"row_heading level0 row100\" >Cambodia</th>\n",
       "      <td id=\"T_19a70_row100_col0\" class=\"data row100 col0\" >145</td>\n",
       "      <td id=\"T_19a70_row100_col1\" class=\"data row100 col1\" >140</td>\n",
       "      <td id=\"T_19a70_row100_col2\" class=\"data row100 col2\" >129</td>\n",
       "      <td id=\"T_19a70_row100_col3\" class=\"data row100 col3\" >120</td>\n",
       "      <td id=\"T_19a70_row100_col4\" class=\"data row100 col4\" >109</td>\n",
       "      <td id=\"T_19a70_row100_col5\" class=\"data row100 col5\" >106</td>\n",
       "      <td id=\"T_19a70_row100_col6\" class=\"data row100 col6\" >114</td>\n",
       "      <td id=\"T_19a70_row100_col7\" class=\"data row100 col7\" >114</td>\n",
       "      <td id=\"T_19a70_row100_col8\" class=\"data row100 col8\" >122,12</td>\n",
       "      <td id=\"T_19a70_row100_col9\" class=\"data row100 col9\" >101</td>\n",
       "    </tr>\n",
       "    <tr>\n",
       "      <th id=\"T_19a70_level0_row101\" class=\"row_heading level0 row101\" >Zambia</th>\n",
       "      <td id=\"T_19a70_row101_col0\" class=\"data row101 col0\" >85</td>\n",
       "      <td id=\"T_19a70_row101_col1\" class=\"data row101 col1\" >106</td>\n",
       "      <td id=\"T_19a70_row101_col2\" class=\"data row101 col2\" >116</td>\n",
       "      <td id=\"T_19a70_row101_col3\" class=\"data row101 col3\" >125</td>\n",
       "      <td id=\"T_19a70_row101_col4\" class=\"data row101 col4\" >138</td>\n",
       "      <td id=\"T_19a70_row101_col5\" class=\"data row101 col5\" >141</td>\n",
       "      <td id=\"T_19a70_row101_col6\" class=\"data row101 col6\" >137</td>\n",
       "      <td id=\"T_19a70_row101_col7\" class=\"data row101 col7\" >137</td>\n",
       "      <td id=\"T_19a70_row101_col8\" class=\"data row101 col8\" >123,12</td>\n",
       "      <td id=\"T_19a70_row101_col9\" class=\"data row101 col9\" >102</td>\n",
       "    </tr>\n",
       "    <tr>\n",
       "      <th id=\"T_19a70_level0_row102\" class=\"row_heading level0 row102\" >Benin</th>\n",
       "      <td id=\"T_19a70_row102_col0\" class=\"data row102 col0\" >155</td>\n",
       "      <td id=\"T_19a70_row102_col1\" class=\"data row102 col1\" >153</td>\n",
       "      <td id=\"T_19a70_row102_col2\" class=\"data row102 col2\" >143</td>\n",
       "      <td id=\"T_19a70_row102_col3\" class=\"data row102 col3\" >136</td>\n",
       "      <td id=\"T_19a70_row102_col4\" class=\"data row102 col4\" >102</td>\n",
       "      <td id=\"T_19a70_row102_col5\" class=\"data row102 col5\" >86</td>\n",
       "      <td id=\"T_19a70_row102_col6\" class=\"data row102 col6\" >99</td>\n",
       "      <td id=\"T_19a70_row102_col7\" class=\"data row102 col7\" >115</td>\n",
       "      <td id=\"T_19a70_row102_col8\" class=\"data row102 col8\" >123,62</td>\n",
       "      <td id=\"T_19a70_row102_col9\" class=\"data row102 col9\" >103</td>\n",
       "    </tr>\n",
       "    <tr>\n",
       "      <th id=\"T_19a70_level0_row103\" class=\"row_heading level0 row103\" >Sierra Leone</th>\n",
       "      <td id=\"T_19a70_row103_col0\" class=\"data row103 col0\" >123</td>\n",
       "      <td id=\"T_19a70_row103_col1\" class=\"data row103 col1\" >111</td>\n",
       "      <td id=\"T_19a70_row103_col2\" class=\"data row103 col2\" >106</td>\n",
       "      <td id=\"T_19a70_row103_col3\" class=\"data row103 col3\" >113</td>\n",
       "      <td id=\"T_19a70_row103_col4\" class=\"data row103 col4\" >129</td>\n",
       "      <td id=\"T_19a70_row103_col5\" class=\"data row103 col5\" >139</td>\n",
       "      <td id=\"T_19a70_row103_col6\" class=\"data row103 col6\" >138</td>\n",
       "      <td id=\"T_19a70_row103_col7\" class=\"data row103 col7\" >140</td>\n",
       "      <td id=\"T_19a70_row103_col8\" class=\"data row103 col8\" >124,88</td>\n",
       "      <td id=\"T_19a70_row103_col9\" class=\"data row103 col9\" >104</td>\n",
       "    </tr>\n",
       "    <tr>\n",
       "      <th id=\"T_19a70_level0_row104\" class=\"row_heading level0 row104\" >Mali</th>\n",
       "      <td id=\"T_19a70_row104_col0\" class=\"data row104 col0\" >138</td>\n",
       "      <td id=\"T_19a70_row104_col1\" class=\"data row104 col1\" >135</td>\n",
       "      <td id=\"T_19a70_row104_col2\" class=\"data row104 col2\" >127</td>\n",
       "      <td id=\"T_19a70_row104_col3\" class=\"data row104 col3\" >118</td>\n",
       "      <td id=\"T_19a70_row104_col4\" class=\"data row104 col4\" >128</td>\n",
       "      <td id=\"T_19a70_row104_col5\" class=\"data row104 col5\" >114</td>\n",
       "      <td id=\"T_19a70_row104_col6\" class=\"data row104 col6\" >117</td>\n",
       "      <td id=\"T_19a70_row104_col7\" class=\"data row104 col7\" >123</td>\n",
       "      <td id=\"T_19a70_row104_col8\" class=\"data row104 col8\" >125,00</td>\n",
       "      <td id=\"T_19a70_row104_col9\" class=\"data row104 col9\" >105</td>\n",
       "    </tr>\n",
       "    <tr>\n",
       "      <th id=\"T_19a70_level0_row105\" class=\"row_heading level0 row105\" >Sri Lanka</th>\n",
       "      <td id=\"T_19a70_row105_col0\" class=\"data row105 col0\" >132</td>\n",
       "      <td id=\"T_19a70_row105_col1\" class=\"data row105 col1\" >117</td>\n",
       "      <td id=\"T_19a70_row105_col2\" class=\"data row105 col2\" >120</td>\n",
       "      <td id=\"T_19a70_row105_col3\" class=\"data row105 col3\" >116</td>\n",
       "      <td id=\"T_19a70_row105_col4\" class=\"data row105 col4\" >130</td>\n",
       "      <td id=\"T_19a70_row105_col5\" class=\"data row105 col5\" >130</td>\n",
       "      <td id=\"T_19a70_row105_col6\" class=\"data row105 col6\" >129</td>\n",
       "      <td id=\"T_19a70_row105_col7\" class=\"data row105 col7\" >127</td>\n",
       "      <td id=\"T_19a70_row105_col8\" class=\"data row105 col8\" >125,12</td>\n",
       "      <td id=\"T_19a70_row105_col9\" class=\"data row105 col9\" >106</td>\n",
       "    </tr>\n",
       "    <tr>\n",
       "      <th id=\"T_19a70_level0_row106\" class=\"row_heading level0 row106\" >Burkina Faso</th>\n",
       "      <td id=\"T_19a70_row106_col0\" class=\"data row106 col0\" >152</td>\n",
       "      <td id=\"T_19a70_row106_col1\" class=\"data row106 col1\" >145</td>\n",
       "      <td id=\"T_19a70_row106_col2\" class=\"data row106 col2\" >134</td>\n",
       "      <td id=\"T_19a70_row106_col3\" class=\"data row106 col3\" >121</td>\n",
       "      <td id=\"T_19a70_row106_col4\" class=\"data row106 col4\" >115</td>\n",
       "      <td id=\"T_19a70_row106_col5\" class=\"data row106 col5\" >112</td>\n",
       "      <td id=\"T_19a70_row106_col6\" class=\"data row106 col6\" >113</td>\n",
       "      <td id=\"T_19a70_row106_col7\" class=\"data row106 col7\" >113</td>\n",
       "      <td id=\"T_19a70_row106_col8\" class=\"data row106 col8\" >125,62</td>\n",
       "      <td id=\"T_19a70_row106_col9\" class=\"data row106 col9\" >107</td>\n",
       "    </tr>\n",
       "    <tr>\n",
       "      <th id=\"T_19a70_level0_row107\" class=\"row_heading level0 row107\" >Myanmar</th>\n",
       "      <td id=\"T_19a70_row107_col0\" class=\"data row107 col0\" >129</td>\n",
       "      <td id=\"T_19a70_row107_col1\" class=\"data row107 col1\" >119</td>\n",
       "      <td id=\"T_19a70_row107_col2\" class=\"data row107 col2\" >114</td>\n",
       "      <td id=\"T_19a70_row107_col3\" class=\"data row107 col3\" >130</td>\n",
       "      <td id=\"T_19a70_row107_col4\" class=\"data row107 col4\" >131</td>\n",
       "      <td id=\"T_19a70_row107_col5\" class=\"data row107 col5\" >133</td>\n",
       "      <td id=\"T_19a70_row107_col6\" class=\"data row107 col6\" >126</td>\n",
       "      <td id=\"T_19a70_row107_col7\" class=\"data row107 col7\" >126</td>\n",
       "      <td id=\"T_19a70_row107_col8\" class=\"data row107 col8\" >126,00</td>\n",
       "      <td id=\"T_19a70_row107_col9\" class=\"data row107 col9\" >108</td>\n",
       "    </tr>\n",
       "    <tr>\n",
       "      <th id=\"T_19a70_level0_row108\" class=\"row_heading level0 row108\" >Ethiopia</th>\n",
       "      <td id=\"T_19a70_row108_col0\" class=\"data row108 col0\" >122</td>\n",
       "      <td id=\"T_19a70_row108_col1\" class=\"data row108 col1\" >115</td>\n",
       "      <td id=\"T_19a70_row108_col2\" class=\"data row108 col2\" >119</td>\n",
       "      <td id=\"T_19a70_row108_col3\" class=\"data row108 col3\" >127</td>\n",
       "      <td id=\"T_19a70_row108_col4\" class=\"data row108 col4\" >134</td>\n",
       "      <td id=\"T_19a70_row108_col5\" class=\"data row108 col5\" >136</td>\n",
       "      <td id=\"T_19a70_row108_col6\" class=\"data row108 col6\" >133</td>\n",
       "      <td id=\"T_19a70_row108_col7\" class=\"data row108 col7\" >131</td>\n",
       "      <td id=\"T_19a70_row108_col8\" class=\"data row108 col8\" >127,12</td>\n",
       "      <td id=\"T_19a70_row108_col9\" class=\"data row108 col9\" >109</td>\n",
       "    </tr>\n",
       "    <tr>\n",
       "      <th id=\"T_19a70_level0_row109\" class=\"row_heading level0 row109\" >Egypt</th>\n",
       "      <td id=\"T_19a70_row109_col0\" class=\"data row109 col0\" >135</td>\n",
       "      <td id=\"T_19a70_row109_col1\" class=\"data row109 col1\" >120</td>\n",
       "      <td id=\"T_19a70_row109_col2\" class=\"data row109 col2\" >104</td>\n",
       "      <td id=\"T_19a70_row109_col3\" class=\"data row109 col3\" >122</td>\n",
       "      <td id=\"T_19a70_row109_col4\" class=\"data row109 col4\" >137</td>\n",
       "      <td id=\"T_19a70_row109_col5\" class=\"data row109 col5\" >138</td>\n",
       "      <td id=\"T_19a70_row109_col6\" class=\"data row109 col6\" >132</td>\n",
       "      <td id=\"T_19a70_row109_col7\" class=\"data row109 col7\" >129</td>\n",
       "      <td id=\"T_19a70_row109_col8\" class=\"data row109 col8\" >127,12</td>\n",
       "      <td id=\"T_19a70_row109_col9\" class=\"data row109 col9\" >110</td>\n",
       "    </tr>\n",
       "    <tr>\n",
       "      <th id=\"T_19a70_level0_row110\" class=\"row_heading level0 row110\" >Guinea</th>\n",
       "      <td id=\"T_19a70_row110_col0\" class=\"data row110 col0\" >150</td>\n",
       "      <td id=\"T_19a70_row110_col1\" class=\"data row110 col1\" >151</td>\n",
       "      <td id=\"T_19a70_row110_col2\" class=\"data row110 col2\" >149</td>\n",
       "      <td id=\"T_19a70_row110_col3\" class=\"data row110 col3\" >140</td>\n",
       "      <td id=\"T_19a70_row110_col4\" class=\"data row110 col4\" >118</td>\n",
       "      <td id=\"T_19a70_row110_col5\" class=\"data row110 col5\" >102</td>\n",
       "      <td id=\"T_19a70_row110_col6\" class=\"data row110 col6\" >102</td>\n",
       "      <td id=\"T_19a70_row110_col7\" class=\"data row110 col7\" >109</td>\n",
       "      <td id=\"T_19a70_row110_col8\" class=\"data row110 col8\" >127,62</td>\n",
       "      <td id=\"T_19a70_row110_col9\" class=\"data row110 col9\" >111</td>\n",
       "    </tr>\n",
       "    <tr>\n",
       "      <th id=\"T_19a70_level0_row111\" class=\"row_heading level0 row111\" >India</th>\n",
       "      <td id=\"T_19a70_row111_col0\" class=\"data row111 col0\" >117</td>\n",
       "      <td id=\"T_19a70_row111_col1\" class=\"data row111 col1\" >118</td>\n",
       "      <td id=\"T_19a70_row111_col2\" class=\"data row111 col2\" >122</td>\n",
       "      <td id=\"T_19a70_row111_col3\" class=\"data row111 col3\" >133</td>\n",
       "      <td id=\"T_19a70_row111_col4\" class=\"data row111 col4\" >140</td>\n",
       "      <td id=\"T_19a70_row111_col5\" class=\"data row111 col5\" >144</td>\n",
       "      <td id=\"T_19a70_row111_col6\" class=\"data row111 col6\" >139</td>\n",
       "      <td id=\"T_19a70_row111_col7\" class=\"data row111 col7\" >136</td>\n",
       "      <td id=\"T_19a70_row111_col8\" class=\"data row111 col8\" >131,12</td>\n",
       "      <td id=\"T_19a70_row111_col9\" class=\"data row111 col9\" >112</td>\n",
       "    </tr>\n",
       "    <tr>\n",
       "      <th id=\"T_19a70_level0_row112\" class=\"row_heading level0 row112\" >Uganda</th>\n",
       "      <td id=\"T_19a70_row112_col0\" class=\"data row112 col0\" >141</td>\n",
       "      <td id=\"T_19a70_row112_col1\" class=\"data row112 col1\" >145</td>\n",
       "      <td id=\"T_19a70_row112_col2\" class=\"data row112 col2\" >133</td>\n",
       "      <td id=\"T_19a70_row112_col3\" class=\"data row112 col3\" >135</td>\n",
       "      <td id=\"T_19a70_row112_col4\" class=\"data row112 col4\" >136</td>\n",
       "      <td id=\"T_19a70_row112_col5\" class=\"data row112 col5\" >126</td>\n",
       "      <td id=\"T_19a70_row112_col6\" class=\"data row112 col6\" >119</td>\n",
       "      <td id=\"T_19a70_row112_col7\" class=\"data row112 col7\" >117</td>\n",
       "      <td id=\"T_19a70_row112_col8\" class=\"data row112 col8\" >131,50</td>\n",
       "      <td id=\"T_19a70_row112_col9\" class=\"data row112 col9\" >113</td>\n",
       "    </tr>\n",
       "    <tr>\n",
       "      <th id=\"T_19a70_level0_row113\" class=\"row_heading level0 row113\" >Zimbabwe</th>\n",
       "      <td id=\"T_19a70_row113_col0\" class=\"data row113 col0\" >115</td>\n",
       "      <td id=\"T_19a70_row113_col1\" class=\"data row113 col1\" >131</td>\n",
       "      <td id=\"T_19a70_row113_col2\" class=\"data row113 col2\" >138</td>\n",
       "      <td id=\"T_19a70_row113_col3\" class=\"data row113 col3\" >144</td>\n",
       "      <td id=\"T_19a70_row113_col4\" class=\"data row113 col4\" >146</td>\n",
       "      <td id=\"T_19a70_row113_col5\" class=\"data row113 col5\" >151</td>\n",
       "      <td id=\"T_19a70_row113_col6\" class=\"data row113 col6\" >148</td>\n",
       "      <td id=\"T_19a70_row113_col7\" class=\"data row113 col7\" >144</td>\n",
       "      <td id=\"T_19a70_row113_col8\" class=\"data row113 col8\" >139,62</td>\n",
       "      <td id=\"T_19a70_row113_col9\" class=\"data row113 col9\" >114</td>\n",
       "    </tr>\n",
       "    <tr>\n",
       "      <th id=\"T_19a70_level0_row114\" class=\"row_heading level0 row114\" >Malawi</th>\n",
       "      <td id=\"T_19a70_row114_col0\" class=\"data row114 col0\" >131</td>\n",
       "      <td id=\"T_19a70_row114_col1\" class=\"data row114 col1\" >132</td>\n",
       "      <td id=\"T_19a70_row114_col2\" class=\"data row114 col2\" >136</td>\n",
       "      <td id=\"T_19a70_row114_col3\" class=\"data row114 col3\" >147</td>\n",
       "      <td id=\"T_19a70_row114_col4\" class=\"data row114 col4\" >150</td>\n",
       "      <td id=\"T_19a70_row114_col5\" class=\"data row114 col5\" >145</td>\n",
       "      <td id=\"T_19a70_row114_col6\" class=\"data row114 col6\" >144</td>\n",
       "      <td id=\"T_19a70_row114_col7\" class=\"data row114 col7\" >138</td>\n",
       "      <td id=\"T_19a70_row114_col8\" class=\"data row114 col8\" >140,38</td>\n",
       "      <td id=\"T_19a70_row114_col9\" class=\"data row114 col9\" >115</td>\n",
       "    </tr>\n",
       "    <tr>\n",
       "      <th id=\"T_19a70_level0_row115\" class=\"row_heading level0 row115\" >Togo</th>\n",
       "      <td id=\"T_19a70_row115_col0\" class=\"data row115 col0\" >158</td>\n",
       "      <td id=\"T_19a70_row115_col1\" class=\"data row115 col1\" >155</td>\n",
       "      <td id=\"T_19a70_row115_col2\" class=\"data row115 col2\" >150</td>\n",
       "      <td id=\"T_19a70_row115_col3\" class=\"data row115 col3\" >139</td>\n",
       "      <td id=\"T_19a70_row115_col4\" class=\"data row115 col4\" >139</td>\n",
       "      <td id=\"T_19a70_row115_col5\" class=\"data row115 col5\" >135</td>\n",
       "      <td id=\"T_19a70_row115_col6\" class=\"data row115 col6\" >136</td>\n",
       "      <td id=\"T_19a70_row115_col7\" class=\"data row115 col7\" >135</td>\n",
       "      <td id=\"T_19a70_row115_col8\" class=\"data row115 col8\" >143,38</td>\n",
       "      <td id=\"T_19a70_row115_col9\" class=\"data row115 col9\" >116</td>\n",
       "    </tr>\n",
       "    <tr>\n",
       "      <th id=\"T_19a70_level0_row116\" class=\"row_heading level0 row116\" >Tanzania</th>\n",
       "      <td id=\"T_19a70_row116_col0\" class=\"data row116 col0\" >146</td>\n",
       "      <td id=\"T_19a70_row116_col1\" class=\"data row116 col1\" >149</td>\n",
       "      <td id=\"T_19a70_row116_col2\" class=\"data row116 col2\" >153</td>\n",
       "      <td id=\"T_19a70_row116_col3\" class=\"data row116 col3\" >153</td>\n",
       "      <td id=\"T_19a70_row116_col4\" class=\"data row116 col4\" >153</td>\n",
       "      <td id=\"T_19a70_row116_col5\" class=\"data row116 col5\" >148</td>\n",
       "      <td id=\"T_19a70_row116_col6\" class=\"data row116 col6\" >142</td>\n",
       "      <td id=\"T_19a70_row116_col7\" class=\"data row116 col7\" >139</td>\n",
       "      <td id=\"T_19a70_row116_col8\" class=\"data row116 col8\" >147,88</td>\n",
       "      <td id=\"T_19a70_row116_col9\" class=\"data row116 col9\" >117</td>\n",
       "    </tr>\n",
       "    <tr>\n",
       "      <th id=\"T_19a70_level0_row117\" class=\"row_heading level0 row117\" >Afghanistan</th>\n",
       "      <td id=\"T_19a70_row117_col0\" class=\"data row117 col0\" >153</td>\n",
       "      <td id=\"T_19a70_row117_col1\" class=\"data row117 col1\" >154</td>\n",
       "      <td id=\"T_19a70_row117_col2\" class=\"data row117 col2\" >141</td>\n",
       "      <td id=\"T_19a70_row117_col3\" class=\"data row117 col3\" >145</td>\n",
       "      <td id=\"T_19a70_row117_col4\" class=\"data row117 col4\" >154</td>\n",
       "      <td id=\"T_19a70_row117_col5\" class=\"data row117 col5\" >153</td>\n",
       "      <td id=\"T_19a70_row117_col6\" class=\"data row117 col6\" >149</td>\n",
       "      <td id=\"T_19a70_row117_col7\" class=\"data row117 col7\" >146</td>\n",
       "      <td id=\"T_19a70_row117_col8\" class=\"data row117 col8\" >149,38</td>\n",
       "      <td id=\"T_19a70_row117_col9\" class=\"data row117 col9\" >118</td>\n",
       "    </tr>\n",
       "  </tbody>\n",
       "</table>\n"
      ],
      "text/plain": [
       "<pandas.io.formats.style.Styler at 0x294b73cbac0>"
      ]
     },
     "execution_count": 60,
     "metadata": {},
     "output_type": "execute_result"
    }
   ],
   "source": [
    "datapivothappiness_rank['AVG'] = datapivothappiness_rank.mean(axis = 1)\n",
    "datapivothappiness_rank = datapivothappiness_rank.sort_values(by = ['AVG'])\n",
    "datapivothappiness_rank['Rank'] = range(1, len(datapivothappiness_rank)+1)\n",
    "datapivothappiness_rank.style\\\n",
    "    .applymap(color_rank, subset = ['Happiness Rank', 'Rank'])\\\n",
    "    .format(precision=2, thousands=\".\", decimal=\",\")\\\n",
    "    .apply(lambda x: ['background: blue' if x.name in ['Russia'] \n",
    "                              else '' for i in x], \n",
    "                   axis=1)\n"
   ]
  },
  {
   "attachments": {},
   "cell_type": "markdown",
   "metadata": {},
   "source": [
    "<ins>  Conclusion ** </ins>  \n",
    "The first 3 places in terms of happiness have been occupied by the following countries since 2015:  \n",
    "Denmark, Finland, Iceland,Switzerland, Norway.  \n",
    "Finland on the first place last 5 years.  \n",
    "Denmark on the 2nd place last 4 years.  \n",
    "Russia is somewhere between 49 and 80 place and we loose our positions since 2017 every year."
   ]
  },
  {
   "attachments": {},
   "cell_type": "markdown",
   "metadata": {},
   "source": [
    "### 5. Happiness Score pivot"
   ]
  },
  {
   "cell_type": "code",
   "execution_count": 61,
   "metadata": {},
   "outputs": [
    {
     "data": {
      "text/html": [
       "<style type=\"text/css\">\n",
       "#T_caf6b_row0_col3, #T_caf6b_row0_col4, #T_caf6b_row0_col5, #T_caf6b_row0_col6, #T_caf6b_row0_col7, #T_caf6b_row0_col8, #T_caf6b_row1_col1, #T_caf6b_row2_col0, #T_caf6b_row4_col2 {\n",
       "  background-color: yellow;\n",
       "}\n",
       "#T_caf6b_row56_col0, #T_caf6b_row56_col1, #T_caf6b_row56_col2, #T_caf6b_row56_col3, #T_caf6b_row56_col4, #T_caf6b_row56_col5, #T_caf6b_row56_col6, #T_caf6b_row56_col7, #T_caf6b_row56_col8 {\n",
       "  background: blue;\n",
       "}\n",
       "</style>\n",
       "<table id=\"T_caf6b\">\n",
       "  <thead>\n",
       "    <tr>\n",
       "      <th class=\"index_name level0\" >Year</th>\n",
       "      <th id=\"T_caf6b_level0_col0\" class=\"col_heading level0 col0\" >2015</th>\n",
       "      <th id=\"T_caf6b_level0_col1\" class=\"col_heading level0 col1\" >2016</th>\n",
       "      <th id=\"T_caf6b_level0_col2\" class=\"col_heading level0 col2\" >2017</th>\n",
       "      <th id=\"T_caf6b_level0_col3\" class=\"col_heading level0 col3\" >2018</th>\n",
       "      <th id=\"T_caf6b_level0_col4\" class=\"col_heading level0 col4\" >2019</th>\n",
       "      <th id=\"T_caf6b_level0_col5\" class=\"col_heading level0 col5\" >2020</th>\n",
       "      <th id=\"T_caf6b_level0_col6\" class=\"col_heading level0 col6\" >2021</th>\n",
       "      <th id=\"T_caf6b_level0_col7\" class=\"col_heading level0 col7\" >2022</th>\n",
       "      <th id=\"T_caf6b_level0_col8\" class=\"col_heading level0 col8\" >AVG</th>\n",
       "    </tr>\n",
       "    <tr>\n",
       "      <th class=\"index_name level0\" >Country</th>\n",
       "      <th class=\"blank col0\" >&nbsp;</th>\n",
       "      <th class=\"blank col1\" >&nbsp;</th>\n",
       "      <th class=\"blank col2\" >&nbsp;</th>\n",
       "      <th class=\"blank col3\" >&nbsp;</th>\n",
       "      <th class=\"blank col4\" >&nbsp;</th>\n",
       "      <th class=\"blank col5\" >&nbsp;</th>\n",
       "      <th class=\"blank col6\" >&nbsp;</th>\n",
       "      <th class=\"blank col7\" >&nbsp;</th>\n",
       "      <th class=\"blank col8\" >&nbsp;</th>\n",
       "    </tr>\n",
       "  </thead>\n",
       "  <tbody>\n",
       "    <tr>\n",
       "      <th id=\"T_caf6b_level0_row0\" class=\"row_heading level0 row0\" >Finland</th>\n",
       "      <td id=\"T_caf6b_row0_col0\" class=\"data row0 col0\" >7,41</td>\n",
       "      <td id=\"T_caf6b_row0_col1\" class=\"data row0 col1\" >7,41</td>\n",
       "      <td id=\"T_caf6b_row0_col2\" class=\"data row0 col2\" >7,47</td>\n",
       "      <td id=\"T_caf6b_row0_col3\" class=\"data row0 col3\" >7,63</td>\n",
       "      <td id=\"T_caf6b_row0_col4\" class=\"data row0 col4\" >7,77</td>\n",
       "      <td id=\"T_caf6b_row0_col5\" class=\"data row0 col5\" >7,81</td>\n",
       "      <td id=\"T_caf6b_row0_col6\" class=\"data row0 col6\" >7,84</td>\n",
       "      <td id=\"T_caf6b_row0_col7\" class=\"data row0 col7\" >7,82</td>\n",
       "      <td id=\"T_caf6b_row0_col8\" class=\"data row0 col8\" >7,65</td>\n",
       "    </tr>\n",
       "    <tr>\n",
       "      <th id=\"T_caf6b_level0_row1\" class=\"row_heading level0 row1\" >Denmark</th>\n",
       "      <td id=\"T_caf6b_row1_col0\" class=\"data row1 col0\" >7,53</td>\n",
       "      <td id=\"T_caf6b_row1_col1\" class=\"data row1 col1\" >7,53</td>\n",
       "      <td id=\"T_caf6b_row1_col2\" class=\"data row1 col2\" >7,52</td>\n",
       "      <td id=\"T_caf6b_row1_col3\" class=\"data row1 col3\" >7,55</td>\n",
       "      <td id=\"T_caf6b_row1_col4\" class=\"data row1 col4\" >7,60</td>\n",
       "      <td id=\"T_caf6b_row1_col5\" class=\"data row1 col5\" >7,65</td>\n",
       "      <td id=\"T_caf6b_row1_col6\" class=\"data row1 col6\" >7,62</td>\n",
       "      <td id=\"T_caf6b_row1_col7\" class=\"data row1 col7\" >7,64</td>\n",
       "      <td id=\"T_caf6b_row1_col8\" class=\"data row1 col8\" >7,58</td>\n",
       "    </tr>\n",
       "    <tr>\n",
       "      <th id=\"T_caf6b_level0_row2\" class=\"row_heading level0 row2\" >Switzerland</th>\n",
       "      <td id=\"T_caf6b_row2_col0\" class=\"data row2 col0\" >7,59</td>\n",
       "      <td id=\"T_caf6b_row2_col1\" class=\"data row2 col1\" >7,51</td>\n",
       "      <td id=\"T_caf6b_row2_col2\" class=\"data row2 col2\" >7,49</td>\n",
       "      <td id=\"T_caf6b_row2_col3\" class=\"data row2 col3\" >7,49</td>\n",
       "      <td id=\"T_caf6b_row2_col4\" class=\"data row2 col4\" >7,48</td>\n",
       "      <td id=\"T_caf6b_row2_col5\" class=\"data row2 col5\" >7,56</td>\n",
       "      <td id=\"T_caf6b_row2_col6\" class=\"data row2 col6\" >7,57</td>\n",
       "      <td id=\"T_caf6b_row2_col7\" class=\"data row2 col7\" >7,51</td>\n",
       "      <td id=\"T_caf6b_row2_col8\" class=\"data row2 col8\" >7,52</td>\n",
       "    </tr>\n",
       "    <tr>\n",
       "      <th id=\"T_caf6b_level0_row3\" class=\"row_heading level0 row3\" >Iceland</th>\n",
       "      <td id=\"T_caf6b_row3_col0\" class=\"data row3 col0\" >7,56</td>\n",
       "      <td id=\"T_caf6b_row3_col1\" class=\"data row3 col1\" >7,50</td>\n",
       "      <td id=\"T_caf6b_row3_col2\" class=\"data row3 col2\" >7,50</td>\n",
       "      <td id=\"T_caf6b_row3_col3\" class=\"data row3 col3\" >7,49</td>\n",
       "      <td id=\"T_caf6b_row3_col4\" class=\"data row3 col4\" >7,49</td>\n",
       "      <td id=\"T_caf6b_row3_col5\" class=\"data row3 col5\" >7,50</td>\n",
       "      <td id=\"T_caf6b_row3_col6\" class=\"data row3 col6\" >7,55</td>\n",
       "      <td id=\"T_caf6b_row3_col7\" class=\"data row3 col7\" >7,56</td>\n",
       "      <td id=\"T_caf6b_row3_col8\" class=\"data row3 col8\" >7,52</td>\n",
       "    </tr>\n",
       "    <tr>\n",
       "      <th id=\"T_caf6b_level0_row4\" class=\"row_heading level0 row4\" >Norway</th>\n",
       "      <td id=\"T_caf6b_row4_col0\" class=\"data row4 col0\" >7,52</td>\n",
       "      <td id=\"T_caf6b_row4_col1\" class=\"data row4 col1\" >7,50</td>\n",
       "      <td id=\"T_caf6b_row4_col2\" class=\"data row4 col2\" >7,54</td>\n",
       "      <td id=\"T_caf6b_row4_col3\" class=\"data row4 col3\" >7,59</td>\n",
       "      <td id=\"T_caf6b_row4_col4\" class=\"data row4 col4\" >7,55</td>\n",
       "      <td id=\"T_caf6b_row4_col5\" class=\"data row4 col5\" >7,49</td>\n",
       "      <td id=\"T_caf6b_row4_col6\" class=\"data row4 col6\" >7,39</td>\n",
       "      <td id=\"T_caf6b_row4_col7\" class=\"data row4 col7\" >7,36</td>\n",
       "      <td id=\"T_caf6b_row4_col8\" class=\"data row4 col8\" >7,49</td>\n",
       "    </tr>\n",
       "    <tr>\n",
       "      <th id=\"T_caf6b_level0_row5\" class=\"row_heading level0 row5\" >Netherlands</th>\n",
       "      <td id=\"T_caf6b_row5_col0\" class=\"data row5 col0\" >7,38</td>\n",
       "      <td id=\"T_caf6b_row5_col1\" class=\"data row5 col1\" >7,34</td>\n",
       "      <td id=\"T_caf6b_row5_col2\" class=\"data row5 col2\" >7,38</td>\n",
       "      <td id=\"T_caf6b_row5_col3\" class=\"data row5 col3\" >7,44</td>\n",
       "      <td id=\"T_caf6b_row5_col4\" class=\"data row5 col4\" >7,49</td>\n",
       "      <td id=\"T_caf6b_row5_col5\" class=\"data row5 col5\" >7,45</td>\n",
       "      <td id=\"T_caf6b_row5_col6\" class=\"data row5 col6\" >7,46</td>\n",
       "      <td id=\"T_caf6b_row5_col7\" class=\"data row5 col7\" >7,41</td>\n",
       "      <td id=\"T_caf6b_row5_col8\" class=\"data row5 col8\" >7,42</td>\n",
       "    </tr>\n",
       "    <tr>\n",
       "      <th id=\"T_caf6b_level0_row6\" class=\"row_heading level0 row6\" >Sweden</th>\n",
       "      <td id=\"T_caf6b_row6_col0\" class=\"data row6 col0\" >7,36</td>\n",
       "      <td id=\"T_caf6b_row6_col1\" class=\"data row6 col1\" >7,29</td>\n",
       "      <td id=\"T_caf6b_row6_col2\" class=\"data row6 col2\" >7,28</td>\n",
       "      <td id=\"T_caf6b_row6_col3\" class=\"data row6 col3\" >7,31</td>\n",
       "      <td id=\"T_caf6b_row6_col4\" class=\"data row6 col4\" >7,34</td>\n",
       "      <td id=\"T_caf6b_row6_col5\" class=\"data row6 col5\" >7,35</td>\n",
       "      <td id=\"T_caf6b_row6_col6\" class=\"data row6 col6\" >7,36</td>\n",
       "      <td id=\"T_caf6b_row6_col7\" class=\"data row6 col7\" >7,38</td>\n",
       "      <td id=\"T_caf6b_row6_col8\" class=\"data row6 col8\" >7,34</td>\n",
       "    </tr>\n",
       "    <tr>\n",
       "      <th id=\"T_caf6b_level0_row7\" class=\"row_heading level0 row7\" >New Zealand</th>\n",
       "      <td id=\"T_caf6b_row7_col0\" class=\"data row7 col0\" >7,29</td>\n",
       "      <td id=\"T_caf6b_row7_col1\" class=\"data row7 col1\" >7,33</td>\n",
       "      <td id=\"T_caf6b_row7_col2\" class=\"data row7 col2\" >7,31</td>\n",
       "      <td id=\"T_caf6b_row7_col3\" class=\"data row7 col3\" >7,32</td>\n",
       "      <td id=\"T_caf6b_row7_col4\" class=\"data row7 col4\" >7,31</td>\n",
       "      <td id=\"T_caf6b_row7_col5\" class=\"data row7 col5\" >7,30</td>\n",
       "      <td id=\"T_caf6b_row7_col6\" class=\"data row7 col6\" >7,28</td>\n",
       "      <td id=\"T_caf6b_row7_col7\" class=\"data row7 col7\" >7,20</td>\n",
       "      <td id=\"T_caf6b_row7_col8\" class=\"data row7 col8\" >7,29</td>\n",
       "    </tr>\n",
       "    <tr>\n",
       "      <th id=\"T_caf6b_level0_row8\" class=\"row_heading level0 row8\" >Canada</th>\n",
       "      <td id=\"T_caf6b_row8_col0\" class=\"data row8 col0\" >7,43</td>\n",
       "      <td id=\"T_caf6b_row8_col1\" class=\"data row8 col1\" >7,40</td>\n",
       "      <td id=\"T_caf6b_row8_col2\" class=\"data row8 col2\" >7,32</td>\n",
       "      <td id=\"T_caf6b_row8_col3\" class=\"data row8 col3\" >7,33</td>\n",
       "      <td id=\"T_caf6b_row8_col4\" class=\"data row8 col4\" >7,28</td>\n",
       "      <td id=\"T_caf6b_row8_col5\" class=\"data row8 col5\" >7,23</td>\n",
       "      <td id=\"T_caf6b_row8_col6\" class=\"data row8 col6\" >7,10</td>\n",
       "      <td id=\"T_caf6b_row8_col7\" class=\"data row8 col7\" >7,03</td>\n",
       "      <td id=\"T_caf6b_row8_col8\" class=\"data row8 col8\" >7,26</td>\n",
       "    </tr>\n",
       "    <tr>\n",
       "      <th id=\"T_caf6b_level0_row9\" class=\"row_heading level0 row9\" >Australia</th>\n",
       "      <td id=\"T_caf6b_row9_col0\" class=\"data row9 col0\" >7,28</td>\n",
       "      <td id=\"T_caf6b_row9_col1\" class=\"data row9 col1\" >7,31</td>\n",
       "      <td id=\"T_caf6b_row9_col2\" class=\"data row9 col2\" >7,28</td>\n",
       "      <td id=\"T_caf6b_row9_col3\" class=\"data row9 col3\" >7,27</td>\n",
       "      <td id=\"T_caf6b_row9_col4\" class=\"data row9 col4\" >7,23</td>\n",
       "      <td id=\"T_caf6b_row9_col5\" class=\"data row9 col5\" >7,22</td>\n",
       "      <td id=\"T_caf6b_row9_col6\" class=\"data row9 col6\" >7,18</td>\n",
       "      <td id=\"T_caf6b_row9_col7\" class=\"data row9 col7\" >7,16</td>\n",
       "      <td id=\"T_caf6b_row9_col8\" class=\"data row9 col8\" >7,24</td>\n",
       "    </tr>\n",
       "    <tr>\n",
       "      <th id=\"T_caf6b_level0_row10\" class=\"row_heading level0 row10\" >Austria</th>\n",
       "      <td id=\"T_caf6b_row10_col0\" class=\"data row10 col0\" >7,20</td>\n",
       "      <td id=\"T_caf6b_row10_col1\" class=\"data row10 col1\" >7,12</td>\n",
       "      <td id=\"T_caf6b_row10_col2\" class=\"data row10 col2\" >7,01</td>\n",
       "      <td id=\"T_caf6b_row10_col3\" class=\"data row10 col3\" >7,14</td>\n",
       "      <td id=\"T_caf6b_row10_col4\" class=\"data row10 col4\" >7,25</td>\n",
       "      <td id=\"T_caf6b_row10_col5\" class=\"data row10 col5\" >7,29</td>\n",
       "      <td id=\"T_caf6b_row10_col6\" class=\"data row10 col6\" >7,27</td>\n",
       "      <td id=\"T_caf6b_row10_col7\" class=\"data row10 col7\" >7,16</td>\n",
       "      <td id=\"T_caf6b_row10_col8\" class=\"data row10 col8\" >7,18</td>\n",
       "    </tr>\n",
       "    <tr>\n",
       "      <th id=\"T_caf6b_level0_row11\" class=\"row_heading level0 row11\" >Israel</th>\n",
       "      <td id=\"T_caf6b_row11_col0\" class=\"data row11 col0\" >7,28</td>\n",
       "      <td id=\"T_caf6b_row11_col1\" class=\"data row11 col1\" >7,27</td>\n",
       "      <td id=\"T_caf6b_row11_col2\" class=\"data row11 col2\" >7,21</td>\n",
       "      <td id=\"T_caf6b_row11_col3\" class=\"data row11 col3\" >6,81</td>\n",
       "      <td id=\"T_caf6b_row11_col4\" class=\"data row11 col4\" >7,14</td>\n",
       "      <td id=\"T_caf6b_row11_col5\" class=\"data row11 col5\" >7,13</td>\n",
       "      <td id=\"T_caf6b_row11_col6\" class=\"data row11 col6\" >7,16</td>\n",
       "      <td id=\"T_caf6b_row11_col7\" class=\"data row11 col7\" >7,36</td>\n",
       "      <td id=\"T_caf6b_row11_col8\" class=\"data row11 col8\" >7,17</td>\n",
       "    </tr>\n",
       "    <tr>\n",
       "      <th id=\"T_caf6b_level0_row12\" class=\"row_heading level0 row12\" >Costa Rica</th>\n",
       "      <td id=\"T_caf6b_row12_col0\" class=\"data row12 col0\" >7,23</td>\n",
       "      <td id=\"T_caf6b_row12_col1\" class=\"data row12 col1\" >7,09</td>\n",
       "      <td id=\"T_caf6b_row12_col2\" class=\"data row12 col2\" >7,08</td>\n",
       "      <td id=\"T_caf6b_row12_col3\" class=\"data row12 col3\" >7,07</td>\n",
       "      <td id=\"T_caf6b_row12_col4\" class=\"data row12 col4\" >7,17</td>\n",
       "      <td id=\"T_caf6b_row12_col5\" class=\"data row12 col5\" >7,12</td>\n",
       "      <td id=\"T_caf6b_row12_col6\" class=\"data row12 col6\" >7,07</td>\n",
       "      <td id=\"T_caf6b_row12_col7\" class=\"data row12 col7\" >6,58</td>\n",
       "      <td id=\"T_caf6b_row12_col8\" class=\"data row12 col8\" >7,05</td>\n",
       "    </tr>\n",
       "    <tr>\n",
       "      <th id=\"T_caf6b_level0_row13\" class=\"row_heading level0 row13\" >Ireland</th>\n",
       "      <td id=\"T_caf6b_row13_col0\" class=\"data row13 col0\" >6,94</td>\n",
       "      <td id=\"T_caf6b_row13_col1\" class=\"data row13 col1\" >6,91</td>\n",
       "      <td id=\"T_caf6b_row13_col2\" class=\"data row13 col2\" >6,98</td>\n",
       "      <td id=\"T_caf6b_row13_col3\" class=\"data row13 col3\" >6,98</td>\n",
       "      <td id=\"T_caf6b_row13_col4\" class=\"data row13 col4\" >7,02</td>\n",
       "      <td id=\"T_caf6b_row13_col5\" class=\"data row13 col5\" >7,09</td>\n",
       "      <td id=\"T_caf6b_row13_col6\" class=\"data row13 col6\" >7,09</td>\n",
       "      <td id=\"T_caf6b_row13_col7\" class=\"data row13 col7\" >7,04</td>\n",
       "      <td id=\"T_caf6b_row13_col8\" class=\"data row13 col8\" >7,01</td>\n",
       "    </tr>\n",
       "    <tr>\n",
       "      <th id=\"T_caf6b_level0_row14\" class=\"row_heading level0 row14\" >Germany</th>\n",
       "      <td id=\"T_caf6b_row14_col0\" class=\"data row14 col0\" >6,75</td>\n",
       "      <td id=\"T_caf6b_row14_col1\" class=\"data row14 col1\" >6,99</td>\n",
       "      <td id=\"T_caf6b_row14_col2\" class=\"data row14 col2\" >6,95</td>\n",
       "      <td id=\"T_caf6b_row14_col3\" class=\"data row14 col3\" >6,97</td>\n",
       "      <td id=\"T_caf6b_row14_col4\" class=\"data row14 col4\" >6,99</td>\n",
       "      <td id=\"T_caf6b_row14_col5\" class=\"data row14 col5\" >7,08</td>\n",
       "      <td id=\"T_caf6b_row14_col6\" class=\"data row14 col6\" >7,16</td>\n",
       "      <td id=\"T_caf6b_row14_col7\" class=\"data row14 col7\" >7,03</td>\n",
       "      <td id=\"T_caf6b_row14_col8\" class=\"data row14 col8\" >6,99</td>\n",
       "    </tr>\n",
       "    <tr>\n",
       "      <th id=\"T_caf6b_level0_row15\" class=\"row_heading level0 row15\" >United States</th>\n",
       "      <td id=\"T_caf6b_row15_col0\" class=\"data row15 col0\" >7,12</td>\n",
       "      <td id=\"T_caf6b_row15_col1\" class=\"data row15 col1\" >7,10</td>\n",
       "      <td id=\"T_caf6b_row15_col2\" class=\"data row15 col2\" >6,99</td>\n",
       "      <td id=\"T_caf6b_row15_col3\" class=\"data row15 col3\" >6,89</td>\n",
       "      <td id=\"T_caf6b_row15_col4\" class=\"data row15 col4\" >6,89</td>\n",
       "      <td id=\"T_caf6b_row15_col5\" class=\"data row15 col5\" >6,94</td>\n",
       "      <td id=\"T_caf6b_row15_col6\" class=\"data row15 col6\" >6,95</td>\n",
       "      <td id=\"T_caf6b_row15_col7\" class=\"data row15 col7\" >6,98</td>\n",
       "      <td id=\"T_caf6b_row15_col8\" class=\"data row15 col8\" >6,98</td>\n",
       "    </tr>\n",
       "    <tr>\n",
       "      <th id=\"T_caf6b_level0_row16\" class=\"row_heading level0 row16\" >United Kingdom</th>\n",
       "      <td id=\"T_caf6b_row16_col0\" class=\"data row16 col0\" >6,87</td>\n",
       "      <td id=\"T_caf6b_row16_col1\" class=\"data row16 col1\" >6,72</td>\n",
       "      <td id=\"T_caf6b_row16_col2\" class=\"data row16 col2\" >6,71</td>\n",
       "      <td id=\"T_caf6b_row16_col3\" class=\"data row16 col3\" >7,19</td>\n",
       "      <td id=\"T_caf6b_row16_col4\" class=\"data row16 col4\" >7,05</td>\n",
       "      <td id=\"T_caf6b_row16_col5\" class=\"data row16 col5\" >7,16</td>\n",
       "      <td id=\"T_caf6b_row16_col6\" class=\"data row16 col6\" >7,06</td>\n",
       "      <td id=\"T_caf6b_row16_col7\" class=\"data row16 col7\" >6,94</td>\n",
       "      <td id=\"T_caf6b_row16_col8\" class=\"data row16 col8\" >6,97</td>\n",
       "    </tr>\n",
       "    <tr>\n",
       "      <th id=\"T_caf6b_level0_row17\" class=\"row_heading level0 row17\" >Belgium</th>\n",
       "      <td id=\"T_caf6b_row17_col0\" class=\"data row17 col0\" >6,94</td>\n",
       "      <td id=\"T_caf6b_row17_col1\" class=\"data row17 col1\" >6,93</td>\n",
       "      <td id=\"T_caf6b_row17_col2\" class=\"data row17 col2\" >6,89</td>\n",
       "      <td id=\"T_caf6b_row17_col3\" class=\"data row17 col3\" >6,93</td>\n",
       "      <td id=\"T_caf6b_row17_col4\" class=\"data row17 col4\" >6,92</td>\n",
       "      <td id=\"T_caf6b_row17_col5\" class=\"data row17 col5\" >6,86</td>\n",
       "      <td id=\"T_caf6b_row17_col6\" class=\"data row17 col6\" >6,83</td>\n",
       "      <td id=\"T_caf6b_row17_col7\" class=\"data row17 col7\" >6,80</td>\n",
       "      <td id=\"T_caf6b_row17_col8\" class=\"data row17 col8\" >6,89</td>\n",
       "    </tr>\n",
       "    <tr>\n",
       "      <th id=\"T_caf6b_level0_row18\" class=\"row_heading level0 row18\" >United Arab Emirates</th>\n",
       "      <td id=\"T_caf6b_row18_col0\" class=\"data row18 col0\" >6,90</td>\n",
       "      <td id=\"T_caf6b_row18_col1\" class=\"data row18 col1\" >6,57</td>\n",
       "      <td id=\"T_caf6b_row18_col2\" class=\"data row18 col2\" >6,65</td>\n",
       "      <td id=\"T_caf6b_row18_col3\" class=\"data row18 col3\" >6,77</td>\n",
       "      <td id=\"T_caf6b_row18_col4\" class=\"data row18 col4\" >6,82</td>\n",
       "      <td id=\"T_caf6b_row18_col5\" class=\"data row18 col5\" >6,79</td>\n",
       "      <td id=\"T_caf6b_row18_col6\" class=\"data row18 col6\" >6,56</td>\n",
       "      <td id=\"T_caf6b_row18_col7\" class=\"data row18 col7\" >6,58</td>\n",
       "      <td id=\"T_caf6b_row18_col8\" class=\"data row18 col8\" >6,71</td>\n",
       "    </tr>\n",
       "    <tr>\n",
       "      <th id=\"T_caf6b_level0_row19\" class=\"row_heading level0 row19\" >France</th>\n",
       "      <td id=\"T_caf6b_row19_col0\" class=\"data row19 col0\" >6,57</td>\n",
       "      <td id=\"T_caf6b_row19_col1\" class=\"data row19 col1\" >6,48</td>\n",
       "      <td id=\"T_caf6b_row19_col2\" class=\"data row19 col2\" >6,44</td>\n",
       "      <td id=\"T_caf6b_row19_col3\" class=\"data row19 col3\" >6,49</td>\n",
       "      <td id=\"T_caf6b_row19_col4\" class=\"data row19 col4\" >6,59</td>\n",
       "      <td id=\"T_caf6b_row19_col5\" class=\"data row19 col5\" >6,66</td>\n",
       "      <td id=\"T_caf6b_row19_col6\" class=\"data row19 col6\" >6,69</td>\n",
       "      <td id=\"T_caf6b_row19_col7\" class=\"data row19 col7\" >6,69</td>\n",
       "      <td id=\"T_caf6b_row19_col8\" class=\"data row19 col8\" >6,58</td>\n",
       "    </tr>\n",
       "    <tr>\n",
       "      <th id=\"T_caf6b_level0_row20\" class=\"row_heading level0 row20\" >Mexico</th>\n",
       "      <td id=\"T_caf6b_row20_col0\" class=\"data row20 col0\" >7,19</td>\n",
       "      <td id=\"T_caf6b_row20_col1\" class=\"data row20 col1\" >6,78</td>\n",
       "      <td id=\"T_caf6b_row20_col2\" class=\"data row20 col2\" >6,58</td>\n",
       "      <td id=\"T_caf6b_row20_col3\" class=\"data row20 col3\" >6,49</td>\n",
       "      <td id=\"T_caf6b_row20_col4\" class=\"data row20 col4\" >6,59</td>\n",
       "      <td id=\"T_caf6b_row20_col5\" class=\"data row20 col5\" >6,47</td>\n",
       "      <td id=\"T_caf6b_row20_col6\" class=\"data row20 col6\" >6,32</td>\n",
       "      <td id=\"T_caf6b_row20_col7\" class=\"data row20 col7\" >6,13</td>\n",
       "      <td id=\"T_caf6b_row20_col8\" class=\"data row20 col8\" >6,57</td>\n",
       "    </tr>\n",
       "    <tr>\n",
       "      <th id=\"T_caf6b_level0_row21\" class=\"row_heading level0 row21\" >Malta</th>\n",
       "      <td id=\"T_caf6b_row21_col0\" class=\"data row21 col0\" >6,30</td>\n",
       "      <td id=\"T_caf6b_row21_col1\" class=\"data row21 col1\" >6,49</td>\n",
       "      <td id=\"T_caf6b_row21_col2\" class=\"data row21 col2\" >6,53</td>\n",
       "      <td id=\"T_caf6b_row21_col3\" class=\"data row21 col3\" >6,63</td>\n",
       "      <td id=\"T_caf6b_row21_col4\" class=\"data row21 col4\" >6,73</td>\n",
       "      <td id=\"T_caf6b_row21_col5\" class=\"data row21 col5\" >6,77</td>\n",
       "      <td id=\"T_caf6b_row21_col6\" class=\"data row21 col6\" >6,60</td>\n",
       "      <td id=\"T_caf6b_row21_col7\" class=\"data row21 col7\" >6,45</td>\n",
       "      <td id=\"T_caf6b_row21_col8\" class=\"data row21 col8\" >6,56</td>\n",
       "    </tr>\n",
       "    <tr>\n",
       "      <th id=\"T_caf6b_level0_row22\" class=\"row_heading level0 row22\" >Brazil</th>\n",
       "      <td id=\"T_caf6b_row22_col0\" class=\"data row22 col0\" >6,98</td>\n",
       "      <td id=\"T_caf6b_row22_col1\" class=\"data row22 col1\" >6,95</td>\n",
       "      <td id=\"T_caf6b_row22_col2\" class=\"data row22 col2\" >6,64</td>\n",
       "      <td id=\"T_caf6b_row22_col3\" class=\"data row22 col3\" >6,42</td>\n",
       "      <td id=\"T_caf6b_row22_col4\" class=\"data row22 col4\" >6,30</td>\n",
       "      <td id=\"T_caf6b_row22_col5\" class=\"data row22 col5\" >6,38</td>\n",
       "      <td id=\"T_caf6b_row22_col6\" class=\"data row22 col6\" >6,33</td>\n",
       "      <td id=\"T_caf6b_row22_col7\" class=\"data row22 col7\" >6,29</td>\n",
       "      <td id=\"T_caf6b_row22_col8\" class=\"data row22 col8\" >6,54</td>\n",
       "    </tr>\n",
       "    <tr>\n",
       "      <th id=\"T_caf6b_level0_row23\" class=\"row_heading level0 row23\" >Singapore</th>\n",
       "      <td id=\"T_caf6b_row23_col0\" class=\"data row23 col0\" >6,80</td>\n",
       "      <td id=\"T_caf6b_row23_col1\" class=\"data row23 col1\" >6,74</td>\n",
       "      <td id=\"T_caf6b_row23_col2\" class=\"data row23 col2\" >6,57</td>\n",
       "      <td id=\"T_caf6b_row23_col3\" class=\"data row23 col3\" >6,34</td>\n",
       "      <td id=\"T_caf6b_row23_col4\" class=\"data row23 col4\" >6,26</td>\n",
       "      <td id=\"T_caf6b_row23_col5\" class=\"data row23 col5\" >6,38</td>\n",
       "      <td id=\"T_caf6b_row23_col6\" class=\"data row23 col6\" >6,38</td>\n",
       "      <td id=\"T_caf6b_row23_col7\" class=\"data row23 col7\" >6,48</td>\n",
       "      <td id=\"T_caf6b_row23_col8\" class=\"data row23 col8\" >6,49</td>\n",
       "    </tr>\n",
       "    <tr>\n",
       "      <th id=\"T_caf6b_level0_row24\" class=\"row_heading level0 row24\" >Chile</th>\n",
       "      <td id=\"T_caf6b_row24_col0\" class=\"data row24 col0\" >6,67</td>\n",
       "      <td id=\"T_caf6b_row24_col1\" class=\"data row24 col1\" >6,70</td>\n",
       "      <td id=\"T_caf6b_row24_col2\" class=\"data row24 col2\" >6,65</td>\n",
       "      <td id=\"T_caf6b_row24_col3\" class=\"data row24 col3\" >6,48</td>\n",
       "      <td id=\"T_caf6b_row24_col4\" class=\"data row24 col4\" >6,44</td>\n",
       "      <td id=\"T_caf6b_row24_col5\" class=\"data row24 col5\" >6,23</td>\n",
       "      <td id=\"T_caf6b_row24_col6\" class=\"data row24 col6\" >6,17</td>\n",
       "      <td id=\"T_caf6b_row24_col7\" class=\"data row24 col7\" >6,17</td>\n",
       "      <td id=\"T_caf6b_row24_col8\" class=\"data row24 col8\" >6,44</td>\n",
       "    </tr>\n",
       "    <tr>\n",
       "      <th id=\"T_caf6b_level0_row25\" class=\"row_heading level0 row25\" >Uruguay</th>\n",
       "      <td id=\"T_caf6b_row25_col0\" class=\"data row25 col0\" >6,49</td>\n",
       "      <td id=\"T_caf6b_row25_col1\" class=\"data row25 col1\" >6,55</td>\n",
       "      <td id=\"T_caf6b_row25_col2\" class=\"data row25 col2\" >6,45</td>\n",
       "      <td id=\"T_caf6b_row25_col3\" class=\"data row25 col3\" >6,38</td>\n",
       "      <td id=\"T_caf6b_row25_col4\" class=\"data row25 col4\" >6,29</td>\n",
       "      <td id=\"T_caf6b_row25_col5\" class=\"data row25 col5\" >6,44</td>\n",
       "      <td id=\"T_caf6b_row25_col6\" class=\"data row25 col6\" >6,43</td>\n",
       "      <td id=\"T_caf6b_row25_col7\" class=\"data row25 col7\" >6,47</td>\n",
       "      <td id=\"T_caf6b_row25_col8\" class=\"data row25 col8\" >6,44</td>\n",
       "    </tr>\n",
       "    <tr>\n",
       "      <th id=\"T_caf6b_level0_row26\" class=\"row_heading level0 row26\" >Panama</th>\n",
       "      <td id=\"T_caf6b_row26_col0\" class=\"data row26 col0\" >6,79</td>\n",
       "      <td id=\"T_caf6b_row26_col1\" class=\"data row26 col1\" >6,70</td>\n",
       "      <td id=\"T_caf6b_row26_col2\" class=\"data row26 col2\" >6,45</td>\n",
       "      <td id=\"T_caf6b_row26_col3\" class=\"data row26 col3\" >6,43</td>\n",
       "      <td id=\"T_caf6b_row26_col4\" class=\"data row26 col4\" >6,32</td>\n",
       "      <td id=\"T_caf6b_row26_col5\" class=\"data row26 col5\" >6,30</td>\n",
       "      <td id=\"T_caf6b_row26_col6\" class=\"data row26 col6\" >6,18</td>\n",
       "      <td id=\"T_caf6b_row26_col7\" class=\"data row26 col7\" >6,31</td>\n",
       "      <td id=\"T_caf6b_row26_col8\" class=\"data row26 col8\" >6,44</td>\n",
       "    </tr>\n",
       "    <tr>\n",
       "      <th id=\"T_caf6b_level0_row27\" class=\"row_heading level0 row27\" >Saudi Arabia</th>\n",
       "      <td id=\"T_caf6b_row27_col0\" class=\"data row27 col0\" >6,41</td>\n",
       "      <td id=\"T_caf6b_row27_col1\" class=\"data row27 col1\" >6,38</td>\n",
       "      <td id=\"T_caf6b_row27_col2\" class=\"data row27 col2\" >6,34</td>\n",
       "      <td id=\"T_caf6b_row27_col3\" class=\"data row27 col3\" >6,37</td>\n",
       "      <td id=\"T_caf6b_row27_col4\" class=\"data row27 col4\" >6,38</td>\n",
       "      <td id=\"T_caf6b_row27_col5\" class=\"data row27 col5\" >6,41</td>\n",
       "      <td id=\"T_caf6b_row27_col6\" class=\"data row27 col6\" >6,49</td>\n",
       "      <td id=\"T_caf6b_row27_col7\" class=\"data row27 col7\" >6,52</td>\n",
       "      <td id=\"T_caf6b_row27_col8\" class=\"data row27 col8\" >6,41</td>\n",
       "    </tr>\n",
       "    <tr>\n",
       "      <th id=\"T_caf6b_level0_row28\" class=\"row_heading level0 row28\" >Spain</th>\n",
       "      <td id=\"T_caf6b_row28_col0\" class=\"data row28 col0\" >6,33</td>\n",
       "      <td id=\"T_caf6b_row28_col1\" class=\"data row28 col1\" >6,36</td>\n",
       "      <td id=\"T_caf6b_row28_col2\" class=\"data row28 col2\" >6,40</td>\n",
       "      <td id=\"T_caf6b_row28_col3\" class=\"data row28 col3\" >6,31</td>\n",
       "      <td id=\"T_caf6b_row28_col4\" class=\"data row28 col4\" >6,35</td>\n",
       "      <td id=\"T_caf6b_row28_col5\" class=\"data row28 col5\" >6,40</td>\n",
       "      <td id=\"T_caf6b_row28_col6\" class=\"data row28 col6\" >6,49</td>\n",
       "      <td id=\"T_caf6b_row28_col7\" class=\"data row28 col7\" >6,48</td>\n",
       "      <td id=\"T_caf6b_row28_col8\" class=\"data row28 col8\" >6,39</td>\n",
       "    </tr>\n",
       "    <tr>\n",
       "      <th id=\"T_caf6b_level0_row29\" class=\"row_heading level0 row29\" >Argentina</th>\n",
       "      <td id=\"T_caf6b_row29_col0\" class=\"data row29 col0\" >6,57</td>\n",
       "      <td id=\"T_caf6b_row29_col1\" class=\"data row29 col1\" >6,65</td>\n",
       "      <td id=\"T_caf6b_row29_col2\" class=\"data row29 col2\" >6,60</td>\n",
       "      <td id=\"T_caf6b_row29_col3\" class=\"data row29 col3\" >6,39</td>\n",
       "      <td id=\"T_caf6b_row29_col4\" class=\"data row29 col4\" >6,09</td>\n",
       "      <td id=\"T_caf6b_row29_col5\" class=\"data row29 col5\" >5,97</td>\n",
       "      <td id=\"T_caf6b_row29_col6\" class=\"data row29 col6\" >5,93</td>\n",
       "      <td id=\"T_caf6b_row29_col7\" class=\"data row29 col7\" >5,97</td>\n",
       "      <td id=\"T_caf6b_row29_col8\" class=\"data row29 col8\" >6,27</td>\n",
       "    </tr>\n",
       "    <tr>\n",
       "      <th id=\"T_caf6b_level0_row30\" class=\"row_heading level0 row30\" >Bahrain</th>\n",
       "      <td id=\"T_caf6b_row30_col0\" class=\"data row30 col0\" >5,96</td>\n",
       "      <td id=\"T_caf6b_row30_col1\" class=\"data row30 col1\" >6,22</td>\n",
       "      <td id=\"T_caf6b_row30_col2\" class=\"data row30 col2\" >6,09</td>\n",
       "      <td id=\"T_caf6b_row30_col3\" class=\"data row30 col3\" >6,11</td>\n",
       "      <td id=\"T_caf6b_row30_col4\" class=\"data row30 col4\" >6,20</td>\n",
       "      <td id=\"T_caf6b_row30_col5\" class=\"data row30 col5\" >6,23</td>\n",
       "      <td id=\"T_caf6b_row30_col6\" class=\"data row30 col6\" >6,65</td>\n",
       "      <td id=\"T_caf6b_row30_col7\" class=\"data row30 col7\" >6,65</td>\n",
       "      <td id=\"T_caf6b_row30_col8\" class=\"data row30 col8\" >6,26</td>\n",
       "    </tr>\n",
       "    <tr>\n",
       "      <th id=\"T_caf6b_level0_row31\" class=\"row_heading level0 row31\" >Colombia</th>\n",
       "      <td id=\"T_caf6b_row31_col0\" class=\"data row31 col0\" >6,48</td>\n",
       "      <td id=\"T_caf6b_row31_col1\" class=\"data row31 col1\" >6,48</td>\n",
       "      <td id=\"T_caf6b_row31_col2\" class=\"data row31 col2\" >6,36</td>\n",
       "      <td id=\"T_caf6b_row31_col3\" class=\"data row31 col3\" >6,26</td>\n",
       "      <td id=\"T_caf6b_row31_col4\" class=\"data row31 col4\" >6,12</td>\n",
       "      <td id=\"T_caf6b_row31_col5\" class=\"data row31 col5\" >6,16</td>\n",
       "      <td id=\"T_caf6b_row31_col6\" class=\"data row31 col6\" >6,01</td>\n",
       "      <td id=\"T_caf6b_row31_col7\" class=\"data row31 col7\" >5,78</td>\n",
       "      <td id=\"T_caf6b_row31_col8\" class=\"data row31 col8\" >6,21</td>\n",
       "    </tr>\n",
       "    <tr>\n",
       "      <th id=\"T_caf6b_level0_row32\" class=\"row_heading level0 row32\" >Slovakia</th>\n",
       "      <td id=\"T_caf6b_row32_col0\" class=\"data row32 col0\" >5,99</td>\n",
       "      <td id=\"T_caf6b_row32_col1\" class=\"data row32 col1\" >6,08</td>\n",
       "      <td id=\"T_caf6b_row32_col2\" class=\"data row32 col2\" >6,10</td>\n",
       "      <td id=\"T_caf6b_row32_col3\" class=\"data row32 col3\" >6,17</td>\n",
       "      <td id=\"T_caf6b_row32_col4\" class=\"data row32 col4\" >6,20</td>\n",
       "      <td id=\"T_caf6b_row32_col5\" class=\"data row32 col5\" >6,28</td>\n",
       "      <td id=\"T_caf6b_row32_col6\" class=\"data row32 col6\" >6,33</td>\n",
       "      <td id=\"T_caf6b_row32_col7\" class=\"data row32 col7\" >6,39</td>\n",
       "      <td id=\"T_caf6b_row32_col8\" class=\"data row32 col8\" >6,19</td>\n",
       "    </tr>\n",
       "    <tr>\n",
       "      <th id=\"T_caf6b_level0_row33\" class=\"row_heading level0 row33\" >Italy</th>\n",
       "      <td id=\"T_caf6b_row33_col0\" class=\"data row33 col0\" >5,95</td>\n",
       "      <td id=\"T_caf6b_row33_col1\" class=\"data row33 col1\" >5,98</td>\n",
       "      <td id=\"T_caf6b_row33_col2\" class=\"data row33 col2\" >5,96</td>\n",
       "      <td id=\"T_caf6b_row33_col3\" class=\"data row33 col3\" >6,00</td>\n",
       "      <td id=\"T_caf6b_row33_col4\" class=\"data row33 col4\" >6,22</td>\n",
       "      <td id=\"T_caf6b_row33_col5\" class=\"data row33 col5\" >6,39</td>\n",
       "      <td id=\"T_caf6b_row33_col6\" class=\"data row33 col6\" >6,48</td>\n",
       "      <td id=\"T_caf6b_row33_col7\" class=\"data row33 col7\" >6,47</td>\n",
       "      <td id=\"T_caf6b_row33_col8\" class=\"data row33 col8\" >6,18</td>\n",
       "    </tr>\n",
       "    <tr>\n",
       "      <th id=\"T_caf6b_level0_row34\" class=\"row_heading level0 row34\" >Thailand</th>\n",
       "      <td id=\"T_caf6b_row34_col0\" class=\"data row34 col0\" >6,45</td>\n",
       "      <td id=\"T_caf6b_row34_col1\" class=\"data row34 col1\" >6,47</td>\n",
       "      <td id=\"T_caf6b_row34_col2\" class=\"data row34 col2\" >6,42</td>\n",
       "      <td id=\"T_caf6b_row34_col3\" class=\"data row34 col3\" >6,07</td>\n",
       "      <td id=\"T_caf6b_row34_col4\" class=\"data row34 col4\" >6,01</td>\n",
       "      <td id=\"T_caf6b_row34_col5\" class=\"data row34 col5\" >6,00</td>\n",
       "      <td id=\"T_caf6b_row34_col6\" class=\"data row34 col6\" >5,99</td>\n",
       "      <td id=\"T_caf6b_row34_col7\" class=\"data row34 col7\" >5,89</td>\n",
       "      <td id=\"T_caf6b_row34_col8\" class=\"data row34 col8\" >6,16</td>\n",
       "    </tr>\n",
       "    <tr>\n",
       "      <th id=\"T_caf6b_level0_row35\" class=\"row_heading level0 row35\" >El Salvador</th>\n",
       "      <td id=\"T_caf6b_row35_col0\" class=\"data row35 col0\" >6,13</td>\n",
       "      <td id=\"T_caf6b_row35_col1\" class=\"data row35 col1\" >6,07</td>\n",
       "      <td id=\"T_caf6b_row35_col2\" class=\"data row35 col2\" >6,00</td>\n",
       "      <td id=\"T_caf6b_row35_col3\" class=\"data row35 col3\" >6,17</td>\n",
       "      <td id=\"T_caf6b_row35_col4\" class=\"data row35 col4\" >6,25</td>\n",
       "      <td id=\"T_caf6b_row35_col5\" class=\"data row35 col5\" >6,35</td>\n",
       "      <td id=\"T_caf6b_row35_col6\" class=\"data row35 col6\" >6,06</td>\n",
       "      <td id=\"T_caf6b_row35_col7\" class=\"data row35 col7\" >6,12</td>\n",
       "      <td id=\"T_caf6b_row35_col8\" class=\"data row35 col8\" >6,14</td>\n",
       "    </tr>\n",
       "    <tr>\n",
       "      <th id=\"T_caf6b_level0_row36\" class=\"row_heading level0 row36\" >Slovenia</th>\n",
       "      <td id=\"T_caf6b_row36_col0\" class=\"data row36 col0\" >5,85</td>\n",
       "      <td id=\"T_caf6b_row36_col1\" class=\"data row36 col1\" >5,77</td>\n",
       "      <td id=\"T_caf6b_row36_col2\" class=\"data row36 col2\" >5,76</td>\n",
       "      <td id=\"T_caf6b_row36_col3\" class=\"data row36 col3\" >5,95</td>\n",
       "      <td id=\"T_caf6b_row36_col4\" class=\"data row36 col4\" >6,12</td>\n",
       "      <td id=\"T_caf6b_row36_col5\" class=\"data row36 col5\" >6,36</td>\n",
       "      <td id=\"T_caf6b_row36_col6\" class=\"data row36 col6\" >6,46</td>\n",
       "      <td id=\"T_caf6b_row36_col7\" class=\"data row36 col7\" >6,63</td>\n",
       "      <td id=\"T_caf6b_row36_col8\" class=\"data row36 col8\" >6,11</td>\n",
       "    </tr>\n",
       "    <tr>\n",
       "      <th id=\"T_caf6b_level0_row37\" class=\"row_heading level0 row37\" >Uzbekistan</th>\n",
       "      <td id=\"T_caf6b_row37_col0\" class=\"data row37 col0\" >6,00</td>\n",
       "      <td id=\"T_caf6b_row37_col1\" class=\"data row37 col1\" >5,99</td>\n",
       "      <td id=\"T_caf6b_row37_col2\" class=\"data row37 col2\" >5,97</td>\n",
       "      <td id=\"T_caf6b_row37_col3\" class=\"data row37 col3\" >6,10</td>\n",
       "      <td id=\"T_caf6b_row37_col4\" class=\"data row37 col4\" >6,17</td>\n",
       "      <td id=\"T_caf6b_row37_col5\" class=\"data row37 col5\" >6,26</td>\n",
       "      <td id=\"T_caf6b_row37_col6\" class=\"data row37 col6\" >6,18</td>\n",
       "      <td id=\"T_caf6b_row37_col7\" class=\"data row37 col7\" >6,06</td>\n",
       "      <td id=\"T_caf6b_row37_col8\" class=\"data row37 col8\" >6,09</td>\n",
       "    </tr>\n",
       "    <tr>\n",
       "      <th id=\"T_caf6b_level0_row38\" class=\"row_heading level0 row38\" >Lithuania</th>\n",
       "      <td id=\"T_caf6b_row38_col0\" class=\"data row38 col0\" >5,83</td>\n",
       "      <td id=\"T_caf6b_row38_col1\" class=\"data row38 col1\" >5,81</td>\n",
       "      <td id=\"T_caf6b_row38_col2\" class=\"data row38 col2\" >5,90</td>\n",
       "      <td id=\"T_caf6b_row38_col3\" class=\"data row38 col3\" >5,95</td>\n",
       "      <td id=\"T_caf6b_row38_col4\" class=\"data row38 col4\" >6,15</td>\n",
       "      <td id=\"T_caf6b_row38_col5\" class=\"data row38 col5\" >6,22</td>\n",
       "      <td id=\"T_caf6b_row38_col6\" class=\"data row38 col6\" >6,26</td>\n",
       "      <td id=\"T_caf6b_row38_col7\" class=\"data row38 col7\" >6,45</td>\n",
       "      <td id=\"T_caf6b_row38_col8\" class=\"data row38 col8\" >6,07</td>\n",
       "    </tr>\n",
       "    <tr>\n",
       "      <th id=\"T_caf6b_level0_row39\" class=\"row_heading level0 row39\" >Nicaragua</th>\n",
       "      <td id=\"T_caf6b_row39_col0\" class=\"data row39 col0\" >5,83</td>\n",
       "      <td id=\"T_caf6b_row39_col1\" class=\"data row39 col1\" >5,99</td>\n",
       "      <td id=\"T_caf6b_row39_col2\" class=\"data row39 col2\" >6,07</td>\n",
       "      <td id=\"T_caf6b_row39_col3\" class=\"data row39 col3\" >6,14</td>\n",
       "      <td id=\"T_caf6b_row39_col4\" class=\"data row39 col4\" >6,11</td>\n",
       "      <td id=\"T_caf6b_row39_col5\" class=\"data row39 col5\" >6,14</td>\n",
       "      <td id=\"T_caf6b_row39_col6\" class=\"data row39 col6\" >5,97</td>\n",
       "      <td id=\"T_caf6b_row39_col7\" class=\"data row39 col7\" >6,16</td>\n",
       "      <td id=\"T_caf6b_row39_col8\" class=\"data row39 col8\" >6,05</td>\n",
       "    </tr>\n",
       "    <tr>\n",
       "      <th id=\"T_caf6b_level0_row40\" class=\"row_heading level0 row40\" >Poland</th>\n",
       "      <td id=\"T_caf6b_row40_col0\" class=\"data row40 col0\" >5,79</td>\n",
       "      <td id=\"T_caf6b_row40_col1\" class=\"data row40 col1\" >5,84</td>\n",
       "      <td id=\"T_caf6b_row40_col2\" class=\"data row40 col2\" >5,97</td>\n",
       "      <td id=\"T_caf6b_row40_col3\" class=\"data row40 col3\" >6,12</td>\n",
       "      <td id=\"T_caf6b_row40_col4\" class=\"data row40 col4\" >6,18</td>\n",
       "      <td id=\"T_caf6b_row40_col5\" class=\"data row40 col5\" >6,19</td>\n",
       "      <td id=\"T_caf6b_row40_col6\" class=\"data row40 col6\" >6,17</td>\n",
       "      <td id=\"T_caf6b_row40_col7\" class=\"data row40 col7\" >6,12</td>\n",
       "      <td id=\"T_caf6b_row40_col8\" class=\"data row40 col8\" >6,05</td>\n",
       "    </tr>\n",
       "    <tr>\n",
       "      <th id=\"T_caf6b_level0_row41\" class=\"row_heading level0 row41\" >Kazakhstan</th>\n",
       "      <td id=\"T_caf6b_row41_col0\" class=\"data row41 col0\" >5,86</td>\n",
       "      <td id=\"T_caf6b_row41_col1\" class=\"data row41 col1\" >5,92</td>\n",
       "      <td id=\"T_caf6b_row41_col2\" class=\"data row41 col2\" >5,82</td>\n",
       "      <td id=\"T_caf6b_row41_col3\" class=\"data row41 col3\" >5,79</td>\n",
       "      <td id=\"T_caf6b_row41_col4\" class=\"data row41 col4\" >5,81</td>\n",
       "      <td id=\"T_caf6b_row41_col5\" class=\"data row41 col5\" >6,06</td>\n",
       "      <td id=\"T_caf6b_row41_col6\" class=\"data row41 col6\" >6,15</td>\n",
       "      <td id=\"T_caf6b_row41_col7\" class=\"data row41 col7\" >6,23</td>\n",
       "      <td id=\"T_caf6b_row41_col8\" class=\"data row41 col8\" >5,95</td>\n",
       "    </tr>\n",
       "    <tr>\n",
       "      <th id=\"T_caf6b_level0_row42\" class=\"row_heading level0 row42\" >Japan</th>\n",
       "      <td id=\"T_caf6b_row42_col0\" class=\"data row42 col0\" >5,99</td>\n",
       "      <td id=\"T_caf6b_row42_col1\" class=\"data row42 col1\" >5,92</td>\n",
       "      <td id=\"T_caf6b_row42_col2\" class=\"data row42 col2\" >5,92</td>\n",
       "      <td id=\"T_caf6b_row42_col3\" class=\"data row42 col3\" >5,91</td>\n",
       "      <td id=\"T_caf6b_row42_col4\" class=\"data row42 col4\" >5,89</td>\n",
       "      <td id=\"T_caf6b_row42_col5\" class=\"data row42 col5\" >5,87</td>\n",
       "      <td id=\"T_caf6b_row42_col6\" class=\"data row42 col6\" >5,94</td>\n",
       "      <td id=\"T_caf6b_row42_col7\" class=\"data row42 col7\" >6,04</td>\n",
       "      <td id=\"T_caf6b_row42_col8\" class=\"data row42 col8\" >5,93</td>\n",
       "    </tr>\n",
       "    <tr>\n",
       "      <th id=\"T_caf6b_level0_row43\" class=\"row_heading level0 row43\" >Cyprus</th>\n",
       "      <td id=\"T_caf6b_row43_col0\" class=\"data row43 col0\" >5,69</td>\n",
       "      <td id=\"T_caf6b_row43_col1\" class=\"data row43 col1\" >5,55</td>\n",
       "      <td id=\"T_caf6b_row43_col2\" class=\"data row43 col2\" >5,62</td>\n",
       "      <td id=\"T_caf6b_row43_col3\" class=\"data row43 col3\" >5,76</td>\n",
       "      <td id=\"T_caf6b_row43_col4\" class=\"data row43 col4\" >6,05</td>\n",
       "      <td id=\"T_caf6b_row43_col5\" class=\"data row43 col5\" >6,16</td>\n",
       "      <td id=\"T_caf6b_row43_col6\" class=\"data row43 col6\" >6,22</td>\n",
       "      <td id=\"T_caf6b_row43_col7\" class=\"data row43 col7\" >6,22</td>\n",
       "      <td id=\"T_caf6b_row43_col8\" class=\"data row43 col8\" >5,91</td>\n",
       "    </tr>\n",
       "    <tr>\n",
       "      <th id=\"T_caf6b_level0_row44\" class=\"row_heading level0 row44\" >Romania</th>\n",
       "      <td id=\"T_caf6b_row44_col0\" class=\"data row44 col0\" >5,12</td>\n",
       "      <td id=\"T_caf6b_row44_col1\" class=\"data row44 col1\" >5,53</td>\n",
       "      <td id=\"T_caf6b_row44_col2\" class=\"data row44 col2\" >5,82</td>\n",
       "      <td id=\"T_caf6b_row44_col3\" class=\"data row44 col3\" >5,95</td>\n",
       "      <td id=\"T_caf6b_row44_col4\" class=\"data row44 col4\" >6,07</td>\n",
       "      <td id=\"T_caf6b_row44_col5\" class=\"data row44 col5\" >6,12</td>\n",
       "      <td id=\"T_caf6b_row44_col6\" class=\"data row44 col6\" >6,14</td>\n",
       "      <td id=\"T_caf6b_row44_col7\" class=\"data row44 col7\" >6,48</td>\n",
       "      <td id=\"T_caf6b_row44_col8\" class=\"data row44 col8\" >5,90</td>\n",
       "    </tr>\n",
       "    <tr>\n",
       "      <th id=\"T_caf6b_level0_row45\" class=\"row_heading level0 row45\" >Kosovo</th>\n",
       "      <td id=\"T_caf6b_row45_col0\" class=\"data row45 col0\" >5,59</td>\n",
       "      <td id=\"T_caf6b_row45_col1\" class=\"data row45 col1\" >5,40</td>\n",
       "      <td id=\"T_caf6b_row45_col2\" class=\"data row45 col2\" >5,28</td>\n",
       "      <td id=\"T_caf6b_row45_col3\" class=\"data row45 col3\" >5,66</td>\n",
       "      <td id=\"T_caf6b_row45_col4\" class=\"data row45 col4\" >6,10</td>\n",
       "      <td id=\"T_caf6b_row45_col5\" class=\"data row45 col5\" >6,33</td>\n",
       "      <td id=\"T_caf6b_row45_col6\" class=\"data row45 col6\" >6,37</td>\n",
       "      <td id=\"T_caf6b_row45_col7\" class=\"data row45 col7\" >6,45</td>\n",
       "      <td id=\"T_caf6b_row45_col8\" class=\"data row45 col8\" >5,90</td>\n",
       "    </tr>\n",
       "    <tr>\n",
       "      <th id=\"T_caf6b_level0_row46\" class=\"row_heading level0 row46\" >Ecuador</th>\n",
       "      <td id=\"T_caf6b_row46_col0\" class=\"data row46 col0\" >5,97</td>\n",
       "      <td id=\"T_caf6b_row46_col1\" class=\"data row46 col1\" >5,98</td>\n",
       "      <td id=\"T_caf6b_row46_col2\" class=\"data row46 col2\" >6,01</td>\n",
       "      <td id=\"T_caf6b_row46_col3\" class=\"data row46 col3\" >5,97</td>\n",
       "      <td id=\"T_caf6b_row46_col4\" class=\"data row46 col4\" >6,03</td>\n",
       "      <td id=\"T_caf6b_row46_col5\" class=\"data row46 col5\" >5,93</td>\n",
       "      <td id=\"T_caf6b_row46_col6\" class=\"data row46 col6\" >5,76</td>\n",
       "      <td id=\"T_caf6b_row46_col7\" class=\"data row46 col7\" >5,53</td>\n",
       "      <td id=\"T_caf6b_row46_col8\" class=\"data row46 col8\" >5,90</td>\n",
       "    </tr>\n",
       "    <tr>\n",
       "      <th id=\"T_caf6b_level0_row47\" class=\"row_heading level0 row47\" >South Korea</th>\n",
       "      <td id=\"T_caf6b_row47_col0\" class=\"data row47 col0\" >5,98</td>\n",
       "      <td id=\"T_caf6b_row47_col1\" class=\"data row47 col1\" >5,84</td>\n",
       "      <td id=\"T_caf6b_row47_col2\" class=\"data row47 col2\" >5,84</td>\n",
       "      <td id=\"T_caf6b_row47_col3\" class=\"data row47 col3\" >5,88</td>\n",
       "      <td id=\"T_caf6b_row47_col4\" class=\"data row47 col4\" >5,89</td>\n",
       "      <td id=\"T_caf6b_row47_col5\" class=\"data row47 col5\" >5,87</td>\n",
       "      <td id=\"T_caf6b_row47_col6\" class=\"data row47 col6\" >5,84</td>\n",
       "      <td id=\"T_caf6b_row47_col7\" class=\"data row47 col7\" >5,93</td>\n",
       "      <td id=\"T_caf6b_row47_col8\" class=\"data row47 col8\" >5,88</td>\n",
       "    </tr>\n",
       "    <tr>\n",
       "      <th id=\"T_caf6b_level0_row48\" class=\"row_heading level0 row48\" >Mauritius</th>\n",
       "      <td id=\"T_caf6b_row48_col0\" class=\"data row48 col0\" >5,48</td>\n",
       "      <td id=\"T_caf6b_row48_col1\" class=\"data row48 col1\" >5,65</td>\n",
       "      <td id=\"T_caf6b_row48_col2\" class=\"data row48 col2\" >5,63</td>\n",
       "      <td id=\"T_caf6b_row48_col3\" class=\"data row48 col3\" >5,89</td>\n",
       "      <td id=\"T_caf6b_row48_col4\" class=\"data row48 col4\" >5,89</td>\n",
       "      <td id=\"T_caf6b_row48_col5\" class=\"data row48 col5\" >6,10</td>\n",
       "      <td id=\"T_caf6b_row48_col6\" class=\"data row48 col6\" >6,05</td>\n",
       "      <td id=\"T_caf6b_row48_col7\" class=\"data row48 col7\" >6,07</td>\n",
       "      <td id=\"T_caf6b_row48_col8\" class=\"data row48 col8\" >5,84</td>\n",
       "    </tr>\n",
       "    <tr>\n",
       "      <th id=\"T_caf6b_level0_row49\" class=\"row_heading level0 row49\" >Estonia</th>\n",
       "      <td id=\"T_caf6b_row49_col0\" class=\"data row49 col0\" >5,43</td>\n",
       "      <td id=\"T_caf6b_row49_col1\" class=\"data row49 col1\" >5,52</td>\n",
       "      <td id=\"T_caf6b_row49_col2\" class=\"data row49 col2\" >5,61</td>\n",
       "      <td id=\"T_caf6b_row49_col3\" class=\"data row49 col3\" >5,74</td>\n",
       "      <td id=\"T_caf6b_row49_col4\" class=\"data row49 col4\" >5,89</td>\n",
       "      <td id=\"T_caf6b_row49_col5\" class=\"data row49 col5\" >6,02</td>\n",
       "      <td id=\"T_caf6b_row49_col6\" class=\"data row49 col6\" >6,19</td>\n",
       "      <td id=\"T_caf6b_row49_col7\" class=\"data row49 col7\" >6,34</td>\n",
       "      <td id=\"T_caf6b_row49_col8\" class=\"data row49 col8\" >5,84</td>\n",
       "    </tr>\n",
       "    <tr>\n",
       "      <th id=\"T_caf6b_level0_row50\" class=\"row_heading level0 row50\" >Latvia</th>\n",
       "      <td id=\"T_caf6b_row50_col0\" class=\"data row50 col0\" >5,10</td>\n",
       "      <td id=\"T_caf6b_row50_col1\" class=\"data row50 col1\" >5,56</td>\n",
       "      <td id=\"T_caf6b_row50_col2\" class=\"data row50 col2\" >5,85</td>\n",
       "      <td id=\"T_caf6b_row50_col3\" class=\"data row50 col3\" >5,93</td>\n",
       "      <td id=\"T_caf6b_row50_col4\" class=\"data row50 col4\" >5,94</td>\n",
       "      <td id=\"T_caf6b_row50_col5\" class=\"data row50 col5\" >5,95</td>\n",
       "      <td id=\"T_caf6b_row50_col6\" class=\"data row50 col6\" >6,03</td>\n",
       "      <td id=\"T_caf6b_row50_col7\" class=\"data row50 col7\" >6,18</td>\n",
       "      <td id=\"T_caf6b_row50_col8\" class=\"data row50 col8\" >5,82</td>\n",
       "    </tr>\n",
       "    <tr>\n",
       "      <th id=\"T_caf6b_level0_row51\" class=\"row_heading level0 row51\" >Jamaica</th>\n",
       "      <td id=\"T_caf6b_row51_col0\" class=\"data row51 col0\" >5,71</td>\n",
       "      <td id=\"T_caf6b_row51_col1\" class=\"data row51 col1\" >5,51</td>\n",
       "      <td id=\"T_caf6b_row51_col2\" class=\"data row51 col2\" >5,31</td>\n",
       "      <td id=\"T_caf6b_row51_col3\" class=\"data row51 col3\" >5,89</td>\n",
       "      <td id=\"T_caf6b_row51_col4\" class=\"data row51 col4\" >5,89</td>\n",
       "      <td id=\"T_caf6b_row51_col5\" class=\"data row51 col5\" >5,89</td>\n",
       "      <td id=\"T_caf6b_row51_col6\" class=\"data row51 col6\" >6,31</td>\n",
       "      <td id=\"T_caf6b_row51_col7\" class=\"data row51 col7\" >5,85</td>\n",
       "      <td id=\"T_caf6b_row51_col8\" class=\"data row51 col8\" >5,79</td>\n",
       "    </tr>\n",
       "    <tr>\n",
       "      <th id=\"T_caf6b_level0_row52\" class=\"row_heading level0 row52\" >Bolivia</th>\n",
       "      <td id=\"T_caf6b_row52_col0\" class=\"data row52 col0\" >5,89</td>\n",
       "      <td id=\"T_caf6b_row52_col1\" class=\"data row52 col1\" >5,82</td>\n",
       "      <td id=\"T_caf6b_row52_col2\" class=\"data row52 col2\" >5,82</td>\n",
       "      <td id=\"T_caf6b_row52_col3\" class=\"data row52 col3\" >5,75</td>\n",
       "      <td id=\"T_caf6b_row52_col4\" class=\"data row52 col4\" >5,78</td>\n",
       "      <td id=\"T_caf6b_row52_col5\" class=\"data row52 col5\" >5,75</td>\n",
       "      <td id=\"T_caf6b_row52_col6\" class=\"data row52 col6\" >5,72</td>\n",
       "      <td id=\"T_caf6b_row52_col7\" class=\"data row52 col7\" >5,60</td>\n",
       "      <td id=\"T_caf6b_row52_col8\" class=\"data row52 col8\" >5,77</td>\n",
       "    </tr>\n",
       "    <tr>\n",
       "      <th id=\"T_caf6b_level0_row53\" class=\"row_heading level0 row53\" >Moldova</th>\n",
       "      <td id=\"T_caf6b_row53_col0\" class=\"data row53 col0\" >5,89</td>\n",
       "      <td id=\"T_caf6b_row53_col1\" class=\"data row53 col1\" >5,90</td>\n",
       "      <td id=\"T_caf6b_row53_col2\" class=\"data row53 col2\" >5,84</td>\n",
       "      <td id=\"T_caf6b_row53_col3\" class=\"data row53 col3\" >5,64</td>\n",
       "      <td id=\"T_caf6b_row53_col4\" class=\"data row53 col4\" >5,53</td>\n",
       "      <td id=\"T_caf6b_row53_col5\" class=\"data row53 col5\" >5,61</td>\n",
       "      <td id=\"T_caf6b_row53_col6\" class=\"data row53 col6\" >5,77</td>\n",
       "      <td id=\"T_caf6b_row53_col7\" class=\"data row53 col7\" >5,86</td>\n",
       "      <td id=\"T_caf6b_row53_col8\" class=\"data row53 col8\" >5,75</td>\n",
       "    </tr>\n",
       "    <tr>\n",
       "      <th id=\"T_caf6b_level0_row54\" class=\"row_heading level0 row54\" >Malaysia</th>\n",
       "      <td id=\"T_caf6b_row54_col0\" class=\"data row54 col0\" >5,77</td>\n",
       "      <td id=\"T_caf6b_row54_col1\" class=\"data row54 col1\" >6,01</td>\n",
       "      <td id=\"T_caf6b_row54_col2\" class=\"data row54 col2\" >6,08</td>\n",
       "      <td id=\"T_caf6b_row54_col3\" class=\"data row54 col3\" >6,32</td>\n",
       "      <td id=\"T_caf6b_row54_col4\" class=\"data row54 col4\" >5,34</td>\n",
       "      <td id=\"T_caf6b_row54_col5\" class=\"data row54 col5\" >5,38</td>\n",
       "      <td id=\"T_caf6b_row54_col6\" class=\"data row54 col6\" >5,38</td>\n",
       "      <td id=\"T_caf6b_row54_col7\" class=\"data row54 col7\" >5,71</td>\n",
       "      <td id=\"T_caf6b_row54_col8\" class=\"data row54 col8\" >5,75</td>\n",
       "    </tr>\n",
       "    <tr>\n",
       "      <th id=\"T_caf6b_level0_row55\" class=\"row_heading level0 row55\" >Peru</th>\n",
       "      <td id=\"T_caf6b_row55_col0\" class=\"data row55 col0\" >5,82</td>\n",
       "      <td id=\"T_caf6b_row55_col1\" class=\"data row55 col1\" >5,74</td>\n",
       "      <td id=\"T_caf6b_row55_col2\" class=\"data row55 col2\" >5,72</td>\n",
       "      <td id=\"T_caf6b_row55_col3\" class=\"data row55 col3\" >5,66</td>\n",
       "      <td id=\"T_caf6b_row55_col4\" class=\"data row55 col4\" >5,70</td>\n",
       "      <td id=\"T_caf6b_row55_col5\" class=\"data row55 col5\" >5,80</td>\n",
       "      <td id=\"T_caf6b_row55_col6\" class=\"data row55 col6\" >5,84</td>\n",
       "      <td id=\"T_caf6b_row55_col7\" class=\"data row55 col7\" >5,56</td>\n",
       "      <td id=\"T_caf6b_row55_col8\" class=\"data row55 col8\" >5,73</td>\n",
       "    </tr>\n",
       "    <tr>\n",
       "      <th id=\"T_caf6b_level0_row56\" class=\"row_heading level0 row56\" >Russia</th>\n",
       "      <td id=\"T_caf6b_row56_col0\" class=\"data row56 col0\" >5,72</td>\n",
       "      <td id=\"T_caf6b_row56_col1\" class=\"data row56 col1\" >5,86</td>\n",
       "      <td id=\"T_caf6b_row56_col2\" class=\"data row56 col2\" >5,96</td>\n",
       "      <td id=\"T_caf6b_row56_col3\" class=\"data row56 col3\" >5,81</td>\n",
       "      <td id=\"T_caf6b_row56_col4\" class=\"data row56 col4\" >5,65</td>\n",
       "      <td id=\"T_caf6b_row56_col5\" class=\"data row56 col5\" >5,55</td>\n",
       "      <td id=\"T_caf6b_row56_col6\" class=\"data row56 col6\" >5,48</td>\n",
       "      <td id=\"T_caf6b_row56_col7\" class=\"data row56 col7\" >5,46</td>\n",
       "      <td id=\"T_caf6b_row56_col8\" class=\"data row56 col8\" >5,68</td>\n",
       "    </tr>\n",
       "    <tr>\n",
       "      <th id=\"T_caf6b_level0_row57\" class=\"row_heading level0 row57\" >Paraguay</th>\n",
       "      <td id=\"T_caf6b_row57_col0\" class=\"data row57 col0\" >5,88</td>\n",
       "      <td id=\"T_caf6b_row57_col1\" class=\"data row57 col1\" >5,54</td>\n",
       "      <td id=\"T_caf6b_row57_col2\" class=\"data row57 col2\" >5,49</td>\n",
       "      <td id=\"T_caf6b_row57_col3\" class=\"data row57 col3\" >5,68</td>\n",
       "      <td id=\"T_caf6b_row57_col4\" class=\"data row57 col4\" >5,74</td>\n",
       "      <td id=\"T_caf6b_row57_col5\" class=\"data row57 col5\" >5,69</td>\n",
       "      <td id=\"T_caf6b_row57_col6\" class=\"data row57 col6\" >5,65</td>\n",
       "      <td id=\"T_caf6b_row57_col7\" class=\"data row57 col7\" >5,58</td>\n",
       "      <td id=\"T_caf6b_row57_col8\" class=\"data row57 col8\" >5,66</td>\n",
       "    </tr>\n",
       "    <tr>\n",
       "      <th id=\"T_caf6b_level0_row58\" class=\"row_heading level0 row58\" >Belarus</th>\n",
       "      <td id=\"T_caf6b_row58_col0\" class=\"data row58 col0\" >5,81</td>\n",
       "      <td id=\"T_caf6b_row58_col1\" class=\"data row58 col1\" >5,80</td>\n",
       "      <td id=\"T_caf6b_row58_col2\" class=\"data row58 col2\" >5,57</td>\n",
       "      <td id=\"T_caf6b_row58_col3\" class=\"data row58 col3\" >5,48</td>\n",
       "      <td id=\"T_caf6b_row58_col4\" class=\"data row58 col4\" >5,32</td>\n",
       "      <td id=\"T_caf6b_row58_col5\" class=\"data row58 col5\" >5,54</td>\n",
       "      <td id=\"T_caf6b_row58_col6\" class=\"data row58 col6\" >5,53</td>\n",
       "      <td id=\"T_caf6b_row58_col7\" class=\"data row58 col7\" >5,82</td>\n",
       "      <td id=\"T_caf6b_row58_col8\" class=\"data row58 col8\" >5,61</td>\n",
       "    </tr>\n",
       "    <tr>\n",
       "      <th id=\"T_caf6b_level0_row59\" class=\"row_heading level0 row59\" >Croatia</th>\n",
       "      <td id=\"T_caf6b_row59_col0\" class=\"data row59 col0\" >5,76</td>\n",
       "      <td id=\"T_caf6b_row59_col1\" class=\"data row59 col1\" >5,49</td>\n",
       "      <td id=\"T_caf6b_row59_col2\" class=\"data row59 col2\" >5,29</td>\n",
       "      <td id=\"T_caf6b_row59_col3\" class=\"data row59 col3\" >5,32</td>\n",
       "      <td id=\"T_caf6b_row59_col4\" class=\"data row59 col4\" >5,43</td>\n",
       "      <td id=\"T_caf6b_row59_col5\" class=\"data row59 col5\" >5,50</td>\n",
       "      <td id=\"T_caf6b_row59_col6\" class=\"data row59 col6\" >5,88</td>\n",
       "      <td id=\"T_caf6b_row59_col7\" class=\"data row59 col7\" >6,12</td>\n",
       "      <td id=\"T_caf6b_row59_col8\" class=\"data row59 col8\" >5,60</td>\n",
       "    </tr>\n",
       "    <tr>\n",
       "      <th id=\"T_caf6b_level0_row60\" class=\"row_heading level0 row60\" >Serbia</th>\n",
       "      <td id=\"T_caf6b_row60_col0\" class=\"data row60 col0\" >5,12</td>\n",
       "      <td id=\"T_caf6b_row60_col1\" class=\"data row60 col1\" >5,18</td>\n",
       "      <td id=\"T_caf6b_row60_col2\" class=\"data row60 col2\" >5,39</td>\n",
       "      <td id=\"T_caf6b_row60_col3\" class=\"data row60 col3\" >5,40</td>\n",
       "      <td id=\"T_caf6b_row60_col4\" class=\"data row60 col4\" >5,60</td>\n",
       "      <td id=\"T_caf6b_row60_col5\" class=\"data row60 col5\" >5,78</td>\n",
       "      <td id=\"T_caf6b_row60_col6\" class=\"data row60 col6\" >6,08</td>\n",
       "      <td id=\"T_caf6b_row60_col7\" class=\"data row60 col7\" >6,18</td>\n",
       "      <td id=\"T_caf6b_row60_col8\" class=\"data row60 col8\" >5,59</td>\n",
       "    </tr>\n",
       "    <tr>\n",
       "      <th id=\"T_caf6b_level0_row61\" class=\"row_heading level0 row61\" >Philippines</th>\n",
       "      <td id=\"T_caf6b_row61_col0\" class=\"data row61 col0\" >5,07</td>\n",
       "      <td id=\"T_caf6b_row61_col1\" class=\"data row61 col1\" >5,28</td>\n",
       "      <td id=\"T_caf6b_row61_col2\" class=\"data row61 col2\" >5,43</td>\n",
       "      <td id=\"T_caf6b_row61_col3\" class=\"data row61 col3\" >5,52</td>\n",
       "      <td id=\"T_caf6b_row61_col4\" class=\"data row61 col4\" >5,63</td>\n",
       "      <td id=\"T_caf6b_row61_col5\" class=\"data row61 col5\" >6,01</td>\n",
       "      <td id=\"T_caf6b_row61_col6\" class=\"data row61 col6\" >5,88</td>\n",
       "      <td id=\"T_caf6b_row61_col7\" class=\"data row61 col7\" >5,90</td>\n",
       "      <td id=\"T_caf6b_row61_col8\" class=\"data row61 col8\" >5,59</td>\n",
       "    </tr>\n",
       "    <tr>\n",
       "      <th id=\"T_caf6b_level0_row62\" class=\"row_heading level0 row62\" >Hungary</th>\n",
       "      <td id=\"T_caf6b_row62_col0\" class=\"data row62 col0\" >4,80</td>\n",
       "      <td id=\"T_caf6b_row62_col1\" class=\"data row62 col1\" >5,14</td>\n",
       "      <td id=\"T_caf6b_row62_col2\" class=\"data row62 col2\" >5,32</td>\n",
       "      <td id=\"T_caf6b_row62_col3\" class=\"data row62 col3\" >5,62</td>\n",
       "      <td id=\"T_caf6b_row62_col4\" class=\"data row62 col4\" >5,76</td>\n",
       "      <td id=\"T_caf6b_row62_col5\" class=\"data row62 col5\" >6,00</td>\n",
       "      <td id=\"T_caf6b_row62_col6\" class=\"data row62 col6\" >5,99</td>\n",
       "      <td id=\"T_caf6b_row62_col7\" class=\"data row62 col7\" >6,09</td>\n",
       "      <td id=\"T_caf6b_row62_col8\" class=\"data row62 col8\" >5,59</td>\n",
       "    </tr>\n",
       "    <tr>\n",
       "      <th id=\"T_caf6b_level0_row63\" class=\"row_heading level0 row63\" >Portugal</th>\n",
       "      <td id=\"T_caf6b_row63_col0\" class=\"data row63 col0\" >5,10</td>\n",
       "      <td id=\"T_caf6b_row63_col1\" class=\"data row63 col1\" >5,12</td>\n",
       "      <td id=\"T_caf6b_row63_col2\" class=\"data row63 col2\" >5,20</td>\n",
       "      <td id=\"T_caf6b_row63_col3\" class=\"data row63 col3\" >5,41</td>\n",
       "      <td id=\"T_caf6b_row63_col4\" class=\"data row63 col4\" >5,69</td>\n",
       "      <td id=\"T_caf6b_row63_col5\" class=\"data row63 col5\" >5,91</td>\n",
       "      <td id=\"T_caf6b_row63_col6\" class=\"data row63 col6\" >5,93</td>\n",
       "      <td id=\"T_caf6b_row63_col7\" class=\"data row63 col7\" >6,02</td>\n",
       "      <td id=\"T_caf6b_row63_col8\" class=\"data row63 col8\" >5,55</td>\n",
       "    </tr>\n",
       "    <tr>\n",
       "      <th id=\"T_caf6b_level0_row64\" class=\"row_heading level0 row64\" >Honduras</th>\n",
       "      <td id=\"T_caf6b_row64_col0\" class=\"data row64 col0\" >4,79</td>\n",
       "      <td id=\"T_caf6b_row64_col1\" class=\"data row64 col1\" >4,87</td>\n",
       "      <td id=\"T_caf6b_row64_col2\" class=\"data row64 col2\" >5,18</td>\n",
       "      <td id=\"T_caf6b_row64_col3\" class=\"data row64 col3\" >5,50</td>\n",
       "      <td id=\"T_caf6b_row64_col4\" class=\"data row64 col4\" >5,86</td>\n",
       "      <td id=\"T_caf6b_row64_col5\" class=\"data row64 col5\" >5,95</td>\n",
       "      <td id=\"T_caf6b_row64_col6\" class=\"data row64 col6\" >5,92</td>\n",
       "      <td id=\"T_caf6b_row64_col7\" class=\"data row64 col7\" >6,02</td>\n",
       "      <td id=\"T_caf6b_row64_col8\" class=\"data row64 col8\" >5,51</td>\n",
       "    </tr>\n",
       "    <tr>\n",
       "      <th id=\"T_caf6b_level0_row65\" class=\"row_heading level0 row65\" >Algeria</th>\n",
       "      <td id=\"T_caf6b_row65_col0\" class=\"data row65 col0\" >5,61</td>\n",
       "      <td id=\"T_caf6b_row65_col1\" class=\"data row65 col1\" >6,36</td>\n",
       "      <td id=\"T_caf6b_row65_col2\" class=\"data row65 col2\" >5,87</td>\n",
       "      <td id=\"T_caf6b_row65_col3\" class=\"data row65 col3\" >5,30</td>\n",
       "      <td id=\"T_caf6b_row65_col4\" class=\"data row65 col4\" >5,21</td>\n",
       "      <td id=\"T_caf6b_row65_col5\" class=\"data row65 col5\" >5,01</td>\n",
       "      <td id=\"T_caf6b_row65_col6\" class=\"data row65 col6\" >4,89</td>\n",
       "      <td id=\"T_caf6b_row65_col7\" class=\"data row65 col7\" >5,12</td>\n",
       "      <td id=\"T_caf6b_row65_col8\" class=\"data row65 col8\" >5,42</td>\n",
       "    </tr>\n",
       "    <tr>\n",
       "      <th id=\"T_caf6b_level0_row66\" class=\"row_heading level0 row66\" >Montenegro</th>\n",
       "      <td id=\"T_caf6b_row66_col0\" class=\"data row66 col0\" >5,19</td>\n",
       "      <td id=\"T_caf6b_row66_col1\" class=\"data row66 col1\" >5,16</td>\n",
       "      <td id=\"T_caf6b_row66_col2\" class=\"data row66 col2\" >5,24</td>\n",
       "      <td id=\"T_caf6b_row66_col3\" class=\"data row66 col3\" >5,35</td>\n",
       "      <td id=\"T_caf6b_row66_col4\" class=\"data row66 col4\" >5,52</td>\n",
       "      <td id=\"T_caf6b_row66_col5\" class=\"data row66 col5\" >5,55</td>\n",
       "      <td id=\"T_caf6b_row66_col6\" class=\"data row66 col6\" >5,58</td>\n",
       "      <td id=\"T_caf6b_row66_col7\" class=\"data row66 col7\" >5,55</td>\n",
       "      <td id=\"T_caf6b_row66_col8\" class=\"data row66 col8\" >5,39</td>\n",
       "    </tr>\n",
       "    <tr>\n",
       "      <th id=\"T_caf6b_level0_row67\" class=\"row_heading level0 row67\" >Bosnia and Herzegovina</th>\n",
       "      <td id=\"T_caf6b_row67_col0\" class=\"data row67 col0\" >4,95</td>\n",
       "      <td id=\"T_caf6b_row67_col1\" class=\"data row67 col1\" >5,16</td>\n",
       "      <td id=\"T_caf6b_row67_col2\" class=\"data row67 col2\" >5,18</td>\n",
       "      <td id=\"T_caf6b_row67_col3\" class=\"data row67 col3\" >5,13</td>\n",
       "      <td id=\"T_caf6b_row67_col4\" class=\"data row67 col4\" >5,39</td>\n",
       "      <td id=\"T_caf6b_row67_col5\" class=\"data row67 col5\" >5,67</td>\n",
       "      <td id=\"T_caf6b_row67_col6\" class=\"data row67 col6\" >5,81</td>\n",
       "      <td id=\"T_caf6b_row67_col7\" class=\"data row67 col7\" >5,77</td>\n",
       "      <td id=\"T_caf6b_row67_col8\" class=\"data row67 col8\" >5,38</td>\n",
       "    </tr>\n",
       "    <tr>\n",
       "      <th id=\"T_caf6b_level0_row68\" class=\"row_heading level0 row68\" >Kyrgyzstan</th>\n",
       "      <td id=\"T_caf6b_row68_col0\" class=\"data row68 col0\" >5,29</td>\n",
       "      <td id=\"T_caf6b_row68_col1\" class=\"data row68 col1\" >5,18</td>\n",
       "      <td id=\"T_caf6b_row68_col2\" class=\"data row68 col2\" >5,00</td>\n",
       "      <td id=\"T_caf6b_row68_col3\" class=\"data row68 col3\" >5,13</td>\n",
       "      <td id=\"T_caf6b_row68_col4\" class=\"data row68 col4\" >5,26</td>\n",
       "      <td id=\"T_caf6b_row68_col5\" class=\"data row68 col5\" >5,54</td>\n",
       "      <td id=\"T_caf6b_row68_col6\" class=\"data row68 col6\" >5,74</td>\n",
       "      <td id=\"T_caf6b_row68_col7\" class=\"data row68 col7\" >5,83</td>\n",
       "      <td id=\"T_caf6b_row68_col8\" class=\"data row68 col8\" >5,37</td>\n",
       "    </tr>\n",
       "    <tr>\n",
       "      <th id=\"T_caf6b_level0_row69\" class=\"row_heading level0 row69\" >Dominican Republic</th>\n",
       "      <td id=\"T_caf6b_row69_col0\" class=\"data row69 col0\" >4,89</td>\n",
       "      <td id=\"T_caf6b_row69_col1\" class=\"data row69 col1\" >5,16</td>\n",
       "      <td id=\"T_caf6b_row69_col2\" class=\"data row69 col2\" >5,23</td>\n",
       "      <td id=\"T_caf6b_row69_col3\" class=\"data row69 col3\" >5,30</td>\n",
       "      <td id=\"T_caf6b_row69_col4\" class=\"data row69 col4\" >5,43</td>\n",
       "      <td id=\"T_caf6b_row69_col5\" class=\"data row69 col5\" >5,69</td>\n",
       "      <td id=\"T_caf6b_row69_col6\" class=\"data row69 col6\" >5,55</td>\n",
       "      <td id=\"T_caf6b_row69_col7\" class=\"data row69 col7\" >5,74</td>\n",
       "      <td id=\"T_caf6b_row69_col8\" class=\"data row69 col8\" >5,37</td>\n",
       "    </tr>\n",
       "    <tr>\n",
       "      <th id=\"T_caf6b_level0_row70\" class=\"row_heading level0 row70\" >Greece</th>\n",
       "      <td id=\"T_caf6b_row70_col0\" class=\"data row70 col0\" >4,86</td>\n",
       "      <td id=\"T_caf6b_row70_col1\" class=\"data row70 col1\" >5,03</td>\n",
       "      <td id=\"T_caf6b_row70_col2\" class=\"data row70 col2\" >5,23</td>\n",
       "      <td id=\"T_caf6b_row70_col3\" class=\"data row70 col3\" >5,36</td>\n",
       "      <td id=\"T_caf6b_row70_col4\" class=\"data row70 col4\" >5,29</td>\n",
       "      <td id=\"T_caf6b_row70_col5\" class=\"data row70 col5\" >5,51</td>\n",
       "      <td id=\"T_caf6b_row70_col6\" class=\"data row70 col6\" >5,72</td>\n",
       "      <td id=\"T_caf6b_row70_col7\" class=\"data row70 col7\" >5,95</td>\n",
       "      <td id=\"T_caf6b_row70_col8\" class=\"data row70 col8\" >5,37</td>\n",
       "    </tr>\n",
       "    <tr>\n",
       "      <th id=\"T_caf6b_level0_row71\" class=\"row_heading level0 row71\" >Venezuela</th>\n",
       "      <td id=\"T_caf6b_row71_col0\" class=\"data row71 col0\" >6,81</td>\n",
       "      <td id=\"T_caf6b_row71_col1\" class=\"data row71 col1\" >6,08</td>\n",
       "      <td id=\"T_caf6b_row71_col2\" class=\"data row71 col2\" >5,25</td>\n",
       "      <td id=\"T_caf6b_row71_col3\" class=\"data row71 col3\" >4,81</td>\n",
       "      <td id=\"T_caf6b_row71_col4\" class=\"data row71 col4\" >4,71</td>\n",
       "      <td id=\"T_caf6b_row71_col5\" class=\"data row71 col5\" >5,05</td>\n",
       "      <td id=\"T_caf6b_row71_col6\" class=\"data row71 col6\" >4,89</td>\n",
       "      <td id=\"T_caf6b_row71_col7\" class=\"data row71 col7\" >4,93</td>\n",
       "      <td id=\"T_caf6b_row71_col8\" class=\"data row71 col8\" >5,32</td>\n",
       "    </tr>\n",
       "    <tr>\n",
       "      <th id=\"T_caf6b_level0_row72\" class=\"row_heading level0 row72\" >China</th>\n",
       "      <td id=\"T_caf6b_row72_col0\" class=\"data row72 col0\" >5,14</td>\n",
       "      <td id=\"T_caf6b_row72_col1\" class=\"data row72 col1\" >5,24</td>\n",
       "      <td id=\"T_caf6b_row72_col2\" class=\"data row72 col2\" >5,27</td>\n",
       "      <td id=\"T_caf6b_row72_col3\" class=\"data row72 col3\" >5,25</td>\n",
       "      <td id=\"T_caf6b_row72_col4\" class=\"data row72 col4\" >5,19</td>\n",
       "      <td id=\"T_caf6b_row72_col5\" class=\"data row72 col5\" >5,12</td>\n",
       "      <td id=\"T_caf6b_row72_col6\" class=\"data row72 col6\" >5,34</td>\n",
       "      <td id=\"T_caf6b_row72_col7\" class=\"data row72 col7\" >5,59</td>\n",
       "      <td id=\"T_caf6b_row72_col8\" class=\"data row72 col8\" >5,27</td>\n",
       "    </tr>\n",
       "    <tr>\n",
       "      <th id=\"T_caf6b_level0_row73\" class=\"row_heading level0 row73\" >Indonesia</th>\n",
       "      <td id=\"T_caf6b_row73_col0\" class=\"data row73 col0\" >5,40</td>\n",
       "      <td id=\"T_caf6b_row73_col1\" class=\"data row73 col1\" >5,31</td>\n",
       "      <td id=\"T_caf6b_row73_col2\" class=\"data row73 col2\" >5,26</td>\n",
       "      <td id=\"T_caf6b_row73_col3\" class=\"data row73 col3\" >5,09</td>\n",
       "      <td id=\"T_caf6b_row73_col4\" class=\"data row73 col4\" >5,19</td>\n",
       "      <td id=\"T_caf6b_row73_col5\" class=\"data row73 col5\" >5,29</td>\n",
       "      <td id=\"T_caf6b_row73_col6\" class=\"data row73 col6\" >5,34</td>\n",
       "      <td id=\"T_caf6b_row73_col7\" class=\"data row73 col7\" >5,24</td>\n",
       "      <td id=\"T_caf6b_row73_col8\" class=\"data row73 col8\" >5,27</td>\n",
       "    </tr>\n",
       "    <tr>\n",
       "      <th id=\"T_caf6b_level0_row74\" class=\"row_heading level0 row74\" >Mongolia</th>\n",
       "      <td id=\"T_caf6b_row74_col0\" class=\"data row74 col0\" >4,87</td>\n",
       "      <td id=\"T_caf6b_row74_col1\" class=\"data row74 col1\" >4,91</td>\n",
       "      <td id=\"T_caf6b_row74_col2\" class=\"data row74 col2\" >4,95</td>\n",
       "      <td id=\"T_caf6b_row74_col3\" class=\"data row74 col3\" >5,12</td>\n",
       "      <td id=\"T_caf6b_row74_col4\" class=\"data row74 col4\" >5,28</td>\n",
       "      <td id=\"T_caf6b_row74_col5\" class=\"data row74 col5\" >5,46</td>\n",
       "      <td id=\"T_caf6b_row74_col6\" class=\"data row74 col6\" >5,68</td>\n",
       "      <td id=\"T_caf6b_row74_col7\" class=\"data row74 col7\" >5,76</td>\n",
       "      <td id=\"T_caf6b_row74_col8\" class=\"data row74 col8\" >5,26</td>\n",
       "    </tr>\n",
       "    <tr>\n",
       "      <th id=\"T_caf6b_level0_row75\" class=\"row_heading level0 row75\" >Vietnam</th>\n",
       "      <td id=\"T_caf6b_row75_col0\" class=\"data row75 col0\" >5,36</td>\n",
       "      <td id=\"T_caf6b_row75_col1\" class=\"data row75 col1\" >5,06</td>\n",
       "      <td id=\"T_caf6b_row75_col2\" class=\"data row75 col2\" >5,07</td>\n",
       "      <td id=\"T_caf6b_row75_col3\" class=\"data row75 col3\" >5,10</td>\n",
       "      <td id=\"T_caf6b_row75_col4\" class=\"data row75 col4\" >5,18</td>\n",
       "      <td id=\"T_caf6b_row75_col5\" class=\"data row75 col5\" >5,35</td>\n",
       "      <td id=\"T_caf6b_row75_col6\" class=\"data row75 col6\" >5,41</td>\n",
       "      <td id=\"T_caf6b_row75_col7\" class=\"data row75 col7\" >5,49</td>\n",
       "      <td id=\"T_caf6b_row75_col8\" class=\"data row75 col8\" >5,25</td>\n",
       "    </tr>\n",
       "    <tr>\n",
       "      <th id=\"T_caf6b_level0_row76\" class=\"row_heading level0 row76\" >Turkey</th>\n",
       "      <td id=\"T_caf6b_row76_col0\" class=\"data row76 col0\" >5,33</td>\n",
       "      <td id=\"T_caf6b_row76_col1\" class=\"data row76 col1\" >5,39</td>\n",
       "      <td id=\"T_caf6b_row76_col2\" class=\"data row76 col2\" >5,50</td>\n",
       "      <td id=\"T_caf6b_row76_col3\" class=\"data row76 col3\" >5,48</td>\n",
       "      <td id=\"T_caf6b_row76_col4\" class=\"data row76 col4\" >5,37</td>\n",
       "      <td id=\"T_caf6b_row76_col5\" class=\"data row76 col5\" >5,13</td>\n",
       "      <td id=\"T_caf6b_row76_col6\" class=\"data row76 col6\" >4,95</td>\n",
       "      <td id=\"T_caf6b_row76_col7\" class=\"data row76 col7\" >4,74</td>\n",
       "      <td id=\"T_caf6b_row76_col8\" class=\"data row76 col8\" >5,24</td>\n",
       "    </tr>\n",
       "    <tr>\n",
       "      <th id=\"T_caf6b_level0_row77\" class=\"row_heading level0 row77\" >Tajikistan</th>\n",
       "      <td id=\"T_caf6b_row77_col0\" class=\"data row77 col0\" >4,79</td>\n",
       "      <td id=\"T_caf6b_row77_col1\" class=\"data row77 col1\" >5,00</td>\n",
       "      <td id=\"T_caf6b_row77_col2\" class=\"data row77 col2\" >5,04</td>\n",
       "      <td id=\"T_caf6b_row77_col3\" class=\"data row77 col3\" >5,20</td>\n",
       "      <td id=\"T_caf6b_row77_col4\" class=\"data row77 col4\" >5,47</td>\n",
       "      <td id=\"T_caf6b_row77_col5\" class=\"data row77 col5\" >5,56</td>\n",
       "      <td id=\"T_caf6b_row77_col6\" class=\"data row77 col6\" >5,47</td>\n",
       "      <td id=\"T_caf6b_row77_col7\" class=\"data row77 col7\" >5,38</td>\n",
       "      <td id=\"T_caf6b_row77_col8\" class=\"data row77 col8\" >5,24</td>\n",
       "    </tr>\n",
       "    <tr>\n",
       "      <th id=\"T_caf6b_level0_row78\" class=\"row_heading level0 row78\" >Pakistan</th>\n",
       "      <td id=\"T_caf6b_row78_col0\" class=\"data row78 col0\" >5,19</td>\n",
       "      <td id=\"T_caf6b_row78_col1\" class=\"data row78 col1\" >5,13</td>\n",
       "      <td id=\"T_caf6b_row78_col2\" class=\"data row78 col2\" >5,27</td>\n",
       "      <td id=\"T_caf6b_row78_col3\" class=\"data row78 col3\" >5,47</td>\n",
       "      <td id=\"T_caf6b_row78_col4\" class=\"data row78 col4\" >5,65</td>\n",
       "      <td id=\"T_caf6b_row78_col5\" class=\"data row78 col5\" >5,69</td>\n",
       "      <td id=\"T_caf6b_row78_col6\" class=\"data row78 col6\" >4,93</td>\n",
       "      <td id=\"T_caf6b_row78_col7\" class=\"data row78 col7\" >4,52</td>\n",
       "      <td id=\"T_caf6b_row78_col8\" class=\"data row78 col8\" >5,23</td>\n",
       "    </tr>\n",
       "    <tr>\n",
       "      <th id=\"T_caf6b_level0_row79\" class=\"row_heading level0 row79\" >Morocco</th>\n",
       "      <td id=\"T_caf6b_row79_col0\" class=\"data row79 col0\" >5,01</td>\n",
       "      <td id=\"T_caf6b_row79_col1\" class=\"data row79 col1\" >5,15</td>\n",
       "      <td id=\"T_caf6b_row79_col2\" class=\"data row79 col2\" >5,24</td>\n",
       "      <td id=\"T_caf6b_row79_col3\" class=\"data row79 col3\" >5,25</td>\n",
       "      <td id=\"T_caf6b_row79_col4\" class=\"data row79 col4\" >5,21</td>\n",
       "      <td id=\"T_caf6b_row79_col5\" class=\"data row79 col5\" >5,09</td>\n",
       "      <td id=\"T_caf6b_row79_col6\" class=\"data row79 col6\" >4,92</td>\n",
       "      <td id=\"T_caf6b_row79_col7\" class=\"data row79 col7\" >5,06</td>\n",
       "      <td id=\"T_caf6b_row79_col8\" class=\"data row79 col8\" >5,12</td>\n",
       "    </tr>\n",
       "    <tr>\n",
       "      <th id=\"T_caf6b_level0_row80\" class=\"row_heading level0 row80\" >Nepal</th>\n",
       "      <td id=\"T_caf6b_row80_col0\" class=\"data row80 col0\" >4,51</td>\n",
       "      <td id=\"T_caf6b_row80_col1\" class=\"data row80 col1\" >4,79</td>\n",
       "      <td id=\"T_caf6b_row80_col2\" class=\"data row80 col2\" >4,96</td>\n",
       "      <td id=\"T_caf6b_row80_col3\" class=\"data row80 col3\" >4,88</td>\n",
       "      <td id=\"T_caf6b_row80_col4\" class=\"data row80 col4\" >4,91</td>\n",
       "      <td id=\"T_caf6b_row80_col5\" class=\"data row80 col5\" >5,14</td>\n",
       "      <td id=\"T_caf6b_row80_col6\" class=\"data row80 col6\" >5,27</td>\n",
       "      <td id=\"T_caf6b_row80_col7\" class=\"data row80 col7\" >5,38</td>\n",
       "      <td id=\"T_caf6b_row80_col8\" class=\"data row80 col8\" >4,98</td>\n",
       "    </tr>\n",
       "    <tr>\n",
       "      <th id=\"T_caf6b_level0_row81\" class=\"row_heading level0 row81\" >Nigeria</th>\n",
       "      <td id=\"T_caf6b_row81_col0\" class=\"data row81 col0\" >5,27</td>\n",
       "      <td id=\"T_caf6b_row81_col1\" class=\"data row81 col1\" >4,88</td>\n",
       "      <td id=\"T_caf6b_row81_col2\" class=\"data row81 col2\" >5,07</td>\n",
       "      <td id=\"T_caf6b_row81_col3\" class=\"data row81 col3\" >5,16</td>\n",
       "      <td id=\"T_caf6b_row81_col4\" class=\"data row81 col4\" >5,26</td>\n",
       "      <td id=\"T_caf6b_row81_col5\" class=\"data row81 col5\" >4,72</td>\n",
       "      <td id=\"T_caf6b_row81_col6\" class=\"data row81 col6\" >4,76</td>\n",
       "      <td id=\"T_caf6b_row81_col7\" class=\"data row81 col7\" >4,55</td>\n",
       "      <td id=\"T_caf6b_row81_col8\" class=\"data row81 col8\" >4,96</td>\n",
       "    </tr>\n",
       "    <tr>\n",
       "      <th id=\"T_caf6b_level0_row82\" class=\"row_heading level0 row82\" >Jordan</th>\n",
       "      <td id=\"T_caf6b_row82_col0\" class=\"data row82 col0\" >5,19</td>\n",
       "      <td id=\"T_caf6b_row82_col1\" class=\"data row82 col1\" >5,30</td>\n",
       "      <td id=\"T_caf6b_row82_col2\" class=\"data row82 col2\" >5,34</td>\n",
       "      <td id=\"T_caf6b_row82_col3\" class=\"data row82 col3\" >5,16</td>\n",
       "      <td id=\"T_caf6b_row82_col4\" class=\"data row82 col4\" >4,91</td>\n",
       "      <td id=\"T_caf6b_row82_col5\" class=\"data row82 col5\" >4,63</td>\n",
       "      <td id=\"T_caf6b_row82_col6\" class=\"data row82 col6\" >4,39</td>\n",
       "      <td id=\"T_caf6b_row82_col7\" class=\"data row82 col7\" >4,15</td>\n",
       "      <td id=\"T_caf6b_row82_col8\" class=\"data row82 col8\" >4,88</td>\n",
       "    </tr>\n",
       "    <tr>\n",
       "      <th id=\"T_caf6b_level0_row83\" class=\"row_heading level0 row83\" >Bulgaria</th>\n",
       "      <td id=\"T_caf6b_row83_col0\" class=\"data row83 col0\" >4,22</td>\n",
       "      <td id=\"T_caf6b_row83_col1\" class=\"data row83 col1\" >4,22</td>\n",
       "      <td id=\"T_caf6b_row83_col2\" class=\"data row83 col2\" >4,71</td>\n",
       "      <td id=\"T_caf6b_row83_col3\" class=\"data row83 col3\" >4,93</td>\n",
       "      <td id=\"T_caf6b_row83_col4\" class=\"data row83 col4\" >5,01</td>\n",
       "      <td id=\"T_caf6b_row83_col5\" class=\"data row83 col5\" >5,10</td>\n",
       "      <td id=\"T_caf6b_row83_col6\" class=\"data row83 col6\" >5,27</td>\n",
       "      <td id=\"T_caf6b_row83_col7\" class=\"data row83 col7\" >5,37</td>\n",
       "      <td id=\"T_caf6b_row83_col8\" class=\"data row83 col8\" >4,85</td>\n",
       "    </tr>\n",
       "    <tr>\n",
       "      <th id=\"T_caf6b_level0_row84\" class=\"row_heading level0 row84\" >Albania</th>\n",
       "      <td id=\"T_caf6b_row84_col0\" class=\"data row84 col0\" >4,96</td>\n",
       "      <td id=\"T_caf6b_row84_col1\" class=\"data row84 col1\" >4,66</td>\n",
       "      <td id=\"T_caf6b_row84_col2\" class=\"data row84 col2\" >4,64</td>\n",
       "      <td id=\"T_caf6b_row84_col3\" class=\"data row84 col3\" >4,59</td>\n",
       "      <td id=\"T_caf6b_row84_col4\" class=\"data row84 col4\" >4,72</td>\n",
       "      <td id=\"T_caf6b_row84_col5\" class=\"data row84 col5\" >4,88</td>\n",
       "      <td id=\"T_caf6b_row84_col6\" class=\"data row84 col6\" >5,12</td>\n",
       "      <td id=\"T_caf6b_row84_col7\" class=\"data row84 col7\" >5,20</td>\n",
       "      <td id=\"T_caf6b_row84_col8\" class=\"data row84 col8\" >4,85</td>\n",
       "    </tr>\n",
       "    <tr>\n",
       "      <th id=\"T_caf6b_level0_row85\" class=\"row_heading level0 row85\" >Cameroon</th>\n",
       "      <td id=\"T_caf6b_row85_col0\" class=\"data row85 col0\" >4,25</td>\n",
       "      <td id=\"T_caf6b_row85_col1\" class=\"data row85 col1\" >4,51</td>\n",
       "      <td id=\"T_caf6b_row85_col2\" class=\"data row85 col2\" >4,70</td>\n",
       "      <td id=\"T_caf6b_row85_col3\" class=\"data row85 col3\" >4,97</td>\n",
       "      <td id=\"T_caf6b_row85_col4\" class=\"data row85 col4\" >5,04</td>\n",
       "      <td id=\"T_caf6b_row85_col5\" class=\"data row85 col5\" >5,08</td>\n",
       "      <td id=\"T_caf6b_row85_col6\" class=\"data row85 col6\" >5,14</td>\n",
       "      <td id=\"T_caf6b_row85_col7\" class=\"data row85 col7\" >5,05</td>\n",
       "      <td id=\"T_caf6b_row85_col8\" class=\"data row85 col8\" >4,84</td>\n",
       "    </tr>\n",
       "    <tr>\n",
       "      <th id=\"T_caf6b_level0_row86\" class=\"row_heading level0 row86\" >South Africa</th>\n",
       "      <td id=\"T_caf6b_row86_col0\" class=\"data row86 col0\" >4,64</td>\n",
       "      <td id=\"T_caf6b_row86_col1\" class=\"data row86 col1\" >4,46</td>\n",
       "      <td id=\"T_caf6b_row86_col2\" class=\"data row86 col2\" >4,83</td>\n",
       "      <td id=\"T_caf6b_row86_col3\" class=\"data row86 col3\" >4,72</td>\n",
       "      <td id=\"T_caf6b_row86_col4\" class=\"data row86 col4\" >4,72</td>\n",
       "      <td id=\"T_caf6b_row86_col5\" class=\"data row86 col5\" >4,81</td>\n",
       "      <td id=\"T_caf6b_row86_col6\" class=\"data row86 col6\" >4,96</td>\n",
       "      <td id=\"T_caf6b_row86_col7\" class=\"data row86 col7\" >5,19</td>\n",
       "      <td id=\"T_caf6b_row86_col8\" class=\"data row86 col8\" >4,79</td>\n",
       "    </tr>\n",
       "    <tr>\n",
       "      <th id=\"T_caf6b_level0_row87\" class=\"row_heading level0 row87\" >Lebanon</th>\n",
       "      <td id=\"T_caf6b_row87_col0\" class=\"data row87 col0\" >4,84</td>\n",
       "      <td id=\"T_caf6b_row87_col1\" class=\"data row87 col1\" >5,13</td>\n",
       "      <td id=\"T_caf6b_row87_col2\" class=\"data row87 col2\" >5,22</td>\n",
       "      <td id=\"T_caf6b_row87_col3\" class=\"data row87 col3\" >5,36</td>\n",
       "      <td id=\"T_caf6b_row87_col4\" class=\"data row87 col4\" >5,20</td>\n",
       "      <td id=\"T_caf6b_row87_col5\" class=\"data row87 col5\" >4,77</td>\n",
       "      <td id=\"T_caf6b_row87_col6\" class=\"data row87 col6\" >4,58</td>\n",
       "      <td id=\"T_caf6b_row87_col7\" class=\"data row87 col7\" >2,95</td>\n",
       "      <td id=\"T_caf6b_row87_col8\" class=\"data row87 col8\" >4,76</td>\n",
       "    </tr>\n",
       "    <tr>\n",
       "      <th id=\"T_caf6b_level0_row88\" class=\"row_heading level0 row88\" >Bangladesh</th>\n",
       "      <td id=\"T_caf6b_row88_col0\" class=\"data row88 col0\" >4,69</td>\n",
       "      <td id=\"T_caf6b_row88_col1\" class=\"data row88 col1\" >4,64</td>\n",
       "      <td id=\"T_caf6b_row88_col2\" class=\"data row88 col2\" >4,61</td>\n",
       "      <td id=\"T_caf6b_row88_col3\" class=\"data row88 col3\" >4,50</td>\n",
       "      <td id=\"T_caf6b_row88_col4\" class=\"data row88 col4\" >4,46</td>\n",
       "      <td id=\"T_caf6b_row88_col5\" class=\"data row88 col5\" >4,83</td>\n",
       "      <td id=\"T_caf6b_row88_col6\" class=\"data row88 col6\" >5,03</td>\n",
       "      <td id=\"T_caf6b_row88_col7\" class=\"data row88 col7\" >5,16</td>\n",
       "      <td id=\"T_caf6b_row88_col8\" class=\"data row88 col8\" >4,74</td>\n",
       "    </tr>\n",
       "    <tr>\n",
       "      <th id=\"T_caf6b_level0_row89\" class=\"row_heading level0 row89\" >Ghana</th>\n",
       "      <td id=\"T_caf6b_row89_col0\" class=\"data row89 col0\" >4,63</td>\n",
       "      <td id=\"T_caf6b_row89_col1\" class=\"data row89 col1\" >4,28</td>\n",
       "      <td id=\"T_caf6b_row89_col2\" class=\"data row89 col2\" >4,12</td>\n",
       "      <td id=\"T_caf6b_row89_col3\" class=\"data row89 col3\" >4,66</td>\n",
       "      <td id=\"T_caf6b_row89_col4\" class=\"data row89 col4\" >5,00</td>\n",
       "      <td id=\"T_caf6b_row89_col5\" class=\"data row89 col5\" >5,15</td>\n",
       "      <td id=\"T_caf6b_row89_col6\" class=\"data row89 col6\" >5,09</td>\n",
       "      <td id=\"T_caf6b_row89_col7\" class=\"data row89 col7\" >4,87</td>\n",
       "      <td id=\"T_caf6b_row89_col8\" class=\"data row89 col8\" >4,72</td>\n",
       "    </tr>\n",
       "    <tr>\n",
       "      <th id=\"T_caf6b_level0_row90\" class=\"row_heading level0 row90\" >Iran</th>\n",
       "      <td id=\"T_caf6b_row90_col0\" class=\"data row90 col0\" >4,69</td>\n",
       "      <td id=\"T_caf6b_row90_col1\" class=\"data row90 col1\" >4,81</td>\n",
       "      <td id=\"T_caf6b_row90_col2\" class=\"data row90 col2\" >4,69</td>\n",
       "      <td id=\"T_caf6b_row90_col3\" class=\"data row90 col3\" >4,71</td>\n",
       "      <td id=\"T_caf6b_row90_col4\" class=\"data row90 col4\" >4,55</td>\n",
       "      <td id=\"T_caf6b_row90_col5\" class=\"data row90 col5\" >4,67</td>\n",
       "      <td id=\"T_caf6b_row90_col6\" class=\"data row90 col6\" >4,72</td>\n",
       "      <td id=\"T_caf6b_row90_col7\" class=\"data row90 col7\" >4,89</td>\n",
       "      <td id=\"T_caf6b_row90_col8\" class=\"data row90 col8\" >4,72</td>\n",
       "    </tr>\n",
       "    <tr>\n",
       "      <th id=\"T_caf6b_level0_row91\" class=\"row_heading level0 row91\" >Armenia</th>\n",
       "      <td id=\"T_caf6b_row91_col0\" class=\"data row91 col0\" >4,35</td>\n",
       "      <td id=\"T_caf6b_row91_col1\" class=\"data row91 col1\" >4,36</td>\n",
       "      <td id=\"T_caf6b_row91_col2\" class=\"data row91 col2\" >4,38</td>\n",
       "      <td id=\"T_caf6b_row91_col3\" class=\"data row91 col3\" >4,32</td>\n",
       "      <td id=\"T_caf6b_row91_col4\" class=\"data row91 col4\" >4,56</td>\n",
       "      <td id=\"T_caf6b_row91_col5\" class=\"data row91 col5\" >4,68</td>\n",
       "      <td id=\"T_caf6b_row91_col6\" class=\"data row91 col6\" >5,28</td>\n",
       "      <td id=\"T_caf6b_row91_col7\" class=\"data row91 col7\" >5,40</td>\n",
       "      <td id=\"T_caf6b_row91_col8\" class=\"data row91 col8\" >4,67</td>\n",
       "    </tr>\n",
       "    <tr>\n",
       "      <th id=\"T_caf6b_level0_row92\" class=\"row_heading level0 row92\" >Iraq</th>\n",
       "      <td id=\"T_caf6b_row92_col0\" class=\"data row92 col0\" >4,68</td>\n",
       "      <td id=\"T_caf6b_row92_col1\" class=\"data row92 col1\" >4,57</td>\n",
       "      <td id=\"T_caf6b_row92_col2\" class=\"data row92 col2\" >4,50</td>\n",
       "      <td id=\"T_caf6b_row92_col3\" class=\"data row92 col3\" >4,46</td>\n",
       "      <td id=\"T_caf6b_row92_col4\" class=\"data row92 col4\" >4,44</td>\n",
       "      <td id=\"T_caf6b_row92_col5\" class=\"data row92 col5\" >4,78</td>\n",
       "      <td id=\"T_caf6b_row92_col6\" class=\"data row92 col6\" >4,85</td>\n",
       "      <td id=\"T_caf6b_row92_col7\" class=\"data row92 col7\" >4,94</td>\n",
       "      <td id=\"T_caf6b_row92_col8\" class=\"data row92 col8\" >4,65</td>\n",
       "    </tr>\n",
       "    <tr>\n",
       "      <th id=\"T_caf6b_level0_row93\" class=\"row_heading level0 row93\" >Tunisia</th>\n",
       "      <td id=\"T_caf6b_row93_col0\" class=\"data row93 col0\" >4,74</td>\n",
       "      <td id=\"T_caf6b_row93_col1\" class=\"data row93 col1\" >5,05</td>\n",
       "      <td id=\"T_caf6b_row93_col2\" class=\"data row93 col2\" >4,80</td>\n",
       "      <td id=\"T_caf6b_row93_col3\" class=\"data row93 col3\" >4,59</td>\n",
       "      <td id=\"T_caf6b_row93_col4\" class=\"data row93 col4\" >4,46</td>\n",
       "      <td id=\"T_caf6b_row93_col5\" class=\"data row93 col5\" >4,39</td>\n",
       "      <td id=\"T_caf6b_row93_col6\" class=\"data row93 col6\" >4,60</td>\n",
       "      <td id=\"T_caf6b_row93_col7\" class=\"data row93 col7\" >4,52</td>\n",
       "      <td id=\"T_caf6b_row93_col8\" class=\"data row93 col8\" >4,64</td>\n",
       "    </tr>\n",
       "    <tr>\n",
       "      <th id=\"T_caf6b_level0_row94\" class=\"row_heading level0 row94\" >Ivory Coast</th>\n",
       "      <td id=\"T_caf6b_row94_col0\" class=\"data row94 col0\" >3,65</td>\n",
       "      <td id=\"T_caf6b_row94_col1\" class=\"data row94 col1\" >3,92</td>\n",
       "      <td id=\"T_caf6b_row94_col2\" class=\"data row94 col2\" >4,18</td>\n",
       "      <td id=\"T_caf6b_row94_col3\" class=\"data row94 col3\" >4,67</td>\n",
       "      <td id=\"T_caf6b_row94_col4\" class=\"data row94 col4\" >4,94</td>\n",
       "      <td id=\"T_caf6b_row94_col5\" class=\"data row94 col5\" >5,23</td>\n",
       "      <td id=\"T_caf6b_row94_col6\" class=\"data row94 col6\" >5,31</td>\n",
       "      <td id=\"T_caf6b_row94_col7\" class=\"data row94 col7\" >5,24</td>\n",
       "      <td id=\"T_caf6b_row94_col8\" class=\"data row94 col8\" >4,64</td>\n",
       "    </tr>\n",
       "    <tr>\n",
       "      <th id=\"T_caf6b_level0_row95\" class=\"row_heading level0 row95\" >Senegal</th>\n",
       "      <td id=\"T_caf6b_row95_col0\" class=\"data row95 col0\" >3,90</td>\n",
       "      <td id=\"T_caf6b_row95_col1\" class=\"data row95 col1\" >4,22</td>\n",
       "      <td id=\"T_caf6b_row95_col2\" class=\"data row95 col2\" >4,53</td>\n",
       "      <td id=\"T_caf6b_row95_col3\" class=\"data row95 col3\" >4,63</td>\n",
       "      <td id=\"T_caf6b_row95_col4\" class=\"data row95 col4\" >4,68</td>\n",
       "      <td id=\"T_caf6b_row95_col5\" class=\"data row95 col5\" >4,98</td>\n",
       "      <td id=\"T_caf6b_row95_col6\" class=\"data row95 col6\" >5,13</td>\n",
       "      <td id=\"T_caf6b_row95_col7\" class=\"data row95 col7\" >5,05</td>\n",
       "      <td id=\"T_caf6b_row95_col8\" class=\"data row95 col8\" >4,64</td>\n",
       "    </tr>\n",
       "    <tr>\n",
       "      <th id=\"T_caf6b_level0_row96\" class=\"row_heading level0 row96\" >Gabon</th>\n",
       "      <td id=\"T_caf6b_row96_col0\" class=\"data row96 col0\" >3,90</td>\n",
       "      <td id=\"T_caf6b_row96_col1\" class=\"data row96 col1\" >4,12</td>\n",
       "      <td id=\"T_caf6b_row96_col2\" class=\"data row96 col2\" >4,47</td>\n",
       "      <td id=\"T_caf6b_row96_col3\" class=\"data row96 col3\" >4,76</td>\n",
       "      <td id=\"T_caf6b_row96_col4\" class=\"data row96 col4\" >4,80</td>\n",
       "      <td id=\"T_caf6b_row96_col5\" class=\"data row96 col5\" >4,83</td>\n",
       "      <td id=\"T_caf6b_row96_col6\" class=\"data row96 col6\" >4,85</td>\n",
       "      <td id=\"T_caf6b_row96_col7\" class=\"data row96 col7\" >4,96</td>\n",
       "      <td id=\"T_caf6b_row96_col8\" class=\"data row96 col8\" >4,58</td>\n",
       "    </tr>\n",
       "    <tr>\n",
       "      <th id=\"T_caf6b_level0_row97\" class=\"row_heading level0 row97\" >Georgia</th>\n",
       "      <td id=\"T_caf6b_row97_col0\" class=\"data row97 col0\" >4,30</td>\n",
       "      <td id=\"T_caf6b_row97_col1\" class=\"data row97 col1\" >4,25</td>\n",
       "      <td id=\"T_caf6b_row97_col2\" class=\"data row97 col2\" >4,29</td>\n",
       "      <td id=\"T_caf6b_row97_col3\" class=\"data row97 col3\" >4,34</td>\n",
       "      <td id=\"T_caf6b_row97_col4\" class=\"data row97 col4\" >4,52</td>\n",
       "      <td id=\"T_caf6b_row97_col5\" class=\"data row97 col5\" >4,67</td>\n",
       "      <td id=\"T_caf6b_row97_col6\" class=\"data row97 col6\" >4,89</td>\n",
       "      <td id=\"T_caf6b_row97_col7\" class=\"data row97 col7\" >4,97</td>\n",
       "      <td id=\"T_caf6b_row97_col8\" class=\"data row97 col8\" >4,53</td>\n",
       "    </tr>\n",
       "    <tr>\n",
       "      <th id=\"T_caf6b_level0_row98\" class=\"row_heading level0 row98\" >Ukraine</th>\n",
       "      <td id=\"T_caf6b_row98_col0\" class=\"data row98 col0\" >4,68</td>\n",
       "      <td id=\"T_caf6b_row98_col1\" class=\"data row98 col1\" >4,32</td>\n",
       "      <td id=\"T_caf6b_row98_col2\" class=\"data row98 col2\" >4,10</td>\n",
       "      <td id=\"T_caf6b_row98_col3\" class=\"data row98 col3\" >4,10</td>\n",
       "      <td id=\"T_caf6b_row98_col4\" class=\"data row98 col4\" >4,33</td>\n",
       "      <td id=\"T_caf6b_row98_col5\" class=\"data row98 col5\" >4,56</td>\n",
       "      <td id=\"T_caf6b_row98_col6\" class=\"data row98 col6\" >4,88</td>\n",
       "      <td id=\"T_caf6b_row98_col7\" class=\"data row98 col7\" >5,08</td>\n",
       "      <td id=\"T_caf6b_row98_col8\" class=\"data row98 col8\" >4,51</td>\n",
       "    </tr>\n",
       "    <tr>\n",
       "      <th id=\"T_caf6b_level0_row99\" class=\"row_heading level0 row99\" >Kenya</th>\n",
       "      <td id=\"T_caf6b_row99_col0\" class=\"data row99 col0\" >4,42</td>\n",
       "      <td id=\"T_caf6b_row99_col1\" class=\"data row99 col1\" >4,36</td>\n",
       "      <td id=\"T_caf6b_row99_col2\" class=\"data row99 col2\" >4,55</td>\n",
       "      <td id=\"T_caf6b_row99_col3\" class=\"data row99 col3\" >4,41</td>\n",
       "      <td id=\"T_caf6b_row99_col4\" class=\"data row99 col4\" >4,51</td>\n",
       "      <td id=\"T_caf6b_row99_col5\" class=\"data row99 col5\" >4,58</td>\n",
       "      <td id=\"T_caf6b_row99_col6\" class=\"data row99 col6\" >4,61</td>\n",
       "      <td id=\"T_caf6b_row99_col7\" class=\"data row99 col7\" >4,54</td>\n",
       "      <td id=\"T_caf6b_row99_col8\" class=\"data row99 col8\" >4,50</td>\n",
       "    </tr>\n",
       "    <tr>\n",
       "      <th id=\"T_caf6b_level0_row100\" class=\"row_heading level0 row100\" >Cambodia</th>\n",
       "      <td id=\"T_caf6b_row100_col0\" class=\"data row100 col0\" >3,82</td>\n",
       "      <td id=\"T_caf6b_row100_col1\" class=\"data row100 col1\" >3,91</td>\n",
       "      <td id=\"T_caf6b_row100_col2\" class=\"data row100 col2\" >4,17</td>\n",
       "      <td id=\"T_caf6b_row100_col3\" class=\"data row100 col3\" >4,43</td>\n",
       "      <td id=\"T_caf6b_row100_col4\" class=\"data row100 col4\" >4,70</td>\n",
       "      <td id=\"T_caf6b_row100_col5\" class=\"data row100 col5\" >4,85</td>\n",
       "      <td id=\"T_caf6b_row100_col6\" class=\"data row100 col6\" >4,83</td>\n",
       "      <td id=\"T_caf6b_row100_col7\" class=\"data row100 col7\" >4,64</td>\n",
       "      <td id=\"T_caf6b_row100_col8\" class=\"data row100 col8\" >4,42</td>\n",
       "    </tr>\n",
       "    <tr>\n",
       "      <th id=\"T_caf6b_level0_row101\" class=\"row_heading level0 row101\" >Myanmar</th>\n",
       "      <td id=\"T_caf6b_row101_col0\" class=\"data row101 col0\" >4,31</td>\n",
       "      <td id=\"T_caf6b_row101_col1\" class=\"data row101 col1\" >4,39</td>\n",
       "      <td id=\"T_caf6b_row101_col2\" class=\"data row101 col2\" >4,55</td>\n",
       "      <td id=\"T_caf6b_row101_col3\" class=\"data row101 col3\" >4,31</td>\n",
       "      <td id=\"T_caf6b_row101_col4\" class=\"data row101 col4\" >4,36</td>\n",
       "      <td id=\"T_caf6b_row101_col5\" class=\"data row101 col5\" >4,31</td>\n",
       "      <td id=\"T_caf6b_row101_col6\" class=\"data row101 col6\" >4,43</td>\n",
       "      <td id=\"T_caf6b_row101_col7\" class=\"data row101 col7\" >4,39</td>\n",
       "      <td id=\"T_caf6b_row101_col8\" class=\"data row101 col8\" >4,38</td>\n",
       "    </tr>\n",
       "    <tr>\n",
       "      <th id=\"T_caf6b_level0_row102\" class=\"row_heading level0 row102\" >Mali</th>\n",
       "      <td id=\"T_caf6b_row102_col0\" class=\"data row102 col0\" >3,99</td>\n",
       "      <td id=\"T_caf6b_row102_col1\" class=\"data row102 col1\" >4,07</td>\n",
       "      <td id=\"T_caf6b_row102_col2\" class=\"data row102 col2\" >4,19</td>\n",
       "      <td id=\"T_caf6b_row102_col3\" class=\"data row102 col3\" >4,45</td>\n",
       "      <td id=\"T_caf6b_row102_col4\" class=\"data row102 col4\" >4,39</td>\n",
       "      <td id=\"T_caf6b_row102_col5\" class=\"data row102 col5\" >4,73</td>\n",
       "      <td id=\"T_caf6b_row102_col6\" class=\"data row102 col6\" >4,72</td>\n",
       "      <td id=\"T_caf6b_row102_col7\" class=\"data row102 col7\" >4,48</td>\n",
       "      <td id=\"T_caf6b_row102_col8\" class=\"data row102 col8\" >4,38</td>\n",
       "    </tr>\n",
       "    <tr>\n",
       "      <th id=\"T_caf6b_level0_row103\" class=\"row_heading level0 row103\" >Sri Lanka</th>\n",
       "      <td id=\"T_caf6b_row103_col0\" class=\"data row103 col0\" >4,27</td>\n",
       "      <td id=\"T_caf6b_row103_col1\" class=\"data row103 col1\" >4,41</td>\n",
       "      <td id=\"T_caf6b_row103_col2\" class=\"data row103 col2\" >4,44</td>\n",
       "      <td id=\"T_caf6b_row103_col3\" class=\"data row103 col3\" >4,47</td>\n",
       "      <td id=\"T_caf6b_row103_col4\" class=\"data row103 col4\" >4,37</td>\n",
       "      <td id=\"T_caf6b_row103_col5\" class=\"data row103 col5\" >4,33</td>\n",
       "      <td id=\"T_caf6b_row103_col6\" class=\"data row103 col6\" >4,32</td>\n",
       "      <td id=\"T_caf6b_row103_col7\" class=\"data row103 col7\" >4,36</td>\n",
       "      <td id=\"T_caf6b_row103_col8\" class=\"data row103 col8\" >4,37</td>\n",
       "    </tr>\n",
       "    <tr>\n",
       "      <th id=\"T_caf6b_level0_row104\" class=\"row_heading level0 row104\" >Ethiopia</th>\n",
       "      <td id=\"T_caf6b_row104_col0\" class=\"data row104 col0\" >4,51</td>\n",
       "      <td id=\"T_caf6b_row104_col1\" class=\"data row104 col1\" >4,51</td>\n",
       "      <td id=\"T_caf6b_row104_col2\" class=\"data row104 col2\" >4,46</td>\n",
       "      <td id=\"T_caf6b_row104_col3\" class=\"data row104 col3\" >4,35</td>\n",
       "      <td id=\"T_caf6b_row104_col4\" class=\"data row104 col4\" >4,29</td>\n",
       "      <td id=\"T_caf6b_row104_col5\" class=\"data row104 col5\" >4,19</td>\n",
       "      <td id=\"T_caf6b_row104_col6\" class=\"data row104 col6\" >4,28</td>\n",
       "      <td id=\"T_caf6b_row104_col7\" class=\"data row104 col7\" >4,24</td>\n",
       "      <td id=\"T_caf6b_row104_col8\" class=\"data row104 col8\" >4,35</td>\n",
       "    </tr>\n",
       "    <tr>\n",
       "      <th id=\"T_caf6b_level0_row105\" class=\"row_heading level0 row105\" >Burkina Faso</th>\n",
       "      <td id=\"T_caf6b_row105_col0\" class=\"data row105 col0\" >3,59</td>\n",
       "      <td id=\"T_caf6b_row105_col1\" class=\"data row105 col1\" >3,74</td>\n",
       "      <td id=\"T_caf6b_row105_col2\" class=\"data row105 col2\" >4,03</td>\n",
       "      <td id=\"T_caf6b_row105_col3\" class=\"data row105 col3\" >4,42</td>\n",
       "      <td id=\"T_caf6b_row105_col4\" class=\"data row105 col4\" >4,59</td>\n",
       "      <td id=\"T_caf6b_row105_col5\" class=\"data row105 col5\" >4,77</td>\n",
       "      <td id=\"T_caf6b_row105_col6\" class=\"data row105 col6\" >4,83</td>\n",
       "      <td id=\"T_caf6b_row105_col7\" class=\"data row105 col7\" >4,67</td>\n",
       "      <td id=\"T_caf6b_row105_col8\" class=\"data row105 col8\" >4,33</td>\n",
       "    </tr>\n",
       "    <tr>\n",
       "      <th id=\"T_caf6b_level0_row106\" class=\"row_heading level0 row106\" >Egypt</th>\n",
       "      <td id=\"T_caf6b_row106_col0\" class=\"data row106 col0\" >4,19</td>\n",
       "      <td id=\"T_caf6b_row106_col1\" class=\"data row106 col1\" >4,36</td>\n",
       "      <td id=\"T_caf6b_row106_col2\" class=\"data row106 col2\" >4,74</td>\n",
       "      <td id=\"T_caf6b_row106_col3\" class=\"data row106 col3\" >4,42</td>\n",
       "      <td id=\"T_caf6b_row106_col4\" class=\"data row106 col4\" >4,17</td>\n",
       "      <td id=\"T_caf6b_row106_col5\" class=\"data row106 col5\" >4,15</td>\n",
       "      <td id=\"T_caf6b_row106_col6\" class=\"data row106 col6\" >4,28</td>\n",
       "      <td id=\"T_caf6b_row106_col7\" class=\"data row106 col7\" >4,29</td>\n",
       "      <td id=\"T_caf6b_row106_col8\" class=\"data row106 col8\" >4,32</td>\n",
       "    </tr>\n",
       "    <tr>\n",
       "      <th id=\"T_caf6b_level0_row107\" class=\"row_heading level0 row107\" >Zambia</th>\n",
       "      <td id=\"T_caf6b_row107_col0\" class=\"data row107 col0\" >5,13</td>\n",
       "      <td id=\"T_caf6b_row107_col1\" class=\"data row107 col1\" >4,80</td>\n",
       "      <td id=\"T_caf6b_row107_col2\" class=\"data row107 col2\" >4,51</td>\n",
       "      <td id=\"T_caf6b_row107_col3\" class=\"data row107 col3\" >4,38</td>\n",
       "      <td id=\"T_caf6b_row107_col4\" class=\"data row107 col4\" >4,11</td>\n",
       "      <td id=\"T_caf6b_row107_col5\" class=\"data row107 col5\" >3,76</td>\n",
       "      <td id=\"T_caf6b_row107_col6\" class=\"data row107 col6\" >4,07</td>\n",
       "      <td id=\"T_caf6b_row107_col7\" class=\"data row107 col7\" >3,76</td>\n",
       "      <td id=\"T_caf6b_row107_col8\" class=\"data row107 col8\" >4,31</td>\n",
       "    </tr>\n",
       "    <tr>\n",
       "      <th id=\"T_caf6b_level0_row108\" class=\"row_heading level0 row108\" >Benin</th>\n",
       "      <td id=\"T_caf6b_row108_col0\" class=\"data row108 col0\" >3,34</td>\n",
       "      <td id=\"T_caf6b_row108_col1\" class=\"data row108 col1\" >3,48</td>\n",
       "      <td id=\"T_caf6b_row108_col2\" class=\"data row108 col2\" >3,66</td>\n",
       "      <td id=\"T_caf6b_row108_col3\" class=\"data row108 col3\" >4,14</td>\n",
       "      <td id=\"T_caf6b_row108_col4\" class=\"data row108 col4\" >4,88</td>\n",
       "      <td id=\"T_caf6b_row108_col5\" class=\"data row108 col5\" >5,22</td>\n",
       "      <td id=\"T_caf6b_row108_col6\" class=\"data row108 col6\" >5,05</td>\n",
       "      <td id=\"T_caf6b_row108_col7\" class=\"data row108 col7\" >4,62</td>\n",
       "      <td id=\"T_caf6b_row108_col8\" class=\"data row108 col8\" >4,30</td>\n",
       "    </tr>\n",
       "    <tr>\n",
       "      <th id=\"T_caf6b_level0_row109\" class=\"row_heading level0 row109\" >Sierra Leone</th>\n",
       "      <td id=\"T_caf6b_row109_col0\" class=\"data row109 col0\" >4,51</td>\n",
       "      <td id=\"T_caf6b_row109_col1\" class=\"data row109 col1\" >4,64</td>\n",
       "      <td id=\"T_caf6b_row109_col2\" class=\"data row109 col2\" >4,71</td>\n",
       "      <td id=\"T_caf6b_row109_col3\" class=\"data row109 col3\" >4,57</td>\n",
       "      <td id=\"T_caf6b_row109_col4\" class=\"data row109 col4\" >4,37</td>\n",
       "      <td id=\"T_caf6b_row109_col5\" class=\"data row109 col5\" >3,93</td>\n",
       "      <td id=\"T_caf6b_row109_col6\" class=\"data row109 col6\" >3,85</td>\n",
       "      <td id=\"T_caf6b_row109_col7\" class=\"data row109 col7\" >3,57</td>\n",
       "      <td id=\"T_caf6b_row109_col8\" class=\"data row109 col8\" >4,27</td>\n",
       "    </tr>\n",
       "    <tr>\n",
       "      <th id=\"T_caf6b_level0_row110\" class=\"row_heading level0 row110\" >Guinea</th>\n",
       "      <td id=\"T_caf6b_row110_col0\" class=\"data row110 col0\" >3,66</td>\n",
       "      <td id=\"T_caf6b_row110_col1\" class=\"data row110 col1\" >3,61</td>\n",
       "      <td id=\"T_caf6b_row110_col2\" class=\"data row110 col2\" >3,51</td>\n",
       "      <td id=\"T_caf6b_row110_col3\" class=\"data row110 col3\" >3,96</td>\n",
       "      <td id=\"T_caf6b_row110_col4\" class=\"data row110 col4\" >4,53</td>\n",
       "      <td id=\"T_caf6b_row110_col5\" class=\"data row110 col5\" >4,95</td>\n",
       "      <td id=\"T_caf6b_row110_col6\" class=\"data row110 col6\" >4,98</td>\n",
       "      <td id=\"T_caf6b_row110_col7\" class=\"data row110 col7\" >4,89</td>\n",
       "      <td id=\"T_caf6b_row110_col8\" class=\"data row110 col8\" >4,26</td>\n",
       "    </tr>\n",
       "    <tr>\n",
       "      <th id=\"T_caf6b_level0_row111\" class=\"row_heading level0 row111\" >Uganda</th>\n",
       "      <td id=\"T_caf6b_row111_col0\" class=\"data row111 col0\" >3,93</td>\n",
       "      <td id=\"T_caf6b_row111_col1\" class=\"data row111 col1\" >3,74</td>\n",
       "      <td id=\"T_caf6b_row111_col2\" class=\"data row111 col2\" >4,08</td>\n",
       "      <td id=\"T_caf6b_row111_col3\" class=\"data row111 col3\" >4,16</td>\n",
       "      <td id=\"T_caf6b_row111_col4\" class=\"data row111 col4\" >4,19</td>\n",
       "      <td id=\"T_caf6b_row111_col5\" class=\"data row111 col5\" >4,43</td>\n",
       "      <td id=\"T_caf6b_row111_col6\" class=\"data row111 col6\" >4,64</td>\n",
       "      <td id=\"T_caf6b_row111_col7\" class=\"data row111 col7\" >4,60</td>\n",
       "      <td id=\"T_caf6b_row111_col8\" class=\"data row111 col8\" >4,22</td>\n",
       "    </tr>\n",
       "    <tr>\n",
       "      <th id=\"T_caf6b_level0_row112\" class=\"row_heading level0 row112\" >India</th>\n",
       "      <td id=\"T_caf6b_row112_col0\" class=\"data row112 col0\" >4,57</td>\n",
       "      <td id=\"T_caf6b_row112_col1\" class=\"data row112 col1\" >4,40</td>\n",
       "      <td id=\"T_caf6b_row112_col2\" class=\"data row112 col2\" >4,32</td>\n",
       "      <td id=\"T_caf6b_row112_col3\" class=\"data row112 col3\" >4,19</td>\n",
       "      <td id=\"T_caf6b_row112_col4\" class=\"data row112 col4\" >4,01</td>\n",
       "      <td id=\"T_caf6b_row112_col5\" class=\"data row112 col5\" >3,57</td>\n",
       "      <td id=\"T_caf6b_row112_col6\" class=\"data row112 col6\" >3,82</td>\n",
       "      <td id=\"T_caf6b_row112_col7\" class=\"data row112 col7\" >3,78</td>\n",
       "      <td id=\"T_caf6b_row112_col8\" class=\"data row112 col8\" >4,08</td>\n",
       "    </tr>\n",
       "    <tr>\n",
       "      <th id=\"T_caf6b_level0_row113\" class=\"row_heading level0 row113\" >Malawi</th>\n",
       "      <td id=\"T_caf6b_row113_col0\" class=\"data row113 col0\" >4,29</td>\n",
       "      <td id=\"T_caf6b_row113_col1\" class=\"data row113 col1\" >4,16</td>\n",
       "      <td id=\"T_caf6b_row113_col2\" class=\"data row113 col2\" >3,97</td>\n",
       "      <td id=\"T_caf6b_row113_col3\" class=\"data row113 col3\" >3,59</td>\n",
       "      <td id=\"T_caf6b_row113_col4\" class=\"data row113 col4\" >3,41</td>\n",
       "      <td id=\"T_caf6b_row113_col5\" class=\"data row113 col5\" >3,54</td>\n",
       "      <td id=\"T_caf6b_row113_col6\" class=\"data row113 col6\" >3,60</td>\n",
       "      <td id=\"T_caf6b_row113_col7\" class=\"data row113 col7\" >3,75</td>\n",
       "      <td id=\"T_caf6b_row113_col8\" class=\"data row113 col8\" >3,79</td>\n",
       "    </tr>\n",
       "    <tr>\n",
       "      <th id=\"T_caf6b_level0_row114\" class=\"row_heading level0 row114\" >Togo</th>\n",
       "      <td id=\"T_caf6b_row114_col0\" class=\"data row114 col0\" >2,84</td>\n",
       "      <td id=\"T_caf6b_row114_col1\" class=\"data row114 col1\" >3,30</td>\n",
       "      <td id=\"T_caf6b_row114_col2\" class=\"data row114 col2\" >3,49</td>\n",
       "      <td id=\"T_caf6b_row114_col3\" class=\"data row114 col3\" >4,00</td>\n",
       "      <td id=\"T_caf6b_row114_col4\" class=\"data row114 col4\" >4,09</td>\n",
       "      <td id=\"T_caf6b_row114_col5\" class=\"data row114 col5\" >4,19</td>\n",
       "      <td id=\"T_caf6b_row114_col6\" class=\"data row114 col6\" >4,11</td>\n",
       "      <td id=\"T_caf6b_row114_col7\" class=\"data row114 col7\" >4,11</td>\n",
       "      <td id=\"T_caf6b_row114_col8\" class=\"data row114 col8\" >3,77</td>\n",
       "    </tr>\n",
       "    <tr>\n",
       "      <th id=\"T_caf6b_level0_row115\" class=\"row_heading level0 row115\" >Zimbabwe</th>\n",
       "      <td id=\"T_caf6b_row115_col0\" class=\"data row115 col0\" >4,61</td>\n",
       "      <td id=\"T_caf6b_row115_col1\" class=\"data row115 col1\" >4,19</td>\n",
       "      <td id=\"T_caf6b_row115_col2\" class=\"data row115 col2\" >3,88</td>\n",
       "      <td id=\"T_caf6b_row115_col3\" class=\"data row115 col3\" >3,69</td>\n",
       "      <td id=\"T_caf6b_row115_col4\" class=\"data row115 col4\" >3,66</td>\n",
       "      <td id=\"T_caf6b_row115_col5\" class=\"data row115 col5\" >3,30</td>\n",
       "      <td id=\"T_caf6b_row115_col6\" class=\"data row115 col6\" >3,14</td>\n",
       "      <td id=\"T_caf6b_row115_col7\" class=\"data row115 col7\" >2,99</td>\n",
       "      <td id=\"T_caf6b_row115_col8\" class=\"data row115 col8\" >3,68</td>\n",
       "    </tr>\n",
       "    <tr>\n",
       "      <th id=\"T_caf6b_level0_row116\" class=\"row_heading level0 row116\" >Tanzania</th>\n",
       "      <td id=\"T_caf6b_row116_col0\" class=\"data row116 col0\" >3,78</td>\n",
       "      <td id=\"T_caf6b_row116_col1\" class=\"data row116 col1\" >3,67</td>\n",
       "      <td id=\"T_caf6b_row116_col2\" class=\"data row116 col2\" >3,35</td>\n",
       "      <td id=\"T_caf6b_row116_col3\" class=\"data row116 col3\" >3,30</td>\n",
       "      <td id=\"T_caf6b_row116_col4\" class=\"data row116 col4\" >3,23</td>\n",
       "      <td id=\"T_caf6b_row116_col5\" class=\"data row116 col5\" >3,48</td>\n",
       "      <td id=\"T_caf6b_row116_col6\" class=\"data row116 col6\" >3,62</td>\n",
       "      <td id=\"T_caf6b_row116_col7\" class=\"data row116 col7\" >3,70</td>\n",
       "      <td id=\"T_caf6b_row116_col8\" class=\"data row116 col8\" >3,52</td>\n",
       "    </tr>\n",
       "    <tr>\n",
       "      <th id=\"T_caf6b_level0_row117\" class=\"row_heading level0 row117\" >Afghanistan</th>\n",
       "      <td id=\"T_caf6b_row117_col0\" class=\"data row117 col0\" >3,58</td>\n",
       "      <td id=\"T_caf6b_row117_col1\" class=\"data row117 col1\" >3,36</td>\n",
       "      <td id=\"T_caf6b_row117_col2\" class=\"data row117 col2\" >3,79</td>\n",
       "      <td id=\"T_caf6b_row117_col3\" class=\"data row117 col3\" >3,63</td>\n",
       "      <td id=\"T_caf6b_row117_col4\" class=\"data row117 col4\" >3,20</td>\n",
       "      <td id=\"T_caf6b_row117_col5\" class=\"data row117 col5\" >2,57</td>\n",
       "      <td id=\"T_caf6b_row117_col6\" class=\"data row117 col6\" >2,52</td>\n",
       "      <td id=\"T_caf6b_row117_col7\" class=\"data row117 col7\" >2,40</td>\n",
       "      <td id=\"T_caf6b_row117_col8\" class=\"data row117 col8\" >3,13</td>\n",
       "    </tr>\n",
       "  </tbody>\n",
       "</table>\n"
      ],
      "text/plain": [
       "<pandas.io.formats.style.Styler at 0x294bea867f0>"
      ]
     },
     "execution_count": 61,
     "metadata": {},
     "output_type": "execute_result"
    }
   ],
   "source": [
    "datapivothappiness_score = df.pivot(index='Country', columns='Year', values='Happiness Score')\n",
    "datapivothappiness_score = datapivothappiness_score.dropna(axis = 0)\n",
    "datapivothappiness_score['AVG'] = datapivothappiness_score.mean(axis = 1)\n",
    "datapivothappiness_score = datapivothappiness_score.sort_values(by ='AVG', ascending=False)\n",
    "datapivothappiness_score.style\\\n",
    "    .apply(highlight_max)\\\n",
    "    .apply(lambda x: ['background: blue' if x.name in ['Russia'] \n",
    "                              else '' for i in x], \n",
    "                   axis=1)\\\n",
    "    \\\n",
    "    .format(precision=2, thousands=\".\", decimal=\",\")\\\n",
    "\n"
   ]
  },
  {
   "attachments": {},
   "cell_type": "markdown",
   "metadata": {},
   "source": [
    "### 6. Where is Russia?"
   ]
  },
  {
   "cell_type": "code",
   "execution_count": 62,
   "metadata": {},
   "outputs": [],
   "source": [
    "short_list = ['Russia', 'Belarus', 'Ukraine', 'Kazakhstan', 'Uzbekistan', 'Finland']\n",
    "# short_list = ['Russia']"
   ]
  },
  {
   "cell_type": "code",
   "execution_count": 63,
   "metadata": {},
   "outputs": [
    {
     "data": {
      "text/html": [
       "<style type=\"text/css\">\n",
       "#T_ea241_row0_col0, #T_ea241_row0_col1, #T_ea241_row0_col2, #T_ea241_row0_col3, #T_ea241_row0_col4, #T_ea241_row0_col5, #T_ea241_row0_col6, #T_ea241_row0_col7, #T_ea241_row0_col8 {\n",
       "  background-color: #00441b;\n",
       "  color: #f1f1f1;\n",
       "}\n",
       "#T_ea241_row1_col0 {\n",
       "  background-color: #79c67a;\n",
       "  color: #000000;\n",
       "}\n",
       "#T_ea241_row1_col1, #T_ea241_row1_col4 {\n",
       "  background-color: #65bd6f;\n",
       "  color: #f1f1f1;\n",
       "}\n",
       "#T_ea241_row1_col2 {\n",
       "  background-color: #5db96b;\n",
       "  color: #f1f1f1;\n",
       "}\n",
       "#T_ea241_row1_col3 {\n",
       "  background-color: #5ab769;\n",
       "  color: #f1f1f1;\n",
       "}\n",
       "#T_ea241_row1_col5 {\n",
       "  background-color: #6bc072;\n",
       "  color: #000000;\n",
       "}\n",
       "#T_ea241_row1_col6 {\n",
       "  background-color: #8ace88;\n",
       "  color: #000000;\n",
       "}\n",
       "#T_ea241_row1_col7 {\n",
       "  background-color: #a7dba0;\n",
       "  color: #000000;\n",
       "}\n",
       "#T_ea241_row1_col8 {\n",
       "  background-color: #72c375;\n",
       "  color: #000000;\n",
       "}\n",
       "#T_ea241_row2_col0, #T_ea241_row2_col4, #T_ea241_row2_col6 {\n",
       "  background-color: #8dd08a;\n",
       "  color: #000000;\n",
       "}\n",
       "#T_ea241_row2_col1 {\n",
       "  background-color: #6dc072;\n",
       "  color: #000000;\n",
       "}\n",
       "#T_ea241_row2_col2 {\n",
       "  background-color: #70c274;\n",
       "  color: #000000;\n",
       "}\n",
       "#T_ea241_row2_col3, #T_ea241_row4_col1 {\n",
       "  background-color: #7cc87c;\n",
       "  color: #000000;\n",
       "}\n",
       "#T_ea241_row2_col5, #T_ea241_row2_col8 {\n",
       "  background-color: #81ca81;\n",
       "  color: #000000;\n",
       "}\n",
       "#T_ea241_row2_col7 {\n",
       "  background-color: #91d28e;\n",
       "  color: #000000;\n",
       "}\n",
       "#T_ea241_row3_col0 {\n",
       "  background-color: #9fd899;\n",
       "  color: #000000;\n",
       "}\n",
       "#T_ea241_row3_col1 {\n",
       "  background-color: #76c578;\n",
       "  color: #000000;\n",
       "}\n",
       "#T_ea241_row3_col2 {\n",
       "  background-color: #5eb96b;\n",
       "  color: #f1f1f1;\n",
       "}\n",
       "#T_ea241_row3_col3 {\n",
       "  background-color: #7ac77b;\n",
       "  color: #000000;\n",
       "}\n",
       "#T_ea241_row3_col4 {\n",
       "  background-color: #9ed798;\n",
       "  color: #000000;\n",
       "}\n",
       "#T_ea241_row3_col5, #T_ea241_row4_col5 {\n",
       "  background-color: #b7e2b1;\n",
       "  color: #000000;\n",
       "}\n",
       "#T_ea241_row3_col6 {\n",
       "  background-color: #d3eecd;\n",
       "  color: #000000;\n",
       "}\n",
       "#T_ea241_row3_col7 {\n",
       "  background-color: #e2f4dd;\n",
       "  color: #000000;\n",
       "}\n",
       "#T_ea241_row3_col8 {\n",
       "  background-color: #a0d99b;\n",
       "  color: #000000;\n",
       "}\n",
       "#T_ea241_row4_col0 {\n",
       "  background-color: #92d28f;\n",
       "  color: #000000;\n",
       "}\n",
       "#T_ea241_row4_col2 {\n",
       "  background-color: #8bcf89;\n",
       "  color: #000000;\n",
       "}\n",
       "#T_ea241_row4_col3 {\n",
       "  background-color: #9bd696;\n",
       "  color: #000000;\n",
       "}\n",
       "#T_ea241_row4_col4 {\n",
       "  background-color: #bce4b5;\n",
       "  color: #000000;\n",
       "}\n",
       "#T_ea241_row4_col6 {\n",
       "  background-color: #ceecc8;\n",
       "  color: #000000;\n",
       "}\n",
       "#T_ea241_row4_col7 {\n",
       "  background-color: #c2e7bb;\n",
       "  color: #000000;\n",
       "}\n",
       "#T_ea241_row4_col8 {\n",
       "  background-color: #a8dca2;\n",
       "  color: #000000;\n",
       "}\n",
       "#T_ea241_row5_col0, #T_ea241_row5_col1, #T_ea241_row5_col2, #T_ea241_row5_col3, #T_ea241_row5_col4, #T_ea241_row5_col5, #T_ea241_row5_col6, #T_ea241_row5_col7, #T_ea241_row5_col8 {\n",
       "  background-color: #f7fcf5;\n",
       "  color: #000000;\n",
       "}\n",
       "</style>\n",
       "<table id=\"T_ea241\">\n",
       "  <thead>\n",
       "    <tr>\n",
       "      <th class=\"index_name level0\" >Year</th>\n",
       "      <th id=\"T_ea241_level0_col0\" class=\"col_heading level0 col0\" >2015</th>\n",
       "      <th id=\"T_ea241_level0_col1\" class=\"col_heading level0 col1\" >2016</th>\n",
       "      <th id=\"T_ea241_level0_col2\" class=\"col_heading level0 col2\" >2017</th>\n",
       "      <th id=\"T_ea241_level0_col3\" class=\"col_heading level0 col3\" >2018</th>\n",
       "      <th id=\"T_ea241_level0_col4\" class=\"col_heading level0 col4\" >2019</th>\n",
       "      <th id=\"T_ea241_level0_col5\" class=\"col_heading level0 col5\" >2020</th>\n",
       "      <th id=\"T_ea241_level0_col6\" class=\"col_heading level0 col6\" >2021</th>\n",
       "      <th id=\"T_ea241_level0_col7\" class=\"col_heading level0 col7\" >2022</th>\n",
       "      <th id=\"T_ea241_level0_col8\" class=\"col_heading level0 col8\" >AVG</th>\n",
       "    </tr>\n",
       "    <tr>\n",
       "      <th class=\"index_name level0\" >Country</th>\n",
       "      <th class=\"blank col0\" >&nbsp;</th>\n",
       "      <th class=\"blank col1\" >&nbsp;</th>\n",
       "      <th class=\"blank col2\" >&nbsp;</th>\n",
       "      <th class=\"blank col3\" >&nbsp;</th>\n",
       "      <th class=\"blank col4\" >&nbsp;</th>\n",
       "      <th class=\"blank col5\" >&nbsp;</th>\n",
       "      <th class=\"blank col6\" >&nbsp;</th>\n",
       "      <th class=\"blank col7\" >&nbsp;</th>\n",
       "      <th class=\"blank col8\" >&nbsp;</th>\n",
       "    </tr>\n",
       "  </thead>\n",
       "  <tbody>\n",
       "    <tr>\n",
       "      <th id=\"T_ea241_level0_row0\" class=\"row_heading level0 row0\" >Finland</th>\n",
       "      <td id=\"T_ea241_row0_col0\" class=\"data row0 col0\" >7,4</td>\n",
       "      <td id=\"T_ea241_row0_col1\" class=\"data row0 col1\" >7,4</td>\n",
       "      <td id=\"T_ea241_row0_col2\" class=\"data row0 col2\" >7,5</td>\n",
       "      <td id=\"T_ea241_row0_col3\" class=\"data row0 col3\" >7,6</td>\n",
       "      <td id=\"T_ea241_row0_col4\" class=\"data row0 col4\" >7,8</td>\n",
       "      <td id=\"T_ea241_row0_col5\" class=\"data row0 col5\" >7,8</td>\n",
       "      <td id=\"T_ea241_row0_col6\" class=\"data row0 col6\" >7,8</td>\n",
       "      <td id=\"T_ea241_row0_col7\" class=\"data row0 col7\" >7,8</td>\n",
       "      <td id=\"T_ea241_row0_col8\" class=\"data row0 col8\" >7,6</td>\n",
       "    </tr>\n",
       "    <tr>\n",
       "      <th id=\"T_ea241_level0_row1\" class=\"row_heading level0 row1\" >Uzbekistan</th>\n",
       "      <td id=\"T_ea241_row1_col0\" class=\"data row1 col0\" >6,0</td>\n",
       "      <td id=\"T_ea241_row1_col1\" class=\"data row1 col1\" >6,0</td>\n",
       "      <td id=\"T_ea241_row1_col2\" class=\"data row1 col2\" >6,0</td>\n",
       "      <td id=\"T_ea241_row1_col3\" class=\"data row1 col3\" >6,1</td>\n",
       "      <td id=\"T_ea241_row1_col4\" class=\"data row1 col4\" >6,2</td>\n",
       "      <td id=\"T_ea241_row1_col5\" class=\"data row1 col5\" >6,3</td>\n",
       "      <td id=\"T_ea241_row1_col6\" class=\"data row1 col6\" >6,2</td>\n",
       "      <td id=\"T_ea241_row1_col7\" class=\"data row1 col7\" >6,1</td>\n",
       "      <td id=\"T_ea241_row1_col8\" class=\"data row1 col8\" >6,1</td>\n",
       "    </tr>\n",
       "    <tr>\n",
       "      <th id=\"T_ea241_level0_row2\" class=\"row_heading level0 row2\" >Kazakhstan</th>\n",
       "      <td id=\"T_ea241_row2_col0\" class=\"data row2 col0\" >5,9</td>\n",
       "      <td id=\"T_ea241_row2_col1\" class=\"data row2 col1\" >5,9</td>\n",
       "      <td id=\"T_ea241_row2_col2\" class=\"data row2 col2\" >5,8</td>\n",
       "      <td id=\"T_ea241_row2_col3\" class=\"data row2 col3\" >5,8</td>\n",
       "      <td id=\"T_ea241_row2_col4\" class=\"data row2 col4\" >5,8</td>\n",
       "      <td id=\"T_ea241_row2_col5\" class=\"data row2 col5\" >6,1</td>\n",
       "      <td id=\"T_ea241_row2_col6\" class=\"data row2 col6\" >6,2</td>\n",
       "      <td id=\"T_ea241_row2_col7\" class=\"data row2 col7\" >6,2</td>\n",
       "      <td id=\"T_ea241_row2_col8\" class=\"data row2 col8\" >6,0</td>\n",
       "    </tr>\n",
       "    <tr>\n",
       "      <th id=\"T_ea241_level0_row3\" class=\"row_heading level0 row3\" >Russia</th>\n",
       "      <td id=\"T_ea241_row3_col0\" class=\"data row3 col0\" >5,7</td>\n",
       "      <td id=\"T_ea241_row3_col1\" class=\"data row3 col1\" >5,9</td>\n",
       "      <td id=\"T_ea241_row3_col2\" class=\"data row3 col2\" >6,0</td>\n",
       "      <td id=\"T_ea241_row3_col3\" class=\"data row3 col3\" >5,8</td>\n",
       "      <td id=\"T_ea241_row3_col4\" class=\"data row3 col4\" >5,6</td>\n",
       "      <td id=\"T_ea241_row3_col5\" class=\"data row3 col5\" >5,5</td>\n",
       "      <td id=\"T_ea241_row3_col6\" class=\"data row3 col6\" >5,5</td>\n",
       "      <td id=\"T_ea241_row3_col7\" class=\"data row3 col7\" >5,5</td>\n",
       "      <td id=\"T_ea241_row3_col8\" class=\"data row3 col8\" >5,7</td>\n",
       "    </tr>\n",
       "    <tr>\n",
       "      <th id=\"T_ea241_level0_row4\" class=\"row_heading level0 row4\" >Belarus</th>\n",
       "      <td id=\"T_ea241_row4_col0\" class=\"data row4 col0\" >5,8</td>\n",
       "      <td id=\"T_ea241_row4_col1\" class=\"data row4 col1\" >5,8</td>\n",
       "      <td id=\"T_ea241_row4_col2\" class=\"data row4 col2\" >5,6</td>\n",
       "      <td id=\"T_ea241_row4_col3\" class=\"data row4 col3\" >5,5</td>\n",
       "      <td id=\"T_ea241_row4_col4\" class=\"data row4 col4\" >5,3</td>\n",
       "      <td id=\"T_ea241_row4_col5\" class=\"data row4 col5\" >5,5</td>\n",
       "      <td id=\"T_ea241_row4_col6\" class=\"data row4 col6\" >5,5</td>\n",
       "      <td id=\"T_ea241_row4_col7\" class=\"data row4 col7\" >5,8</td>\n",
       "      <td id=\"T_ea241_row4_col8\" class=\"data row4 col8\" >5,6</td>\n",
       "    </tr>\n",
       "    <tr>\n",
       "      <th id=\"T_ea241_level0_row5\" class=\"row_heading level0 row5\" >Ukraine</th>\n",
       "      <td id=\"T_ea241_row5_col0\" class=\"data row5 col0\" >4,7</td>\n",
       "      <td id=\"T_ea241_row5_col1\" class=\"data row5 col1\" >4,3</td>\n",
       "      <td id=\"T_ea241_row5_col2\" class=\"data row5 col2\" >4,1</td>\n",
       "      <td id=\"T_ea241_row5_col3\" class=\"data row5 col3\" >4,1</td>\n",
       "      <td id=\"T_ea241_row5_col4\" class=\"data row5 col4\" >4,3</td>\n",
       "      <td id=\"T_ea241_row5_col5\" class=\"data row5 col5\" >4,6</td>\n",
       "      <td id=\"T_ea241_row5_col6\" class=\"data row5 col6\" >4,9</td>\n",
       "      <td id=\"T_ea241_row5_col7\" class=\"data row5 col7\" >5,1</td>\n",
       "      <td id=\"T_ea241_row5_col8\" class=\"data row5 col8\" >4,5</td>\n",
       "    </tr>\n",
       "  </tbody>\n",
       "</table>\n"
      ],
      "text/plain": [
       "<pandas.io.formats.style.Styler at 0x294bea861f0>"
      ]
     },
     "execution_count": 63,
     "metadata": {},
     "output_type": "execute_result"
    }
   ],
   "source": [
    "datapivothappiness_score[datapivothappiness_score.index.isin (short_list)].style\\\n",
    "    .background_gradient(cmap='Greens')\\\n",
    "    .format(precision=1, thousands=\".\", decimal=\",\")\n"
   ]
  },
  {
   "cell_type": "code",
   "execution_count": 64,
   "metadata": {},
   "outputs": [],
   "source": [
    "short = df[df['Country'].isin (short_list)]"
   ]
  },
  {
   "cell_type": "code",
   "execution_count": 65,
   "metadata": {},
   "outputs": [],
   "source": [
    "pivot_short = short.pivot_table(index='Year', columns='Country', values='Happiness Score')"
   ]
  },
  {
   "cell_type": "code",
   "execution_count": 66,
   "metadata": {},
   "outputs": [
    {
     "data": {
      "image/png": "[encoded data removed]",
      "text/plain": [
       "<Figure size 640x480 with 1 Axes>"
      ]
     },
     "metadata": {},
     "output_type": "display_data"
    }
   ],
   "source": [
    "sns.lineplot(data=pivot_short)\n",
    "plt.show()\n",
    "# sns.lineplot(data = short, x = 'Year', y = 'Happiness Score', hue = 'Country')"
   ]
  },
  {
   "attachments": {},
   "cell_type": "markdown",
   "metadata": {},
   "source": [
    "### 7. Happiness Score map 2022"
   ]
  },
  {
   "cell_type": "code",
   "execution_count": 67,
   "metadata": {},
   "outputs": [
    {
     "name": "stdout",
     "output_type": "stream",
     "text": [
      "<class 'pandas.core.frame.DataFrame'>\n",
      "Int64Index: 147 entries, 0 to 146\n",
      "Data columns (total 10 columns):\n",
      " #   Column                         Non-Null Count  Dtype  \n",
      "---  ------                         --------------  -----  \n",
      " 0   Country                        147 non-null    object \n",
      " 1   Happiness Rank                 147 non-null    int64  \n",
      " 2   Happiness Score                146 non-null    float32\n",
      " 3   Economy (GDP per Capita)       146 non-null    float32\n",
      " 4   Social support                 146 non-null    float32\n",
      " 5   Health (Life Expectancy)       146 non-null    float32\n",
      " 6   Freedom                        146 non-null    float32\n",
      " 7   Trust (Government Corruption)  146 non-null    float32\n",
      " 8   Generosity                     146 non-null    float32\n",
      " 9   Year                           147 non-null    int64  \n",
      "dtypes: float32(7), int64(2), object(1)\n",
      "memory usage: 8.6+ KB\n"
     ]
    }
   ],
   "source": [
    "df22 = df[df['Year']==2022]\n",
    "df22.info()"
   ]
  },
  {
   "cell_type": "code",
   "execution_count": 72,
   "metadata": {},
   "outputs": [
    {
     "data": {
      "application/vnd.plotly.v1+json": {
       "config": {
        "plotlyServerURL": "https://plot.ly"
       },
       "data": [
        {
         "coloraxis": "coloraxis",
         "geo": "geo",
         "hovertemplate": "<b>%{hovertext}</b><br><br>Country=%{location}<br>Happiness Score=%{z}<extra></extra>",
         "hovertext": [
          "Finland",
          "Denmark",
          "Iceland",
          "Switzerland",
          "Netherlands",
          "Luxembourg*",
          "Sweden",
          "Norway",
          "Israel",
          "New Zealand",
          "Austria",
          "Australia",
          "Ireland",
          "Germany",
          "Canada",
          "United States",
          "United Kingdom",
          "Czechia",
          "Belgium",
          "France",
          "Bahrain",
          "Slovenia",
          "Costa Rica",
          "United Arab Emirates",
          "Saudi Arabia",
          "Taiwan Province of China",
          "Singapore",
          "Romania",
          "Spain",
          "Uruguay",
          "Italy",
          "Kosovo",
          "Malta",
          "Lithuania",
          "Slovakia",
          "Estonia",
          "Panama",
          "Brazil",
          "Guatemala*",
          "Kazakhstan",
          "Cyprus",
          "Latvia",
          "Serbia",
          "Chile",
          "Nicaragua",
          "Mexico",
          "Croatia",
          "Poland",
          "El Salvador",
          "Kuwait*",
          "Hungary",
          "Mauritius",
          "Uzbekistan",
          "Japan",
          "Honduras",
          "Portugal",
          "Argentina",
          "Greece",
          "South Korea",
          "Philippines",
          "Thailand",
          "Moldova",
          "Jamaica",
          "Kyrgyzstan",
          "Belarus",
          "Colombia",
          "Bosnia and Herzegovina",
          "Mongolia",
          "Dominican Republic",
          "Malaysia",
          "Bolivia",
          "China",
          "Paraguay",
          "Peru",
          "Montenegro",
          "Ecuador",
          "Vietnam",
          "Turkmenistan*",
          "North Cyprus*",
          "Russia",
          "Hong Kong S.A.R. of China",
          "Armenia",
          "Tajikistan",
          "Nepal",
          "Bulgaria",
          "Libya*",
          "Indonesia",
          "Ivory Coast",
          "North Macedonia",
          "Albania",
          "South Africa",
          "Azerbaijan*",
          "Gambia*",
          "Bangladesh",
          "Laos",
          "Algeria",
          "Liberia*",
          "Ukraine",
          "Congo",
          "Morocco",
          "Mozambique",
          "Cameroon",
          "Senegal",
          "Niger*",
          "Georgia",
          "Gabon",
          "Iraq",
          "Venezuela",
          "Guinea",
          "Iran",
          "Ghana",
          "Turkey",
          "Burkina Faso",
          "Cambodia",
          "Benin",
          "Comoros*",
          "Uganda",
          "Nigeria",
          "Kenya",
          "Tunisia",
          "Pakistan",
          "Palestinian Territories*",
          "Mali",
          "Namibia",
          "Eswatini, Kingdom of*",
          "Myanmar",
          "Sri Lanka",
          "Madagascar*",
          "Egypt",
          "Chad*",
          "Ethiopia",
          "Yemen*",
          "Mauritania*",
          "Jordan",
          "Togo",
          "India",
          "Zambia",
          "Malawi",
          "Tanzania",
          "Sierra Leone",
          "Lesotho*",
          "Botswana*",
          "Rwanda*",
          "Zimbabwe",
          "Lebanon",
          "Afghanistan",
          "xx"
         ],
         "locationmode": "country names",
         "locations": [
          "Finland",
          "Denmark",
          "Iceland",
          "Switzerland",
          "Netherlands",
          "Luxembourg*",
          "Sweden",
          "Norway",
          "Israel",
          "New Zealand",
          "Austria",
          "Australia",
          "Ireland",
          "Germany",
          "Canada",
          "United States",
          "United Kingdom",
          "Czechia",
          "Belgium",
          "France",
          "Bahrain",
          "Slovenia",
          "Costa Rica",
          "United Arab Emirates",
          "Saudi Arabia",
          "Taiwan Province of China",
          "Singapore",
          "Romania",
          "Spain",
          "Uruguay",
          "Italy",
          "Kosovo",
          "Malta",
          "Lithuania",
          "Slovakia",
          "Estonia",
          "Panama",
          "Brazil",
          "Guatemala*",
          "Kazakhstan",
          "Cyprus",
          "Latvia",
          "Serbia",
          "Chile",
          "Nicaragua",
          "Mexico",
          "Croatia",
          "Poland",
          "El Salvador",
          "Kuwait*",
          "Hungary",
          "Mauritius",
          "Uzbekistan",
          "Japan",
          "Honduras",
          "Portugal",
          "Argentina",
          "Greece",
          "South Korea",
          "Philippines",
          "Thailand",
          "Moldova",
          "Jamaica",
          "Kyrgyzstan",
          "Belarus",
          "Colombia",
          "Bosnia and Herzegovina",
          "Mongolia",
          "Dominican Republic",
          "Malaysia",
          "Bolivia",
          "China",
          "Paraguay",
          "Peru",
          "Montenegro",
          "Ecuador",
          "Vietnam",
          "Turkmenistan*",
          "North Cyprus*",
          "Russia",
          "Hong Kong S.A.R. of China",
          "Armenia",
          "Tajikistan",
          "Nepal",
          "Bulgaria",
          "Libya*",
          "Indonesia",
          "Ivory Coast",
          "North Macedonia",
          "Albania",
          "South Africa",
          "Azerbaijan*",
          "Gambia*",
          "Bangladesh",
          "Laos",
          "Algeria",
          "Liberia*",
          "Ukraine",
          "Congo",
          "Morocco",
          "Mozambique",
          "Cameroon",
          "Senegal",
          "Niger*",
          "Georgia",
          "Gabon",
          "Iraq",
          "Venezuela",
          "Guinea",
          "Iran",
          "Ghana",
          "Turkey",
          "Burkina Faso",
          "Cambodia",
          "Benin",
          "Comoros*",
          "Uganda",
          "Nigeria",
          "Kenya",
          "Tunisia",
          "Pakistan",
          "Palestinian Territories*",
          "Mali",
          "Namibia",
          "Eswatini, Kingdom of*",
          "Myanmar",
          "Sri Lanka",
          "Madagascar*",
          "Egypt",
          "Chad*",
          "Ethiopia",
          "Yemen*",
          "Mauritania*",
          "Jordan",
          "Togo",
          "India",
          "Zambia",
          "Malawi",
          "Tanzania",
          "Sierra Leone",
          "Lesotho*",
          "Botswana*",
          "Rwanda*",
          "Zimbabwe",
          "Lebanon",
          "Afghanistan",
          "xx"
         ],
         "name": "",
         "type": "choropleth",
         "z": [
          7.821000099182129,
          7.636000156402588,
          7.557000160217285,
          7.51200008392334,
          7.414999961853027,
          7.4039998054504395,
          7.383999824523926,
          7.364999771118164,
          7.363999843597412,
          7.199999809265137,
          7.163000106811523,
          7.1620001792907715,
          7.040999889373779,
          7.033999919891357,
          7.025000095367432,
          6.9770002365112305,
          6.942999839782715,
          6.920000076293945,
          6.804999828338623,
          6.686999797821045,
          6.646999835968018,
          6.630000114440918,
          6.581999778747559,
          6.576000213623047,
          6.5229997634887695,
          6.51200008392334,
          6.480000019073486,
          6.4770002365112305,
          6.47599983215332,
          6.473999977111816,
          6.4670000076293945,
          6.454999923706055,
          6.447000026702881,
          6.446000099182129,
          6.390999794006348,
          6.341000080108643,
          6.309000015258789,
          6.293000221252441,
          6.26200008392334,
          6.234000205993652,
          6.2210001945495605,
          6.179999828338623,
          6.177999973297119,
          6.171999931335449,
          6.164999961853027,
          6.127999782562256,
          6.125,
          6.123000144958496,
          6.119999885559082,
          6.105999946594238,
          6.085999965667725,
          6.071000099182129,
          6.063000202178955,
          6.039000034332275,
          6.021999835968018,
          6.015999794006348,
          5.9670000076293945,
          5.947999954223633,
          5.934999942779541,
          5.9039998054504395,
          5.890999794006348,
          5.85699987411499,
          5.849999904632568,
          5.828000068664551,
          5.821000099182129,
          5.781000137329102,
          5.76800012588501,
          5.761000156402588,
          5.736999988555908,
          5.710999965667725,
          5.599999904632568,
          5.585000038146973,
          5.578000068664551,
          5.559000015258789,
          5.546999931335449,
          5.5329999923706055,
          5.485000133514404,
          5.473999977111816,
          5.4670000076293945,
          5.459000110626221,
          5.425000190734863,
          5.39900016784668,
          5.376999855041504,
          5.376999855041504,
          5.370999813079834,
          5.329999923706055,
          5.239999771118164,
          5.235000133514404,
          5.198999881744385,
          5.198999881744385,
          5.193999767303467,
          5.172999858856201,
          5.164000034332275,
          5.15500020980835,
          5.139999866485596,
          5.122000217437744,
          5.122000217437744,
          5.084000110626221,
          5.074999809265137,
          5.059999942779541,
          5.047999858856201,
          5.047999858856201,
          5.046000003814697,
          5.002999782562256,
          4.9730000495910645,
          4.958000183105469,
          4.940999984741211,
          4.925000190734863,
          4.890999794006348,
          4.888000011444092,
          4.872000217437744,
          4.74399995803833,
          4.670000076293945,
          4.639999866485596,
          4.623000144958496,
          4.609000205993652,
          4.603000164031982,
          4.552000045776367,
          4.543000221252441,
          4.515999794006348,
          4.515999794006348,
          4.482999801635742,
          4.479000091552734,
          4.459000110626221,
          4.395999908447266,
          4.394000053405762,
          4.361999988555908,
          4.339000225067139,
          4.288000106811523,
          4.250999927520752,
          4.241000175476074,
          4.197000026702881,
          4.1529998779296875,
          4.1519999504089355,
          4.111999988555908,
          3.7769999504089355,
          3.759999990463257,
          3.75,
          3.7019999027252197,
          3.5739998817443848,
          3.51200008392334,
          3.4709999561309814,
          3.2679998874664307,
          2.994999885559082,
          2.9549999237060547,
          2.4040000438690186,
          null
         ]
        }
       ],
       "layout": {
        "coloraxis": {
         "colorbar": {
          "title": {
           "text": "Happiness Score"
          }
         },
         "colorscale": [
          [
           0,
           "rgb(165,0,38)"
          ],
          [
           0.1,
           "rgb(215,48,39)"
          ],
          [
           0.2,
           "rgb(244,109,67)"
          ],
          [
           0.3,
           "rgb(253,174,97)"
          ],
          [
           0.4,
           "rgb(254,224,139)"
          ],
          [
           0.5,
           "rgb(255,255,191)"
          ],
          [
           0.6,
           "rgb(217,239,139)"
          ],
          [
           0.7,
           "rgb(166,217,106)"
          ],
          [
           0.8,
           "rgb(102,189,99)"
          ],
          [
           0.9,
           "rgb(26,152,80)"
          ],
          [
           1,
           "rgb(0,104,55)"
          ]
         ]
        },
        "geo": {
         "center": {},
         "domain": {
          "x": [
           0,
           1
          ],
          "y": [
           0,
           1
          ]
         }
        },
        "height": 600,
        "legend": {
         "tracegroupgap": 0
        },
        "margin": {
         "t": 60
        },
        "template": {
         "data": {
          "bar": [
           {
            "error_x": {
             "color": "#2a3f5f"
            },
            "error_y": {
             "color": "#2a3f5f"
            },
            "marker": {
             "line": {
              "color": "#E5ECF6",
              "width": 0.5
             },
             "pattern": {
              "fillmode": "overlay",
              "size": 10,
              "solidity": 0.2
             }
            },
            "type": "bar"
           }
          ],
          "barpolar": [
           {
            "marker": {
             "line": {
              "color": "#E5ECF6",
              "width": 0.5
             },
             "pattern": {
              "fillmode": "overlay",
              "size": 10,
              "solidity": 0.2
             }
            },
            "type": "barpolar"
           }
          ],
          "carpet": [
           {
            "aaxis": {
             "endlinecolor": "#2a3f5f",
             "gridcolor": "white",
             "linecolor": "white",
             "minorgridcolor": "white",
             "startlinecolor": "#2a3f5f"
            },
            "baxis": {
             "endlinecolor": "#2a3f5f",
             "gridcolor": "white",
             "linecolor": "white",
             "minorgridcolor": "white",
             "startlinecolor": "#2a3f5f"
            },
            "type": "carpet"
           }
          ],
          "choropleth": [
           {
            "colorbar": {
             "outlinewidth": 0,
             "ticks": ""
            },
            "type": "choropleth"
           }
          ],
          "contour": [
           {
            "colorbar": {
             "outlinewidth": 0,
             "ticks": ""
            },
            "colorscale": [
             [
              0,
              "#0d0887"
             ],
             [
              0.1111111111111111,
              "#46039f"
             ],
             [
              0.2222222222222222,
              "#7201a8"
             ],
             [
              0.3333333333333333,
              "#9c179e"
             ],
             [
              0.4444444444444444,
              "#bd3786"
             ],
             [
              0.5555555555555556,
              "#d8576b"
             ],
             [
              0.6666666666666666,
              "#ed7953"
             ],
             [
              0.7777777777777778,
              "#fb9f3a"
             ],
             [
              0.8888888888888888,
              "#fdca26"
             ],
             [
              1,
              "#f0f921"
             ]
            ],
            "type": "contour"
           }
          ],
          "contourcarpet": [
           {
            "colorbar": {
             "outlinewidth": 0,
             "ticks": ""
            },
            "type": "contourcarpet"
           }
          ],
          "heatmap": [
           {
            "colorbar": {
             "outlinewidth": 0,
             "ticks": ""
            },
            "colorscale": [
             [
              0,
              "#0d0887"
             ],
             [
              0.1111111111111111,
              "#46039f"
             ],
             [
              0.2222222222222222,
              "#7201a8"
             ],
             [
              0.3333333333333333,
              "#9c179e"
             ],
             [
              0.4444444444444444,
              "#bd3786"
             ],
             [
              0.5555555555555556,
              "#d8576b"
             ],
             [
              0.6666666666666666,
              "#ed7953"
             ],
             [
              0.7777777777777778,
              "#fb9f3a"
             ],
             [
              0.8888888888888888,
              "#fdca26"
             ],
             [
              1,
              "#f0f921"
             ]
            ],
            "type": "heatmap"
           }
          ],
          "heatmapgl": [
           {
            "colorbar": {
             "outlinewidth": 0,
             "ticks": ""
            },
            "colorscale": [
             [
              0,
              "#0d0887"
             ],
             [
              0.1111111111111111,
              "#46039f"
             ],
             [
              0.2222222222222222,
              "#7201a8"
             ],
             [
              0.3333333333333333,
              "#9c179e"
             ],
             [
              0.4444444444444444,
              "#bd3786"
             ],
             [
              0.5555555555555556,
              "#d8576b"
             ],
             [
              0.6666666666666666,
              "#ed7953"
             ],
             [
              0.7777777777777778,
              "#fb9f3a"
             ],
             [
              0.8888888888888888,
              "#fdca26"
             ],
             [
              1,
              "#f0f921"
             ]
            ],
            "type": "heatmapgl"
           }
          ],
          "histogram": [
           {
            "marker": {
             "pattern": {
              "fillmode": "overlay",
              "size": 10,
              "solidity": 0.2
             }
            },
            "type": "histogram"
           }
          ],
          "histogram2d": [
           {
            "colorbar": {
             "outlinewidth": 0,
             "ticks": ""
            },
            "colorscale": [
             [
              0,
              "#0d0887"
             ],
             [
              0.1111111111111111,
              "#46039f"
             ],
             [
              0.2222222222222222,
              "#7201a8"
             ],
             [
              0.3333333333333333,
              "#9c179e"
             ],
             [
              0.4444444444444444,
              "#bd3786"
             ],
             [
              0.5555555555555556,
              "#d8576b"
             ],
             [
              0.6666666666666666,
              "#ed7953"
             ],
             [
              0.7777777777777778,
              "#fb9f3a"
             ],
             [
              0.8888888888888888,
              "#fdca26"
             ],
             [
              1,
              "#f0f921"
             ]
            ],
            "type": "histogram2d"
           }
          ],
          "histogram2dcontour": [
           {
            "colorbar": {
             "outlinewidth": 0,
             "ticks": ""
            },
            "colorscale": [
             [
              0,
              "#0d0887"
             ],
             [
              0.1111111111111111,
              "#46039f"
             ],
             [
              0.2222222222222222,
              "#7201a8"
             ],
             [
              0.3333333333333333,
              "#9c179e"
             ],
             [
              0.4444444444444444,
              "#bd3786"
             ],
             [
              0.5555555555555556,
              "#d8576b"
             ],
             [
              0.6666666666666666,
              "#ed7953"
             ],
             [
              0.7777777777777778,
              "#fb9f3a"
             ],
             [
              0.8888888888888888,
              "#fdca26"
             ],
             [
              1,
              "#f0f921"
             ]
            ],
            "type": "histogram2dcontour"
           }
          ],
          "mesh3d": [
           {
            "colorbar": {
             "outlinewidth": 0,
             "ticks": ""
            },
            "type": "mesh3d"
           }
          ],
          "parcoords": [
           {
            "line": {
             "colorbar": {
              "outlinewidth": 0,
              "ticks": ""
             }
            },
            "type": "parcoords"
           }
          ],
          "pie": [
           {
            "automargin": true,
            "type": "pie"
           }
          ],
          "scatter": [
           {
            "fillpattern": {
             "fillmode": "overlay",
             "size": 10,
             "solidity": 0.2
            },
            "type": "scatter"
           }
          ],
          "scatter3d": [
           {
            "line": {
             "colorbar": {
              "outlinewidth": 0,
              "ticks": ""
             }
            },
            "marker": {
             "colorbar": {
              "outlinewidth": 0,
              "ticks": ""
             }
            },
            "type": "scatter3d"
           }
          ],
          "scattercarpet": [
           {
            "marker": {
             "colorbar": {
              "outlinewidth": 0,
              "ticks": ""
             }
            },
            "type": "scattercarpet"
           }
          ],
          "scattergeo": [
           {
            "marker": {
             "colorbar": {
              "outlinewidth": 0,
              "ticks": ""
             }
            },
            "type": "scattergeo"
           }
          ],
          "scattergl": [
           {
            "marker": {
             "colorbar": {
              "outlinewidth": 0,
              "ticks": ""
             }
            },
            "type": "scattergl"
           }
          ],
          "scattermapbox": [
           {
            "marker": {
             "colorbar": {
              "outlinewidth": 0,
              "ticks": ""
             }
            },
            "type": "scattermapbox"
           }
          ],
          "scatterpolar": [
           {
            "marker": {
             "colorbar": {
              "outlinewidth": 0,
              "ticks": ""
             }
            },
            "type": "scatterpolar"
           }
          ],
          "scatterpolargl": [
           {
            "marker": {
             "colorbar": {
              "outlinewidth": 0,
              "ticks": ""
             }
            },
            "type": "scatterpolargl"
           }
          ],
          "scatterternary": [
           {
            "marker": {
             "colorbar": {
              "outlinewidth": 0,
              "ticks": ""
             }
            },
            "type": "scatterternary"
           }
          ],
          "surface": [
           {
            "colorbar": {
             "outlinewidth": 0,
             "ticks": ""
            },
            "colorscale": [
             [
              0,
              "#0d0887"
             ],
             [
              0.1111111111111111,
              "#46039f"
             ],
             [
              0.2222222222222222,
              "#7201a8"
             ],
             [
              0.3333333333333333,
              "#9c179e"
             ],
             [
              0.4444444444444444,
              "#bd3786"
             ],
             [
              0.5555555555555556,
              "#d8576b"
             ],
             [
              0.6666666666666666,
              "#ed7953"
             ],
             [
              0.7777777777777778,
              "#fb9f3a"
             ],
             [
              0.8888888888888888,
              "#fdca26"
             ],
             [
              1,
              "#f0f921"
             ]
            ],
            "type": "surface"
           }
          ],
          "table": [
           {
            "cells": {
             "fill": {
              "color": "#EBF0F8"
             },
             "line": {
              "color": "white"
             }
            },
            "header": {
             "fill": {
              "color": "#C8D4E3"
             },
             "line": {
              "color": "white"
             }
            },
            "type": "table"
           }
          ]
         },
         "layout": {
          "annotationdefaults": {
           "arrowcolor": "#2a3f5f",
           "arrowhead": 0,
           "arrowwidth": 1
          },
          "autotypenumbers": "strict",
          "coloraxis": {
           "colorbar": {
            "outlinewidth": 0,
            "ticks": ""
           }
          },
          "colorscale": {
           "diverging": [
            [
             0,
             "#8e0152"
            ],
            [
             0.1,
             "#c51b7d"
            ],
            [
             0.2,
             "#de77ae"
            ],
            [
             0.3,
             "#f1b6da"
            ],
            [
             0.4,
             "#fde0ef"
            ],
            [
             0.5,
             "#f7f7f7"
            ],
            [
             0.6,
             "#e6f5d0"
            ],
            [
             0.7,
             "#b8e186"
            ],
            [
             0.8,
             "#7fbc41"
            ],
            [
             0.9,
             "#4d9221"
            ],
            [
             1,
             "#276419"
            ]
           ],
           "sequential": [
            [
             0,
             "#0d0887"
            ],
            [
             0.1111111111111111,
             "#46039f"
            ],
            [
             0.2222222222222222,
             "#7201a8"
            ],
            [
             0.3333333333333333,
             "#9c179e"
            ],
            [
             0.4444444444444444,
             "#bd3786"
            ],
            [
             0.5555555555555556,
             "#d8576b"
            ],
            [
             0.6666666666666666,
             "#ed7953"
            ],
            [
             0.7777777777777778,
             "#fb9f3a"
            ],
            [
             0.8888888888888888,
             "#fdca26"
            ],
            [
             1,
             "#f0f921"
            ]
           ],
           "sequentialminus": [
            [
             0,
             "#0d0887"
            ],
            [
             0.1111111111111111,
             "#46039f"
            ],
            [
             0.2222222222222222,
             "#7201a8"
            ],
            [
             0.3333333333333333,
             "#9c179e"
            ],
            [
             0.4444444444444444,
             "#bd3786"
            ],
            [
             0.5555555555555556,
             "#d8576b"
            ],
            [
             0.6666666666666666,
             "#ed7953"
            ],
            [
             0.7777777777777778,
             "#fb9f3a"
            ],
            [
             0.8888888888888888,
             "#fdca26"
            ],
            [
             1,
             "#f0f921"
            ]
           ]
          },
          "colorway": [
           "#636efa",
           "#EF553B",
           "#00cc96",
           "#ab63fa",
           "#FFA15A",
           "#19d3f3",
           "#FF6692",
           "#B6E880",
           "#FF97FF",
           "#FECB52"
          ],
          "font": {
           "color": "#2a3f5f"
          },
          "geo": {
           "bgcolor": "white",
           "lakecolor": "white",
           "landcolor": "#E5ECF6",
           "showlakes": true,
           "showland": true,
           "subunitcolor": "white"
          },
          "hoverlabel": {
           "align": "left"
          },
          "hovermode": "closest",
          "mapbox": {
           "style": "light"
          },
          "paper_bgcolor": "white",
          "plot_bgcolor": "#E5ECF6",
          "polar": {
           "angularaxis": {
            "gridcolor": "white",
            "linecolor": "white",
            "ticks": ""
           },
           "bgcolor": "#E5ECF6",
           "radialaxis": {
            "gridcolor": "white",
            "linecolor": "white",
            "ticks": ""
           }
          },
          "scene": {
           "xaxis": {
            "backgroundcolor": "#E5ECF6",
            "gridcolor": "white",
            "gridwidth": 2,
            "linecolor": "white",
            "showbackground": true,
            "ticks": "",
            "zerolinecolor": "white"
           },
           "yaxis": {
            "backgroundcolor": "#E5ECF6",
            "gridcolor": "white",
            "gridwidth": 2,
            "linecolor": "white",
            "showbackground": true,
            "ticks": "",
            "zerolinecolor": "white"
           },
           "zaxis": {
            "backgroundcolor": "#E5ECF6",
            "gridcolor": "white",
            "gridwidth": 2,
            "linecolor": "white",
            "showbackground": true,
            "ticks": "",
            "zerolinecolor": "white"
           }
          },
          "shapedefaults": {
           "line": {
            "color": "#2a3f5f"
           }
          },
          "ternary": {
           "aaxis": {
            "gridcolor": "white",
            "linecolor": "white",
            "ticks": ""
           },
           "baxis": {
            "gridcolor": "white",
            "linecolor": "white",
            "ticks": ""
           },
           "bgcolor": "#E5ECF6",
           "caxis": {
            "gridcolor": "white",
            "linecolor": "white",
            "ticks": ""
           }
          },
          "title": {
           "x": 0.05
          },
          "xaxis": {
           "automargin": true,
           "gridcolor": "white",
           "linecolor": "white",
           "ticks": "",
           "title": {
            "standoff": 15
           },
           "zerolinecolor": "white",
           "zerolinewidth": 2
          },
          "yaxis": {
           "automargin": true,
           "gridcolor": "white",
           "linecolor": "white",
           "ticks": "",
           "title": {
            "standoff": 15
           },
           "zerolinecolor": "white",
           "zerolinewidth": 2
          }
         }
        },
        "width": 1200
       }
      }
     },
     "metadata": {},
     "output_type": "display_data"
    }
   ],
   "source": [
    "fig = px.choropleth(data_frame = df22,\n",
    "                    locations= 'Country',\n",
    "                    locationmode='country names',\n",
    "                    color= 'Happiness Score',\n",
    "                    hover_name= \"Country\",\n",
    "                    color_continuous_scale= 'RdYlGn',\n",
    "                    width=1200,\n",
    "                    height=600,)\n",
    "# fig.show(\"svg\")\n",
    "fig.show()"
   ]
  },
  {
   "attachments": {},
   "cell_type": "markdown",
   "metadata": {},
   "source": [
    "### 8. Bubble chart"
   ]
  },
  {
   "cell_type": "code",
   "execution_count": null,
   "metadata": {},
   "outputs": [
    {
     "data": {
      "application/vnd.plotly.v1+json": {
       "config": {
        "plotlyServerURL": "https://plot.ly"
       },
       "data": [
        {
         "hovertemplate": "<b>%{hovertext}</b><br><br>Country=Finland<br>Health (Life Expectancy)=%{x}<br>Happiness Score=%{y}<br>Economy (GDP per Capita)=%{marker.size}<extra></extra>",
         "hovertext": [
          "Finland"
         ],
         "legendgroup": "Finland",
         "marker": {
          "color": "#636efa",
          "size": [
           10.639266967773438
          ],
          "sizemode": "area",
          "sizeref": 0.0029553519354926215,
          "symbol": "circle"
         },
         "mode": "markers",
         "name": "Finland",
         "orientation": "v",
         "showlegend": true,
         "type": "scatter",
         "x": [
          71.90082550048828
         ],
         "xaxis": "x",
         "y": [
          7.808700084686279
         ],
         "yaxis": "y"
        },
        {
         "hovertemplate": "<b>%{hovertext}</b><br><br>Country=Uzbekistan<br>Health (Life Expectancy)=%{x}<br>Happiness Score=%{y}<br>Economy (GDP per Capita)=%{marker.size}<extra></extra>",
         "hovertext": [
          "Uzbekistan"
         ],
         "legendgroup": "Uzbekistan",
         "marker": {
          "color": "#EF553B",
          "size": [
           8.740371704101562
          ],
          "sizemode": "area",
          "sizeref": 0.0029553519354926215,
          "symbol": "circle"
         },
         "mode": "markers",
         "name": "Uzbekistan",
         "orientation": "v",
         "showlegend": true,
         "type": "scatter",
         "x": [
          65.10757446289062
         ],
         "xaxis": "x",
         "y": [
          6.257599830627441
         ],
         "yaxis": "y"
        },
        {
         "hovertemplate": "<b>%{hovertext}</b><br><br>Country=Kazakhstan<br>Health (Life Expectancy)=%{x}<br>Happiness Score=%{y}<br>Economy (GDP per Capita)=%{marker.size}<extra></extra>",
         "hovertext": [
          "Kazakhstan"
         ],
         "legendgroup": "Kazakhstan",
         "marker": {
          "color": "#00cc96",
          "size": [
           10.11465835571289
          ],
          "sizemode": "area",
          "sizeref": 0.0029553519354926215,
          "symbol": "circle"
         },
         "mode": "markers",
         "name": "Kazakhstan",
         "orientation": "v",
         "showlegend": true,
         "type": "scatter",
         "x": [
          64.6099624633789
         ],
         "xaxis": "x",
         "y": [
          6.0578999519348145
         ],
         "yaxis": "y"
        },
        {
         "hovertemplate": "<b>%{hovertext}</b><br><br>Country=Russia<br>Health (Life Expectancy)=%{x}<br>Happiness Score=%{y}<br>Economy (GDP per Capita)=%{marker.size}<extra></extra>",
         "hovertext": [
          "Russia"
         ],
         "legendgroup": "Russia",
         "marker": {
          "color": "#ab63fa",
          "size": [
           10.12887191772461
          ],
          "sizemode": "area",
          "sizeref": 0.0029553519354926215,
          "symbol": "circle"
         },
         "mode": "markers",
         "name": "Russia",
         "orientation": "v",
         "showlegend": true,
         "type": "scatter",
         "x": [
          64.10045623779297
         ],
         "xaxis": "x",
         "y": [
          5.546000003814697
         ],
         "yaxis": "y"
        },
        {
         "hovertemplate": "<b>%{hovertext}</b><br><br>Country=Belarus<br>Health (Life Expectancy)=%{x}<br>Happiness Score=%{y}<br>Economy (GDP per Capita)=%{marker.size}<extra></extra>",
         "hovertext": [
          "Belarus"
         ],
         "legendgroup": "Belarus",
         "marker": {
          "color": "#FFA15A",
          "size": [
           9.779945373535156
          ],
          "sizemode": "area",
          "sizeref": 0.0029553519354926215,
          "symbol": "circle"
         },
         "mode": "markers",
         "name": "Belarus",
         "orientation": "v",
         "showlegend": true,
         "type": "scatter",
         "x": [
          66.10433197021484
         ],
         "xaxis": "x",
         "y": [
          5.539899826049805
         ],
         "yaxis": "y"
        },
        {
         "hovertemplate": "<b>%{hovertext}</b><br><br>Country=Ukraine<br>Health (Life Expectancy)=%{x}<br>Happiness Score=%{y}<br>Economy (GDP per Capita)=%{marker.size}<extra></extra>",
         "hovertext": [
          "Ukraine"
         ],
         "legendgroup": "Ukraine",
         "marker": {
          "color": "#19d3f3",
          "size": [
           9.010690689086914
          ],
          "sizemode": "area",
          "sizeref": 0.0029553519354926215,
          "symbol": "circle"
         },
         "mode": "markers",
         "name": "Ukraine",
         "orientation": "v",
         "showlegend": true,
         "type": "scatter",
         "x": [
          64.60678100585938
         ],
         "xaxis": "x",
         "y": [
          4.560699939727783
         ],
         "yaxis": "y"
        }
       ],
       "layout": {
        "legend": {
         "itemsizing": "constant",
         "title": {
          "text": "Country"
         },
         "tracegroupgap": 0
        },
        "margin": {
         "t": 60
        },
        "template": {
         "data": {
          "bar": [
           {
            "error_x": {
             "color": "#2a3f5f"
            },
            "error_y": {
             "color": "#2a3f5f"
            },
            "marker": {
             "line": {
              "color": "#E5ECF6",
              "width": 0.5
             },
             "pattern": {
              "fillmode": "overlay",
              "size": 10,
              "solidity": 0.2
             }
            },
            "type": "bar"
           }
          ],
          "barpolar": [
           {
            "marker": {
             "line": {
              "color": "#E5ECF6",
              "width": 0.5
             },
             "pattern": {
              "fillmode": "overlay",
              "size": 10,
              "solidity": 0.2
             }
            },
            "type": "barpolar"
           }
          ],
          "carpet": [
           {
            "aaxis": {
             "endlinecolor": "#2a3f5f",
             "gridcolor": "white",
             "linecolor": "white",
             "minorgridcolor": "white",
             "startlinecolor": "#2a3f5f"
            },
            "baxis": {
             "endlinecolor": "#2a3f5f",
             "gridcolor": "white",
             "linecolor": "white",
             "minorgridcolor": "white",
             "startlinecolor": "#2a3f5f"
            },
            "type": "carpet"
           }
          ],
          "choropleth": [
           {
            "colorbar": {
             "outlinewidth": 0,
             "ticks": ""
            },
            "type": "choropleth"
           }
          ],
          "contour": [
           {
            "colorbar": {
             "outlinewidth": 0,
             "ticks": ""
            },
            "colorscale": [
             [
              0,
              "#0d0887"
             ],
             [
              0.1111111111111111,
              "#46039f"
             ],
             [
              0.2222222222222222,
              "#7201a8"
             ],
             [
              0.3333333333333333,
              "#9c179e"
             ],
             [
              0.4444444444444444,
              "#bd3786"
             ],
             [
              0.5555555555555556,
              "#d8576b"
             ],
             [
              0.6666666666666666,
              "#ed7953"
             ],
             [
              0.7777777777777778,
              "#fb9f3a"
             ],
             [
              0.8888888888888888,
              "#fdca26"
             ],
             [
              1,
              "#f0f921"
             ]
            ],
            "type": "contour"
           }
          ],
          "contourcarpet": [
           {
            "colorbar": {
             "outlinewidth": 0,
             "ticks": ""
            },
            "type": "contourcarpet"
           }
          ],
          "heatmap": [
           {
            "colorbar": {
             "outlinewidth": 0,
             "ticks": ""
            },
            "colorscale": [
             [
              0,
              "#0d0887"
             ],
             [
              0.1111111111111111,
              "#46039f"
             ],
             [
              0.2222222222222222,
              "#7201a8"
             ],
             [
              0.3333333333333333,
              "#9c179e"
             ],
             [
              0.4444444444444444,
              "#bd3786"
             ],
             [
              0.5555555555555556,
              "#d8576b"
             ],
             [
              0.6666666666666666,
              "#ed7953"
             ],
             [
              0.7777777777777778,
              "#fb9f3a"
             ],
             [
              0.8888888888888888,
              "#fdca26"
             ],
             [
              1,
              "#f0f921"
             ]
            ],
            "type": "heatmap"
           }
          ],
          "heatmapgl": [
           {
            "colorbar": {
             "outlinewidth": 0,
             "ticks": ""
            },
            "colorscale": [
             [
              0,
              "#0d0887"
             ],
             [
              0.1111111111111111,
              "#46039f"
             ],
             [
              0.2222222222222222,
              "#7201a8"
             ],
             [
              0.3333333333333333,
              "#9c179e"
             ],
             [
              0.4444444444444444,
              "#bd3786"
             ],
             [
              0.5555555555555556,
              "#d8576b"
             ],
             [
              0.6666666666666666,
              "#ed7953"
             ],
             [
              0.7777777777777778,
              "#fb9f3a"
             ],
             [
              0.8888888888888888,
              "#fdca26"
             ],
             [
              1,
              "#f0f921"
             ]
            ],
            "type": "heatmapgl"
           }
          ],
          "histogram": [
           {
            "marker": {
             "pattern": {
              "fillmode": "overlay",
              "size": 10,
              "solidity": 0.2
             }
            },
            "type": "histogram"
           }
          ],
          "histogram2d": [
           {
            "colorbar": {
             "outlinewidth": 0,
             "ticks": ""
            },
            "colorscale": [
             [
              0,
              "#0d0887"
             ],
             [
              0.1111111111111111,
              "#46039f"
             ],
             [
              0.2222222222222222,
              "#7201a8"
             ],
             [
              0.3333333333333333,
              "#9c179e"
             ],
             [
              0.4444444444444444,
              "#bd3786"
             ],
             [
              0.5555555555555556,
              "#d8576b"
             ],
             [
              0.6666666666666666,
              "#ed7953"
             ],
             [
              0.7777777777777778,
              "#fb9f3a"
             ],
             [
              0.8888888888888888,
              "#fdca26"
             ],
             [
              1,
              "#f0f921"
             ]
            ],
            "type": "histogram2d"
           }
          ],
          "histogram2dcontour": [
           {
            "colorbar": {
             "outlinewidth": 0,
             "ticks": ""
            },
            "colorscale": [
             [
              0,
              "#0d0887"
             ],
             [
              0.1111111111111111,
              "#46039f"
             ],
             [
              0.2222222222222222,
              "#7201a8"
             ],
             [
              0.3333333333333333,
              "#9c179e"
             ],
             [
              0.4444444444444444,
              "#bd3786"
             ],
             [
              0.5555555555555556,
              "#d8576b"
             ],
             [
              0.6666666666666666,
              "#ed7953"
             ],
             [
              0.7777777777777778,
              "#fb9f3a"
             ],
             [
              0.8888888888888888,
              "#fdca26"
             ],
             [
              1,
              "#f0f921"
             ]
            ],
            "type": "histogram2dcontour"
           }
          ],
          "mesh3d": [
           {
            "colorbar": {
             "outlinewidth": 0,
             "ticks": ""
            },
            "type": "mesh3d"
           }
          ],
          "parcoords": [
           {
            "line": {
             "colorbar": {
              "outlinewidth": 0,
              "ticks": ""
             }
            },
            "type": "parcoords"
           }
          ],
          "pie": [
           {
            "automargin": true,
            "type": "pie"
           }
          ],
          "scatter": [
           {
            "fillpattern": {
             "fillmode": "overlay",
             "size": 10,
             "solidity": 0.2
            },
            "type": "scatter"
           }
          ],
          "scatter3d": [
           {
            "line": {
             "colorbar": {
              "outlinewidth": 0,
              "ticks": ""
             }
            },
            "marker": {
             "colorbar": {
              "outlinewidth": 0,
              "ticks": ""
             }
            },
            "type": "scatter3d"
           }
          ],
          "scattercarpet": [
           {
            "marker": {
             "colorbar": {
              "outlinewidth": 0,
              "ticks": ""
             }
            },
            "type": "scattercarpet"
           }
          ],
          "scattergeo": [
           {
            "marker": {
             "colorbar": {
              "outlinewidth": 0,
              "ticks": ""
             }
            },
            "type": "scattergeo"
           }
          ],
          "scattergl": [
           {
            "marker": {
             "colorbar": {
              "outlinewidth": 0,
              "ticks": ""
             }
            },
            "type": "scattergl"
           }
          ],
          "scattermapbox": [
           {
            "marker": {
             "colorbar": {
              "outlinewidth": 0,
              "ticks": ""
             }
            },
            "type": "scattermapbox"
           }
          ],
          "scatterpolar": [
           {
            "marker": {
             "colorbar": {
              "outlinewidth": 0,
              "ticks": ""
             }
            },
            "type": "scatterpolar"
           }
          ],
          "scatterpolargl": [
           {
            "marker": {
             "colorbar": {
              "outlinewidth": 0,
              "ticks": ""
             }
            },
            "type": "scatterpolargl"
           }
          ],
          "scatterternary": [
           {
            "marker": {
             "colorbar": {
              "outlinewidth": 0,
              "ticks": ""
             }
            },
            "type": "scatterternary"
           }
          ],
          "surface": [
           {
            "colorbar": {
             "outlinewidth": 0,
             "ticks": ""
            },
            "colorscale": [
             [
              0,
              "#0d0887"
             ],
             [
              0.1111111111111111,
              "#46039f"
             ],
             [
              0.2222222222222222,
              "#7201a8"
             ],
             [
              0.3333333333333333,
              "#9c179e"
             ],
             [
              0.4444444444444444,
              "#bd3786"
             ],
             [
              0.5555555555555556,
              "#d8576b"
             ],
             [
              0.6666666666666666,
              "#ed7953"
             ],
             [
              0.7777777777777778,
              "#fb9f3a"
             ],
             [
              0.8888888888888888,
              "#fdca26"
             ],
             [
              1,
              "#f0f921"
             ]
            ],
            "type": "surface"
           }
          ],
          "table": [
           {
            "cells": {
             "fill": {
              "color": "#EBF0F8"
             },
             "line": {
              "color": "white"
             }
            },
            "header": {
             "fill": {
              "color": "#C8D4E3"
             },
             "line": {
              "color": "white"
             }
            },
            "type": "table"
           }
          ]
         },
         "layout": {
          "annotationdefaults": {
           "arrowcolor": "#2a3f5f",
           "arrowhead": 0,
           "arrowwidth": 1
          },
          "autotypenumbers": "strict",
          "coloraxis": {
           "colorbar": {
            "outlinewidth": 0,
            "ticks": ""
           }
          },
          "colorscale": {
           "diverging": [
            [
             0,
             "#8e0152"
            ],
            [
             0.1,
             "#c51b7d"
            ],
            [
             0.2,
             "#de77ae"
            ],
            [
             0.3,
             "#f1b6da"
            ],
            [
             0.4,
             "#fde0ef"
            ],
            [
             0.5,
             "#f7f7f7"
            ],
            [
             0.6,
             "#e6f5d0"
            ],
            [
             0.7,
             "#b8e186"
            ],
            [
             0.8,
             "#7fbc41"
            ],
            [
             0.9,
             "#4d9221"
            ],
            [
             1,
             "#276419"
            ]
           ],
           "sequential": [
            [
             0,
             "#0d0887"
            ],
            [
             0.1111111111111111,
             "#46039f"
            ],
            [
             0.2222222222222222,
             "#7201a8"
            ],
            [
             0.3333333333333333,
             "#9c179e"
            ],
            [
             0.4444444444444444,
             "#bd3786"
            ],
            [
             0.5555555555555556,
             "#d8576b"
            ],
            [
             0.6666666666666666,
             "#ed7953"
            ],
            [
             0.7777777777777778,
             "#fb9f3a"
            ],
            [
             0.8888888888888888,
             "#fdca26"
            ],
            [
             1,
             "#f0f921"
            ]
           ],
           "sequentialminus": [
            [
             0,
             "#0d0887"
            ],
            [
             0.1111111111111111,
             "#46039f"
            ],
            [
             0.2222222222222222,
             "#7201a8"
            ],
            [
             0.3333333333333333,
             "#9c179e"
            ],
            [
             0.4444444444444444,
             "#bd3786"
            ],
            [
             0.5555555555555556,
             "#d8576b"
            ],
            [
             0.6666666666666666,
             "#ed7953"
            ],
            [
             0.7777777777777778,
             "#fb9f3a"
            ],
            [
             0.8888888888888888,
             "#fdca26"
            ],
            [
             1,
             "#f0f921"
            ]
           ]
          },
          "colorway": [
           "#636efa",
           "#EF553B",
           "#00cc96",
           "#ab63fa",
           "#FFA15A",
           "#19d3f3",
           "#FF6692",
           "#B6E880",
           "#FF97FF",
           "#FECB52"
          ],
          "font": {
           "color": "#2a3f5f"
          },
          "geo": {
           "bgcolor": "white",
           "lakecolor": "white",
           "landcolor": "#E5ECF6",
           "showlakes": true,
           "showland": true,
           "subunitcolor": "white"
          },
          "hoverlabel": {
           "align": "left"
          },
          "hovermode": "closest",
          "mapbox": {
           "style": "light"
          },
          "paper_bgcolor": "white",
          "plot_bgcolor": "#E5ECF6",
          "polar": {
           "angularaxis": {
            "gridcolor": "white",
            "linecolor": "white",
            "ticks": ""
           },
           "bgcolor": "#E5ECF6",
           "radialaxis": {
            "gridcolor": "white",
            "linecolor": "white",
            "ticks": ""
           }
          },
          "scene": {
           "xaxis": {
            "backgroundcolor": "#E5ECF6",
            "gridcolor": "white",
            "gridwidth": 2,
            "linecolor": "white",
            "showbackground": true,
            "ticks": "",
            "zerolinecolor": "white"
           },
           "yaxis": {
            "backgroundcolor": "#E5ECF6",
            "gridcolor": "white",
            "gridwidth": 2,
            "linecolor": "white",
            "showbackground": true,
            "ticks": "",
            "zerolinecolor": "white"
           },
           "zaxis": {
            "backgroundcolor": "#E5ECF6",
            "gridcolor": "white",
            "gridwidth": 2,
            "linecolor": "white",
            "showbackground": true,
            "ticks": "",
            "zerolinecolor": "white"
           }
          },
          "shapedefaults": {
           "line": {
            "color": "#2a3f5f"
           }
          },
          "ternary": {
           "aaxis": {
            "gridcolor": "white",
            "linecolor": "white",
            "ticks": ""
           },
           "baxis": {
            "gridcolor": "white",
            "linecolor": "white",
            "ticks": ""
           },
           "bgcolor": "#E5ECF6",
           "caxis": {
            "gridcolor": "white",
            "linecolor": "white",
            "ticks": ""
           }
          },
          "title": {
           "x": 0.05
          },
          "xaxis": {
           "automargin": true,
           "gridcolor": "white",
           "linecolor": "white",
           "ticks": "",
           "title": {
            "standoff": 15
           },
           "zerolinecolor": "white",
           "zerolinewidth": 2
          },
          "yaxis": {
           "automargin": true,
           "gridcolor": "white",
           "linecolor": "white",
           "ticks": "",
           "title": {
            "standoff": 15
           },
           "zerolinecolor": "white",
           "zerolinewidth": 2
          }
         }
        },
        "xaxis": {
         "anchor": "y",
         "domain": [
          0,
          1
         ],
         "title": {
          "text": "Health (Life Expectancy)"
         },
         "type": "log"
        },
        "yaxis": {
         "anchor": "x",
         "domain": [
          0,
          1
         ],
         "title": {
          "text": "Happiness Score"
         }
        }
       }
      }
     },
     "metadata": {},
     "output_type": "display_data"
    }
   ],
   "source": [
    "fig = px.scatter(short.query(\"Year==2020\"), x=\"Health (Life Expectancy)\", y=\"Happiness Score\",\n",
    "\t    size=\"Economy (GDP per Capita)\",\n",
    "               color=\"Country\",\n",
    "                 hover_name=\"Country\", log_x=True, size_max=60)\n",
    "fig.show(\"png\")\n",
    "# fig.show()\n",
    "\n"
   ]
  },
  {
   "cell_type": "code",
   "execution_count": null,
   "metadata": {},
   "outputs": [
    {
     "ename": "SyntaxError",
     "evalue": "invalid syntax (3591309085.py, line 1)",
     "output_type": "error",
     "traceback": [
      "\u001b[1;36m  File \u001b[1;32m\"C:\\Users\\Nadezhda\\AppData\\Local\\Temp\\ipykernel_11768\\3591309085.py\"\u001b[1;36m, line \u001b[1;32m1\u001b[0m\n\u001b[1;33m    all %>%\u001b[0m\n\u001b[1;37m         ^\u001b[0m\n\u001b[1;31mSyntaxError\u001b[0m\u001b[1;31m:\u001b[0m invalid syntax\n"
     ]
    }
   ],
   "source": []
  },
  {
   "cell_type": "markdown",
   "metadata": {},
   "source": []
  }
 ],
 "metadata": {
  "kernelspec": {
   "display_name": "base",
   "language": "python",
   "name": "python3"
  },
  "language_info": {
   "codemirror_mode": {
    "name": "ipython",
    "version": 3
   },
   "file_extension": ".py",
   "mimetype": "text/x-python",
   "name": "python",
   "nbconvert_exporter": "python",
   "pygments_lexer": "ipython3",
   "version": "3.9.13"
  },
  "orig_nbformat": 4
 },
 "nbformat": 4,
 "nbformat_minor": 2
}
